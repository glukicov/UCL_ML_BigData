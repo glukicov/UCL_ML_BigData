{
 "cells": [
  {
   "cell_type": "markdown",
   "metadata": {
    "slideshow": {
     "slide_type": "slide"
    }
   },
   "source": [
    "# Lecture 20: Recurrent Neural Networks"
   ]
  },
  {
   "cell_type": "code",
   "execution_count": 1,
   "metadata": {},
   "outputs": [
    {
     "name": "stdout",
     "output_type": "stream",
     "text": [
      "Version: 2018-03-19 15:31:12\n"
     ]
    }
   ],
   "source": [
    "import datetime\n",
    "now = datetime.datetime.now()\n",
    "print(\"Version: \" + now.strftime(\"%Y-%m-%d %H:%M:%S\"))"
   ]
  },
  {
   "cell_type": "markdown",
   "metadata": {
    "slideshow": {
     "slide_type": "slide"
    }
   },
   "source": [
    "### This Lecture \n",
    "\n",
    "* The basics of RNNs \n",
    "* This is a complex and very varied subject (could do a whole course on this alone)\n",
    "* Will not cover multi-layer RNNs, Very Deep RNNs, GPU optimisation, complex cells "
   ]
  },
  {
   "cell_type": "code",
   "execution_count": 1,
   "metadata": {
    "slideshow": {
     "slide_type": "slide"
    }
   },
   "outputs": [
    {
     "name": "stderr",
     "output_type": "stream",
     "text": [
      "/usr/local/lib/python2.7/site-packages/h5py/__init__.py:36: FutureWarning: Conversion of the second argument of issubdtype from `float` to `np.floating` is deprecated. In future, it will be treated as `np.float64 == np.dtype(float).type`.\n",
      "  from ._conv import register_converters as _register_converters\n"
     ]
    }
   ],
   "source": [
    "# To support both python 2 and python 3\n",
    "from __future__ import division, print_function, unicode_literals\n",
    "\n",
    "# Common imports\n",
    "import numpy as np\n",
    "import os\n",
    "import tensorflow as tf\n",
    "\n",
    "# to make this notebook's output stable across runs\n",
    "def reset_graph(seed=42):\n",
    "    tf.reset_default_graph()\n",
    "    tf.set_random_seed(seed)\n",
    "    np.random.seed(seed)\n",
    "\n",
    "# To plot pretty figures\n",
    "%matplotlib inline\n",
    "import matplotlib\n",
    "import matplotlib.pyplot as plt\n",
    "plt.rcParams['axes.labelsize'] = 14\n",
    "plt.rcParams['xtick.labelsize'] = 12\n",
    "plt.rcParams['ytick.labelsize'] = 12\n",
    "\n",
    "# Where to save the figures\n",
    "PROJECT_ROOT_DIR = \".\"\n",
    "CHAPTER_ID = \"cnn\"\n",
    "\n",
    "def save_fig(fig_id, tight_layout=True):\n",
    "    path = os.path.join(PROJECT_ROOT_DIR, \"images\", CHAPTER_ID, fig_id + \".png\")\n",
    "    print(\"Saving figure\", fig_id)\n",
    "    if tight_layout:\n",
    "        plt.tight_layout()\n",
    "    plt.savefig(path, format='png', dpi=300)\n",
    "    \n",
    "def plot_image(image):\n",
    "    plt.imshow(image, cmap=\"gray\", interpolation=\"nearest\")\n",
    "    plt.axis(\"off\")\n",
    "\n",
    "def plot_color_image(image):\n",
    "    plt.imshow(image.astype(np.uint8),interpolation=\"nearest\")\n",
    "    plt.axis(\"off\")\n",
    "    \n",
    "import warnings\n",
    "warnings.filterwarnings('ignore')"
   ]
  },
  {
   "cell_type": "markdown",
   "metadata": {
    "slideshow": {
     "slide_type": "slide"
    }
   },
   "source": [
    "\n",
    "* General class of network used to predict future outcomes \n",
    "* For examle stock prices, trajectories\n",
    "* Can work on sequences of arbitrary lengths rather than fixed size \n",
    "* E.g. documents, audio, sentence construction, sentiment analysis (reviews)\n",
    "\n"
   ]
  },
  {
   "cell_type": "markdown",
   "metadata": {
    "slideshow": {
     "slide_type": "slide"
    }
   },
   "source": [
    "\n",
    "* Until now looked at feedforward networks where activations flow one way \n",
    "(* except that training is done used reverse gradient descent) \n",
    "* RNNs have connections pointing backward as well \n",
    "* Simplest possible case: \n",
    "\n",
    "<img src=\"Lecture20_Images/rnn.jpeg\" alt=\"Drawing\" style=\"width: 500px;\"/>\n",
    "\n",
    "* At each time step (aka frame) neuron recieves input _and_ its own output\n",
    "* Network is _unrolled_ over time \n"
   ]
  },
  {
   "cell_type": "markdown",
   "metadata": {
    "slideshow": {
     "slide_type": "slide"
    }
   },
   "source": [
    "* Layer of recurrent neurons, and unrolling over time \n",
    "\n",
    "<img src=\"Lecture20_Images/rnn_layer.jpeg\" alt=\"Drawing\" style=\"width: 900px;\"/>\n",
    "\n"
   ]
  },
  {
   "cell_type": "markdown",
   "metadata": {
    "slideshow": {
     "slide_type": "slide"
    }
   },
   "source": [
    "#### Different Types of RNN\n",
    "\n",
    "Seq to seq (top left), seq to vector (top right), vector to seq (bottom left), delayed seq to seq (bottom right)\n",
    "\n",
    "<img src=\"Lecture20_Images/seqvec.jpeg\" alt=\"Drawing\" style=\"width: 500px;\"/>\n",
    "\n",
    "Seq-Seq: e.g. stock prices, \n",
    "Seq-Vec: e.g. sentiment score, \n",
    "Vec-Seq: e.g. caption creation for image, \n",
    "Delayed Seq-Seq: e.g. language translation \n"
   ]
  },
  {
   "cell_type": "markdown",
   "metadata": {
    "slideshow": {
     "slide_type": "slide"
    }
   },
   "source": [
    "### Basic Example with TF\n",
    "\n",
    "We will create an RNN composed of a layer of five recurrent neurons; using the tanh activation function. We will assume that the RNN runs over only two time steps, taking input vectors of size 3 at each time step.\n",
    "\n",
    "Making this network, unrolled twice: \n",
    "\n",
    "<img src=\"Lecture20_Images/rnn_layer.jpeg\" alt=\"Drawing\" style=\"width: 500px;\"/>"
   ]
  },
  {
   "cell_type": "code",
   "execution_count": 2,
   "metadata": {
    "collapsed": true,
    "slideshow": {
     "slide_type": "subslide"
    }
   },
   "outputs": [],
   "source": [
    "#The static_rnn() function creates an unrolled RNN network by \n",
    "#chaining cells.\n",
    "n_inputs = 3 #number of input values for \"lower feed in\" \n",
    "n_neurons = 5 #neurons per cell\n",
    "reset_graph()\n",
    " \n",
    "X0 = tf.placeholder(tf.float32, [None, n_inputs])\n",
    "X1 = tf.placeholder(tf.float32, [None, n_inputs])"
   ]
  },
  {
   "cell_type": "code",
   "execution_count": 3,
   "metadata": {
    "collapsed": true,
    "slideshow": {
     "slide_type": "subslide"
    }
   },
   "outputs": [],
   "source": [
    "#BasicRNNCell, which you can think of as a little factory that creates \n",
    "#copies of the cell to build the unrolled RNN (one for each time step).\n",
    "basic_cell = tf.contrib.rnn.BasicRNNCell(num_units=n_neurons)"
   ]
  },
  {
   "cell_type": "code",
   "execution_count": 4,
   "metadata": {
    "collapsed": true,
    "slideshow": {
     "slide_type": "subslide"
    }
   },
   "outputs": [],
   "source": [
    "#Then we call static_rnn(), giving it the cell factory and the \n",
    "#input tensors, and telling it the data type of the inputs \n",
    "#(this is used to create the initial state matrix, which by default \n",
    "#is full of zeros). The static_rnn() function calls the cell \n",
    "#factory’s __call__() function once per input, creating two \n",
    "#copies of the cell (each containing a layer of five recurrent neurons),\n",
    "\n",
    "output_seqs, states = tf.contrib.rnn.static_rnn(basic_cell, [X0, X1], dtype=tf.float32)\n",
    "\n",
    "Y0, Y1 = output_seqs\n",
    "\n"
   ]
  },
  {
   "cell_type": "code",
   "execution_count": 5,
   "metadata": {
    "collapsed": true,
    "slideshow": {
     "slide_type": "subslide"
    }
   },
   "outputs": [],
   "source": [
    "init = tf.global_variables_initializer() #initialise"
   ]
  },
  {
   "cell_type": "code",
   "execution_count": 6,
   "metadata": {
    "collapsed": true,
    "slideshow": {
     "slide_type": "subslide"
    }
   },
   "outputs": [],
   "source": [
    "#4 instances of 3x1 input at time-step 1\n",
    "X0_batch = np.array([[0, 1, 2], [3, 4, 5], [6, 7, 8], [9, 0, 1]])\n",
    "#4 instances of 3x1 input at time-step 2\n",
    "X1_batch = np.array([[9, 8, 7], [0, 0, 0], [6, 5, 4], [3, 2, 1]]) \n",
    "\n",
    "#Y0_val and Y1_val contain the outputs of the network at both time steps for all neurons and all \n",
    "#instances in the mini-batch:\n",
    "#note, no training just raw weights applied\n",
    "with tf.Session() as sess:\n",
    "    init.run()\n",
    "    Y0_val, Y1_val = sess.run([Y0, Y1], feed_dict={X0: X0_batch, X1: X1_batch})"
   ]
  },
  {
   "cell_type": "code",
   "execution_count": 7,
   "metadata": {
    "collapsed": true,
    "slideshow": {
     "slide_type": "subslide"
    }
   },
   "outputs": [],
   "source": [
    "#--- for tensorboard ---\n",
    "from datetime import datetime\n",
    "now = datetime.utcnow().strftime(\"%Y%m%d%H%M%S\")\n",
    "root_logdir = \"tf_logs\"\n",
    "logdir = \"{}/run-{}/\".format(root_logdir, now)\n",
    "file_writer = tf.summary.FileWriter(logdir, tf.get_default_graph()) #node that write the default graph\n",
    "#-----------------------\n",
    "# > tensorboard --logdir tf_logs/"
   ]
  },
  {
   "cell_type": "code",
   "execution_count": 9,
   "metadata": {
    "slideshow": {
     "slide_type": "subslide"
    }
   },
   "outputs": [
    {
     "data": {
      "text/plain": [
       "array([[ 0.99998885, -0.9997605 , -0.06679298, -0.9999804 ,  0.99982214],\n",
       "       [-0.6524944 , -0.51520866, -0.37968954, -0.59225935, -0.08968385],\n",
       "       [ 0.998624  , -0.997152  , -0.03308626, -0.9991565 ,  0.9932902 ],\n",
       "       [ 0.99681675, -0.9598194 ,  0.39660636, -0.8307605 ,  0.7967197 ]],\n",
       "      dtype=float32)"
      ]
     },
     "execution_count": 9,
     "metadata": {},
     "output_type": "execute_result"
    }
   ],
   "source": [
    "Y1_val"
   ]
  },
  {
   "cell_type": "markdown",
   "metadata": {
    "slideshow": {
     "slide_type": "slide"
    }
   },
   "source": [
    "However this is an ugly way to make a RNN - like writing a programme without using for loops. \n",
    "\n",
    "Fortunately, there is a better solution: the *dynamic_rnn()* function.\n",
    "\n",
    "The dynamic_rnn() function uses a while_loop() operation to run over the cell the appropriate number of times, and you can set swap_memory = True if you want it to swap the GPU’s memory to the CPU’s memory during backpropagation to avoid out-of-memory errors"
   ]
  },
  {
   "cell_type": "code",
   "execution_count": 11,
   "metadata": {
    "collapsed": true,
    "slideshow": {
     "slide_type": "subslide"
    }
   },
   "outputs": [],
   "source": [
    "n_steps = 2 #number of time steps \n",
    "n_inputs = 3 #tensor length of input\n",
    "n_neurons = 5 #number in hidden layer \n",
    "\n",
    "reset_graph()\n",
    "\n",
    "X = tf.placeholder(tf.float32, [None, n_steps, n_inputs])\n",
    "\n",
    "basic_cell = tf.contrib.rnn.BasicRNNCell(num_units=n_neurons)\n",
    "outputs, states = tf.nn.dynamic_rnn(basic_cell, X, dtype=tf.float32) #auto makes the RNN"
   ]
  },
  {
   "cell_type": "code",
   "execution_count": 14,
   "metadata": {
    "slideshow": {
     "slide_type": "subslide"
    }
   },
   "outputs": [
    {
     "name": "stdout",
     "output_type": "stream",
     "text": [
      "[[[-0.0948875  -0.7863541  -0.75976855  0.81456447 -0.8659667 ]\n",
      "  [-0.9999981  -0.99989897 -0.9999942   0.9995981  -0.4085584 ]]\n",
      "\n",
      " [[-0.9882368  -0.9937984  -0.99848306  0.99407357 -0.9553898 ]\n",
      "  [ 0.21658944 -0.20340651  0.02591269  0.44528607 -0.40116802]]\n",
      "\n",
      " [[-0.99991536 -0.99983823 -0.99999166  0.9998272  -0.98561245]\n",
      "  [-0.9998106  -0.9926861  -0.99952865  0.9938598  -0.2555965 ]]\n",
      "\n",
      " [[-0.9988372   0.84198505 -0.97267133 -0.869843    0.99912703]\n",
      "  [-0.97511095 -0.34840977 -0.9212813   0.39821982  0.27953893]]]\n"
     ]
    }
   ],
   "source": [
    "init = tf.global_variables_initializer()\n",
    "\n",
    "X_batch = np.array([\n",
    "        #t=0        #t=1\n",
    "        [[0, 1, 2], [9, 8, 7]], # instance 1\n",
    "        [[3, 4, 5], [0, 0, 0]], # instance 2\n",
    "        [[6, 7, 8], [6, 5, 4]], # instance 3\n",
    "        [[9, 0, 1], [3, 2, 1]], # instance 4\n",
    "    ])\n",
    "\n",
    "with tf.Session() as sess:\n",
    "    init.run()\n",
    "    outputs_val = outputs.eval(feed_dict={X: X_batch})\n",
    "    \n",
    "print(outputs_val)"
   ]
  },
  {
   "cell_type": "markdown",
   "metadata": {
    "slideshow": {
     "slide_type": "slide"
    }
   },
   "source": [
    "### Setting the sequence lengths\n",
    "\n",
    "May want to have sequences of various (roll out) length"
   ]
  },
  {
   "cell_type": "code",
   "execution_count": 16,
   "metadata": {
    "collapsed": true,
    "slideshow": {
     "slide_type": "subslide"
    }
   },
   "outputs": [],
   "source": [
    "n_steps = 2\n",
    "n_inputs = 3\n",
    "n_neurons = 5\n",
    "\n",
    "reset_graph()\n",
    "\n",
    "X = tf.placeholder(tf.float32, [None, n_steps, n_inputs])\n",
    "basic_cell = tf.contrib.rnn.BasicRNNCell(num_units=n_neurons)\n",
    "\n",
    "seq_length = tf.placeholder(tf.int32, [None])\n",
    "outputs, states = tf.nn.dynamic_rnn(basic_cell, X, dtype=tf.float32,\n",
    "                                    sequence_length=seq_length) #note defined sequence_length as input here"
   ]
  },
  {
   "cell_type": "code",
   "execution_count": 20,
   "metadata": {
    "slideshow": {
     "slide_type": "subslide"
    }
   },
   "outputs": [
    {
     "name": "stdout",
     "output_type": "stream",
     "text": [
      "[[[ 0.7315571   0.34835717  0.50582    -0.22882833 -0.44022718]\n",
      "  [-0.61832315  0.99999994  0.86584806  0.9793377   0.9902246 ]]\n",
      "\n",
      " [[ 0.8438704   0.9969755   0.8478946   0.4303219   0.09275495]\n",
      "  [ 0.          0.          0.          0.          0.        ]]\n",
      "\n",
      " [[ 0.9115922   0.9999905   0.95954454  0.81892216  0.5774025 ]\n",
      "  [-0.77545464  0.99987745  0.9784728   0.7317201   0.888776  ]]\n",
      "\n",
      " [[-0.9995227   0.9997784   0.59744656  0.99309695  0.9984741 ]\n",
      "  [-0.6212      0.5400085   0.96938425  0.19893228  0.1944804 ]]]\n"
     ]
    }
   ],
   "source": [
    "init = tf.global_variables_initializer()\n",
    "\n",
    "X_batch = np.array([\n",
    "        # step 0     step 1\n",
    "        [[0, 1, 2], [9, 8, 7]], # instance 1\n",
    "        [[3, 4, 5], [0, 0, 0]], # instance 2 (padded with zero vectors) *doesn't matter\n",
    "        [[6, 7, 8], [6, 5, 4]], # instance 3\n",
    "        [[9, 0, 1], [3, 2, 1]], # instance 4\n",
    "    ])\n",
    "seq_length_batch = np.array([2, 1, 2, 2]) \n",
    "\n",
    "with tf.Session() as sess:\n",
    "    init.run()\n",
    "    outputs_val, states_val = sess.run(\n",
    "        [outputs, states], feed_dict={X: X_batch, seq_length: seq_length_batch}) \n",
    "print(outputs_val)"
   ]
  },
  {
   "cell_type": "markdown",
   "metadata": {
    "slideshow": {
     "slide_type": "slide"
    }
   },
   "source": [
    "### Training a Squential Classifier  \n",
    "\n",
    "Similar to normal NN except back propagation is done through time i.e. layer sequential gradients to weights assigned to match output of layers.  \n",
    "\n",
    "<img src=\"Lecture20_Images/backprop.jpeg\" alt=\"Drawing\" style=\"width: 500px;\"/>"
   ]
  },
  {
   "cell_type": "markdown",
   "metadata": {
    "slideshow": {
     "slide_type": "subslide"
    }
   },
   "source": [
    "<img src=\"Lecture20_Images/seqclass.jpeg\" alt=\"Drawing\" style=\"width: 900px;\"/>"
   ]
  },
  {
   "cell_type": "code",
   "execution_count": 21,
   "metadata": {
    "collapsed": true,
    "slideshow": {
     "slide_type": "subslide"
    }
   },
   "outputs": [],
   "source": [
    "#setting up for the MNIST data, which has input size 28x28 pixels \n",
    "reset_graph()\n",
    "\n",
    "n_steps = 28 \n",
    "n_inputs = 28 #dimension of the input variable \n",
    "#so each input vector is 28 pixels long (a strip)\n",
    "\n",
    "n_neurons = 150 #number of hidden neurons \n",
    "n_outputs = 10 #number of outputs \n",
    "\n",
    "learning_rate = 0.001\n",
    "\n",
    "X = tf.placeholder(tf.float32, [None, n_steps, n_inputs]) #data  \n",
    "y = tf.placeholder(tf.int32, [None]) #classes \n",
    "\n",
    "basic_cell = tf.contrib.rnn.BasicRNNCell(num_units=n_neurons)\n",
    "outputs, states = tf.nn.dynamic_rnn(basic_cell, X, dtype=tf.float32)"
   ]
  },
  {
   "cell_type": "code",
   "execution_count": 23,
   "metadata": {
    "collapsed": true,
    "slideshow": {
     "slide_type": "subslide"
    }
   },
   "outputs": [],
   "source": [
    "#make a fully connected layer on top \n",
    "logits = tf.layers.dense(states, n_outputs) #note that the states are passed not the outputs\n",
    "\n",
    "#compare output to input classes\n",
    "xentropy = tf.nn.sparse_softmax_cross_entropy_with_logits(labels=y,logits=logits) \n",
    "\n",
    "#create the loss function to minimise \n",
    "loss = tf.reduce_mean(xentropy)\n",
    "optimizer = tf.train.AdamOptimizer(learning_rate=learning_rate)\n",
    "\n",
    "#minimise the loss function \n",
    "training_op = optimizer.minimize(loss)\n",
    "\n",
    "#print out accuracy \n",
    "correct = tf.nn.in_top_k(logits, y, 1)\n",
    "accuracy = tf.reduce_mean(tf.cast(correct, tf.float32))"
   ]
  },
  {
   "cell_type": "code",
   "execution_count": 24,
   "metadata": {
    "slideshow": {
     "slide_type": "subslide"
    }
   },
   "outputs": [
    {
     "name": "stdout",
     "output_type": "stream",
     "text": [
      "Extracting /tmp/data/train-images-idx3-ubyte.gz\n",
      "Extracting /tmp/data/train-labels-idx1-ubyte.gz\n",
      "Extracting /tmp/data/t10k-images-idx3-ubyte.gz\n",
      "Extracting /tmp/data/t10k-labels-idx1-ubyte.gz\n"
     ]
    }
   ],
   "source": [
    "from tensorflow.examples.tutorials.mnist import input_data\n",
    "mnist = input_data.read_data_sets(\"/tmp/data/\")\n",
    "X_test = mnist.test.images.reshape((-1, n_steps, n_inputs))\n",
    "y_test = mnist.test.labels"
   ]
  },
  {
   "cell_type": "code",
   "execution_count": 17,
   "metadata": {
    "slideshow": {
     "slide_type": "subslide"
    }
   },
   "outputs": [
    {
     "name": "stdout",
     "output_type": "stream",
     "text": [
      "0 Train accuracy: 0.94666666 Test accuracy: 0.9366\n",
      "1 Train accuracy: 0.96666664 Test accuracy: 0.9488\n",
      "2 Train accuracy: 0.96 Test accuracy: 0.9614\n",
      "3 Train accuracy: 0.96666664 Test accuracy: 0.9572\n",
      "4 Train accuracy: 0.94666666 Test accuracy: 0.9624\n",
      "5 Train accuracy: 0.96 Test accuracy: 0.9634\n",
      "6 Train accuracy: 0.97333336 Test accuracy: 0.9714\n",
      "7 Train accuracy: 0.98 Test accuracy: 0.9686\n",
      "8 Train accuracy: 0.9533333 Test accuracy: 0.9647\n",
      "9 Train accuracy: 0.97333336 Test accuracy: 0.9706\n",
      "10 Train accuracy: 0.97333336 Test accuracy: 0.9697\n",
      "11 Train accuracy: 0.96666664 Test accuracy: 0.9692\n",
      "12 Train accuracy: 0.9866667 Test accuracy: 0.9751\n",
      "13 Train accuracy: 0.99333334 Test accuracy: 0.9738\n",
      "14 Train accuracy: 0.9866667 Test accuracy: 0.9721\n",
      "15 Train accuracy: 0.98 Test accuracy: 0.9752\n",
      "16 Train accuracy: 0.99333334 Test accuracy: 0.9779\n",
      "17 Train accuracy: 0.98 Test accuracy: 0.976\n",
      "18 Train accuracy: 0.9866667 Test accuracy: 0.976\n",
      "19 Train accuracy: 0.98 Test accuracy: 0.9709\n",
      "20 Train accuracy: 0.9866667 Test accuracy: 0.9758\n",
      "21 Train accuracy: 0.98 Test accuracy: 0.9751\n",
      "22 Train accuracy: 0.9866667 Test accuracy: 0.9748\n",
      "23 Train accuracy: 0.98 Test accuracy: 0.9767\n",
      "24 Train accuracy: 0.98 Test accuracy: 0.9696\n",
      "25 Train accuracy: 1.0 Test accuracy: 0.9779\n",
      "26 Train accuracy: 0.98 Test accuracy: 0.979\n",
      "27 Train accuracy: 0.98 Test accuracy: 0.9783\n",
      "28 Train accuracy: 0.96666664 Test accuracy: 0.9793\n",
      "29 Train accuracy: 0.9866667 Test accuracy: 0.9756\n",
      "30 Train accuracy: 0.98 Test accuracy: 0.9765\n",
      "31 Train accuracy: 0.9866667 Test accuracy: 0.9784\n",
      "32 Train accuracy: 0.9866667 Test accuracy: 0.9753\n",
      "33 Train accuracy: 0.98 Test accuracy: 0.9769\n",
      "34 Train accuracy: 0.99333334 Test accuracy: 0.9785\n",
      "35 Train accuracy: 1.0 Test accuracy: 0.9787\n",
      "36 Train accuracy: 1.0 Test accuracy: 0.971\n",
      "37 Train accuracy: 0.99333334 Test accuracy: 0.9782\n",
      "38 Train accuracy: 0.99333334 Test accuracy: 0.9755\n",
      "39 Train accuracy: 0.9866667 Test accuracy: 0.9732\n",
      "40 Train accuracy: 0.9866667 Test accuracy: 0.9695\n",
      "41 Train accuracy: 0.9866667 Test accuracy: 0.9812\n",
      "42 Train accuracy: 0.99333334 Test accuracy: 0.9785\n",
      "43 Train accuracy: 0.99333334 Test accuracy: 0.9768\n",
      "44 Train accuracy: 0.98 Test accuracy: 0.979\n",
      "45 Train accuracy: 0.9866667 Test accuracy: 0.981\n",
      "46 Train accuracy: 0.99333334 Test accuracy: 0.9792\n",
      "47 Train accuracy: 1.0 Test accuracy: 0.9812\n",
      "48 Train accuracy: 0.99333334 Test accuracy: 0.9775\n",
      "49 Train accuracy: 1.0 Test accuracy: 0.9747\n",
      "50 Train accuracy: 1.0 Test accuracy: 0.9815\n",
      "51 Train accuracy: 0.9866667 Test accuracy: 0.9805\n",
      "52 Train accuracy: 0.9866667 Test accuracy: 0.9798\n",
      "53 Train accuracy: 0.9866667 Test accuracy: 0.9791\n",
      "54 Train accuracy: 1.0 Test accuracy: 0.9771\n",
      "55 Train accuracy: 0.9866667 Test accuracy: 0.98\n",
      "56 Train accuracy: 0.99333334 Test accuracy: 0.978\n",
      "57 Train accuracy: 0.9866667 Test accuracy: 0.9794\n",
      "58 Train accuracy: 0.99333334 Test accuracy: 0.9784\n",
      "59 Train accuracy: 0.99333334 Test accuracy: 0.9826\n",
      "60 Train accuracy: 0.9866667 Test accuracy: 0.9746\n",
      "61 Train accuracy: 1.0 Test accuracy: 0.978\n",
      "62 Train accuracy: 1.0 Test accuracy: 0.9757\n",
      "63 Train accuracy: 1.0 Test accuracy: 0.9792\n",
      "64 Train accuracy: 0.9866667 Test accuracy: 0.9758\n",
      "65 Train accuracy: 1.0 Test accuracy: 0.9823\n",
      "66 Train accuracy: 0.9866667 Test accuracy: 0.9752\n",
      "67 Train accuracy: 0.9866667 Test accuracy: 0.9794\n",
      "68 Train accuracy: 0.99333334 Test accuracy: 0.9798\n",
      "69 Train accuracy: 0.99333334 Test accuracy: 0.9762\n",
      "70 Train accuracy: 0.99333334 Test accuracy: 0.9799\n",
      "71 Train accuracy: 1.0 Test accuracy: 0.9804\n",
      "72 Train accuracy: 1.0 Test accuracy: 0.9777\n",
      "73 Train accuracy: 0.99333334 Test accuracy: 0.9771\n",
      "74 Train accuracy: 0.9866667 Test accuracy: 0.9764\n",
      "75 Train accuracy: 0.99333334 Test accuracy: 0.9749\n",
      "76 Train accuracy: 0.99333334 Test accuracy: 0.9804\n",
      "77 Train accuracy: 0.99333334 Test accuracy: 0.9776\n",
      "78 Train accuracy: 0.9866667 Test accuracy: 0.9749\n",
      "79 Train accuracy: 0.99333334 Test accuracy: 0.976\n",
      "80 Train accuracy: 0.9866667 Test accuracy: 0.9754\n",
      "81 Train accuracy: 0.98 Test accuracy: 0.9783\n",
      "82 Train accuracy: 1.0 Test accuracy: 0.9787\n",
      "83 Train accuracy: 0.99333334 Test accuracy: 0.9793\n",
      "84 Train accuracy: 0.9866667 Test accuracy: 0.9739\n",
      "85 Train accuracy: 1.0 Test accuracy: 0.9776\n",
      "86 Train accuracy: 0.9866667 Test accuracy: 0.9761\n",
      "87 Train accuracy: 0.98 Test accuracy: 0.9781\n",
      "88 Train accuracy: 0.98 Test accuracy: 0.9549\n",
      "89 Train accuracy: 0.98 Test accuracy: 0.9767\n",
      "90 Train accuracy: 1.0 Test accuracy: 0.9809\n",
      "91 Train accuracy: 0.98 Test accuracy: 0.9809\n",
      "92 Train accuracy: 0.9866667 Test accuracy: 0.9754\n",
      "93 Train accuracy: 0.99333334 Test accuracy: 0.979\n",
      "94 Train accuracy: 1.0 Test accuracy: 0.9777\n",
      "95 Train accuracy: 1.0 Test accuracy: 0.9771\n",
      "96 Train accuracy: 1.0 Test accuracy: 0.9814\n",
      "97 Train accuracy: 0.99333334 Test accuracy: 0.9673\n",
      "98 Train accuracy: 0.99333334 Test accuracy: 0.9788\n",
      "99 Train accuracy: 1.0 Test accuracy: 0.9792\n"
     ]
    }
   ],
   "source": [
    "init = tf.global_variables_initializer() #initialise\n",
    "\n",
    "n_epochs = 100\n",
    "batch_size = 150\n",
    "with tf.Session() as sess:\n",
    "    init.run()\n",
    "    for epoch in range(n_epochs):\n",
    "        for iteration in range(mnist.train.num_examples // batch_size):\n",
    "            X_batch, y_batch = mnist.train.next_batch(batch_size)\n",
    "            X_batch = X_batch.reshape((-1, n_steps, n_inputs))\n",
    "            sess.run(training_op, feed_dict={X: X_batch, y: y_batch})\n",
    "        acc_train = accuracy.eval(feed_dict={X: X_batch, y: y_batch})\n",
    "        acc_test = accuracy.eval(feed_dict={X: X_test, y: y_test})\n",
    "        print(epoch, \"Train accuracy:\", acc_train, \"Test accuracy:\", acc_test)"
   ]
  },
  {
   "cell_type": "markdown",
   "metadata": {
    "collapsed": true,
    "slideshow": {
     "slide_type": "slide"
    }
   },
   "source": [
    "## Time Series \n",
    "\n",
    "* Time series e.g. such as stock prices, air temperature, brain wave patterns, and so on. \n",
    "* In this section we will train an RNN to predict the next value in a generated time series. \n",
    "* Each training instance is a randomly selected sequence of 20 consecutive values from the time series, and the target sequence is the same as the input sequence, except it is shifted by one time step into the future"
   ]
  },
  {
   "cell_type": "markdown",
   "metadata": {
    "slideshow": {
     "slide_type": "subslide"
    }
   },
   "source": [
    "<img src=\"Lecture20_Images/time.jpeg\" alt=\"Drawing\" style=\"width: 900px;\"/>"
   ]
  },
  {
   "cell_type": "code",
   "execution_count": 25,
   "metadata": {
    "collapsed": true,
    "slideshow": {
     "slide_type": "subslide"
    }
   },
   "outputs": [],
   "source": [
    "#define the function \n",
    "t_min, t_max = 0, 30\n",
    "resolution = 0.1\n",
    "\n",
    "def time_series(t):\n",
    "    return t * np.sin(t) / 3 + 2 * np.sin(t*5) #some random function - try playing around\n",
    "\n",
    "def next_batch(batch_size, n_steps):\n",
    "    t0 = np.random.rand(batch_size, 1) * (t_max - t_min - n_steps * resolution)\n",
    "    Ts = t0 + np.arange(0., n_steps + 1) * resolution\n",
    "    ys = time_series(Ts)\n",
    "    return ys[:, :-1].reshape(-1, n_steps, 1), ys[:, 1:].reshape(-1, n_steps, 1)\n",
    "\n",
    "n_steps = 20\n",
    "t = np.linspace(t_min, t_max, int((t_max - t_min) / resolution)) #all time sequence\n",
    "t_instance = np.linspace(12.2, 12.2 + resolution * (n_steps + 1), n_steps + 1) #define a region"
   ]
  },
  {
   "cell_type": "code",
   "execution_count": 27,
   "metadata": {
    "collapsed": true,
    "slideshow": {
     "slide_type": "subslide"
    }
   },
   "outputs": [],
   "source": [
    "reset_graph()\n",
    "\n",
    "n_steps = 20 #20 time steps used in training\n",
    "n_inputs = 1 #scalar input at each time \n",
    "\n",
    "n_neurons = 100 #number of hidden neurons per step\n",
    "n_outputs = 1 #scalar outputs \n",
    "\n",
    "X = tf.placeholder(tf.float32, [None, n_steps, n_inputs]) #instances (times)\n",
    "y = tf.placeholder(tf.float32, [None, n_steps, n_outputs]) #values \n",
    "\n",
    "cell = tf.contrib.rnn.BasicRNNCell(num_units=n_neurons, activation=tf.nn.relu)\n",
    "outputs, states = tf.nn.dynamic_rnn(cell, X, dtype=tf.float32)"
   ]
  },
  {
   "cell_type": "markdown",
   "metadata": {
    "slideshow": {
     "slide_type": "subslide"
    }
   },
   "source": [
    "* At each time step we now have an output vector of size 100. \n",
    "* But what we actually want is a single output value at each time step. \n",
    "* The simplest solution is to wrap the cell in an * OutputProjectionWrapper*. \n",
    "* A cell wrapper acts like a normal cell, proxying every method call to an underlying cell, but it also adds some functionality. The OutputProjectionWrapper adds a fully connected layer of linear neurons (i.e., without any activation function) on top of each output (but it does not affect the cell state)."
   ]
  },
  {
   "cell_type": "markdown",
   "metadata": {
    "slideshow": {
     "slide_type": "subslide"
    }
   },
   "source": [
    "<img src=\"Lecture20_Images/projwrap.jpeg\" alt=\"Drawing\" style=\"width: 900px;\"/>"
   ]
  },
  {
   "cell_type": "code",
   "execution_count": 28,
   "metadata": {
    "collapsed": true,
    "slideshow": {
     "slide_type": "subslide"
    }
   },
   "outputs": [],
   "source": [
    "cell = tf.contrib.rnn.OutputProjectionWrapper(\n",
    "    tf.contrib.rnn.BasicRNNCell(num_units=n_neurons, activation=tf.nn.relu),\n",
    "    output_size=n_outputs) #define the projection wrapped cell\n",
    "\n",
    "outputs, states = tf.nn.dynamic_rnn(cell, X, dtype=tf.float32) #unroll "
   ]
  },
  {
   "cell_type": "code",
   "execution_count": 29,
   "metadata": {
    "collapsed": true,
    "slideshow": {
     "slide_type": "subslide"
    }
   },
   "outputs": [],
   "source": [
    "learning_rate = 0.001\n",
    "\n",
    "# define loss function as the MSE: output-training y\n",
    "loss = tf.reduce_mean(tf.square(outputs - y)) \n",
    "\n",
    "#training \n",
    "optimizer = tf.train.AdamOptimizer(learning_rate=learning_rate)\n",
    "training_op = optimizer.minimize(loss)"
   ]
  },
  {
   "cell_type": "code",
   "execution_count": 22,
   "metadata": {
    "slideshow": {
     "slide_type": "subslide"
    }
   },
   "outputs": [
    {
     "name": "stdout",
     "output_type": "stream",
     "text": [
      "0 \tMSE: 11.259661\n",
      "100 \tMSE: 0.4836635\n",
      "200 \tMSE: 0.16478088\n",
      "300 \tMSE: 0.09116672\n",
      "400 \tMSE: 0.07200017\n",
      "500 \tMSE: 0.06348497\n",
      "600 \tMSE: 0.0566475\n",
      "700 \tMSE: 0.050834212\n",
      "800 \tMSE: 0.05238466\n",
      "900 \tMSE: 0.04912186\n",
      "1000 \tMSE: 0.04825784\n",
      "1100 \tMSE: 0.050785255\n",
      "1200 \tMSE: 0.042920403\n",
      "1300 \tMSE: 0.049169898\n",
      "1400 \tMSE: 0.04344405\n"
     ]
    }
   ],
   "source": [
    "n_iterations = 1500\n",
    "batch_size = 50\n",
    "saver = tf.train.Saver() #save for later \n",
    "init = tf.global_variables_initializer()\n",
    "\n",
    "with tf.Session() as sess:\n",
    "    init.run()\n",
    "    for iteration in range(n_iterations):\n",
    "        X_batch, y_batch = next_batch(batch_size, n_steps)\n",
    "        sess.run(training_op, feed_dict={X: X_batch, y: y_batch})\n",
    "        if iteration % 100 == 0:\n",
    "            mse = loss.eval(feed_dict={X: X_batch, y: y_batch})\n",
    "            print(iteration, \"\\tMSE:\", mse)\n",
    "    \n",
    "    saver.save(sess, \"./my_time_series_model\") # not shown in the book"
   ]
  },
  {
   "cell_type": "code",
   "execution_count": 23,
   "metadata": {
    "slideshow": {
     "slide_type": "subslide"
    }
   },
   "outputs": [
    {
     "name": "stdout",
     "output_type": "stream",
     "text": [
      "INFO:tensorflow:Restoring parameters from ./my_time_series_model\n"
     ]
    },
    {
     "data": {
      "image/png": "[encoded data removed]",
      "text/plain": [
       "<matplotlib.figure.Figure at 0x11be98438>"
      ]
     },
     "metadata": {},
     "output_type": "display_data"
    }
   ],
   "source": [
    "with tf.Session() as sess:                          # not shown in the book\n",
    "    saver.restore(sess, \"./my_time_series_model\")   # not shown\n",
    "\n",
    "    X_new = time_series(np.array(t_instance[:-1].reshape(-1, n_steps, n_inputs)))\n",
    "    y_pred = sess.run(outputs, feed_dict={X: X_new})\n",
    "    \n",
    "plt.title(\"Testing the model\", fontsize=14)\n",
    "plt.plot(t_instance[:-1], time_series(t_instance[:-1]), \"bo\", markersize=10, label=\"instance\")\n",
    "plt.plot(t_instance[1:], time_series(t_instance[1:]), \"w*\", markersize=10, label=\"target\")\n",
    "plt.plot(t_instance[1:], y_pred[0,:,0], \"r.\", markersize=10, label=\"prediction\")\n",
    "plt.legend(loc=\"upper left\")\n",
    "plt.xlabel(\"Time\")\n",
    "\n",
    "plt.show()"
   ]
  },
  {
   "cell_type": "markdown",
   "metadata": {
    "slideshow": {
     "slide_type": "subslide"
    }
   },
   "source": [
    "* Now that we have a model that can predict the future, we can use it to generate some creative sequences.\n",
    "* All we need is to provide it a seed sequence containing n_steps values (e.g., full of zeros), use the model to predict the next value, append this predicted value to the sequence. \n",
    "* e.g. feed all words from a novel and write a new chapter etc.\n"
   ]
  },
  {
   "cell_type": "code",
   "execution_count": 24,
   "metadata": {
    "slideshow": {
     "slide_type": "subslide"
    }
   },
   "outputs": [
    {
     "name": "stdout",
     "output_type": "stream",
     "text": [
      "INFO:tensorflow:Restoring parameters from ./my_time_series_model\n"
     ]
    }
   ],
   "source": [
    "#creative sequences made by giving different inputs extended beyond the training range\n",
    "with tf.Session() as sess:\n",
    "    saver.restore(sess, \"./my_time_series_model\")\n",
    "\n",
    "    sequence1 = [0. for i in range(n_steps)]\n",
    "    for iteration in range(len(t) - n_steps):\n",
    "        X_batch = np.array(sequence1[-n_steps:]).reshape(1, n_steps, 1)\n",
    "        y_pred = sess.run(outputs, feed_dict={X: X_batch})\n",
    "        sequence1.append(y_pred[0, -1, 0])\n",
    "\n",
    "    sequence2 = [time_series(i * resolution + t_min + (t_max-t_min/3)) for i in range(n_steps)]\n",
    "    for iteration in range(len(t) - n_steps):\n",
    "        X_batch = np.array(sequence2[-n_steps:]).reshape(1, n_steps, 1)\n",
    "        y_pred = sess.run(outputs, feed_dict={X: X_batch})\n",
    "        sequence2.append(y_pred[0, -1, 0])"
   ]
  },
  {
   "cell_type": "code",
   "execution_count": 25,
   "metadata": {
    "slideshow": {
     "slide_type": "subslide"
    }
   },
   "outputs": [
    {
     "data": {
      "image/png": "[encoded data removed]",
      "text/plain": [
       "<matplotlib.figure.Figure at 0x11bfd0278>"
      ]
     },
     "metadata": {},
     "output_type": "display_data"
    }
   ],
   "source": [
    "plt.figure(figsize=(11,4))\n",
    "plt.subplot(121)\n",
    "plt.plot(t, sequence1, \"b-\")\n",
    "plt.plot(t[:n_steps], sequence1[:n_steps], \"b-\", linewidth=3)\n",
    "plt.subplot(122)\n",
    "plt.plot(t, sequence2, \"b-\")\n",
    "plt.plot(t[:n_steps], sequence2[:n_steps], \"b-\", linewidth=3)\n",
    "plt.show()"
   ]
  },
  {
   "cell_type": "markdown",
   "metadata": {
    "slideshow": {
     "slide_type": "slide"
    }
   },
   "source": [
    "### Very simple multi-cell example \n",
    "\n",
    "* Can also have multiple cells per time step - defining a deep RNNS \n",
    "* Built by stacking cells into a MultiRNNCell().\n",
    "* Subject gets very complex very fast - will keep it simple \n",
    "\n",
    "\n",
    "<img src=\"Lecture20_Images/deeprnn.jpeg\" alt=\"Drawing\" style=\"width: 500px;\"/>\n"
   ]
  },
  {
   "cell_type": "code",
   "execution_count": 34,
   "metadata": {
    "collapsed": true,
    "slideshow": {
     "slide_type": "subslide"
    }
   },
   "outputs": [],
   "source": [
    "reset_graph()\n",
    "\n",
    "n_inputs = 2 #vector input \n",
    "n_steps = 5 #5 step unroll \n",
    "\n",
    "X = tf.placeholder(tf.float32, [None, n_steps, n_inputs])\n",
    "\n",
    "n_neurons = 100 #100 neurons per roll \n",
    "n_layers = 3 #number of vertical layers \n",
    "\n",
    "layers = [tf.contrib.rnn.BasicRNNCell(num_units=n_neurons) for layer in range(n_layers)]\n",
    "multi_layer_cell = tf.contrib.rnn.MultiRNNCell(layers)\n",
    "\n",
    "cell = multi_layer_cell\n",
    "#n_outputs=1\n",
    "#cell = tf.contrib.rnn.OutputProjectionWrapper(multi_layer_cell,output_size=n_outputs) #define the projection wrapped cell\n",
    "\n",
    "outputs, states = tf.nn.dynamic_rnn(cell, X, dtype=tf.float32)"
   ]
  },
  {
   "cell_type": "code",
   "execution_count": 35,
   "metadata": {
    "slideshow": {
     "slide_type": "subslide"
    }
   },
   "outputs": [
    {
     "data": {
      "text/plain": [
       "(2, 5, 100)"
      ]
     },
     "execution_count": 35,
     "metadata": {},
     "output_type": "execute_result"
    }
   ],
   "source": [
    "init = tf.global_variables_initializer()\n",
    "\n",
    "X_batch = np.random.rand(2, n_steps, n_inputs) #just input some random numbers as an example\n",
    "\n",
    "with tf.Session() as sess:\n",
    "    init.run()\n",
    "    outputs_val, states_val = sess.run([outputs, states], feed_dict={X: X_batch})\n",
    "    \n",
    "outputs_val.shape"
   ]
  },
  {
   "cell_type": "markdown",
   "metadata": {},
   "source": [
    "End"
   ]
  },
  {
   "cell_type": "markdown",
   "metadata": {
    "slideshow": {
     "slide_type": "-"
    }
   },
   "source": [
    "## Example \n",
    "\n",
    "<img src=\"Lecture20_Images/frenchenglish.jpeg\" alt=\"Drawing\" style=\"width: 900px;\"/>"
   ]
  },
  {
   "cell_type": "markdown",
   "metadata": {},
   "source": [
    "Note that: \n",
    "* English sentences are reversed before they are fed to the encoder. For example “I drink milk” is reversed to “milk drink I.” This ensures that the beginning of the English sentence will be fed last to the encoder, which is useful because that’s generally the first thing that the decoder needs to translate.\n",
    "* Each word is initially represented by a simple integer identifier (e.g., 288 for the word “milk”).\n",
    "* At each step, the decoder outputs a score for each word in the output vocabulary (i.e., French), and then the Softmax layer turns these scores into probabilities."
   ]
  },
  {
   "cell_type": "markdown",
   "metadata": {
    "slideshow": {
     "slide_type": "-"
    }
   },
   "source": [
    "* At inference time (after training), you will not have the target sentence to feed to the decoder. Instead, simply feed the decoder the word that it output at the previous step (this requirew an embedding lookup that is not shown on the diagram).\n",
    "\n",
    "<img src=\"Lecture20_Images/inference.jpeg\" alt=\"Drawing\" style=\"width: 900px;\"/>\n",
    "\n",
    "\n"
   ]
  },
  {
   "cell_type": "markdown",
   "metadata": {},
   "source": [
    "### No Exercise! \n",
    "\n",
    "* Instead go through these slides and understand the functionality \n",
    "* Also read and look at examples here https://www.tensorflow.org/tutorials/recurrent"
   ]
  },
  {
   "cell_type": "code",
   "execution_count": null,
   "metadata": {
    "collapsed": true
   },
   "outputs": [],
   "source": []
  }
 ],
 "metadata": {
  "celltoolbar": "Slideshow",
  "kernelspec": {
   "display_name": "Python 2",
   "language": "python",
   "name": "python2"
  },
  "language_info": {
   "codemirror_mode": {
    "name": "ipython",
    "version": 2
   },
   "file_extension": ".py",
   "mimetype": "text/x-python",
   "name": "python",
   "nbconvert_exporter": "python",
   "pygments_lexer": "ipython2",
   "version": "2.7.11"
  }
 },
 "nbformat": 4,
 "nbformat_minor": 2
}
