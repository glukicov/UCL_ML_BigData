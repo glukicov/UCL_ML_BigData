{
 "cells": [
  {
   "cell_type": "markdown",
   "metadata": {
    "slideshow": {
     "slide_type": "slide"
    }
   },
   "source": [
    "# Lecture 10: Introduction to artificial neural networks (ANNs)"
   ]
  },
  {
   "cell_type": "code",
   "execution_count": 1,
   "metadata": {
    "slideshow": {
     "slide_type": "skip"
    }
   },
   "outputs": [
    {
     "name": "stdout",
     "output_type": "stream",
     "text": [
      "Version: 2019-01-08 10:31:29\n"
     ]
    }
   ],
   "source": [
    "import datetime\n",
    "now = datetime.datetime.now()\n",
    "print(\"Version: \" + now.strftime(\"%Y-%m-%d %H:%M:%S\"))"
   ]
  },
  {
   "cell_type": "markdown",
   "metadata": {
    "slideshow": {
     "slide_type": "slide"
    }
   },
   "source": [
    "# Biological inspiration"
   ]
  },
  {
   "cell_type": "markdown",
   "metadata": {},
   "source": [
    "Architecture of neural networks originally inspired by the brain.\n"
   ]
  },
  {
   "cell_type": "markdown",
   "metadata": {
    "slideshow": {
     "slide_type": "subslide"
    }
   },
   "source": [
    "## Rewriting the brain\n"
   ]
  },
  {
   "cell_type": "markdown",
   "metadata": {},
   "source": [
    "<center><img src=\"Lecture10_Images/brain_rewriting_auditory.png\" style=\"height: 300px;\"/></center>\n",
    "\n",
    "Study performed with ferrets by [Roe et al. (1992)](https://www.ncbi.nlm.nih.gov/pubmed/1527604).\n",
    "\n",
    "[[Image credit](https://www.coursera.org/learn/machine-learning)]"
   ]
  },
  {
   "cell_type": "markdown",
   "metadata": {
    "slideshow": {
     "slide_type": "subslide"
    }
   },
   "source": [
    "<center><img src=\"Lecture10_Images/brain_rewriting_somatosensory.png\" style=\"height: 300px;\"/></center>\n",
    "\n",
    "Study performed with hamsters by [Metin & Frost (1989)](https://www.ncbi.nlm.nih.gov/pubmed/2911580).\n",
    "\n",
    "[[Image credit](https://www.coursera.org/learn/machine-learning)]"
   ]
  },
  {
   "cell_type": "markdown",
   "metadata": {
    "slideshow": {
     "slide_type": "subslide"
    }
   },
   "source": [
    "Led to \"*one learning algorithm*\" hypothesis."
   ]
  },
  {
   "cell_type": "markdown",
   "metadata": {
    "slideshow": {
     "slide_type": "subslide"
    }
   },
   "source": [
    "## Biological neurons"
   ]
  },
  {
   "cell_type": "markdown",
   "metadata": {
    "slideshow": {
     "slide_type": "-"
    }
   },
   "source": [
    "<center><img src=\"Lecture10_Images/Blausen_0657_MultipolarNeuron.png\" style=\"height: 200px;\"/></center>\n",
    "\n",
    "[Image credit: [Bruce Blaus, Wikipedia](https://en.wikipedia.org/wiki/Neuron)]"
   ]
  },
  {
   "cell_type": "markdown",
   "metadata": {
    "slideshow": {
     "slide_type": "fragment"
    }
   },
   "source": [
    "Biological neurons consist of cell body containing nucleus, dentrite branches (inputs) and axon (output). \n",
    "\n",
    "Axon connects neurons and the length of the axon can be a few to 10,000 times the size of the cell body.\n",
    "\n",
    "Axon splits into telodendria branch, with synaptic terminals at ends, which are connected to dendrites of other neurons.\n"
   ]
  },
  {
   "cell_type": "markdown",
   "metadata": {
    "slideshow": {
     "slide_type": "subslide"
    }
   },
   "source": [
    "Although biological neurons rather simple, complexity comes from networks of billions of neurons, each connected to thousands of other neurons."
   ]
  },
  {
   "cell_type": "markdown",
   "metadata": {
    "slideshow": {
     "slide_type": "slide"
    }
   },
   "source": [
    "# Artificial neurons (units) and networks"
   ]
  },
  {
   "cell_type": "markdown",
   "metadata": {
    "slideshow": {
     "slide_type": "subslide"
    }
   },
   "source": [
    "## Perceptron"
   ]
  },
  {
   "cell_type": "markdown",
   "metadata": {
    "slideshow": {
     "slide_type": "-"
    }
   },
   "source": [
    "<center><img src=\"Lecture10_Images/perceptron.png\" style=\"height: 400px;\"/></center>\n",
    "\n",
    "[[Image credit](https://blog.dbrgn.ch/2013/3/26/perceptrons-in-python/)]"
   ]
  },
  {
   "cell_type": "markdown",
   "metadata": {
    "slideshow": {
     "slide_type": "subslide"
    }
   },
   "source": [
    "## General logistic unit"
   ]
  },
  {
   "cell_type": "markdown",
   "metadata": {},
   "source": [
    "<center><img src=\"Lecture10_Images/general_logistic_unit.png\" style=\"height: 200px;\"/></center>\n"
   ]
  },
  {
   "cell_type": "markdown",
   "metadata": {},
   "source": [
    "*Weighted sum*:\n",
    "$$z = \\sum_{j=1}^n \\theta_j x_j =\\theta^{\\rm T} x.$$\n",
    "\n",
    "*Activations*:\n",
    "$$a = h(z),$$\n",
    "for non-linear activation function $h$."
   ]
  },
  {
   "cell_type": "markdown",
   "metadata": {
    "slideshow": {
     "slide_type": "subslide"
    }
   },
   "source": [
    "Generally we refer to as a logistic unit (rather than an artificial neuron) since additional generalities than concepts motivated by biology will be considered."
   ]
  },
  {
   "cell_type": "markdown",
   "metadata": {
    "slideshow": {
     "slide_type": "subslide"
    }
   },
   "source": [
    "## Examples of activation functions"
   ]
  },
  {
   "cell_type": "markdown",
   "metadata": {},
   "source": [
    "Step\n",
    "$$ a(z) = \\left \\{\n",
    "\\begin{eqnarray}\n",
    "0,\\ \\text{if}\\ z < 0\\\\\n",
    "1,\\ \\text{if}\\ z \\geq 0 \\\\\n",
    "\\end{eqnarray}\n",
    "\\right. \n",
    "$$\n",
    "\n",
    "Sigmoid\n",
    "$$\n",
    "a(z) = \\frac{1}{1+\\exp{(-z)}}\n",
    "$$\n",
    "\n",
    "Hyperboic tangent\n",
    "$$\n",
    "a(z) = \\tanh(z)\n",
    "$$\n",
    "\n",
    "Rectified linear unit (ReLU)\n",
    "$$\n",
    "a(z) = \\max(0, z)\n",
    "$$\n"
   ]
  },
  {
   "cell_type": "markdown",
   "metadata": {
    "slideshow": {
     "slide_type": "subslide"
    },
    "tags": [
     "exercise"
    ]
   },
   "source": [
    "### Exercise: plot the activiation functions specified above over domain [-5, 5]."
   ]
  },
  {
   "cell_type": "code",
   "execution_count": 1,
   "metadata": {
    "slideshow": {
     "slide_type": "fragment"
    },
    "tags": [
     "exercise",
     "solution"
    ]
   },
   "outputs": [],
   "source": [
    "# Common imports\n",
    "import numpy as np\n",
    "%matplotlib inline\n",
    "import matplotlib\n",
    "import matplotlib.pyplot as plt\n",
    "import os"
   ]
  },
  {
   "cell_type": "code",
   "execution_count": 2,
   "metadata": {
    "slideshow": {
     "slide_type": "fragment"
    },
    "tags": [
     "exercise",
     "solution"
    ]
   },
   "outputs": [],
   "source": [
    "def sigmoid(z):\n",
    "    return 1 / (1 + np.exp(-z))\n",
    "\n",
    "def relu(z):\n",
    "    return np.maximum(0, z)\n",
    "\n",
    "def step(z):\n",
    "    return (np.sign(z)+1)*0.5"
   ]
  },
  {
   "cell_type": "code",
   "execution_count": 3,
   "metadata": {
    "slideshow": {
     "slide_type": "subslide"
    },
    "tags": [
     "exercise",
     "solution"
    ]
   },
   "outputs": [
    {
     "data": {
      "text/plain": [
       "[-5, 5, -1.2, 1.2]"
      ]
     },
     "execution_count": 3,
     "metadata": {},
     "output_type": "execute_result"
    },
    {
     "data": {
      "image/png": "[encoded data removed]",
      "text/plain": [
       "<Figure size 720x360 with 1 Axes>"
      ]
     },
     "metadata": {
      "needs_background": "light"
     },
     "output_type": "display_data"
    }
   ],
   "source": [
    "z = np.linspace(-5, 5, 200)\n",
    "plt.figure(figsize=(10,5))\n",
    "plt.plot(z, step(z), \"r-\", linewidth=2, label=\"Step\")\n",
    "plt.plot(z, sigmoid(z), \"g--\", linewidth=2, label=\"Sigmoid\")\n",
    "plt.plot(z, np.tanh(z), \"b-\", linewidth=2, label=\"Tanh\")\n",
    "plt.plot(z, relu(z), \"m-.\", linewidth=2, label=\"ReLU\")\n",
    "plt.grid(True)\n",
    "plt.legend(loc=\"center right\", fontsize=14)\n",
    "plt.title(\"Activation functions\", fontsize=14)\n",
    "plt.axis([-5, 5, -1.2, 1.2])"
   ]
  },
  {
   "cell_type": "markdown",
   "metadata": {
    "slideshow": {
     "slide_type": "subslide"
    }
   },
   "source": [
    "### Gradients of activation functions"
   ]
  },
  {
   "cell_type": "code",
   "execution_count": 5,
   "metadata": {},
   "outputs": [],
   "source": [
    "def derivative(f, z, eps=0.000001):\n",
    "    return (f(z + eps) - f(z - eps))/(2 * eps)"
   ]
  },
  {
   "cell_type": "code",
   "execution_count": 6,
   "metadata": {
    "slideshow": {
     "slide_type": "subslide"
    }
   },
   "outputs": [
    {
     "data": {
      "text/plain": [
       "[-5, 5, -0.2, 1.2]"
      ]
     },
     "execution_count": 6,
     "metadata": {},
     "output_type": "execute_result"
    },
    {
     "data": {
      "image/png": "[encoded data removed]",
      "text/plain": [
       "<matplotlib.figure.Figure at 0x105e04748>"
      ]
     },
     "metadata": {},
     "output_type": "display_data"
    }
   ],
   "source": [
    "plt.figure(figsize=(8,4))\n",
    "plt.plot(z, derivative(step, z), \"r-\", linewidth=2, label=\"Step\")\n",
    "plt.plot(0, 0, \"ro\", markersize=5)\n",
    "plt.plot(0, 0, \"rx\", markersize=10)\n",
    "plt.plot(z, derivative(sigmoid, z), \"g--\", linewidth=2, label=\"Logit\")\n",
    "plt.plot(z, derivative(np.tanh, z), \"b-\", linewidth=2, label=\"Tanh\")\n",
    "plt.plot(z, derivative(relu, z), \"m-.\", linewidth=2, label=\"ReLU\")\n",
    "plt.grid(True)\n",
    "plt.legend(loc=\"center right\", fontsize=14)\n",
    "plt.title(\"Derivatives\", fontsize=14)\n",
    "plt.axis([-5, 5, -0.2, 1.2])"
   ]
  },
  {
   "cell_type": "markdown",
   "metadata": {},
   "source": [
    "Notice the step function has zero gradient."
   ]
  },
  {
   "cell_type": "markdown",
   "metadata": {
    "slideshow": {
     "slide_type": "subslide"
    }
   },
   "source": [
    "## Neural network"
   ]
  },
  {
   "cell_type": "markdown",
   "metadata": {},
   "source": [
    "Construct artifical neural network by combining layers of multiple logistic units."
   ]
  },
  {
   "cell_type": "markdown",
   "metadata": {},
   "source": [
    "<center><img src=\"Lecture10_Images/ann.png\" style=\"height: 200px;\"/></center>"
   ]
  },
  {
   "cell_type": "markdown",
   "metadata": {},
   "source": [
    "*Weighted sums*:\n",
    "$$z_j = \\sum_{i=1}^n \\theta_{ij} x_i$$\n",
    "\n",
    "*Activations*:\n",
    "$$a_j = h(z_j)$$\n",
    "\n"
   ]
  },
  {
   "cell_type": "markdown",
   "metadata": {
    "slideshow": {
     "slide_type": "subslide"
    }
   },
   "source": [
    "## Architectures and terminology"
   ]
  },
  {
   "cell_type": "markdown",
   "metadata": {},
   "source": [
    "<center><img src=\"Lecture10_Images/ann_layers.jpg\" style=\"height: 300px;\"/></center>\n",
    "\n",
    "[[Image credit](https://medium.com/@xenonstack/overview-of-artificial-neural-networks-and-its-applications-2525c1addff7)]"
   ]
  },
  {
   "cell_type": "markdown",
   "metadata": {},
   "source": [
    "Networks can be wide/narrow and deep/shallow.\n",
    "\n",
    "Here we consider feedforward network only.  Other configurations can also be considered, as we will see later in the course."
   ]
  },
  {
   "cell_type": "markdown",
   "metadata": {
    "slideshow": {
     "slide_type": "subslide"
    }
   },
   "source": [
    "## Universal approximation theorem"
   ]
  },
  {
   "cell_type": "markdown",
   "metadata": {},
   "source": [
    "The *universal approximation theorem* states that a feedforward network *can* accurately approximate any continuous function from one finite dimensional space to another, given enough hidden units (Hornik et al. 1989, Cybenko 1989).\n",
    "\n",
    "(Some technical caveats that are beyond the scope of this course regarding properties of the mapping and activation functions.)"
   ]
  },
  {
   "cell_type": "markdown",
   "metadata": {
    "slideshow": {
     "slide_type": "fragment"
    }
   },
   "source": [
    "ANNs thus have the *potential* to be universal approximators.  \n",
    "\n",
    "Universal approximation theorem does *not* provide any guarantee that training finds this representation."
   ]
  },
  {
   "cell_type": "markdown",
   "metadata": {
    "slideshow": {
     "slide_type": "slide"
    }
   },
   "source": [
    "## Multi-class classification"
   ]
  },
  {
   "cell_type": "markdown",
   "metadata": {
    "slideshow": {
     "slide_type": "subslide"
    }
   },
   "source": [
    "Multi-class classification can be easily performed with an ANN, where each output node corresponds to a certain class."
   ]
  },
  {
   "cell_type": "markdown",
   "metadata": {},
   "source": [
    "<center><img src=\"Lecture10_Images/ann_layers_multiclass_classification.jpg\" style=\"height: 300px;\"/></center>\n",
    "\n",
    "[[Image credit (adapted)](https://medium.com/@xenonstack/overview-of-artificial-neural-networks-and-its-applications-2525c1addff7)]"
   ]
  },
  {
   "cell_type": "markdown",
   "metadata": {
    "slideshow": {
     "slide_type": "fragment"
    }
   },
   "source": [
    "Set up training data as unit vectors, with 1 for the target class and 0 for all other classes."
   ]
  },
  {
   "cell_type": "markdown",
   "metadata": {
    "slideshow": {
     "slide_type": "subslide"
    }
   },
   "source": [
    "## Softmax"
   ]
  },
  {
   "cell_type": "markdown",
   "metadata": {
    "slideshow": {
     "slide_type": "-"
    }
   },
   "source": [
    "Map predictions to *\"probabilities\"* using the softmax function for all output nodes with activiations $a_j$:\n",
    "\n",
    "$$ \n",
    "\\hat{p}_j = \\frac{\\exp(a_j)}{\\sum_{j^\\prime} \\exp(a_{j^\\prime})}\n",
    ".\n",
    "$$\n",
    "\n",
    "Normalised such that\n",
    "- $\\sum_j \\hat{p}_j=1$\n",
    "- $0 \\leq \\hat{p}_j \\leq 1$"
   ]
  },
  {
   "cell_type": "markdown",
   "metadata": {
    "slideshow": {
     "slide_type": "slide"
    }
   },
   "source": [
    "# Cost functions"
   ]
  },
  {
   "cell_type": "markdown",
   "metadata": {
    "slideshow": {
     "slide_type": "subslide"
    }
   },
   "source": [
    "Appropriate cost functions depend on whether performing regression or classification.  Consider targets $y_j^{(i)}$ and outputs (predictions) of ANN $\\hat{p}_j^{(i)}$, for training instance $i$ and output node $j$."
   ]
  },
  {
   "cell_type": "markdown",
   "metadata": {
    "slideshow": {
     "slide_type": "fragment"
    }
   },
   "source": [
    "Typical cost function for regression is the mean square error: \n",
    "$$\\text{MSE}(\\Theta) = \\frac{1}{m} \\sum_{i} \\sum_{j} \\left(\\hat{p}_j^{(i)} - y_j^{(i)}\\right)^2 .$$\n",
    "\n",
    "Typical cost function for classification is cross-entropy:\n",
    "$$\n",
    "C(\\Theta) = -\\frac{1}{m} \\sum_{i} \\sum_{j} y_j^{(i)} \\log \\left(\\hat{p}_j^{(i)}\\right)\n",
    ".\n",
    "$$\n",
    "\n",
    "(Although other cost functions are used widely.)"
   ]
  },
  {
   "cell_type": "markdown",
   "metadata": {
    "slideshow": {
     "slide_type": "subslide"
    }
   },
   "source": [
    "Various forms of regularisation often considered, e.g. $\\ell_2$ regularisation."
   ]
  },
  {
   "cell_type": "markdown",
   "metadata": {
    "slideshow": {
     "slide_type": "fragment"
    }
   },
   "source": [
    "Error surface non-convex, potentially with many local optima.  Historically training ANNs has been difficult."
   ]
  },
  {
   "cell_type": "markdown",
   "metadata": {
    "slideshow": {
     "slide_type": "slide"
    }
   },
   "source": [
    "# Backpropagation"
   ]
  },
  {
   "cell_type": "markdown",
   "metadata": {
    "slideshow": {
     "slide_type": "subslide"
    }
   },
   "source": [
    "## Problem\n",
    "\n",
    "To train ANN's want to exploit gradient of error surface (e.g. for gradient descent algorithms).  Therefore need an efficient method to compute gradients."
   ]
  },
  {
   "cell_type": "markdown",
   "metadata": {
    "slideshow": {
     "slide_type": "fragment"
    }
   },
   "source": [
    "Backpropagation algorithm developed by [Rumelhart, Hinton & Williams (1986)](https://www.nature.com/articles/323533a0) to efficiently compute the gradient of the error surface (i.e. cost function) with respect to each weight of the network.\n",
    "\n",
    "Gradients then accessible for training."
   ]
  },
  {
   "cell_type": "markdown",
   "metadata": {
    "slideshow": {
     "slide_type": "subslide"
    }
   },
   "source": [
    "## Overview of backpropagation"
   ]
  },
  {
   "cell_type": "markdown",
   "metadata": {},
   "source": [
    "Backpropagation consists of forward and reverse (backwards) passes (hence name).\n",
    "\n",
    "Consider each training instance.  A forward run of the network is applied to compute the output error $\\epsilon$.  Then errors are backpropagated through the network to compute the rate of change of the error with respect to the weights of the network."
   ]
  },
  {
   "cell_type": "markdown",
   "metadata": {
    "slideshow": {
     "slide_type": "fragment"
    }
   },
   "source": [
    "In practice, error gradients $\\frac{\\partial \\epsilon}{\\partial z_j}$ are computed and backpropagated, from which error gradients with respect to the weights can be computed $\\frac{\\partial \\epsilon}{\\partial \\theta_{ij}}$."
   ]
  },
  {
   "cell_type": "markdown",
   "metadata": {
    "slideshow": {
     "slide_type": "fragment"
    }
   },
   "source": [
    "Backpropagation algorithm follows from a straightforward application of the chain rule."
   ]
  },
  {
   "cell_type": "markdown",
   "metadata": {
    "slideshow": {
     "slide_type": "subslide"
    }
   },
   "source": [
    "## Define network architecture and notation"
   ]
  },
  {
   "cell_type": "markdown",
   "metadata": {},
   "source": [
    "<center><img src=\"Lecture10_Images/backpropagation_architecture2.png\" style=\"height: 200px;\"/></center>"
   ]
  },
  {
   "cell_type": "markdown",
   "metadata": {
    "slideshow": {
     "slide_type": "fragment"
    }
   },
   "source": [
    "Now make network layer explicit in notation.\n",
    "\n",
    "Weighted sum:\n",
    "$$\n",
    "z_j^l = \\sum_i \\theta_{ij}^l a_i^{l-1} ,\n",
    "$$\n",
    "where $\\theta_{ij}^l$ is the weight between node $i$ at layer $l-1$ and node $j$ at layer $l$ (note that difference conventions are often used, e.g. $\\theta_{ji}^{l-1}$ for the same connection). Consider $L$ layers.\n",
    "\n",
    "Activations:\n",
    "$$\n",
    "a_i^l = h(z_i^l) .\n",
    "$$\n",
    "\n"
   ]
  },
  {
   "cell_type": "markdown",
   "metadata": {
    "slideshow": {
     "slide_type": "subslide"
    }
   },
   "source": [
    "## Backpropagation\n",
    "\n",
    "Want to compute\n",
    "\n",
    "$$\\Delta \\theta_{ik}^l = -\\eta \\frac{\\partial \\epsilon}{\\partial \\theta_{ij}^l}.$$"
   ]
  },
  {
   "cell_type": "markdown",
   "metadata": {
    "slideshow": {
     "slide_type": "subslide"
    }
   },
   "source": [
    "By chain rule:\n",
    "$$\\frac{\\partial \\epsilon}{\\partial \\theta_{ij}^l}=\\frac{\\partial \\epsilon}{\\partial z_{j}^l}\\frac{\\partial z_{j}^l}{\\partial \\theta_{ij}^l}=\\frac{\\partial \\epsilon}{\\partial z_{j}^l}a_{i}^{l-1}=\\delta_{i}^l a_{i}^{l-1}, $$\n",
    "\n",
    "where $$\\delta_i^l = \\frac{\\partial \\epsilon}{\\partial z_{j}^l}$$\n",
    "\n",
    "$\\left(\n",
    "\\text{recall}\\ \n",
    "z_j^l = \\sum_i \\theta_{ij}^l a_i^{l-1}\n",
    "\\right)$."
   ]
  },
  {
   "cell_type": "markdown",
   "metadata": {
    "slideshow": {
     "slide_type": "fragment"
    }
   },
   "source": [
    "Now need to compute\n",
    "\n",
    "$$\\delta_i^l = \\frac{\\partial \\epsilon}{\\partial z_{j}^l} .$$"
   ]
  },
  {
   "cell_type": "markdown",
   "metadata": {
    "slideshow": {
     "slide_type": "subslide"
    }
   },
   "source": [
    "### Functional dependence\n",
    "\n",
    "<center><img src=\"Lecture10_Images/backpropagation_functional_dependence2.png\" style=\"height: 300px;\"/></center>"
   ]
  },
  {
   "cell_type": "markdown",
   "metadata": {
    "slideshow": {
     "slide_type": "fragment"
    }
   },
   "source": [
    "By chain rule again:\n",
    "\n",
    "$$\\delta_i^l = \\frac{\\partial \\epsilon}{\\partial z_{j}^l} = \\sum_i \\frac{\\partial \\epsilon}{\\partial z_{i}^{l+1}} \\frac{\\partial z_{i}^{l+1}}{\\partial a_{j}^l} \\frac{\\partial a_{j}^l}{\\partial z_{j}^l} = \\sum_i \\delta_i^{l+1} \\theta_{ji}^{l+1} h^\\prime(z_j^l).$$"
   ]
  },
  {
   "cell_type": "markdown",
   "metadata": {
    "slideshow": {
     "slide_type": "subslide"
    }
   },
   "source": [
    "Note the term $h^\\prime(z_j^l)$ is independent of $i$ and so can be moved outside the summation."
   ]
  },
  {
   "cell_type": "markdown",
   "metadata": {
    "slideshow": {
     "slide_type": "subslide"
    }
   },
   "source": [
    "Boundary condition:\n",
    "\n",
    "$$\\delta_i^L = \\frac{\\partial \\epsilon}{\\partial z_{j}^L} = \\frac{\\partial \\epsilon}{\\partial a_{j}^L} \\frac{\\partial a_{j}^L}{\\partial z_{j}^L} = \\frac{\\partial \\epsilon}{\\partial a_{j}^L} h^\\prime(z_j^L).$$"
   ]
  },
  {
   "cell_type": "markdown",
   "metadata": {
    "slideshow": {
     "slide_type": "subslide"
    }
   },
   "source": [
    "## Summary of backpropagation"
   ]
  },
  {
   "cell_type": "markdown",
   "metadata": {},
   "source": [
    "For current set of weights $\\theta_{ij}^l$, compute forward pass through network:\n",
    "$$z_j^l = \\sum_i \\theta_{ij}^l a_i^{l-1} ,$$\n",
    "$$a_i^l = h(z_i^l) .$$"
   ]
  },
  {
   "cell_type": "markdown",
   "metadata": {
    "slideshow": {
     "slide_type": "fragment"
    }
   },
   "source": [
    "Propagate errors backwards through network:\n",
    "$$\\delta_i^l = \\frac{\\partial \\epsilon}{\\partial z_{j}^l}=\\sum_i \\delta_i^{l+1} \\theta_{ji}^{l+1} h^\\prime(z_j^l) .$$"
   ]
  },
  {
   "cell_type": "markdown",
   "metadata": {
    "slideshow": {
     "slide_type": "fragment"
    }
   },
   "source": [
    "Compute derivatives of error with respect to weights:\n",
    "$$\\frac{\\partial \\epsilon}{\\partial \\theta_{ij}^l} = \\delta_i^l a_i^{l-1}.$$"
   ]
  },
  {
   "cell_type": "markdown",
   "metadata": {
    "slideshow": {
     "slide_type": "subslide"
    }
   },
   "source": [
    "## Training with backpropagation"
   ]
  },
  {
   "cell_type": "markdown",
   "metadata": {},
   "source": [
    "Backpropagation simply computes derivatives of error with respect to weights.\n",
    "\n",
    "Still need training algorithm to update weights given derivatives, e.g. $\\Delta \\theta_{ik}^l = -\\eta \\frac{\\partial \\epsilon}{\\partial \\theta_{ij}^l}.$  \n"
   ]
  },
  {
   "cell_type": "markdown",
   "metadata": {
    "slideshow": {
     "slide_type": "fragment"
    }
   },
   "source": [
    "Various approaches can be considered:\n",
    "- Online: update weights after each training instance.\n",
    "- Full-batch: update weights after full sweep through training data.\n",
    "- Mini-batch: update weights after a small sample of training cases."
   ]
  },
  {
   "cell_type": "markdown",
   "metadata": {
    "slideshow": {
     "slide_type": "subslide"
    }
   },
   "source": [
    "### Example\n",
    "\n",
    "Scikit-learn now supports ANNs but not intended for large scale problems. \n",
    "\n",
    "Trains using some form of gradient descent, with gradients computed by backpropagation."
   ]
  },
  {
   "cell_type": "code",
   "execution_count": 7,
   "metadata": {
    "slideshow": {
     "slide_type": "subslide"
    }
   },
   "outputs": [
    {
     "name": "stdout",
     "output_type": "stream",
     "text": [
      "Iteration 1, loss = 0.32212731\n",
      "Iteration 2, loss = 0.15738787\n",
      "Iteration 3, loss = 0.11647274\n",
      "Iteration 4, loss = 0.09631113\n",
      "Iteration 5, loss = 0.08074513\n",
      "Iteration 6, loss = 0.07163224\n",
      "Iteration 7, loss = 0.06351392\n",
      "Iteration 8, loss = 0.05694146\n",
      "Iteration 9, loss = 0.05213487\n",
      "Iteration 10, loss = 0.04708320\n"
     ]
    },
    {
     "name": "stderr",
     "output_type": "stream",
     "text": [
      "/Users/mcewen/anaconda3/envs/tensorflow_py35/lib/python3.5/site-packages/sklearn/neural_network/multilayer_perceptron.py:564: ConvergenceWarning: Stochastic Optimizer: Maximum iterations (10) reached and the optimization hasn't converged yet.\n",
      "  % self.max_iter, ConvergenceWarning)\n"
     ]
    },
    {
     "name": "stdout",
     "output_type": "stream",
     "text": [
      "Training set score: 0.985733\n",
      "Test set score: 0.971000\n"
     ]
    }
   ],
   "source": [
    "import matplotlib.pyplot as plt\n",
    "from sklearn.datasets import fetch_mldata\n",
    "from sklearn.neural_network import MLPClassifier\n",
    "\n",
    "mnist = fetch_mldata(\"MNIST original\")\n",
    "# rescale the data, use the traditional train/test split\n",
    "X, y = mnist.data / 255., mnist.target\n",
    "X_train, X_test = X[:60000], X[60000:]\n",
    "y_train, y_test = y[:60000], y[60000:]\n",
    "\n",
    "mlp = MLPClassifier(hidden_layer_sizes=(50,), max_iter=10, alpha=1e-4,\n",
    "                    solver='sgd', verbose=10, tol=1e-4, random_state=1,\n",
    "                    learning_rate_init=.1)\n",
    "\n",
    "mlp.fit(X_train, y_train)\n",
    "print(\"Training set score: %f\" % mlp.score(X_train, y_train))\n",
    "print(\"Test set score: %f\" % mlp.score(X_test, y_test))"
   ]
  }
 ],
 "metadata": {
  "celltoolbar": "Slideshow",
  "kernelspec": {
   "display_name": "Python 3",
   "language": "python",
   "name": "python3"
  },
  "language_info": {
   "codemirror_mode": {
    "name": "ipython",
    "version": 3
   },
   "file_extension": ".py",
   "mimetype": "text/x-python",
   "name": "python",
   "nbconvert_exporter": "python",
   "pygments_lexer": "ipython3",
   "version": "3.7.4"
  }
 },
 "nbformat": 4,
 "nbformat_minor": 4
}
