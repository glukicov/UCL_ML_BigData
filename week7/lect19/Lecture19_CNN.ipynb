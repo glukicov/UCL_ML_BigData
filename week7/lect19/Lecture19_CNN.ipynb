{
 "cells": [
  {
   "cell_type": "markdown",
   "metadata": {
    "slideshow": {
     "slide_type": "slide"
    }
   },
   "source": [
    "# Lecture 19: Convolutional Neural Networks "
   ]
  },
  {
   "cell_type": "code",
   "execution_count": 30,
   "metadata": {},
   "outputs": [
    {
     "name": "stdout",
     "output_type": "stream",
     "text": [
      "Version: 2020-03-06 09:49:27\n"
     ]
    }
   ],
   "source": [
    "import datetime\n",
    "now = datetime.datetime.now()\n",
    "print(\"Version: \" + now.strftime(\"%Y-%m-%d %H:%M:%S\"))"
   ]
  },
  {
   "cell_type": "markdown",
   "metadata": {
    "slideshow": {
     "slide_type": "slide"
    }
   },
   "source": [
    "### This Lecture \n",
    "\n",
    "* The basics of CNNs \n",
    "* This is a complex and very varied subject (could do a whole course on this alone)"
   ]
  },
  {
   "cell_type": "code",
   "execution_count": 31,
   "metadata": {
    "scrolled": true,
    "slideshow": {
     "slide_type": "slide"
    }
   },
   "outputs": [],
   "source": [
    "# To support both python 2 and python 3\n",
    "from __future__ import division, print_function, unicode_literals\n",
    "\n",
    "# Common imports\n",
    "import numpy as np\n",
    "import os\n",
    "import tensorflow as tf\n",
    "\n",
    "# to make this notebook's output stable across runs\n",
    "def reset_graph(seed=42):\n",
    "    tf.reset_default_graph()\n",
    "    tf.set_random_seed(seed)\n",
    "    np.random.seed(seed)\n",
    "\n",
    "# To plot pretty figures\n",
    "%matplotlib inline\n",
    "import matplotlib\n",
    "import matplotlib.pyplot as plt\n",
    "plt.rcParams['axes.labelsize'] = 14\n",
    "plt.rcParams['xtick.labelsize'] = 12\n",
    "plt.rcParams['ytick.labelsize'] = 12\n",
    "\n",
    "# Where to save the figures\n",
    "PROJECT_ROOT_DIR = \".\"\n",
    "CHAPTER_ID = \"cnn\"\n",
    "\n",
    "def save_fig(fig_id, tight_layout=True):\n",
    "    path = os.path.join(PROJECT_ROOT_DIR, \"images\", CHAPTER_ID, fig_id + \".png\")\n",
    "    print(\"Saving figure\", fig_id)\n",
    "    if tight_layout:\n",
    "        plt.tight_layout()\n",
    "    plt.savefig(path, format='png', dpi=300)\n",
    "    \n",
    "def plot_image(image):\n",
    "    plt.imshow(image, cmap=\"gray\", interpolation=\"nearest\")\n",
    "    plt.axis(\"off\")\n",
    "\n",
    "def plot_color_image(image):\n",
    "    plt.imshow(image.astype(np.uint8),interpolation=\"nearest\")\n",
    "    plt.axis(\"off\")\n",
    "    \n",
    "import warnings\n",
    "warnings.filterwarnings('ignore')"
   ]
  },
  {
   "cell_type": "markdown",
   "metadata": {
    "slideshow": {
     "slide_type": "slide"
    }
   },
   "source": [
    "## Convolutional Layers in NN \n",
    "\n",
    "* Convolutional neural networks (CNNs) emerged from the study of the brain’s visual cortex, and they have been used in image recognition since the 1980s.\n",
    "* Used in image recognition also in voice recognition and natural language processing \n",
    "* Local Field of View\n",
    "* Used to define local features in an image - data compression\n",
    "<img src=\"Lecture19_Images/localFov.jpeg\" alt=\"Drawing\" style=\"width: 500px;\"/>\n",
    "\n"
   ]
  },
  {
   "cell_type": "markdown",
   "metadata": {
    "slideshow": {
     "slide_type": "subslide"
    }
   },
   "source": [
    "### Why?\n",
    "\n",
    "* A way of encoding images using a small(er) number of features upon which training (e.g. for classifying images) can take place. \n",
    "* Differences in images that enable humans to classify are hypothesise to be extracted in similar ways."
   ]
  },
  {
   "cell_type": "markdown",
   "metadata": {
    "slideshow": {
     "slide_type": "slide"
    }
   },
   "source": [
    "## Convolutional Layers \n",
    "\n",
    "* Encode convolutions as a NN \n",
    "\n",
    "* Neurons connected to _receptor_ field in next layer that is _smaller_. Uses zero padding to force layers to have same height & width.\n",
    "\n",
    "* Also can connect large input layer to much smaller layer by spacing out receptor fields (distance between receptor fields is called the _stride_)\n",
    "\n",
    "<img src=\"Lecture19_Images/CC.jpeg\" alt=\"Drawing\" style=\"width: 700px;\"/>"
   ]
  },
  {
   "cell_type": "markdown",
   "metadata": {
    "slideshow": {
     "slide_type": "slide"
    }
   },
   "source": [
    "### Feature Maps \n",
    "\n",
    "* Neuron weights can look like small images (w/ size = receptor field)\n",
    "* Examples given: 1) vertical filter (single vertical bar, mid-image, all other cells zero) 2) horizontal filter (single horizontal bar, mid-image, all other cells zero)\n",
    "* Both return _feature maps_ (highlights areas of image most similar to filter)\n"
   ]
  },
  {
   "cell_type": "markdown",
   "metadata": {
    "slideshow": {
     "slide_type": "subslide"
    }
   },
   "source": [
    "<img src=\"Lecture19_Images/featuremap.jpeg\" alt=\"Drawing\" style=\"width: 800px;\"/>"
   ]
  },
  {
   "cell_type": "markdown",
   "metadata": {
    "slideshow": {
     "slide_type": "slide"
    }
   },
   "source": [
    "### Stacking Feature Maps \n",
    "\n",
    "* More realistic to have several features of similar size i.e. 3D layers \n",
    "* A convolutional layer can thereby apply multiple filters to its input and be capable of detecting multiple features \n",
    "\n",
    "<img src=\"Lecture19_Images/stacked.jpeg\" alt=\"Drawing\" style=\"width: 400px;\"/>\n"
   ]
  },
  {
   "cell_type": "markdown",
   "metadata": {
    "slideshow": {
     "slide_type": "slide"
    }
   },
   "source": [
    "#### Example \n",
    "\n",
    "* The following code loads two sample images, using Scikit-Learn’s load_sample_images() (which loads two color images, one of a Chinese temple, and the other of a flower)\n",
    "* Then it creates two 7 × 7 filters (one with a vertical white line in the middle, and the other with a horizontal white line in the middle), and applies them to both images using a convolutional layer built using TensorFlow’s ${\\tt tf.nn.conv2d()}$ function (with zero padding and a stride of 2). \n",
    "* Finally, it plots one of the resulting feature maps\n",
    "\n"
   ]
  },
  {
   "cell_type": "code",
   "execution_count": 32,
   "metadata": {
    "slideshow": {
     "slide_type": "subslide"
    }
   },
   "outputs": [],
   "source": [
    "#simple example \n",
    "from sklearn.datasets import load_sample_image #load images\n",
    "\n",
    "# Load sample images\n",
    "china = load_sample_image(\"china.jpg\")\n",
    "flower = load_sample_image(\"flower.jpg\")\n",
    "dataset = np.array([china, flower], dtype=np.float32) #make concatenated data set\n",
    "batch_size, height, width, channels = dataset.shape\n",
    "\n",
    "# Create 2 filters that are 7x7xchannelsx2 arrays\n",
    "filters = np.zeros(shape=(7, 7, channels, 2),  dtype=np.float32)\n",
    "filters[:, 3, :, 0] = 1  # vertical line\n",
    "filters[3, :, :, 1] = 1  # horizontal line"
   ]
  },
  {
   "cell_type": "code",
   "execution_count": 33,
   "metadata": {
    "slideshow": {
     "slide_type": "subslide"
    }
   },
   "outputs": [],
   "source": [
    "# Create a graph with input X plus a convolutional layer applying the 2 filters\n",
    "X = tf.placeholder(tf.float32, shape=(None, height, width, channels))\n",
    "\n",
    "# conv2d arguments:\n",
    "# x = input minibatch = 4D tensor : minibatch*height*width*channels\n",
    "# filters = 4D tensor\n",
    "# strides = 1D array (1, vstride, hstride, 1)\n",
    "# padding = VALID = no zero padding, may ignore edge rows/cols\n",
    "# padding = SAME  = zero padding used if needed\n",
    "convolution = tf.nn.conv2d(X, filters, strides=[1,2,2,1], padding=\"VALID\")"
   ]
  },
  {
   "cell_type": "code",
   "execution_count": 9,
   "metadata": {
    "slideshow": {
     "slide_type": "subslide"
    }
   },
   "outputs": [
    {
     "data": {
      "image/png": "[encoded data removed]",
      "text/plain": [
       "<Figure size 432x288 with 1 Axes>"
      ]
     },
     "metadata": {
      "needs_background": "light"
     },
     "output_type": "display_data"
    }
   ],
   "source": [
    "with tf.Session() as sess:\n",
    "    output = sess.run(convolution, feed_dict={X: dataset})\n",
    "\n",
    "#output[image_index, :, :, feature_map_index]\n",
    "plt.imshow(output[0, :, :, 1], cmap=\"gray\") # plot 1st image's 2nd feature map\n",
    "plt.show()"
   ]
  },
  {
   "cell_type": "markdown",
   "metadata": {
    "slideshow": {
     "slide_type": "slide"
    }
   },
   "source": [
    "<img src=\"Lecture19_Images/dotproduc.png\" alt=\"Drawing\" style=\"width: 900px;\"/>\n",
    "\n",
    "Note the relation to the dot product "
   ]
  },
  {
   "cell_type": "markdown",
   "metadata": {
    "slideshow": {
     "slide_type": "subslide"
    }
   },
   "source": [
    "<img src=\"Lecture19_Images/example.png\" alt=\"Drawing\" style=\"width: 900px;\"/>\n",
    "\n"
   ]
  },
  {
   "cell_type": "markdown",
   "metadata": {
    "slideshow": {
     "slide_type": "subslide"
    }
   },
   "source": [
    "<img src=\"Lecture19_Images/6filter.png\" alt=\"Drawing\" style=\"width: 900px;\"/>\n",
    "\n",
    "The convolution layer comprises of a set of independent filters (6 in the example shown). Each filter is independently convolved with the image and we end up with 6 feature maps of shape 28x28x1."
   ]
  },
  {
   "cell_type": "markdown",
   "metadata": {
    "slideshow": {
     "slide_type": "subslide"
    }
   },
   "source": [
    "<img src=\"Lecture19_Images/simpleseries.png\" alt=\"Drawing\" style=\"width: 900px;\"/>\n",
    "\n",
    "All these filters are initialized randomly and become our parameters which will be learned by the network subsequently."
   ]
  },
  {
   "cell_type": "markdown",
   "metadata": {
    "collapsed": true,
    "slideshow": {
     "slide_type": "slide"
    }
   },
   "source": [
    "<img src=\"Lecture19_Images/padding.jpeg\" alt=\"Drawing\" style=\"width: 900px;\"/>\n",
    "\n"
   ]
  },
  {
   "cell_type": "code",
   "execution_count": 10,
   "metadata": {
    "slideshow": {
     "slide_type": "subslide"
    }
   },
   "outputs": [
    {
     "name": "stdout",
     "output_type": "stream",
     "text": [
      "VALID:\n",
      " [[[[184.]\n",
      "   [389.]]]]\n",
      "SAME:\n",
      " [[[[143.]\n",
      "   [348.]\n",
      "   [204.]]]]\n"
     ]
    }
   ],
   "source": [
    "reset_graph()\n",
    "\n",
    "filter_primes = np.array([2., 3., 5., 7., 11., 13.], dtype=np.float32)\n",
    "x = tf.constant(np.arange(1, 13+1, dtype=np.float32).reshape([1, 1, 13, 1]))\n",
    "filters = tf.constant(filter_primes.reshape(1, 6, 1, 1))\n",
    "\n",
    "valid_conv = tf.nn.conv2d(x, filters, strides=[1, 1, 5, 1], padding='VALID')\n",
    "same_conv = tf.nn.conv2d(x, filters, strides=[1, 1, 5, 1], padding='SAME')\n",
    "\n",
    "with tf.Session() as sess:\n",
    "    print(\"VALID:\\n\", valid_conv.eval())\n",
    "    print(\"SAME:\\n\", same_conv.eval())\n"
   ]
  },
  {
   "cell_type": "code",
   "execution_count": 11,
   "metadata": {
    "slideshow": {
     "slide_type": "subslide"
    }
   },
   "outputs": [
    {
     "name": "stdout",
     "output_type": "stream",
     "text": [
      "VALID:\n",
      "184.0\n",
      "389.0\n",
      "SAME:\n",
      "143.0\n",
      "348.0\n",
      "204.0\n"
     ]
    }
   ],
   "source": [
    "#the above is effectively doing a dot product of the following series with \n",
    "#the filters. Note the different behaviour that conv2 adopts in the two cases\n",
    "print(\"VALID:\")\n",
    "print(np.array([1,2,3,4,5,6]).T.dot(filter_primes))\n",
    "print(np.array([6,7,8,9,10,11]).T.dot(filter_primes))\n",
    "print(\"SAME:\")\n",
    "print(np.array([0,1,2,3,4,5]).T.dot(filter_primes))\n",
    "print(np.array([5,6,7,8,9,10]).T.dot(filter_primes))\n",
    "print(np.array([10,11,12,13,0,0]).T.dot(filter_primes))"
   ]
  },
  {
   "cell_type": "markdown",
   "metadata": {
    "collapsed": true,
    "slideshow": {
     "slide_type": "slide"
    }
   },
   "source": [
    "## Pooling Layers \n",
    "\n",
    "* Goal is to subsample (i.e., shrink) the input image in order to reduce the computational load, the memory usage, and the number of parameters (thereby limiting the risk of overfitting). Pooling layer operates on each feature map independently.\n",
    "\n",
    "* Just like in convolutional layers, each neuron in a pooling layer is connected to the outputs of a limited number of neurons in the previous layer, located within a small rectangular receptive field. You must define its size, the stride, and the padding type, just like before. \n",
    "\n",
    "* However, a pooling neuron has no weights; all it does is aggregate the inputs using an aggregation function such as the max or mean."
   ]
  },
  {
   "cell_type": "markdown",
   "metadata": {
    "slideshow": {
     "slide_type": "slide"
    }
   },
   "source": [
    "<img src=\"Lecture19_Images/pool.jpeg\" alt=\"Drawing\" style=\"width: 900px;\"/>\n",
    "\n",
    "* note image is smaller due to receptive layer size"
   ]
  },
  {
   "cell_type": "markdown",
   "metadata": {
    "slideshow": {
     "slide_type": "subslide"
    }
   },
   "source": [
    "<img src=\"Lecture19_Images/maxpool.png\" alt=\"Drawing\" style=\"width: 900px;\"/>\n",
    "\n"
   ]
  },
  {
   "cell_type": "code",
   "execution_count": 12,
   "metadata": {
    "slideshow": {
     "slide_type": "slide"
    }
   },
   "outputs": [],
   "source": [
    "batch_size, height, width, channels = dataset.shape\n",
    "filters = np.zeros(shape=(7, 7, channels, 2), dtype=np.float32)\n",
    "filters[:, 3, :, 0] = 1  # vertical line\n",
    "filters[3, :, :, 1] = 1  # horizontal line\n",
    "X = tf.placeholder(tf.float32, shape=(None, height, width, channels))"
   ]
  },
  {
   "cell_type": "code",
   "execution_count": 13,
   "metadata": {
    "slideshow": {
     "slide_type": "subslide"
    }
   },
   "outputs": [
    {
     "data": {
      "image/png": "[encoded data removed]",
      "text/plain": [
       "<Figure size 432x288 with 1 Axes>"
      ]
     },
     "metadata": {
      "needs_background": "light"
     },
     "output_type": "display_data"
    }
   ],
   "source": [
    "#The ksize argument contains the kernel shape along all four dimensions \n",
    "#of the input tensor: [batch size, height, width, channels].\n",
    "max_pool = tf.nn.max_pool(X, ksize=[1,2,2,1], strides=[1,2,2,1],padding=\"VALID\")\n",
    "\n",
    "with tf.Session() as sess: output = sess.run(max_pool, feed_dict={X: dataset})\n",
    "\n",
    "plt.imshow(output[0].astype(np.uint8))  # plot the output for the 1st image\n",
    "plt.show()\n",
    "#original\n",
    "#plt.imshow(china)\n",
    "#plt.show()"
   ]
  },
  {
   "cell_type": "markdown",
   "metadata": {
    "slideshow": {
     "slide_type": "slide"
    }
   },
   "source": [
    "## CNN Architectures \n",
    "\n",
    "* Typical CNN architectures stack a few convolutional layers (each one generally followed by a ReLU layer; max(0,x), then a pooling layer, then another few convolutional layers (+ ReLU), then another pooling layer, and so on.\n",
    "\n",
    "* The image gets smaller and smaller as it progresses through the network, but it also typically gets deeper and deeper (i.e., with more feature maps) thanks to the convolutional layers\n",
    "\n",
    "* At the top of the stack, a regular feedforward neural network is added, composed of a few fully connected layers, and the final layer outputs the prediction "
   ]
  },
  {
   "cell_type": "markdown",
   "metadata": {
    "slideshow": {
     "slide_type": "subslide"
    }
   },
   "source": [
    "<img src=\"Lecture19_Images/aCNN.jpeg\" alt=\"Drawing\" style=\"width: 1000px;\"/>"
   ]
  },
  {
   "cell_type": "markdown",
   "metadata": {
    "slideshow": {
     "slide_type": "subslide"
    }
   },
   "source": [
    "<img src=\"Lecture19_Images/exCNN.jpeg\" alt=\"Drawing\" style=\"width: 1500px;\"/>\n",
    "\n"
   ]
  },
  {
   "cell_type": "markdown",
   "metadata": {
    "slideshow": {
     "slide_type": "subslide"
    }
   },
   "source": [
    "#### LeNet, widely used for MNIST \n",
    "\n",
    "<img src=\"Lecture19_Images/lenet.jpeg\" alt=\"Drawing\" style=\"width: 500px;\"/>\n",
    "\n"
   ]
  },
  {
   "cell_type": "markdown",
   "metadata": {
    "slideshow": {
     "slide_type": "subslide"
    }
   },
   "source": [
    "#### AlexNet, used for ImageNet Challenge http://www.image-net.org/challenges/LSVRC/\n",
    "\n",
    "<img src=\"Lecture19_Images/alexnet.jpeg\" alt=\"Drawing\" style=\"width: 500px;\"/>\n",
    "\n"
   ]
  },
  {
   "cell_type": "code",
   "execution_count": 14,
   "metadata": {
    "slideshow": {
     "slide_type": "slide"
    }
   },
   "outputs": [],
   "source": [
    "# make a typical CNN architecture for the MNIST data\n",
    "# trying to create a network, and train it, to recognise digits in an image\n",
    "import tensorflow as tf\n",
    "\n",
    "reset_graph()\n",
    "\n",
    "#define dimensions of the data \n",
    "height = 28\n",
    "width = 28\n",
    "channels = 1\n",
    "n_inputs = height * width"
   ]
  },
  {
   "cell_type": "code",
   "execution_count": 15,
   "metadata": {
    "slideshow": {
     "slide_type": "subslide"
    }
   },
   "outputs": [],
   "source": [
    "with tf.name_scope(\"inputs\"):\n",
    "    X = tf.placeholder(tf.float32, shape=[None, n_inputs], name=\"X\")\n",
    "    X_reshaped = tf.reshape(X, shape=[-1, height, width, channels])\n",
    "    \n",
    "    y = tf.placeholder(tf.int32, shape=[None], name=\"y\") #create lables \n",
    "    training = tf.placeholder_with_default(False, shape=[], name=\"training\")"
   ]
  },
  {
   "cell_type": "code",
   "execution_count": 16,
   "metadata": {
    "slideshow": {
     "slide_type": "subslide"
    }
   },
   "outputs": [],
   "source": [
    "#define conv layer 1\n",
    "conv1_fmaps = 32 #number of feature maps \n",
    "conv1_ksize = 3 #size of the kernel \n",
    "conv1_stride = 1 #stride length \n",
    "conv1_pad = \"SAME\" #note same so stays 28x28 \n",
    "\n",
    "#define conv layer 2\n",
    "conv2_fmaps = 64 #note: more feature because it's finer resolution\n",
    "conv2_ksize = 3\n",
    "conv2_stride = 1\n",
    "conv2_pad = \"SAME\"\n",
    "conv2_dropout_rate = 0.25 #pruning of zero weighted features\n"
   ]
  },
  {
   "cell_type": "code",
   "execution_count": 17,
   "metadata": {
    "slideshow": {
     "slide_type": "subslide"
    }
   },
   "outputs": [
    {
     "name": "stdout",
     "output_type": "stream",
     "text": [
      "WARNING:tensorflow:From <ipython-input-17-daac7a8ff356>:4: conv2d (from tensorflow.python.layers.convolutional) is deprecated and will be removed in a future version.\n",
      "Instructions for updating:\n",
      "Use `tf.keras.layers.Conv2D` instead.\n",
      "WARNING:tensorflow:From /Users/jeremyocampo/opt/anaconda3/envs/MLBDenv/lib/python3.7/site-packages/tensorflow/python/ops/init_ops.py:1251: calling VarianceScaling.__init__ (from tensorflow.python.ops.init_ops) with dtype is deprecated and will be removed in a future version.\n",
      "Instructions for updating:\n",
      "Call initializer instance with the dtype argument instead of passing it to the constructor\n",
      "WARNING:tensorflow:Entity <bound method Conv.call of <tensorflow.python.layers.convolutional.Conv2D object at 0x1a4a946890>> could not be transformed and will be executed as-is. Please report this to the AutgoGraph team. When filing the bug, set the verbosity to 10 (on Linux, `export AUTOGRAPH_VERBOSITY=10`) and attach the full output. Cause: converting <bound method Conv.call of <tensorflow.python.layers.convolutional.Conv2D object at 0x1a4a946890>>: AssertionError: Bad argument number for Name: 3, expecting 4\n",
      "WARNING: Entity <bound method Conv.call of <tensorflow.python.layers.convolutional.Conv2D object at 0x1a4a946890>> could not be transformed and will be executed as-is. Please report this to the AutgoGraph team. When filing the bug, set the verbosity to 10 (on Linux, `export AUTOGRAPH_VERBOSITY=10`) and attach the full output. Cause: converting <bound method Conv.call of <tensorflow.python.layers.convolutional.Conv2D object at 0x1a4a946890>>: AssertionError: Bad argument number for Name: 3, expecting 4\n",
      "WARNING:tensorflow:Entity <bound method Conv.call of <tensorflow.python.layers.convolutional.Conv2D object at 0x1a4a91de50>> could not be transformed and will be executed as-is. Please report this to the AutgoGraph team. When filing the bug, set the verbosity to 10 (on Linux, `export AUTOGRAPH_VERBOSITY=10`) and attach the full output. Cause: converting <bound method Conv.call of <tensorflow.python.layers.convolutional.Conv2D object at 0x1a4a91de50>>: AssertionError: Bad argument number for Name: 3, expecting 4\n",
      "WARNING: Entity <bound method Conv.call of <tensorflow.python.layers.convolutional.Conv2D object at 0x1a4a91de50>> could not be transformed and will be executed as-is. Please report this to the AutgoGraph team. When filing the bug, set the verbosity to 10 (on Linux, `export AUTOGRAPH_VERBOSITY=10`) and attach the full output. Cause: converting <bound method Conv.call of <tensorflow.python.layers.convolutional.Conv2D object at 0x1a4a91de50>>: AssertionError: Bad argument number for Name: 3, expecting 4\n"
     ]
    }
   ],
   "source": [
    "#feed reshaped X to conv1 \n",
    "conv1 = tf.layers.conv2d(X_reshaped, filters=conv1_fmaps, kernel_size=conv1_ksize,\n",
    "                         strides=conv1_stride, padding=conv1_pad,\n",
    "                         activation=tf.nn.relu, name=\"conv1\")\n",
    "#feed conv1 to conv 2\n",
    "conv2 = tf.layers.conv2d(conv1, filters=conv2_fmaps, kernel_size=conv2_ksize,\n",
    "                         strides=conv2_stride, padding=conv2_pad,\n",
    "                         activation=tf.nn.relu, name=\"conv2\")"
   ]
  },
  {
   "cell_type": "code",
   "execution_count": 18,
   "metadata": {
    "slideshow": {
     "slide_type": "subslide"
    }
   },
   "outputs": [],
   "source": [
    "#set 3rd pool layer feature maps size equal to 2nd conv feature maps size\n",
    "pool3_fmaps = conv2_fmaps"
   ]
  },
  {
   "cell_type": "code",
   "execution_count": 19,
   "metadata": {
    "slideshow": {
     "slide_type": "-"
    }
   },
   "outputs": [
    {
     "name": "stdout",
     "output_type": "stream",
     "text": [
      "WARNING:tensorflow:From <ipython-input-19-7ab78c1aea3e>:8: dropout (from tensorflow.python.layers.core) is deprecated and will be removed in a future version.\n",
      "Instructions for updating:\n",
      "Use keras.layers.dropout instead.\n",
      "WARNING:tensorflow:Entity <bound method Dropout.call of <tensorflow.python.layers.core.Dropout object at 0x1a4a855a90>> could not be transformed and will be executed as-is. Please report this to the AutgoGraph team. When filing the bug, set the verbosity to 10 (on Linux, `export AUTOGRAPH_VERBOSITY=10`) and attach the full output. Cause: converting <bound method Dropout.call of <tensorflow.python.layers.core.Dropout object at 0x1a4a855a90>>: AssertionError: Bad argument number for Name: 3, expecting 4\n",
      "WARNING: Entity <bound method Dropout.call of <tensorflow.python.layers.core.Dropout object at 0x1a4a855a90>> could not be transformed and will be executed as-is. Please report this to the AutgoGraph team. When filing the bug, set the verbosity to 10 (on Linux, `export AUTOGRAPH_VERBOSITY=10`) and attach the full output. Cause: converting <bound method Dropout.call of <tensorflow.python.layers.core.Dropout object at 0x1a4a855a90>>: AssertionError: Bad argument number for Name: 3, expecting 4\n"
     ]
    }
   ],
   "source": [
    "#pooling layer \n",
    "with tf.name_scope(\"pool3\"):\n",
    "    #maximum over 2x2 cells\n",
    "    pool3 = tf.nn.max_pool(conv2, ksize=[1, 2, 2, 1], strides=[1, 2, 2, 1], padding=\"VALID\")\n",
    "    #reshape to be a flat layer (1D) ready for the fully connected layer \n",
    "    pool3_flat = tf.reshape(pool3, shape=[-1, pool3_fmaps * 14 * 14]) #factor 28/2=14 \n",
    "    #prune the neurons to avoid overfitting \n",
    "    pool3_flat_drop = tf.layers.dropout(pool3_flat, conv2_dropout_rate, training=training)"
   ]
  },
  {
   "cell_type": "code",
   "execution_count": 20,
   "metadata": {
    "slideshow": {
     "slide_type": "subslide"
    }
   },
   "outputs": [],
   "source": [
    "# set up fully connected layers\n",
    "n_fc1 = 128\n",
    "fc1_dropout_rate = 0.5"
   ]
  },
  {
   "cell_type": "code",
   "execution_count": 21,
   "metadata": {
    "slideshow": {
     "slide_type": "-"
    }
   },
   "outputs": [
    {
     "name": "stdout",
     "output_type": "stream",
     "text": [
      "WARNING:tensorflow:From <ipython-input-21-0dc841eb935b>:3: dense (from tensorflow.python.layers.core) is deprecated and will be removed in a future version.\n",
      "Instructions for updating:\n",
      "Use keras.layers.dense instead.\n",
      "WARNING:tensorflow:Entity <bound method Dense.call of <tensorflow.python.layers.core.Dense object at 0x1a486965d0>> could not be transformed and will be executed as-is. Please report this to the AutgoGraph team. When filing the bug, set the verbosity to 10 (on Linux, `export AUTOGRAPH_VERBOSITY=10`) and attach the full output. Cause: converting <bound method Dense.call of <tensorflow.python.layers.core.Dense object at 0x1a486965d0>>: AssertionError: Bad argument number for Name: 3, expecting 4\n",
      "WARNING: Entity <bound method Dense.call of <tensorflow.python.layers.core.Dense object at 0x1a486965d0>> could not be transformed and will be executed as-is. Please report this to the AutgoGraph team. When filing the bug, set the verbosity to 10 (on Linux, `export AUTOGRAPH_VERBOSITY=10`) and attach the full output. Cause: converting <bound method Dense.call of <tensorflow.python.layers.core.Dense object at 0x1a486965d0>>: AssertionError: Bad argument number for Name: 3, expecting 4\n",
      "WARNING:tensorflow:Entity <bound method Dropout.call of <tensorflow.python.layers.core.Dropout object at 0x1a48694dd0>> could not be transformed and will be executed as-is. Please report this to the AutgoGraph team. When filing the bug, set the verbosity to 10 (on Linux, `export AUTOGRAPH_VERBOSITY=10`) and attach the full output. Cause: converting <bound method Dropout.call of <tensorflow.python.layers.core.Dropout object at 0x1a48694dd0>>: AssertionError: Bad argument number for Name: 3, expecting 4\n",
      "WARNING: Entity <bound method Dropout.call of <tensorflow.python.layers.core.Dropout object at 0x1a48694dd0>> could not be transformed and will be executed as-is. Please report this to the AutgoGraph team. When filing the bug, set the verbosity to 10 (on Linux, `export AUTOGRAPH_VERBOSITY=10`) and attach the full output. Cause: converting <bound method Dropout.call of <tensorflow.python.layers.core.Dropout object at 0x1a48694dd0>>: AssertionError: Bad argument number for Name: 3, expecting 4\n"
     ]
    }
   ],
   "source": [
    "#fully connected layer \n",
    "with tf.name_scope(\"fc1\"):\n",
    "    fc1 = tf.layers.dense(pool3_flat_drop, n_fc1, activation=tf.nn.relu, name=\"fc1\")\n",
    "    fc1_drop = tf.layers.dropout(fc1, fc1_dropout_rate, training=training)\n",
    "\n",
    "# Dropout: consists in randomly setting a fraction rate of input units to 0\n",
    "# at each update during training time, which helps prevent overfitting. \n",
    " \n",
    "# dense: This layer implements the operation: \n",
    "# outputs = activation(inputs.kernel + bias) \n",
    "# Where activation is the activation function passed as the activation \n",
    "# argument (if not None), kernel is a weights matrix created by the layer, \n",
    "# and bias is a bias vector created by the layer (only if use_bias is True)    "
   ]
  },
  {
   "cell_type": "code",
   "execution_count": 22,
   "metadata": {
    "slideshow": {
     "slide_type": "subslide"
    }
   },
   "outputs": [],
   "source": [
    "# number of final outputs\n",
    "n_outputs = 10"
   ]
  },
  {
   "cell_type": "code",
   "execution_count": 23,
   "metadata": {
    "slideshow": {
     "slide_type": "-"
    }
   },
   "outputs": [
    {
     "name": "stdout",
     "output_type": "stream",
     "text": [
      "WARNING:tensorflow:Entity <bound method Dense.call of <tensorflow.python.layers.core.Dense object at 0x1a4a86c150>> could not be transformed and will be executed as-is. Please report this to the AutgoGraph team. When filing the bug, set the verbosity to 10 (on Linux, `export AUTOGRAPH_VERBOSITY=10`) and attach the full output. Cause: converting <bound method Dense.call of <tensorflow.python.layers.core.Dense object at 0x1a4a86c150>>: AssertionError: Bad argument number for Name: 3, expecting 4\n",
      "WARNING: Entity <bound method Dense.call of <tensorflow.python.layers.core.Dense object at 0x1a4a86c150>> could not be transformed and will be executed as-is. Please report this to the AutgoGraph team. When filing the bug, set the verbosity to 10 (on Linux, `export AUTOGRAPH_VERBOSITY=10`) and attach the full output. Cause: converting <bound method Dense.call of <tensorflow.python.layers.core.Dense object at 0x1a4a86c150>>: AssertionError: Bad argument number for Name: 3, expecting 4\n"
     ]
    }
   ],
   "source": [
    "#essentially computing the probability of each feature output from fc1 \n",
    "#using softmax \n",
    "#softmax = tf.exp(logits) / tf.reduce_sum(tf.exp(logits), axis)\n",
    "#not used, but for interest \n",
    "with tf.name_scope(\"output\"):\n",
    "    logits = tf.layers.dense(fc1, n_outputs, name=\"output\")\n",
    "    Y_proba = tf.nn.softmax(logits, name=\"Y_proba\")"
   ]
  },
  {
   "cell_type": "code",
   "execution_count": 24,
   "metadata": {
    "slideshow": {
     "slide_type": "subslide"
    }
   },
   "outputs": [],
   "source": [
    "#create training nodes\n",
    "with tf.name_scope(\"train\"):\n",
    "    #Computes sparse softmax cross entropy between logits and labels.\n",
    "    xentropy = tf.nn.sparse_softmax_cross_entropy_with_logits(logits=logits, labels=y)\n",
    "    #computes mean of the xentropy \n",
    "    loss = tf.reduce_mean(xentropy)\n",
    "    optimizer = tf.train.AdamOptimizer()\n",
    "    #want to minimise the loss\n",
    "    training_op = optimizer.minimize(loss)"
   ]
  },
  {
   "cell_type": "code",
   "execution_count": 25,
   "metadata": {
    "slideshow": {
     "slide_type": "subslide"
    }
   },
   "outputs": [],
   "source": [
    "#evaluation nodes \n",
    "with tf.name_scope(\"eval\"):\n",
    "    #Says whether the targets are in the top K predictions.\n",
    "    correct = tf.nn.in_top_k(logits, y, 1)\n",
    "    accuracy = tf.reduce_mean(tf.cast(correct, tf.float32))\n",
    "\n",
    "#save and initialisation nodes \n",
    "with tf.name_scope(\"init_and_save\"):\n",
    "    init = tf.global_variables_initializer()\n",
    "    saver = tf.train.Saver()"
   ]
  },
  {
   "cell_type": "code",
   "execution_count": 26,
   "metadata": {
    "slideshow": {
     "slide_type": "slide"
    }
   },
   "outputs": [],
   "source": [
    "#--- for tensorboard ---\n",
    "from datetime import datetime\n",
    "now = datetime.utcnow().strftime(\"%Y%m%d%H%M%S\")\n",
    "root_logdir = \"tf_logs\"\n",
    "logdir = \"{}/run-{}/\".format(root_logdir, now)\n",
    "file_writer = tf.summary.FileWriter(logdir, tf.get_default_graph()) #node that write the default graph\n",
    "#-----------------------\n",
    "# > tensorboard --logdir tf_logs/"
   ]
  },
  {
   "cell_type": "markdown",
   "metadata": {
    "slideshow": {
     "slide_type": "subslide"
    }
   },
   "source": [
    "<img src=\"Lecture19_Images/png.png\" alt=\"Drawing\" style=\"width: 500px;\"/>"
   ]
  },
  {
   "cell_type": "code",
   "execution_count": 27,
   "metadata": {
    "slideshow": {
     "slide_type": "subslide"
    }
   },
   "outputs": [
    {
     "name": "stdout",
     "output_type": "stream",
     "text": [
      "WARNING:tensorflow:From <ipython-input-27-c50d5bb4a85c>:2: read_data_sets (from tensorflow.contrib.learn.python.learn.datasets.mnist) is deprecated and will be removed in a future version.\n",
      "Instructions for updating:\n",
      "Please use alternatives such as official/mnist/dataset.py from tensorflow/models.\n",
      "WARNING:tensorflow:From /Users/jeremyocampo/opt/anaconda3/envs/MLBDenv/lib/python3.7/site-packages/tensorflow/contrib/learn/python/learn/datasets/mnist.py:260: maybe_download (from tensorflow.contrib.learn.python.learn.datasets.base) is deprecated and will be removed in a future version.\n",
      "Instructions for updating:\n",
      "Please write your own downloading logic.\n",
      "WARNING:tensorflow:From /Users/jeremyocampo/opt/anaconda3/envs/MLBDenv/lib/python3.7/site-packages/tensorflow/contrib/learn/python/learn/datasets/base.py:252: _internal_retry.<locals>.wrap.<locals>.wrapped_fn (from tensorflow.contrib.learn.python.learn.datasets.base) is deprecated and will be removed in a future version.\n",
      "Instructions for updating:\n",
      "Please use urllib or similar directly.\n",
      "Successfully downloaded train-images-idx3-ubyte.gz 9912422 bytes.\n",
      "WARNING:tensorflow:From /Users/jeremyocampo/opt/anaconda3/envs/MLBDenv/lib/python3.7/site-packages/tensorflow/contrib/learn/python/learn/datasets/mnist.py:262: extract_images (from tensorflow.contrib.learn.python.learn.datasets.mnist) is deprecated and will be removed in a future version.\n",
      "Instructions for updating:\n",
      "Please use tf.data to implement this functionality.\n",
      "Extracting /tmp/data/train-images-idx3-ubyte.gz\n",
      "Successfully downloaded train-labels-idx1-ubyte.gz 28881 bytes.\n",
      "WARNING:tensorflow:From /Users/jeremyocampo/opt/anaconda3/envs/MLBDenv/lib/python3.7/site-packages/tensorflow/contrib/learn/python/learn/datasets/mnist.py:267: extract_labels (from tensorflow.contrib.learn.python.learn.datasets.mnist) is deprecated and will be removed in a future version.\n",
      "Instructions for updating:\n",
      "Please use tf.data to implement this functionality.\n",
      "Extracting /tmp/data/train-labels-idx1-ubyte.gz\n",
      "Successfully downloaded t10k-images-idx3-ubyte.gz 1648877 bytes.\n",
      "Extracting /tmp/data/t10k-images-idx3-ubyte.gz\n",
      "Successfully downloaded t10k-labels-idx1-ubyte.gz 4542 bytes.\n",
      "Extracting /tmp/data/t10k-labels-idx1-ubyte.gz\n",
      "WARNING:tensorflow:From /Users/jeremyocampo/opt/anaconda3/envs/MLBDenv/lib/python3.7/site-packages/tensorflow/contrib/learn/python/learn/datasets/mnist.py:290: DataSet.__init__ (from tensorflow.contrib.learn.python.learn.datasets.mnist) is deprecated and will be removed in a future version.\n",
      "Instructions for updating:\n",
      "Please use alternatives such as official/mnist/dataset.py from tensorflow/models.\n"
     ]
    }
   ],
   "source": [
    "from tensorflow.examples.tutorials.mnist import input_data\n",
    "mnist = input_data.read_data_sets(\"/tmp/data/\")"
   ]
  },
  {
   "cell_type": "code",
   "execution_count": 28,
   "metadata": {},
   "outputs": [
    {
     "name": "stdout",
     "output_type": "stream",
     "text": [
      "WARNING:tensorflow:From <ipython-input-28-55eb5fbb6a6c>:6: RunConfig.__init__ (from tensorflow.contrib.learn.python.learn.estimators.run_config) is deprecated and will be removed in a future version.\n",
      "Instructions for updating:\n",
      "When switching to tf.estimator.Estimator, use tf.estimator.RunConfig instead.\n",
      "WARNING:tensorflow:From <ipython-input-28-55eb5fbb6a6c>:7: infer_real_valued_columns_from_input (from tensorflow.contrib.learn.python.learn.estimators.estimator) is deprecated and will be removed in a future version.\n",
      "Instructions for updating:\n",
      "Please specify feature columns explicitly.\n",
      "WARNING:tensorflow:From /Users/jeremyocampo/opt/anaconda3/envs/MLBDenv/lib/python3.7/site-packages/tensorflow/contrib/learn/python/learn/estimators/estimator.py:143: setup_train_data_feeder (from tensorflow.contrib.learn.python.learn.learn_io.data_feeder) is deprecated and will be removed in a future version.\n",
      "Instructions for updating:\n",
      "Please use tensorflow/transform or tf.data.\n",
      "WARNING:tensorflow:From /Users/jeremyocampo/opt/anaconda3/envs/MLBDenv/lib/python3.7/site-packages/tensorflow/contrib/learn/python/learn/learn_io/data_feeder.py:100: extract_pandas_data (from tensorflow.contrib.learn.python.learn.learn_io.pandas_io) is deprecated and will be removed in a future version.\n",
      "Instructions for updating:\n",
      "Please access pandas data directly.\n",
      "WARNING:tensorflow:From /Users/jeremyocampo/opt/anaconda3/envs/MLBDenv/lib/python3.7/site-packages/tensorflow/contrib/learn/python/learn/learn_io/data_feeder.py:159: DataFeeder.__init__ (from tensorflow.contrib.learn.python.learn.learn_io.data_feeder) is deprecated and will be removed in a future version.\n",
      "Instructions for updating:\n",
      "Please use tensorflow/transform or tf.data.\n",
      "WARNING:tensorflow:From /Users/jeremyocampo/opt/anaconda3/envs/MLBDenv/lib/python3.7/site-packages/tensorflow/contrib/learn/python/learn/learn_io/data_feeder.py:340: check_array (from tensorflow.contrib.learn.python.learn.learn_io.data_feeder) is deprecated and will be removed in a future version.\n",
      "Instructions for updating:\n",
      "Please convert numpy dtypes explicitly.\n",
      "WARNING:tensorflow:From /Users/jeremyocampo/opt/anaconda3/envs/MLBDenv/lib/python3.7/site-packages/tensorflow/contrib/learn/python/learn/estimators/estimator.py:183: infer_real_valued_columns_from_input_fn (from tensorflow.contrib.learn.python.learn.estimators.estimator) is deprecated and will be removed in a future version.\n",
      "Instructions for updating:\n",
      "Please specify feature columns explicitly.\n",
      "WARNING:tensorflow:From /Users/jeremyocampo/opt/anaconda3/envs/MLBDenv/lib/python3.7/site-packages/tensorflow/contrib/learn/python/learn/estimators/dnn.py:378: multi_class_head (from tensorflow.contrib.learn.python.learn.estimators.head) is deprecated and will be removed in a future version.\n",
      "Instructions for updating:\n",
      "Please switch to tf.contrib.estimator.*_head.\n",
      "WARNING:tensorflow:From /Users/jeremyocampo/opt/anaconda3/envs/MLBDenv/lib/python3.7/site-packages/tensorflow/contrib/learn/python/learn/estimators/estimator.py:1179: BaseEstimator.__init__ (from tensorflow.contrib.learn.python.learn.estimators.estimator) is deprecated and will be removed in a future version.\n",
      "Instructions for updating:\n",
      "Please replace uses of any Estimator from tf.contrib.learn with an Estimator from tf.estimator.*\n",
      "WARNING:tensorflow:Using temporary folder as model directory: /var/folders/tz/xqtkbc315fj_whpqzk20bvvr0000gn/T/tmpuxlfkqu0\n",
      "INFO:tensorflow:Using config: {'_task_type': None, '_task_id': 0, '_cluster_spec': <tensorflow.python.training.server_lib.ClusterSpec object at 0x1a4d90fe50>, '_master': '', '_num_ps_replicas': 0, '_num_worker_replicas': 0, '_environment': 'local', '_is_chief': True, '_evaluation_master': '', '_train_distribute': None, '_eval_distribute': None, '_experimental_max_worker_delay_secs': None, '_device_fn': None, '_tf_config': gpu_options {\n",
      "  per_process_gpu_memory_fraction: 1.0\n",
      "}\n",
      ", '_tf_random_seed': 42, '_save_summary_steps': 100, '_save_checkpoints_secs': 600, '_log_step_count_steps': 100, '_protocol': None, '_session_config': None, '_save_checkpoints_steps': None, '_keep_checkpoint_max': 5, '_keep_checkpoint_every_n_hours': 10000, '_model_dir': '/var/folders/tz/xqtkbc315fj_whpqzk20bvvr0000gn/T/tmpuxlfkqu0'}\n",
      "WARNING:tensorflow:From <ipython-input-28-55eb5fbb6a6c>:9: SKCompat.__init__ (from tensorflow.contrib.learn.python.learn.estimators.estimator) is deprecated and will be removed in a future version.\n",
      "Instructions for updating:\n",
      "Please switch to the Estimator interface.\n",
      "WARNING:tensorflow:From /Users/jeremyocampo/opt/anaconda3/envs/MLBDenv/lib/python3.7/site-packages/tensorflow/contrib/learn/python/learn/learn_io/data_feeder.py:102: extract_pandas_labels (from tensorflow.contrib.learn.python.learn.learn_io.pandas_io) is deprecated and will be removed in a future version.\n",
      "Instructions for updating:\n",
      "Please access pandas data directly.\n",
      "WARNING:tensorflow:From /Users/jeremyocampo/opt/anaconda3/envs/MLBDenv/lib/python3.7/site-packages/tensorflow/python/training/training_util.py:236: Variable.initialized_value (from tensorflow.python.ops.variables) is deprecated and will be removed in a future version.\n",
      "Instructions for updating:\n",
      "Use Variable.read_value. Variables in 2.X are initialized automatically both in eager and graph (inside tf.defun) contexts.\n",
      "WARNING:tensorflow:Entity <bound method Dense.call of <tensorflow.python.layers.core.Dense object at 0x1a4d953510>> could not be transformed and will be executed as-is. Please report this to the AutgoGraph team. When filing the bug, set the verbosity to 10 (on Linux, `export AUTOGRAPH_VERBOSITY=10`) and attach the full output. Cause: converting <bound method Dense.call of <tensorflow.python.layers.core.Dense object at 0x1a4d953510>>: AssertionError: Bad argument number for Name: 3, expecting 4\n",
      "WARNING: Entity <bound method Dense.call of <tensorflow.python.layers.core.Dense object at 0x1a4d953510>> could not be transformed and will be executed as-is. Please report this to the AutgoGraph team. When filing the bug, set the verbosity to 10 (on Linux, `export AUTOGRAPH_VERBOSITY=10`) and attach the full output. Cause: converting <bound method Dense.call of <tensorflow.python.layers.core.Dense object at 0x1a4d953510>>: AssertionError: Bad argument number for Name: 3, expecting 4\n",
      "WARNING:tensorflow:Entity <bound method Dense.call of <tensorflow.python.layers.core.Dense object at 0x1a4d953c50>> could not be transformed and will be executed as-is. Please report this to the AutgoGraph team. When filing the bug, set the verbosity to 10 (on Linux, `export AUTOGRAPH_VERBOSITY=10`) and attach the full output. Cause: converting <bound method Dense.call of <tensorflow.python.layers.core.Dense object at 0x1a4d953c50>>: AssertionError: Bad argument number for Name: 3, expecting 4\n",
      "WARNING: Entity <bound method Dense.call of <tensorflow.python.layers.core.Dense object at 0x1a4d953c50>> could not be transformed and will be executed as-is. Please report this to the AutgoGraph team. When filing the bug, set the verbosity to 10 (on Linux, `export AUTOGRAPH_VERBOSITY=10`) and attach the full output. Cause: converting <bound method Dense.call of <tensorflow.python.layers.core.Dense object at 0x1a4d953c50>>: AssertionError: Bad argument number for Name: 3, expecting 4\n",
      "WARNING:tensorflow:Entity <bound method Dense.call of <tensorflow.python.layers.core.Dense object at 0x1a4d9268d0>> could not be transformed and will be executed as-is. Please report this to the AutgoGraph team. When filing the bug, set the verbosity to 10 (on Linux, `export AUTOGRAPH_VERBOSITY=10`) and attach the full output. Cause: converting <bound method Dense.call of <tensorflow.python.layers.core.Dense object at 0x1a4d9268d0>>: AssertionError: Bad argument number for Name: 3, expecting 4\n",
      "WARNING: Entity <bound method Dense.call of <tensorflow.python.layers.core.Dense object at 0x1a4d9268d0>> could not be transformed and will be executed as-is. Please report this to the AutgoGraph team. When filing the bug, set the verbosity to 10 (on Linux, `export AUTOGRAPH_VERBOSITY=10`) and attach the full output. Cause: converting <bound method Dense.call of <tensorflow.python.layers.core.Dense object at 0x1a4d9268d0>>: AssertionError: Bad argument number for Name: 3, expecting 4\n",
      "WARNING:tensorflow:From /Users/jeremyocampo/opt/anaconda3/envs/MLBDenv/lib/python3.7/site-packages/tensorflow/python/training/adagrad.py:76: calling Constant.__init__ (from tensorflow.python.ops.init_ops) with dtype is deprecated and will be removed in a future version.\n",
      "Instructions for updating:\n",
      "Call initializer instance with the dtype argument instead of passing it to the constructor\n"
     ]
    },
    {
     "name": "stdout",
     "output_type": "stream",
     "text": [
      "WARNING:tensorflow:From /Users/jeremyocampo/opt/anaconda3/envs/MLBDenv/lib/python3.7/site-packages/tensorflow/contrib/learn/python/learn/estimators/head.py:678: ModelFnOps.__new__ (from tensorflow.contrib.learn.python.learn.estimators.model_fn) is deprecated and will be removed in a future version.\n",
      "Instructions for updating:\n",
      "When switching to tf.estimator.Estimator, use tf.estimator.EstimatorSpec. You can use the `estimator_spec` method to create an equivalent one.\n",
      "INFO:tensorflow:Create CheckpointSaverHook.\n",
      "WARNING:tensorflow:From /Users/jeremyocampo/opt/anaconda3/envs/MLBDenv/lib/python3.7/site-packages/tensorflow/python/ops/array_ops.py:1354: add_dispatch_support.<locals>.wrapper (from tensorflow.python.ops.array_ops) is deprecated and will be removed in a future version.\n",
      "Instructions for updating:\n",
      "Use tf.where in 2.0, which has the same broadcast rule as np.where\n",
      "INFO:tensorflow:Graph was finalized.\n",
      "INFO:tensorflow:Running local_init_op.\n",
      "INFO:tensorflow:Done running local_init_op.\n",
      "INFO:tensorflow:Saving checkpoints for 0 into /var/folders/tz/xqtkbc315fj_whpqzk20bvvr0000gn/T/tmpuxlfkqu0/model.ckpt.\n",
      "INFO:tensorflow:loss = 2.3451102, step = 1\n",
      "INFO:tensorflow:global_step/sec: 239.025\n",
      "INFO:tensorflow:loss = 0.3180231, step = 101 (0.419 sec)\n",
      "INFO:tensorflow:global_step/sec: 333.816\n",
      "INFO:tensorflow:loss = 0.30232453, step = 201 (0.300 sec)\n",
      "INFO:tensorflow:global_step/sec: 319.053\n",
      "INFO:tensorflow:loss = 0.3843647, step = 301 (0.313 sec)\n",
      "INFO:tensorflow:global_step/sec: 344.594\n",
      "INFO:tensorflow:loss = 0.2465452, step = 401 (0.290 sec)\n",
      "INFO:tensorflow:global_step/sec: 329.349\n",
      "INFO:tensorflow:loss = 0.25285038, step = 501 (0.304 sec)\n",
      "INFO:tensorflow:global_step/sec: 328.305\n",
      "INFO:tensorflow:loss = 0.057711825, step = 601 (0.304 sec)\n",
      "INFO:tensorflow:global_step/sec: 360.045\n",
      "INFO:tensorflow:loss = 0.13483708, step = 701 (0.278 sec)\n",
      "INFO:tensorflow:global_step/sec: 326.13\n",
      "INFO:tensorflow:loss = 0.20607388, step = 801 (0.306 sec)\n",
      "INFO:tensorflow:global_step/sec: 366.718\n",
      "INFO:tensorflow:loss = 0.1217669, step = 901 (0.273 sec)\n",
      "INFO:tensorflow:global_step/sec: 324.303\n",
      "INFO:tensorflow:loss = 0.20520294, step = 1001 (0.309 sec)\n",
      "INFO:tensorflow:global_step/sec: 314.852\n",
      "INFO:tensorflow:loss = 0.1889241, step = 1101 (0.317 sec)\n",
      "INFO:tensorflow:global_step/sec: 313.127\n",
      "INFO:tensorflow:loss = 0.1556483, step = 1201 (0.320 sec)\n",
      "INFO:tensorflow:global_step/sec: 304.105\n",
      "INFO:tensorflow:loss = 0.1893055, step = 1301 (0.328 sec)\n",
      "INFO:tensorflow:global_step/sec: 314.962\n",
      "INFO:tensorflow:loss = 0.052770685, step = 1401 (0.317 sec)\n",
      "INFO:tensorflow:global_step/sec: 302.798\n",
      "INFO:tensorflow:loss = 0.10102261, step = 1501 (0.330 sec)\n",
      "INFO:tensorflow:global_step/sec: 298.701\n",
      "INFO:tensorflow:loss = 0.12697154, step = 1601 (0.335 sec)\n",
      "INFO:tensorflow:global_step/sec: 298.468\n",
      "INFO:tensorflow:loss = 0.045101833, step = 1701 (0.335 sec)\n",
      "INFO:tensorflow:global_step/sec: 306.195\n",
      "INFO:tensorflow:loss = 0.11264659, step = 1801 (0.327 sec)\n",
      "INFO:tensorflow:global_step/sec: 292.668\n",
      "INFO:tensorflow:loss = 0.07994472, step = 1901 (0.342 sec)\n",
      "INFO:tensorflow:global_step/sec: 332.45\n",
      "INFO:tensorflow:loss = 0.09465844, step = 2001 (0.301 sec)\n",
      "INFO:tensorflow:global_step/sec: 364.604\n",
      "INFO:tensorflow:loss = 0.028391888, step = 2101 (0.274 sec)\n",
      "INFO:tensorflow:global_step/sec: 306.207\n",
      "INFO:tensorflow:loss = 0.02802588, step = 2201 (0.327 sec)\n",
      "INFO:tensorflow:global_step/sec: 290.797\n",
      "INFO:tensorflow:loss = 0.062123246, step = 2301 (0.344 sec)\n",
      "INFO:tensorflow:global_step/sec: 292.171\n",
      "INFO:tensorflow:loss = 0.048219737, step = 2401 (0.342 sec)\n",
      "INFO:tensorflow:global_step/sec: 302.47\n",
      "INFO:tensorflow:loss = 0.07857223, step = 2501 (0.331 sec)\n",
      "INFO:tensorflow:global_step/sec: 321.853\n",
      "INFO:tensorflow:loss = 0.05476691, step = 2601 (0.311 sec)\n",
      "INFO:tensorflow:global_step/sec: 313.11\n",
      "INFO:tensorflow:loss = 0.02962723, step = 2701 (0.319 sec)\n",
      "INFO:tensorflow:global_step/sec: 304.541\n",
      "INFO:tensorflow:loss = 0.036890034, step = 2801 (0.329 sec)\n",
      "INFO:tensorflow:global_step/sec: 323.425\n",
      "INFO:tensorflow:loss = 0.08883122, step = 2901 (0.309 sec)\n",
      "INFO:tensorflow:global_step/sec: 341.186\n",
      "INFO:tensorflow:loss = 0.017826121, step = 3001 (0.293 sec)\n",
      "INFO:tensorflow:global_step/sec: 338.241\n",
      "INFO:tensorflow:loss = 0.053670123, step = 3101 (0.296 sec)\n",
      "INFO:tensorflow:global_step/sec: 342.716\n",
      "INFO:tensorflow:loss = 0.017340196, step = 3201 (0.292 sec)\n",
      "INFO:tensorflow:global_step/sec: 337.375\n",
      "INFO:tensorflow:loss = 0.020798715, step = 3301 (0.296 sec)\n",
      "INFO:tensorflow:global_step/sec: 335.213\n",
      "INFO:tensorflow:loss = 0.15716536, step = 3401 (0.298 sec)\n",
      "INFO:tensorflow:global_step/sec: 325.642\n",
      "INFO:tensorflow:loss = 0.10498312, step = 3501 (0.307 sec)\n",
      "INFO:tensorflow:global_step/sec: 339.329\n",
      "INFO:tensorflow:loss = 0.13492303, step = 3601 (0.295 sec)\n",
      "INFO:tensorflow:global_step/sec: 362.835\n",
      "INFO:tensorflow:loss = 0.034725722, step = 3701 (0.276 sec)\n",
      "INFO:tensorflow:global_step/sec: 348.008\n",
      "INFO:tensorflow:loss = 0.01710212, step = 3801 (0.287 sec)\n",
      "INFO:tensorflow:global_step/sec: 346.191\n",
      "INFO:tensorflow:loss = 0.06209615, step = 3901 (0.289 sec)\n",
      "INFO:tensorflow:global_step/sec: 373.08\n",
      "INFO:tensorflow:loss = 0.098248236, step = 4001 (0.268 sec)\n",
      "INFO:tensorflow:global_step/sec: 366.189\n",
      "INFO:tensorflow:loss = 0.032399915, step = 4101 (0.273 sec)\n",
      "INFO:tensorflow:global_step/sec: 367.907\n",
      "INFO:tensorflow:loss = 0.04752388, step = 4201 (0.272 sec)\n",
      "INFO:tensorflow:global_step/sec: 341.997\n",
      "INFO:tensorflow:loss = 0.12206125, step = 4301 (0.292 sec)\n",
      "INFO:tensorflow:global_step/sec: 345.405\n",
      "INFO:tensorflow:loss = 0.12803502, step = 4401 (0.290 sec)\n",
      "INFO:tensorflow:global_step/sec: 342.643\n",
      "INFO:tensorflow:loss = 0.029092217, step = 4501 (0.292 sec)\n",
      "INFO:tensorflow:global_step/sec: 353.861\n",
      "INFO:tensorflow:loss = 0.022848956, step = 4601 (0.282 sec)\n",
      "INFO:tensorflow:global_step/sec: 366.562\n",
      "INFO:tensorflow:loss = 0.010633471, step = 4701 (0.273 sec)\n",
      "INFO:tensorflow:global_step/sec: 375.776\n",
      "INFO:tensorflow:loss = 0.027141837, step = 4801 (0.266 sec)\n",
      "INFO:tensorflow:global_step/sec: 358.791\n",
      "INFO:tensorflow:loss = 0.055214234, step = 4901 (0.279 sec)\n",
      "INFO:tensorflow:global_step/sec: 336.546\n",
      "INFO:tensorflow:loss = 0.07177642, step = 5001 (0.297 sec)\n",
      "INFO:tensorflow:global_step/sec: 375.851\n",
      "INFO:tensorflow:loss = 0.01027807, step = 5101 (0.266 sec)\n",
      "INFO:tensorflow:global_step/sec: 367.632\n",
      "INFO:tensorflow:loss = 0.050930858, step = 5201 (0.272 sec)\n",
      "INFO:tensorflow:global_step/sec: 369.839\n",
      "INFO:tensorflow:loss = 0.04095834, step = 5301 (0.270 sec)\n",
      "INFO:tensorflow:global_step/sec: 366.254\n",
      "INFO:tensorflow:loss = 0.026505284, step = 5401 (0.273 sec)\n",
      "INFO:tensorflow:global_step/sec: 359.384\n",
      "INFO:tensorflow:loss = 0.027889464, step = 5501 (0.278 sec)\n",
      "INFO:tensorflow:global_step/sec: 340.392\n",
      "INFO:tensorflow:loss = 0.045929097, step = 5601 (0.294 sec)\n",
      "INFO:tensorflow:global_step/sec: 339.971\n",
      "INFO:tensorflow:loss = 0.012222776, step = 5701 (0.294 sec)\n",
      "INFO:tensorflow:global_step/sec: 339.325\n",
      "INFO:tensorflow:loss = 0.011198256, step = 5801 (0.295 sec)\n",
      "INFO:tensorflow:global_step/sec: 359.064\n",
      "INFO:tensorflow:loss = 0.07159321, step = 5901 (0.278 sec)\n",
      "INFO:tensorflow:global_step/sec: 342.249\n",
      "INFO:tensorflow:loss = 0.07114204, step = 6001 (0.292 sec)\n",
      "INFO:tensorflow:global_step/sec: 340.412\n",
      "INFO:tensorflow:loss = 0.017143128, step = 6101 (0.294 sec)\n",
      "INFO:tensorflow:global_step/sec: 333.26\n",
      "INFO:tensorflow:loss = 0.013912865, step = 6201 (0.300 sec)\n",
      "INFO:tensorflow:global_step/sec: 327.961\n",
      "INFO:tensorflow:loss = 0.04960505, step = 6301 (0.305 sec)\n",
      "INFO:tensorflow:global_step/sec: 332.572\n",
      "INFO:tensorflow:loss = 0.04330255, step = 6401 (0.300 sec)\n",
      "INFO:tensorflow:global_step/sec: 361.801\n",
      "INFO:tensorflow:loss = 0.02054769, step = 6501 (0.277 sec)\n",
      "INFO:tensorflow:global_step/sec: 329.806\n",
      "INFO:tensorflow:loss = 0.009987714, step = 6601 (0.303 sec)\n",
      "INFO:tensorflow:global_step/sec: 314.787\n",
      "INFO:tensorflow:loss = 0.01017098, step = 6701 (0.318 sec)\n",
      "INFO:tensorflow:global_step/sec: 335.79\n",
      "INFO:tensorflow:loss = 0.012509313, step = 6801 (0.298 sec)\n",
      "INFO:tensorflow:global_step/sec: 340.563\n",
      "INFO:tensorflow:loss = 0.007268688, step = 6901 (0.294 sec)\n",
      "INFO:tensorflow:global_step/sec: 365.803\n",
      "INFO:tensorflow:loss = 0.035088155, step = 7001 (0.273 sec)\n",
      "INFO:tensorflow:global_step/sec: 367.83\n"
     ]
    },
    {
     "name": "stdout",
     "output_type": "stream",
     "text": [
      "INFO:tensorflow:loss = 0.00796658, step = 7101 (0.272 sec)\n",
      "INFO:tensorflow:global_step/sec: 366.002\n",
      "INFO:tensorflow:loss = 0.04186182, step = 7201 (0.273 sec)\n",
      "INFO:tensorflow:global_step/sec: 357.272\n",
      "INFO:tensorflow:loss = 0.0062439097, step = 7301 (0.280 sec)\n",
      "INFO:tensorflow:global_step/sec: 372.963\n",
      "INFO:tensorflow:loss = 0.013128574, step = 7401 (0.268 sec)\n",
      "INFO:tensorflow:global_step/sec: 346.429\n",
      "INFO:tensorflow:loss = 0.00646461, step = 7501 (0.289 sec)\n",
      "INFO:tensorflow:global_step/sec: 354.78\n",
      "INFO:tensorflow:loss = 0.02591987, step = 7601 (0.282 sec)\n",
      "INFO:tensorflow:global_step/sec: 369.484\n",
      "INFO:tensorflow:loss = 0.006956603, step = 7701 (0.271 sec)\n",
      "INFO:tensorflow:global_step/sec: 373.876\n",
      "INFO:tensorflow:loss = 0.005558961, step = 7801 (0.267 sec)\n",
      "INFO:tensorflow:global_step/sec: 369.408\n",
      "INFO:tensorflow:loss = 0.023308253, step = 7901 (0.271 sec)\n",
      "INFO:tensorflow:global_step/sec: 364.83\n",
      "INFO:tensorflow:loss = 0.0046272976, step = 8001 (0.274 sec)\n",
      "INFO:tensorflow:global_step/sec: 373.786\n",
      "INFO:tensorflow:loss = 0.015386675, step = 8101 (0.267 sec)\n",
      "INFO:tensorflow:global_step/sec: 372.941\n",
      "INFO:tensorflow:loss = 0.02312139, step = 8201 (0.268 sec)\n",
      "INFO:tensorflow:global_step/sec: 366.643\n",
      "INFO:tensorflow:loss = 0.035773974, step = 8301 (0.273 sec)\n",
      "INFO:tensorflow:global_step/sec: 370.486\n",
      "INFO:tensorflow:loss = 0.0065110493, step = 8401 (0.270 sec)\n",
      "INFO:tensorflow:global_step/sec: 368.058\n",
      "INFO:tensorflow:loss = 0.0071490295, step = 8501 (0.272 sec)\n",
      "INFO:tensorflow:global_step/sec: 338.737\n",
      "INFO:tensorflow:loss = 0.0030992078, step = 8601 (0.296 sec)\n",
      "INFO:tensorflow:global_step/sec: 339.103\n",
      "INFO:tensorflow:loss = 0.0016750514, step = 8701 (0.295 sec)\n",
      "INFO:tensorflow:global_step/sec: 368.891\n",
      "INFO:tensorflow:loss = 0.0068462025, step = 8801 (0.271 sec)\n",
      "INFO:tensorflow:global_step/sec: 350.702\n",
      "INFO:tensorflow:loss = 0.0046710586, step = 8901 (0.285 sec)\n",
      "INFO:tensorflow:global_step/sec: 354.748\n",
      "INFO:tensorflow:loss = 0.003933552, step = 9001 (0.282 sec)\n",
      "INFO:tensorflow:global_step/sec: 328.844\n",
      "INFO:tensorflow:loss = 0.006263554, step = 9101 (0.304 sec)\n",
      "INFO:tensorflow:global_step/sec: 345.579\n",
      "INFO:tensorflow:loss = 0.005336764, step = 9201 (0.289 sec)\n",
      "INFO:tensorflow:global_step/sec: 352.325\n",
      "INFO:tensorflow:loss = 0.012876085, step = 9301 (0.284 sec)\n",
      "INFO:tensorflow:global_step/sec: 358.356\n",
      "INFO:tensorflow:loss = 0.032170374, step = 9401 (0.279 sec)\n",
      "INFO:tensorflow:global_step/sec: 347.765\n",
      "INFO:tensorflow:loss = 0.0045042885, step = 9501 (0.288 sec)\n",
      "INFO:tensorflow:global_step/sec: 326.161\n",
      "INFO:tensorflow:loss = 0.011870853, step = 9601 (0.307 sec)\n",
      "INFO:tensorflow:global_step/sec: 347.901\n",
      "INFO:tensorflow:loss = 0.009934925, step = 9701 (0.287 sec)\n",
      "INFO:tensorflow:global_step/sec: 355.762\n",
      "INFO:tensorflow:loss = 0.004665137, step = 9801 (0.281 sec)\n",
      "INFO:tensorflow:global_step/sec: 348.617\n",
      "INFO:tensorflow:loss = 0.018958913, step = 9901 (0.287 sec)\n",
      "INFO:tensorflow:global_step/sec: 361.818\n",
      "INFO:tensorflow:loss = 0.010865233, step = 10001 (0.276 sec)\n",
      "INFO:tensorflow:global_step/sec: 358.504\n",
      "INFO:tensorflow:loss = 0.0056965966, step = 10101 (0.279 sec)\n",
      "INFO:tensorflow:global_step/sec: 353.635\n",
      "INFO:tensorflow:loss = 0.0056868265, step = 10201 (0.283 sec)\n",
      "INFO:tensorflow:global_step/sec: 347.336\n",
      "INFO:tensorflow:loss = 0.0043616374, step = 10301 (0.288 sec)\n",
      "INFO:tensorflow:global_step/sec: 369.032\n",
      "INFO:tensorflow:loss = 0.0023089554, step = 10401 (0.271 sec)\n",
      "INFO:tensorflow:global_step/sec: 356.949\n",
      "INFO:tensorflow:loss = 0.003506916, step = 10501 (0.281 sec)\n",
      "INFO:tensorflow:global_step/sec: 365.531\n",
      "INFO:tensorflow:loss = 0.014181373, step = 10601 (0.273 sec)\n",
      "INFO:tensorflow:global_step/sec: 371.392\n",
      "INFO:tensorflow:loss = 0.0138598755, step = 10701 (0.269 sec)\n",
      "INFO:tensorflow:global_step/sec: 353.574\n",
      "INFO:tensorflow:loss = 0.0028329797, step = 10801 (0.283 sec)\n",
      "INFO:tensorflow:global_step/sec: 356.808\n",
      "INFO:tensorflow:loss = 0.0016195984, step = 10901 (0.280 sec)\n",
      "INFO:tensorflow:global_step/sec: 376.888\n",
      "INFO:tensorflow:loss = 0.020034824, step = 11001 (0.265 sec)\n",
      "INFO:tensorflow:global_step/sec: 370.099\n",
      "INFO:tensorflow:loss = 0.0038148246, step = 11101 (0.270 sec)\n",
      "INFO:tensorflow:global_step/sec: 339.555\n",
      "INFO:tensorflow:loss = 0.0020945678, step = 11201 (0.295 sec)\n",
      "INFO:tensorflow:global_step/sec: 352.24\n",
      "INFO:tensorflow:loss = 0.004832362, step = 11301 (0.284 sec)\n",
      "INFO:tensorflow:global_step/sec: 358.615\n",
      "INFO:tensorflow:loss = 0.007790842, step = 11401 (0.279 sec)\n",
      "INFO:tensorflow:global_step/sec: 346.493\n",
      "INFO:tensorflow:loss = 0.0143091595, step = 11501 (0.289 sec)\n",
      "INFO:tensorflow:global_step/sec: 342.135\n",
      "INFO:tensorflow:loss = 0.0005896303, step = 11601 (0.292 sec)\n",
      "INFO:tensorflow:global_step/sec: 354.429\n",
      "INFO:tensorflow:loss = 0.0031273144, step = 11701 (0.282 sec)\n",
      "INFO:tensorflow:global_step/sec: 319.67\n",
      "INFO:tensorflow:loss = 0.0002465653, step = 11801 (0.313 sec)\n",
      "INFO:tensorflow:global_step/sec: 339.94\n",
      "INFO:tensorflow:loss = 0.003968912, step = 11901 (0.295 sec)\n",
      "INFO:tensorflow:global_step/sec: 330.725\n",
      "INFO:tensorflow:loss = 0.0002499625, step = 12001 (0.302 sec)\n",
      "INFO:tensorflow:global_step/sec: 320.301\n",
      "INFO:tensorflow:loss = 0.0012033976, step = 12101 (0.312 sec)\n",
      "INFO:tensorflow:global_step/sec: 331.02\n",
      "INFO:tensorflow:loss = 0.003013613, step = 12201 (0.302 sec)\n",
      "INFO:tensorflow:global_step/sec: 354.78\n",
      "INFO:tensorflow:loss = 0.0055158976, step = 12301 (0.282 sec)\n",
      "INFO:tensorflow:global_step/sec: 346.535\n",
      "INFO:tensorflow:loss = 0.0010800586, step = 12401 (0.289 sec)\n",
      "INFO:tensorflow:global_step/sec: 331.883\n",
      "INFO:tensorflow:loss = 0.0028403304, step = 12501 (0.301 sec)\n",
      "INFO:tensorflow:global_step/sec: 345.997\n",
      "INFO:tensorflow:loss = 0.0023963929, step = 12601 (0.289 sec)\n",
      "INFO:tensorflow:global_step/sec: 330.06\n",
      "INFO:tensorflow:loss = 0.0029823584, step = 12701 (0.303 sec)\n",
      "INFO:tensorflow:global_step/sec: 328.242\n",
      "INFO:tensorflow:loss = 0.0058180094, step = 12801 (0.305 sec)\n",
      "INFO:tensorflow:global_step/sec: 315.858\n",
      "INFO:tensorflow:loss = 0.0033566342, step = 12901 (0.317 sec)\n",
      "INFO:tensorflow:global_step/sec: 357.441\n",
      "INFO:tensorflow:loss = 0.0031279319, step = 13001 (0.280 sec)\n",
      "INFO:tensorflow:global_step/sec: 327.42\n",
      "INFO:tensorflow:loss = 0.0016413489, step = 13101 (0.305 sec)\n",
      "INFO:tensorflow:global_step/sec: 344.272\n",
      "INFO:tensorflow:loss = 0.0032246446, step = 13201 (0.290 sec)\n",
      "INFO:tensorflow:global_step/sec: 354.05\n",
      "INFO:tensorflow:loss = 0.005864195, step = 13301 (0.282 sec)\n",
      "INFO:tensorflow:global_step/sec: 336.979\n",
      "INFO:tensorflow:loss = 0.017231178, step = 13401 (0.297 sec)\n",
      "INFO:tensorflow:global_step/sec: 349.635\n",
      "INFO:tensorflow:loss = 0.00552264, step = 13501 (0.287 sec)\n",
      "INFO:tensorflow:global_step/sec: 313.388\n",
      "INFO:tensorflow:loss = 0.004682655, step = 13601 (0.319 sec)\n",
      "INFO:tensorflow:global_step/sec: 363.326\n",
      "INFO:tensorflow:loss = 0.0018241638, step = 13701 (0.275 sec)\n",
      "INFO:tensorflow:global_step/sec: 361.29\n",
      "INFO:tensorflow:loss = 0.0028130182, step = 13801 (0.277 sec)\n",
      "INFO:tensorflow:global_step/sec: 345.793\n",
      "INFO:tensorflow:loss = 0.002665106, step = 13901 (0.289 sec)\n",
      "INFO:tensorflow:global_step/sec: 316.844\n",
      "INFO:tensorflow:loss = 0.002059294, step = 14001 (0.316 sec)\n",
      "INFO:tensorflow:global_step/sec: 326.804\n",
      "INFO:tensorflow:loss = 0.00858798, step = 14101 (0.306 sec)\n",
      "INFO:tensorflow:global_step/sec: 318.214\n",
      "INFO:tensorflow:loss = 0.0049434532, step = 14201 (0.314 sec)\n",
      "INFO:tensorflow:global_step/sec: 336.926\n",
      "INFO:tensorflow:loss = 0.0007590915, step = 14301 (0.297 sec)\n",
      "INFO:tensorflow:global_step/sec: 339.066\n",
      "INFO:tensorflow:loss = 0.00065675675, step = 14401 (0.295 sec)\n",
      "INFO:tensorflow:global_step/sec: 364.002\n",
      "INFO:tensorflow:loss = 0.0010055625, step = 14501 (0.275 sec)\n",
      "INFO:tensorflow:global_step/sec: 320.257\n",
      "INFO:tensorflow:loss = 0.0047169486, step = 14601 (0.313 sec)\n",
      "INFO:tensorflow:global_step/sec: 352.862\n",
      "INFO:tensorflow:loss = 0.00042036525, step = 14701 (0.283 sec)\n",
      "INFO:tensorflow:global_step/sec: 364.412\n",
      "INFO:tensorflow:loss = 0.0007423427, step = 14801 (0.274 sec)\n",
      "INFO:tensorflow:global_step/sec: 349.724\n",
      "INFO:tensorflow:loss = 0.0026629695, step = 14901 (0.286 sec)\n",
      "INFO:tensorflow:global_step/sec: 331.491\n",
      "INFO:tensorflow:loss = 0.000640624, step = 15001 (0.302 sec)\n",
      "INFO:tensorflow:global_step/sec: 352.245\n",
      "INFO:tensorflow:loss = 0.0015119291, step = 15101 (0.284 sec)\n"
     ]
    },
    {
     "name": "stdout",
     "output_type": "stream",
     "text": [
      "INFO:tensorflow:global_step/sec: 365.805\n",
      "INFO:tensorflow:loss = 0.0023779052, step = 15201 (0.273 sec)\n",
      "INFO:tensorflow:global_step/sec: 330.976\n",
      "INFO:tensorflow:loss = 0.0019087527, step = 15301 (0.302 sec)\n",
      "INFO:tensorflow:global_step/sec: 365.464\n",
      "INFO:tensorflow:loss = 0.0032258304, step = 15401 (0.274 sec)\n",
      "INFO:tensorflow:global_step/sec: 374.821\n",
      "INFO:tensorflow:loss = 0.0054714344, step = 15501 (0.267 sec)\n",
      "INFO:tensorflow:global_step/sec: 352.445\n",
      "INFO:tensorflow:loss = 0.002649191, step = 15601 (0.284 sec)\n",
      "INFO:tensorflow:global_step/sec: 356.123\n",
      "INFO:tensorflow:loss = 0.007692176, step = 15701 (0.281 sec)\n",
      "INFO:tensorflow:global_step/sec: 353.25\n",
      "INFO:tensorflow:loss = 0.0018865977, step = 15801 (0.283 sec)\n",
      "INFO:tensorflow:global_step/sec: 360.746\n",
      "INFO:tensorflow:loss = 0.0010239874, step = 15901 (0.277 sec)\n",
      "INFO:tensorflow:global_step/sec: 362.152\n",
      "INFO:tensorflow:loss = 0.0043757143, step = 16001 (0.276 sec)\n",
      "INFO:tensorflow:global_step/sec: 362.899\n",
      "INFO:tensorflow:loss = 0.0035236024, step = 16101 (0.276 sec)\n",
      "INFO:tensorflow:global_step/sec: 368.34\n",
      "INFO:tensorflow:loss = 0.0001733778, step = 16201 (0.271 sec)\n",
      "INFO:tensorflow:global_step/sec: 370.167\n",
      "INFO:tensorflow:loss = 0.0026199124, step = 16301 (0.270 sec)\n",
      "INFO:tensorflow:global_step/sec: 368.216\n",
      "INFO:tensorflow:loss = 0.0014383772, step = 16401 (0.272 sec)\n",
      "INFO:tensorflow:global_step/sec: 375.686\n",
      "INFO:tensorflow:loss = 0.0021706412, step = 16501 (0.266 sec)\n",
      "INFO:tensorflow:global_step/sec: 379.248\n",
      "INFO:tensorflow:loss = 0.0024255968, step = 16601 (0.264 sec)\n",
      "INFO:tensorflow:global_step/sec: 379.994\n",
      "INFO:tensorflow:loss = 0.0028685334, step = 16701 (0.263 sec)\n",
      "INFO:tensorflow:global_step/sec: 370.859\n",
      "INFO:tensorflow:loss = 0.0018468121, step = 16801 (0.270 sec)\n",
      "INFO:tensorflow:global_step/sec: 376.999\n",
      "INFO:tensorflow:loss = 0.003145961, step = 16901 (0.265 sec)\n",
      "INFO:tensorflow:global_step/sec: 370.823\n",
      "INFO:tensorflow:loss = 0.0033145023, step = 17001 (0.270 sec)\n",
      "INFO:tensorflow:global_step/sec: 370.693\n",
      "INFO:tensorflow:loss = 0.0008338216, step = 17101 (0.270 sec)\n",
      "INFO:tensorflow:global_step/sec: 334.352\n",
      "INFO:tensorflow:loss = 0.002646028, step = 17201 (0.299 sec)\n",
      "INFO:tensorflow:global_step/sec: 352.009\n",
      "INFO:tensorflow:loss = 0.0012565063, step = 17301 (0.284 sec)\n",
      "INFO:tensorflow:global_step/sec: 314.522\n",
      "INFO:tensorflow:loss = 0.0011629794, step = 17401 (0.318 sec)\n",
      "INFO:tensorflow:global_step/sec: 328.689\n",
      "INFO:tensorflow:loss = 0.0010655737, step = 17501 (0.304 sec)\n",
      "INFO:tensorflow:global_step/sec: 363.966\n",
      "INFO:tensorflow:loss = 0.00047246457, step = 17601 (0.275 sec)\n",
      "INFO:tensorflow:global_step/sec: 358.925\n",
      "INFO:tensorflow:loss = 0.00041372213, step = 17701 (0.279 sec)\n",
      "INFO:tensorflow:global_step/sec: 351.942\n",
      "INFO:tensorflow:loss = 0.00017657863, step = 17801 (0.284 sec)\n",
      "INFO:tensorflow:global_step/sec: 345.423\n",
      "INFO:tensorflow:loss = 0.0023457797, step = 17901 (0.290 sec)\n",
      "INFO:tensorflow:global_step/sec: 356.841\n",
      "INFO:tensorflow:loss = 0.00035850305, step = 18001 (0.280 sec)\n",
      "INFO:tensorflow:global_step/sec: 353.873\n",
      "INFO:tensorflow:loss = 0.0005059236, step = 18101 (0.283 sec)\n",
      "INFO:tensorflow:global_step/sec: 353.255\n",
      "INFO:tensorflow:loss = 0.003698082, step = 18201 (0.283 sec)\n",
      "INFO:tensorflow:global_step/sec: 341.78\n",
      "INFO:tensorflow:loss = 0.011803469, step = 18301 (0.293 sec)\n",
      "INFO:tensorflow:global_step/sec: 366.963\n",
      "INFO:tensorflow:loss = 0.0024464, step = 18401 (0.272 sec)\n",
      "INFO:tensorflow:global_step/sec: 357.057\n",
      "INFO:tensorflow:loss = 0.00071217254, step = 18501 (0.280 sec)\n",
      "INFO:tensorflow:global_step/sec: 357.514\n",
      "INFO:tensorflow:loss = 0.0019976983, step = 18601 (0.280 sec)\n",
      "INFO:tensorflow:global_step/sec: 368.861\n",
      "INFO:tensorflow:loss = 0.0009892356, step = 18701 (0.271 sec)\n",
      "INFO:tensorflow:global_step/sec: 370.143\n",
      "INFO:tensorflow:loss = 0.0022669868, step = 18801 (0.270 sec)\n",
      "INFO:tensorflow:global_step/sec: 369.586\n",
      "INFO:tensorflow:loss = 0.002744493, step = 18901 (0.271 sec)\n",
      "INFO:tensorflow:global_step/sec: 359.175\n",
      "INFO:tensorflow:loss = 0.00081126235, step = 19001 (0.278 sec)\n",
      "INFO:tensorflow:global_step/sec: 360.658\n",
      "INFO:tensorflow:loss = 0.0006003273, step = 19101 (0.277 sec)\n",
      "INFO:tensorflow:global_step/sec: 362.319\n",
      "INFO:tensorflow:loss = 0.00052838534, step = 19201 (0.276 sec)\n",
      "INFO:tensorflow:global_step/sec: 348.479\n",
      "INFO:tensorflow:loss = 0.0053650443, step = 19301 (0.287 sec)\n",
      "INFO:tensorflow:global_step/sec: 353.72\n",
      "INFO:tensorflow:loss = 0.0006073324, step = 19401 (0.283 sec)\n",
      "INFO:tensorflow:global_step/sec: 329.664\n",
      "INFO:tensorflow:loss = 0.0023983438, step = 19501 (0.303 sec)\n",
      "INFO:tensorflow:global_step/sec: 333.663\n",
      "INFO:tensorflow:loss = 0.000402338, step = 19601 (0.300 sec)\n",
      "INFO:tensorflow:global_step/sec: 318.433\n",
      "INFO:tensorflow:loss = 0.00021367968, step = 19701 (0.314 sec)\n",
      "INFO:tensorflow:global_step/sec: 344.19\n",
      "INFO:tensorflow:loss = 0.00037110236, step = 19801 (0.290 sec)\n",
      "INFO:tensorflow:global_step/sec: 324.693\n",
      "INFO:tensorflow:loss = 0.0012065466, step = 19901 (0.308 sec)\n",
      "INFO:tensorflow:global_step/sec: 333.803\n",
      "INFO:tensorflow:loss = 0.0018315952, step = 20001 (0.300 sec)\n",
      "INFO:tensorflow:global_step/sec: 343.479\n",
      "INFO:tensorflow:loss = 0.00075755926, step = 20101 (0.291 sec)\n",
      "INFO:tensorflow:global_step/sec: 344.897\n",
      "INFO:tensorflow:loss = 0.0020854454, step = 20201 (0.290 sec)\n",
      "INFO:tensorflow:global_step/sec: 340.579\n",
      "INFO:tensorflow:loss = 0.0018601071, step = 20301 (0.294 sec)\n",
      "INFO:tensorflow:global_step/sec: 361.262\n",
      "INFO:tensorflow:loss = 0.000160398, step = 20401 (0.277 sec)\n",
      "INFO:tensorflow:global_step/sec: 345.795\n",
      "INFO:tensorflow:loss = 0.001053246, step = 20501 (0.289 sec)\n",
      "INFO:tensorflow:global_step/sec: 324.052\n",
      "INFO:tensorflow:loss = 0.0013901205, step = 20601 (0.309 sec)\n",
      "INFO:tensorflow:global_step/sec: 319.599\n",
      "INFO:tensorflow:loss = 0.00048317903, step = 20701 (0.313 sec)\n",
      "INFO:tensorflow:global_step/sec: 356.168\n",
      "INFO:tensorflow:loss = 0.0014177182, step = 20801 (0.281 sec)\n",
      "INFO:tensorflow:global_step/sec: 359.277\n",
      "INFO:tensorflow:loss = 0.0009259433, step = 20901 (0.279 sec)\n",
      "INFO:tensorflow:global_step/sec: 339.686\n",
      "INFO:tensorflow:loss = 0.0021394272, step = 21001 (0.295 sec)\n",
      "INFO:tensorflow:global_step/sec: 329.391\n",
      "INFO:tensorflow:loss = 0.0012311322, step = 21101 (0.303 sec)\n",
      "INFO:tensorflow:global_step/sec: 363.33\n",
      "INFO:tensorflow:loss = 0.003491512, step = 21201 (0.275 sec)\n",
      "INFO:tensorflow:global_step/sec: 340.351\n",
      "INFO:tensorflow:loss = 0.0006712431, step = 21301 (0.294 sec)\n",
      "INFO:tensorflow:global_step/sec: 356.678\n",
      "INFO:tensorflow:loss = 0.0016621778, step = 21401 (0.280 sec)\n",
      "INFO:tensorflow:global_step/sec: 338.614\n",
      "INFO:tensorflow:loss = 0.0003891575, step = 21501 (0.295 sec)\n",
      "INFO:tensorflow:global_step/sec: 342.103\n",
      "INFO:tensorflow:loss = 0.00062846544, step = 21601 (0.292 sec)\n",
      "INFO:tensorflow:global_step/sec: 369.799\n",
      "INFO:tensorflow:loss = 0.00130811, step = 21701 (0.270 sec)\n",
      "INFO:tensorflow:global_step/sec: 374.992\n",
      "INFO:tensorflow:loss = 0.00028317812, step = 21801 (0.267 sec)\n",
      "INFO:tensorflow:global_step/sec: 373.55\n",
      "INFO:tensorflow:loss = 0.0007067886, step = 21901 (0.268 sec)\n",
      "INFO:tensorflow:global_step/sec: 372.706\n",
      "INFO:tensorflow:loss = 0.00026817096, step = 22001 (0.268 sec)\n",
      "INFO:tensorflow:global_step/sec: 358.311\n",
      "INFO:tensorflow:loss = 0.00011625792, step = 22101 (0.279 sec)\n",
      "INFO:tensorflow:global_step/sec: 341.75\n",
      "INFO:tensorflow:loss = 0.0012761893, step = 22201 (0.293 sec)\n",
      "INFO:tensorflow:global_step/sec: 362.311\n",
      "INFO:tensorflow:loss = 0.002090406, step = 22301 (0.276 sec)\n",
      "INFO:tensorflow:global_step/sec: 360.319\n",
      "INFO:tensorflow:loss = 0.0015795188, step = 22401 (0.278 sec)\n",
      "INFO:tensorflow:global_step/sec: 357.611\n",
      "INFO:tensorflow:loss = 0.0014474882, step = 22501 (0.280 sec)\n",
      "INFO:tensorflow:global_step/sec: 361.754\n",
      "INFO:tensorflow:loss = 0.0025938607, step = 22601 (0.276 sec)\n",
      "INFO:tensorflow:global_step/sec: 359.157\n",
      "INFO:tensorflow:loss = 0.0011149966, step = 22701 (0.278 sec)\n",
      "INFO:tensorflow:global_step/sec: 365.401\n",
      "INFO:tensorflow:loss = 0.0012839355, step = 22801 (0.274 sec)\n",
      "INFO:tensorflow:global_step/sec: 370.189\n",
      "INFO:tensorflow:loss = 0.0019649833, step = 22901 (0.270 sec)\n",
      "INFO:tensorflow:global_step/sec: 363.012\n",
      "INFO:tensorflow:loss = 0.0007445257, step = 23001 (0.275 sec)\n",
      "INFO:tensorflow:global_step/sec: 358.409\n",
      "INFO:tensorflow:loss = 0.0037182448, step = 23101 (0.279 sec)\n"
     ]
    },
    {
     "name": "stdout",
     "output_type": "stream",
     "text": [
      "INFO:tensorflow:global_step/sec: 361.098\n",
      "INFO:tensorflow:loss = 0.0023469187, step = 23201 (0.277 sec)\n",
      "INFO:tensorflow:global_step/sec: 376.172\n",
      "INFO:tensorflow:loss = 0.0015940508, step = 23301 (0.266 sec)\n",
      "INFO:tensorflow:global_step/sec: 361.789\n",
      "INFO:tensorflow:loss = 0.0008266786, step = 23401 (0.276 sec)\n",
      "INFO:tensorflow:global_step/sec: 376.727\n",
      "INFO:tensorflow:loss = 0.0007012665, step = 23501 (0.265 sec)\n",
      "INFO:tensorflow:global_step/sec: 380.97\n",
      "INFO:tensorflow:loss = 0.0004641424, step = 23601 (0.262 sec)\n",
      "INFO:tensorflow:global_step/sec: 356.407\n",
      "INFO:tensorflow:loss = 0.00023034117, step = 23701 (0.281 sec)\n",
      "INFO:tensorflow:global_step/sec: 372.916\n",
      "INFO:tensorflow:loss = 0.001380448, step = 23801 (0.268 sec)\n",
      "INFO:tensorflow:global_step/sec: 362.935\n",
      "INFO:tensorflow:loss = 0.0013015133, step = 23901 (0.276 sec)\n",
      "INFO:tensorflow:global_step/sec: 374.489\n",
      "INFO:tensorflow:loss = 0.0012848483, step = 24001 (0.267 sec)\n",
      "INFO:tensorflow:global_step/sec: 364.253\n",
      "INFO:tensorflow:loss = 0.00060663844, step = 24101 (0.275 sec)\n",
      "INFO:tensorflow:global_step/sec: 312.43\n",
      "INFO:tensorflow:loss = 0.0014003756, step = 24201 (0.320 sec)\n",
      "INFO:tensorflow:global_step/sec: 358.685\n",
      "INFO:tensorflow:loss = 0.00015652427, step = 24301 (0.279 sec)\n",
      "INFO:tensorflow:global_step/sec: 318.477\n",
      "INFO:tensorflow:loss = 0.0021252208, step = 24401 (0.314 sec)\n",
      "INFO:tensorflow:global_step/sec: 351.617\n",
      "INFO:tensorflow:loss = 0.0010427688, step = 24501 (0.284 sec)\n",
      "INFO:tensorflow:global_step/sec: 360.844\n",
      "INFO:tensorflow:loss = 0.0005650906, step = 24601 (0.277 sec)\n",
      "INFO:tensorflow:global_step/sec: 320.763\n",
      "INFO:tensorflow:loss = 0.000930433, step = 24701 (0.312 sec)\n",
      "INFO:tensorflow:global_step/sec: 353.447\n",
      "INFO:tensorflow:loss = 0.0009064281, step = 24801 (0.283 sec)\n",
      "INFO:tensorflow:global_step/sec: 341.842\n",
      "INFO:tensorflow:loss = 0.0014317543, step = 24901 (0.293 sec)\n",
      "INFO:tensorflow:global_step/sec: 350.968\n",
      "INFO:tensorflow:loss = 0.0004306675, step = 25001 (0.285 sec)\n",
      "INFO:tensorflow:global_step/sec: 360.486\n",
      "INFO:tensorflow:loss = 0.0009074286, step = 25101 (0.277 sec)\n",
      "INFO:tensorflow:global_step/sec: 369.455\n",
      "INFO:tensorflow:loss = 0.001482616, step = 25201 (0.271 sec)\n",
      "INFO:tensorflow:global_step/sec: 364.289\n",
      "INFO:tensorflow:loss = 0.0001346685, step = 25301 (0.275 sec)\n",
      "INFO:tensorflow:global_step/sec: 371.038\n",
      "INFO:tensorflow:loss = 0.0006884866, step = 25401 (0.270 sec)\n",
      "INFO:tensorflow:global_step/sec: 347.901\n",
      "INFO:tensorflow:loss = 0.0009301049, step = 25501 (0.287 sec)\n",
      "INFO:tensorflow:global_step/sec: 349.435\n",
      "INFO:tensorflow:loss = 0.00063775136, step = 25601 (0.287 sec)\n",
      "INFO:tensorflow:global_step/sec: 356.659\n",
      "INFO:tensorflow:loss = 0.00063099456, step = 25701 (0.280 sec)\n",
      "INFO:tensorflow:global_step/sec: 368.902\n",
      "INFO:tensorflow:loss = 0.0010270388, step = 25801 (0.271 sec)\n",
      "INFO:tensorflow:global_step/sec: 369.929\n",
      "INFO:tensorflow:loss = 0.0019845252, step = 25901 (0.270 sec)\n",
      "INFO:tensorflow:global_step/sec: 361.745\n",
      "INFO:tensorflow:loss = 3.7343772e-05, step = 26001 (0.276 sec)\n",
      "INFO:tensorflow:global_step/sec: 337.445\n",
      "INFO:tensorflow:loss = 0.0010206038, step = 26101 (0.296 sec)\n",
      "INFO:tensorflow:global_step/sec: 344.143\n",
      "INFO:tensorflow:loss = 0.0004697312, step = 26201 (0.291 sec)\n",
      "INFO:tensorflow:global_step/sec: 340.694\n",
      "INFO:tensorflow:loss = 0.001258435, step = 26301 (0.293 sec)\n",
      "INFO:tensorflow:global_step/sec: 352.068\n",
      "INFO:tensorflow:loss = 0.0011803405, step = 26401 (0.284 sec)\n",
      "INFO:tensorflow:global_step/sec: 352.495\n",
      "INFO:tensorflow:loss = 0.00087033777, step = 26501 (0.284 sec)\n",
      "INFO:tensorflow:global_step/sec: 334.036\n",
      "INFO:tensorflow:loss = 0.0005444724, step = 26601 (0.299 sec)\n",
      "INFO:tensorflow:global_step/sec: 361.525\n",
      "INFO:tensorflow:loss = 1.742298e-05, step = 26701 (0.277 sec)\n",
      "INFO:tensorflow:global_step/sec: 316\n",
      "INFO:tensorflow:loss = 0.0004864275, step = 26801 (0.317 sec)\n",
      "INFO:tensorflow:global_step/sec: 355.942\n",
      "INFO:tensorflow:loss = 0.00084325863, step = 26901 (0.281 sec)\n",
      "INFO:tensorflow:global_step/sec: 350.899\n",
      "INFO:tensorflow:loss = 0.0006149952, step = 27001 (0.285 sec)\n",
      "INFO:tensorflow:global_step/sec: 338.837\n",
      "INFO:tensorflow:loss = 0.00051854306, step = 27101 (0.295 sec)\n",
      "INFO:tensorflow:global_step/sec: 365.074\n",
      "INFO:tensorflow:loss = 0.00036545293, step = 27201 (0.274 sec)\n",
      "INFO:tensorflow:global_step/sec: 345.787\n",
      "INFO:tensorflow:loss = 0.0007892202, step = 27301 (0.289 sec)\n",
      "INFO:tensorflow:global_step/sec: 327.09\n",
      "INFO:tensorflow:loss = 0.00016262368, step = 27401 (0.306 sec)\n",
      "INFO:tensorflow:global_step/sec: 342.417\n",
      "INFO:tensorflow:loss = 0.0015158863, step = 27501 (0.292 sec)\n",
      "INFO:tensorflow:global_step/sec: 364.579\n",
      "INFO:tensorflow:loss = 0.0014041266, step = 27601 (0.274 sec)\n",
      "INFO:tensorflow:global_step/sec: 358.919\n",
      "INFO:tensorflow:loss = 0.00031597377, step = 27701 (0.279 sec)\n",
      "INFO:tensorflow:global_step/sec: 363.685\n",
      "INFO:tensorflow:loss = 0.0003766036, step = 27801 (0.275 sec)\n",
      "INFO:tensorflow:global_step/sec: 347.131\n",
      "INFO:tensorflow:loss = 0.00047159725, step = 27901 (0.288 sec)\n",
      "INFO:tensorflow:global_step/sec: 345.557\n",
      "INFO:tensorflow:loss = 0.0018462149, step = 28001 (0.289 sec)\n",
      "INFO:tensorflow:global_step/sec: 364.349\n",
      "INFO:tensorflow:loss = 0.0004553327, step = 28101 (0.275 sec)\n",
      "INFO:tensorflow:global_step/sec: 374.987\n",
      "INFO:tensorflow:loss = 0.0005568064, step = 28201 (0.267 sec)\n",
      "INFO:tensorflow:global_step/sec: 376.322\n",
      "INFO:tensorflow:loss = 0.0010058463, step = 28301 (0.266 sec)\n",
      "INFO:tensorflow:global_step/sec: 371.87\n",
      "INFO:tensorflow:loss = 0.00083582307, step = 28401 (0.269 sec)\n",
      "INFO:tensorflow:global_step/sec: 366.118\n",
      "INFO:tensorflow:loss = 0.00012600212, step = 28501 (0.273 sec)\n",
      "INFO:tensorflow:global_step/sec: 368.246\n",
      "INFO:tensorflow:loss = 0.00023551857, step = 28601 (0.272 sec)\n",
      "INFO:tensorflow:global_step/sec: 370.299\n",
      "INFO:tensorflow:loss = 0.0009828699, step = 28701 (0.270 sec)\n",
      "INFO:tensorflow:global_step/sec: 362.795\n",
      "INFO:tensorflow:loss = 0.0010389306, step = 28801 (0.276 sec)\n",
      "INFO:tensorflow:global_step/sec: 354.574\n",
      "INFO:tensorflow:loss = 0.0002611773, step = 28901 (0.282 sec)\n",
      "INFO:tensorflow:global_step/sec: 353.346\n",
      "INFO:tensorflow:loss = 0.0019137287, step = 29001 (0.283 sec)\n",
      "INFO:tensorflow:global_step/sec: 352.348\n",
      "INFO:tensorflow:loss = 0.0016288682, step = 29101 (0.284 sec)\n",
      "INFO:tensorflow:global_step/sec: 340.104\n",
      "INFO:tensorflow:loss = 0.0013022395, step = 29201 (0.294 sec)\n",
      "INFO:tensorflow:global_step/sec: 355.173\n",
      "INFO:tensorflow:loss = 0.0013177724, step = 29301 (0.282 sec)\n",
      "INFO:tensorflow:global_step/sec: 356.996\n",
      "INFO:tensorflow:loss = 0.00083245314, step = 29401 (0.280 sec)\n",
      "INFO:tensorflow:global_step/sec: 356.829\n",
      "INFO:tensorflow:loss = 0.0007902849, step = 29501 (0.280 sec)\n",
      "INFO:tensorflow:global_step/sec: 342.216\n",
      "INFO:tensorflow:loss = 0.0002139931, step = 29601 (0.292 sec)\n",
      "INFO:tensorflow:global_step/sec: 329.321\n",
      "INFO:tensorflow:loss = 0.00014954698, step = 29701 (0.304 sec)\n",
      "INFO:tensorflow:global_step/sec: 339.711\n",
      "INFO:tensorflow:loss = 0.00058919063, step = 29801 (0.294 sec)\n",
      "INFO:tensorflow:global_step/sec: 340.089\n",
      "INFO:tensorflow:loss = 0.00071537145, step = 29901 (0.294 sec)\n",
      "INFO:tensorflow:global_step/sec: 349.482\n",
      "INFO:tensorflow:loss = 5.563516e-05, step = 30001 (0.286 sec)\n",
      "INFO:tensorflow:global_step/sec: 358.993\n",
      "INFO:tensorflow:loss = 0.00078603416, step = 30101 (0.279 sec)\n",
      "INFO:tensorflow:global_step/sec: 356.094\n",
      "INFO:tensorflow:loss = 0.0005396924, step = 30201 (0.281 sec)\n",
      "INFO:tensorflow:global_step/sec: 344.501\n",
      "INFO:tensorflow:loss = 0.0011903204, step = 30301 (0.290 sec)\n",
      "INFO:tensorflow:global_step/sec: 322.067\n",
      "INFO:tensorflow:loss = 0.001241277, step = 30401 (0.311 sec)\n",
      "INFO:tensorflow:global_step/sec: 327.533\n",
      "INFO:tensorflow:loss = 0.00056689465, step = 30501 (0.305 sec)\n",
      "INFO:tensorflow:global_step/sec: 333.626\n",
      "INFO:tensorflow:loss = 0.0009339851, step = 30601 (0.300 sec)\n",
      "INFO:tensorflow:global_step/sec: 338.017\n",
      "INFO:tensorflow:loss = 0.00059398706, step = 30701 (0.296 sec)\n",
      "INFO:tensorflow:global_step/sec: 343.865\n",
      "INFO:tensorflow:loss = 0.0007080063, step = 30801 (0.291 sec)\n",
      "INFO:tensorflow:global_step/sec: 348.103\n",
      "INFO:tensorflow:loss = 0.0012221434, step = 30901 (0.287 sec)\n",
      "INFO:tensorflow:global_step/sec: 334.994\n",
      "INFO:tensorflow:loss = 0.0010047109, step = 31001 (0.299 sec)\n",
      "INFO:tensorflow:global_step/sec: 349.238\n",
      "INFO:tensorflow:loss = 0.0011481646, step = 31101 (0.286 sec)\n"
     ]
    },
    {
     "name": "stdout",
     "output_type": "stream",
     "text": [
      "INFO:tensorflow:global_step/sec: 363.782\n",
      "INFO:tensorflow:loss = 0.00032063923, step = 31201 (0.275 sec)\n",
      "INFO:tensorflow:global_step/sec: 337.713\n",
      "INFO:tensorflow:loss = 0.000689139, step = 31301 (0.296 sec)\n",
      "INFO:tensorflow:global_step/sec: 359.491\n",
      "INFO:tensorflow:loss = 0.0008954214, step = 31401 (0.278 sec)\n",
      "INFO:tensorflow:global_step/sec: 351.395\n",
      "INFO:tensorflow:loss = 0.0005241038, step = 31501 (0.284 sec)\n",
      "INFO:tensorflow:global_step/sec: 336.906\n",
      "INFO:tensorflow:loss = 0.00027110855, step = 31601 (0.297 sec)\n",
      "INFO:tensorflow:global_step/sec: 360.958\n",
      "INFO:tensorflow:loss = 0.00082513987, step = 31701 (0.277 sec)\n",
      "INFO:tensorflow:global_step/sec: 340.036\n",
      "INFO:tensorflow:loss = 0.0003177952, step = 31801 (0.294 sec)\n",
      "INFO:tensorflow:global_step/sec: 335.744\n",
      "INFO:tensorflow:loss = 0.00081833213, step = 31901 (0.298 sec)\n",
      "INFO:tensorflow:global_step/sec: 342.298\n",
      "INFO:tensorflow:loss = 0.00022702658, step = 32001 (0.292 sec)\n",
      "INFO:tensorflow:global_step/sec: 363.745\n",
      "INFO:tensorflow:loss = 0.0002794137, step = 32101 (0.275 sec)\n",
      "INFO:tensorflow:global_step/sec: 364.72\n",
      "INFO:tensorflow:loss = 0.0009516804, step = 32201 (0.274 sec)\n",
      "INFO:tensorflow:global_step/sec: 353.285\n",
      "INFO:tensorflow:loss = 0.00044365638, step = 32301 (0.283 sec)\n",
      "INFO:tensorflow:global_step/sec: 357.912\n",
      "INFO:tensorflow:loss = 0.00014262873, step = 32401 (0.279 sec)\n",
      "INFO:tensorflow:global_step/sec: 358.174\n",
      "INFO:tensorflow:loss = 0.0004998737, step = 32501 (0.279 sec)\n",
      "INFO:tensorflow:global_step/sec: 360.536\n",
      "INFO:tensorflow:loss = 8.2752376e-05, step = 32601 (0.277 sec)\n",
      "INFO:tensorflow:global_step/sec: 364.226\n",
      "INFO:tensorflow:loss = 0.00076055527, step = 32701 (0.275 sec)\n",
      "INFO:tensorflow:global_step/sec: 364.659\n",
      "INFO:tensorflow:loss = 0.0011106769, step = 32801 (0.274 sec)\n",
      "INFO:tensorflow:global_step/sec: 347.626\n",
      "INFO:tensorflow:loss = 0.0004871124, step = 32901 (0.288 sec)\n",
      "INFO:tensorflow:global_step/sec: 347.65\n",
      "INFO:tensorflow:loss = 0.0002838816, step = 33001 (0.287 sec)\n",
      "INFO:tensorflow:global_step/sec: 363.979\n",
      "INFO:tensorflow:loss = 0.0018273043, step = 33101 (0.275 sec)\n",
      "INFO:tensorflow:global_step/sec: 362.787\n",
      "INFO:tensorflow:loss = 0.00058308203, step = 33201 (0.276 sec)\n",
      "INFO:tensorflow:global_step/sec: 370.65\n",
      "INFO:tensorflow:loss = 0.000183983, step = 33301 (0.270 sec)\n",
      "INFO:tensorflow:global_step/sec: 347.502\n",
      "INFO:tensorflow:loss = 0.0010972106, step = 33401 (0.288 sec)\n",
      "INFO:tensorflow:global_step/sec: 356.723\n",
      "INFO:tensorflow:loss = 0.00020236887, step = 33501 (0.280 sec)\n",
      "INFO:tensorflow:global_step/sec: 347.03\n",
      "INFO:tensorflow:loss = 0.0006875055, step = 33601 (0.288 sec)\n",
      "INFO:tensorflow:global_step/sec: 360.978\n",
      "INFO:tensorflow:loss = 0.00079140486, step = 33701 (0.277 sec)\n",
      "INFO:tensorflow:global_step/sec: 330.234\n",
      "INFO:tensorflow:loss = 0.0009193891, step = 33801 (0.303 sec)\n",
      "INFO:tensorflow:global_step/sec: 346.023\n",
      "INFO:tensorflow:loss = 0.0007390678, step = 33901 (0.289 sec)\n",
      "INFO:tensorflow:global_step/sec: 326.619\n",
      "INFO:tensorflow:loss = 0.00083030784, step = 34001 (0.306 sec)\n",
      "INFO:tensorflow:global_step/sec: 347.266\n",
      "INFO:tensorflow:loss = 0.0005401943, step = 34101 (0.288 sec)\n",
      "INFO:tensorflow:global_step/sec: 345.218\n",
      "INFO:tensorflow:loss = 0.0009907879, step = 34201 (0.290 sec)\n",
      "INFO:tensorflow:global_step/sec: 336.572\n",
      "INFO:tensorflow:loss = 0.00026401284, step = 34301 (0.297 sec)\n",
      "INFO:tensorflow:global_step/sec: 329.429\n",
      "INFO:tensorflow:loss = 0.00046879324, step = 34401 (0.304 sec)\n",
      "INFO:tensorflow:global_step/sec: 358.901\n",
      "INFO:tensorflow:loss = 0.0005910067, step = 34501 (0.279 sec)\n",
      "INFO:tensorflow:global_step/sec: 368.693\n",
      "INFO:tensorflow:loss = 0.00045819196, step = 34601 (0.271 sec)\n",
      "INFO:tensorflow:global_step/sec: 370.911\n",
      "INFO:tensorflow:loss = 0.0014817273, step = 34701 (0.270 sec)\n",
      "INFO:tensorflow:global_step/sec: 369.83\n",
      "INFO:tensorflow:loss = 0.0007441308, step = 34801 (0.270 sec)\n",
      "INFO:tensorflow:global_step/sec: 369.98\n",
      "INFO:tensorflow:loss = 0.00029242627, step = 34901 (0.270 sec)\n",
      "INFO:tensorflow:global_step/sec: 366.483\n",
      "INFO:tensorflow:loss = 0.0005074363, step = 35001 (0.273 sec)\n",
      "INFO:tensorflow:global_step/sec: 373.045\n",
      "INFO:tensorflow:loss = 0.0008963897, step = 35101 (0.268 sec)\n",
      "INFO:tensorflow:global_step/sec: 380.263\n",
      "INFO:tensorflow:loss = 0.00021923138, step = 35201 (0.263 sec)\n",
      "INFO:tensorflow:global_step/sec: 380.825\n",
      "INFO:tensorflow:loss = 0.00013486421, step = 35301 (0.263 sec)\n",
      "INFO:tensorflow:global_step/sec: 378.123\n",
      "INFO:tensorflow:loss = 0.0011333715, step = 35401 (0.264 sec)\n",
      "INFO:tensorflow:global_step/sec: 374.793\n",
      "INFO:tensorflow:loss = 0.00019881852, step = 35501 (0.267 sec)\n",
      "INFO:tensorflow:global_step/sec: 377.552\n",
      "INFO:tensorflow:loss = 0.0002311369, step = 35601 (0.265 sec)\n",
      "INFO:tensorflow:global_step/sec: 379.238\n",
      "INFO:tensorflow:loss = 0.00053521193, step = 35701 (0.264 sec)\n",
      "INFO:tensorflow:global_step/sec: 372.427\n",
      "INFO:tensorflow:loss = 0.00067827775, step = 35801 (0.269 sec)\n",
      "INFO:tensorflow:global_step/sec: 376.794\n",
      "INFO:tensorflow:loss = 0.00056244264, step = 35901 (0.265 sec)\n",
      "INFO:tensorflow:global_step/sec: 377.852\n",
      "INFO:tensorflow:loss = 0.0003856359, step = 36001 (0.265 sec)\n",
      "INFO:tensorflow:global_step/sec: 358.607\n",
      "INFO:tensorflow:loss = 0.0012750216, step = 36101 (0.279 sec)\n",
      "INFO:tensorflow:global_step/sec: 368.661\n",
      "INFO:tensorflow:loss = 0.00061239593, step = 36201 (0.271 sec)\n",
      "INFO:tensorflow:global_step/sec: 358.689\n",
      "INFO:tensorflow:loss = 0.00019240536, step = 36301 (0.279 sec)\n",
      "INFO:tensorflow:global_step/sec: 368.166\n",
      "INFO:tensorflow:loss = 0.0008024827, step = 36401 (0.272 sec)\n",
      "INFO:tensorflow:global_step/sec: 352.449\n",
      "INFO:tensorflow:loss = 0.00020022657, step = 36501 (0.284 sec)\n",
      "INFO:tensorflow:global_step/sec: 362.587\n",
      "INFO:tensorflow:loss = 0.00022727784, step = 36601 (0.276 sec)\n",
      "INFO:tensorflow:global_step/sec: 368.891\n",
      "INFO:tensorflow:loss = 0.00040984672, step = 36701 (0.271 sec)\n",
      "INFO:tensorflow:global_step/sec: 364.962\n",
      "INFO:tensorflow:loss = 0.00082277553, step = 36801 (0.274 sec)\n",
      "INFO:tensorflow:global_step/sec: 348.646\n",
      "INFO:tensorflow:loss = 0.0004689403, step = 36901 (0.287 sec)\n",
      "INFO:tensorflow:global_step/sec: 349.773\n",
      "INFO:tensorflow:loss = 0.0007989615, step = 37001 (0.286 sec)\n",
      "INFO:tensorflow:global_step/sec: 354.897\n",
      "INFO:tensorflow:loss = 0.00018081327, step = 37101 (0.282 sec)\n",
      "INFO:tensorflow:global_step/sec: 336.43\n",
      "INFO:tensorflow:loss = 0.00023157557, step = 37201 (0.297 sec)\n",
      "INFO:tensorflow:global_step/sec: 367.374\n",
      "INFO:tensorflow:loss = 0.0005061745, step = 37301 (0.272 sec)\n",
      "INFO:tensorflow:global_step/sec: 372.038\n",
      "INFO:tensorflow:loss = 0.00043440532, step = 37401 (0.269 sec)\n",
      "INFO:tensorflow:global_step/sec: 348.068\n",
      "INFO:tensorflow:loss = 0.0004142742, step = 37501 (0.287 sec)\n",
      "INFO:tensorflow:global_step/sec: 361.174\n",
      "INFO:tensorflow:loss = 0.00019867321, step = 37601 (0.277 sec)\n",
      "INFO:tensorflow:global_step/sec: 354.566\n",
      "INFO:tensorflow:loss = 9.5511015e-05, step = 37701 (0.282 sec)\n",
      "INFO:tensorflow:global_step/sec: 366.225\n",
      "INFO:tensorflow:loss = 0.0005845772, step = 37801 (0.273 sec)\n",
      "INFO:tensorflow:global_step/sec: 355.437\n",
      "INFO:tensorflow:loss = 0.0011542782, step = 37901 (0.281 sec)\n",
      "INFO:tensorflow:global_step/sec: 356.631\n",
      "INFO:tensorflow:loss = 0.00017047496, step = 38001 (0.280 sec)\n",
      "INFO:tensorflow:global_step/sec: 357.136\n",
      "INFO:tensorflow:loss = 0.0010155009, step = 38101 (0.280 sec)\n",
      "INFO:tensorflow:global_step/sec: 369.807\n",
      "INFO:tensorflow:loss = 0.00058974855, step = 38201 (0.270 sec)\n",
      "INFO:tensorflow:global_step/sec: 367.048\n",
      "INFO:tensorflow:loss = 0.00012972976, step = 38301 (0.272 sec)\n",
      "INFO:tensorflow:global_step/sec: 357.97\n",
      "INFO:tensorflow:loss = 0.00019776031, step = 38401 (0.279 sec)\n",
      "INFO:tensorflow:global_step/sec: 377.052\n",
      "INFO:tensorflow:loss = 0.000370056, step = 38501 (0.265 sec)\n",
      "INFO:tensorflow:global_step/sec: 371.749\n",
      "INFO:tensorflow:loss = 0.0007246586, step = 38601 (0.269 sec)\n",
      "INFO:tensorflow:global_step/sec: 378.344\n",
      "INFO:tensorflow:loss = 0.00048867456, step = 38701 (0.264 sec)\n",
      "INFO:tensorflow:global_step/sec: 375.068\n",
      "INFO:tensorflow:loss = 5.0212013e-05, step = 38801 (0.267 sec)\n",
      "INFO:tensorflow:global_step/sec: 373.698\n",
      "INFO:tensorflow:loss = 0.0014442452, step = 38901 (0.268 sec)\n",
      "INFO:tensorflow:global_step/sec: 378.874\n",
      "INFO:tensorflow:loss = 9.685897e-05, step = 39001 (0.264 sec)\n",
      "INFO:tensorflow:global_step/sec: 374.444\n"
     ]
    },
    {
     "name": "stdout",
     "output_type": "stream",
     "text": [
      "INFO:tensorflow:loss = 0.0008412306, step = 39101 (0.267 sec)\n",
      "INFO:tensorflow:global_step/sec: 380.662\n",
      "INFO:tensorflow:loss = 0.00037995476, step = 39201 (0.263 sec)\n",
      "INFO:tensorflow:global_step/sec: 379.681\n",
      "INFO:tensorflow:loss = 0.00019879454, step = 39301 (0.263 sec)\n",
      "INFO:tensorflow:global_step/sec: 381.618\n",
      "INFO:tensorflow:loss = 0.00032485332, step = 39401 (0.262 sec)\n",
      "INFO:tensorflow:global_step/sec: 376.263\n",
      "INFO:tensorflow:loss = 0.00022632975, step = 39501 (0.266 sec)\n",
      "INFO:tensorflow:global_step/sec: 376.323\n",
      "INFO:tensorflow:loss = 0.0003924902, step = 39601 (0.266 sec)\n",
      "INFO:tensorflow:global_step/sec: 378.934\n",
      "INFO:tensorflow:loss = 0.000120283046, step = 39701 (0.264 sec)\n",
      "INFO:tensorflow:global_step/sec: 370.906\n",
      "INFO:tensorflow:loss = 0.0011964233, step = 39801 (0.270 sec)\n",
      "INFO:tensorflow:global_step/sec: 361.539\n",
      "INFO:tensorflow:loss = 0.001347187, step = 39901 (0.277 sec)\n",
      "INFO:tensorflow:Saving checkpoints for 40000 into /var/folders/tz/xqtkbc315fj_whpqzk20bvvr0000gn/T/tmpuxlfkqu0/model.ckpt.\n",
      "INFO:tensorflow:Loss for final step: 0.0003983309.\n"
     ]
    },
    {
     "data": {
      "text/plain": [
       "SKCompat()"
      ]
     },
     "execution_count": 28,
     "metadata": {},
     "output_type": "execute_result"
    }
   ],
   "source": [
    "#simple DNN\n",
    "X_train = mnist.train.images\n",
    "X_test = mnist.test.images\n",
    "y_train = mnist.train.labels.astype(\"int\")\n",
    "y_test = mnist.test.labels.astype(\"int\")\n",
    "config = tf.contrib.learn.RunConfig(tf_random_seed=42) # not shown in the config\n",
    "feature_cols = tf.contrib.learn.infer_real_valued_columns_from_input(X_train)\n",
    "dnn_clf = tf.contrib.learn.DNNClassifier(hidden_units=[300,100], n_classes=10,feature_columns=feature_cols, config=config)\n",
    "dnn_clf = tf.contrib.learn.SKCompat(dnn_clf) # if TensorFlow >= 1.1\n",
    "dnn_clf.fit(X_train, y_train, batch_size=50, steps=40000)"
   ]
  },
  {
   "cell_type": "code",
   "execution_count": 29,
   "metadata": {
    "scrolled": true,
    "slideshow": {
     "slide_type": "subslide"
    }
   },
   "outputs": [
    {
     "name": "stdout",
     "output_type": "stream",
     "text": [
      "0 Train accuracy: 0.99 Test accuracy: 0.9848\n",
      "1 Train accuracy: 0.98 Test accuracy: 0.9839\n",
      "2 Train accuracy: 0.99 Test accuracy: 0.9879\n",
      "3 Train accuracy: 1.0 Test accuracy: 0.9885\n",
      "4 Train accuracy: 1.0 Test accuracy: 0.9872\n",
      "5 Train accuracy: 0.99 Test accuracy: 0.9902\n"
     ]
    },
    {
     "ename": "KeyboardInterrupt",
     "evalue": "",
     "output_type": "error",
     "traceback": [
      "\u001b[0;31m---------------------------------------------------------------------------\u001b[0m",
      "\u001b[0;31mKeyboardInterrupt\u001b[0m                         Traceback (most recent call last)",
      "\u001b[0;32m<ipython-input-29-746b304bcf3b>\u001b[0m in \u001b[0;36m<module>\u001b[0;34m\u001b[0m\n\u001b[1;32m      7\u001b[0m         \u001b[0;32mfor\u001b[0m \u001b[0miteration\u001b[0m \u001b[0;32min\u001b[0m \u001b[0mrange\u001b[0m\u001b[0;34m(\u001b[0m\u001b[0mmnist\u001b[0m\u001b[0;34m.\u001b[0m\u001b[0mtrain\u001b[0m\u001b[0;34m.\u001b[0m\u001b[0mnum_examples\u001b[0m \u001b[0;34m//\u001b[0m \u001b[0mbatch_size\u001b[0m\u001b[0;34m)\u001b[0m\u001b[0;34m:\u001b[0m\u001b[0;34m\u001b[0m\u001b[0;34m\u001b[0m\u001b[0m\n\u001b[1;32m      8\u001b[0m             \u001b[0mX_batch\u001b[0m\u001b[0;34m,\u001b[0m \u001b[0my_batch\u001b[0m \u001b[0;34m=\u001b[0m \u001b[0mmnist\u001b[0m\u001b[0;34m.\u001b[0m\u001b[0mtrain\u001b[0m\u001b[0;34m.\u001b[0m\u001b[0mnext_batch\u001b[0m\u001b[0;34m(\u001b[0m\u001b[0mbatch_size\u001b[0m\u001b[0;34m)\u001b[0m\u001b[0;34m\u001b[0m\u001b[0;34m\u001b[0m\u001b[0m\n\u001b[0;32m----> 9\u001b[0;31m             \u001b[0msess\u001b[0m\u001b[0;34m.\u001b[0m\u001b[0mrun\u001b[0m\u001b[0;34m(\u001b[0m\u001b[0mtraining_op\u001b[0m\u001b[0;34m,\u001b[0m \u001b[0mfeed_dict\u001b[0m\u001b[0;34m=\u001b[0m\u001b[0;34m{\u001b[0m\u001b[0mX\u001b[0m\u001b[0;34m:\u001b[0m \u001b[0mX_batch\u001b[0m\u001b[0;34m,\u001b[0m \u001b[0my\u001b[0m\u001b[0;34m:\u001b[0m \u001b[0my_batch\u001b[0m\u001b[0;34m}\u001b[0m\u001b[0;34m)\u001b[0m\u001b[0;34m\u001b[0m\u001b[0;34m\u001b[0m\u001b[0m\n\u001b[0m\u001b[1;32m     10\u001b[0m \u001b[0;34m\u001b[0m\u001b[0m\n\u001b[1;32m     11\u001b[0m         \u001b[0;31m#pass through the training data through the network (optimisation performed)\u001b[0m\u001b[0;34m\u001b[0m\u001b[0;34m\u001b[0m\u001b[0;34m\u001b[0m\u001b[0m\n",
      "\u001b[0;32m~/opt/anaconda3/envs/MLBDenv/lib/python3.7/site-packages/tensorflow/python/client/session.py\u001b[0m in \u001b[0;36mrun\u001b[0;34m(self, fetches, feed_dict, options, run_metadata)\u001b[0m\n\u001b[1;32m    948\u001b[0m     \u001b[0;32mtry\u001b[0m\u001b[0;34m:\u001b[0m\u001b[0;34m\u001b[0m\u001b[0;34m\u001b[0m\u001b[0m\n\u001b[1;32m    949\u001b[0m       result = self._run(None, fetches, feed_dict, options_ptr,\n\u001b[0;32m--> 950\u001b[0;31m                          run_metadata_ptr)\n\u001b[0m\u001b[1;32m    951\u001b[0m       \u001b[0;32mif\u001b[0m \u001b[0mrun_metadata\u001b[0m\u001b[0;34m:\u001b[0m\u001b[0;34m\u001b[0m\u001b[0;34m\u001b[0m\u001b[0m\n\u001b[1;32m    952\u001b[0m         \u001b[0mproto_data\u001b[0m \u001b[0;34m=\u001b[0m \u001b[0mtf_session\u001b[0m\u001b[0;34m.\u001b[0m\u001b[0mTF_GetBuffer\u001b[0m\u001b[0;34m(\u001b[0m\u001b[0mrun_metadata_ptr\u001b[0m\u001b[0;34m)\u001b[0m\u001b[0;34m\u001b[0m\u001b[0;34m\u001b[0m\u001b[0m\n",
      "\u001b[0;32m~/opt/anaconda3/envs/MLBDenv/lib/python3.7/site-packages/tensorflow/python/client/session.py\u001b[0m in \u001b[0;36m_run\u001b[0;34m(self, handle, fetches, feed_dict, options, run_metadata)\u001b[0m\n\u001b[1;32m   1171\u001b[0m     \u001b[0;32mif\u001b[0m \u001b[0mfinal_fetches\u001b[0m \u001b[0;32mor\u001b[0m \u001b[0mfinal_targets\u001b[0m \u001b[0;32mor\u001b[0m \u001b[0;34m(\u001b[0m\u001b[0mhandle\u001b[0m \u001b[0;32mand\u001b[0m \u001b[0mfeed_dict_tensor\u001b[0m\u001b[0;34m)\u001b[0m\u001b[0;34m:\u001b[0m\u001b[0;34m\u001b[0m\u001b[0;34m\u001b[0m\u001b[0m\n\u001b[1;32m   1172\u001b[0m       results = self._do_run(handle, final_targets, final_fetches,\n\u001b[0;32m-> 1173\u001b[0;31m                              feed_dict_tensor, options, run_metadata)\n\u001b[0m\u001b[1;32m   1174\u001b[0m     \u001b[0;32melse\u001b[0m\u001b[0;34m:\u001b[0m\u001b[0;34m\u001b[0m\u001b[0;34m\u001b[0m\u001b[0m\n\u001b[1;32m   1175\u001b[0m       \u001b[0mresults\u001b[0m \u001b[0;34m=\u001b[0m \u001b[0;34m[\u001b[0m\u001b[0;34m]\u001b[0m\u001b[0;34m\u001b[0m\u001b[0;34m\u001b[0m\u001b[0m\n",
      "\u001b[0;32m~/opt/anaconda3/envs/MLBDenv/lib/python3.7/site-packages/tensorflow/python/client/session.py\u001b[0m in \u001b[0;36m_do_run\u001b[0;34m(self, handle, target_list, fetch_list, feed_dict, options, run_metadata)\u001b[0m\n\u001b[1;32m   1348\u001b[0m     \u001b[0;32mif\u001b[0m \u001b[0mhandle\u001b[0m \u001b[0;32mis\u001b[0m \u001b[0;32mNone\u001b[0m\u001b[0;34m:\u001b[0m\u001b[0;34m\u001b[0m\u001b[0;34m\u001b[0m\u001b[0m\n\u001b[1;32m   1349\u001b[0m       return self._do_call(_run_fn, feeds, fetches, targets, options,\n\u001b[0;32m-> 1350\u001b[0;31m                            run_metadata)\n\u001b[0m\u001b[1;32m   1351\u001b[0m     \u001b[0;32melse\u001b[0m\u001b[0;34m:\u001b[0m\u001b[0;34m\u001b[0m\u001b[0;34m\u001b[0m\u001b[0m\n\u001b[1;32m   1352\u001b[0m       \u001b[0;32mreturn\u001b[0m \u001b[0mself\u001b[0m\u001b[0;34m.\u001b[0m\u001b[0m_do_call\u001b[0m\u001b[0;34m(\u001b[0m\u001b[0m_prun_fn\u001b[0m\u001b[0;34m,\u001b[0m \u001b[0mhandle\u001b[0m\u001b[0;34m,\u001b[0m \u001b[0mfeeds\u001b[0m\u001b[0;34m,\u001b[0m \u001b[0mfetches\u001b[0m\u001b[0;34m)\u001b[0m\u001b[0;34m\u001b[0m\u001b[0;34m\u001b[0m\u001b[0m\n",
      "\u001b[0;32m~/opt/anaconda3/envs/MLBDenv/lib/python3.7/site-packages/tensorflow/python/client/session.py\u001b[0m in \u001b[0;36m_do_call\u001b[0;34m(self, fn, *args)\u001b[0m\n\u001b[1;32m   1354\u001b[0m   \u001b[0;32mdef\u001b[0m \u001b[0m_do_call\u001b[0m\u001b[0;34m(\u001b[0m\u001b[0mself\u001b[0m\u001b[0;34m,\u001b[0m \u001b[0mfn\u001b[0m\u001b[0;34m,\u001b[0m \u001b[0;34m*\u001b[0m\u001b[0margs\u001b[0m\u001b[0;34m)\u001b[0m\u001b[0;34m:\u001b[0m\u001b[0;34m\u001b[0m\u001b[0;34m\u001b[0m\u001b[0m\n\u001b[1;32m   1355\u001b[0m     \u001b[0;32mtry\u001b[0m\u001b[0;34m:\u001b[0m\u001b[0;34m\u001b[0m\u001b[0;34m\u001b[0m\u001b[0m\n\u001b[0;32m-> 1356\u001b[0;31m       \u001b[0;32mreturn\u001b[0m \u001b[0mfn\u001b[0m\u001b[0;34m(\u001b[0m\u001b[0;34m*\u001b[0m\u001b[0margs\u001b[0m\u001b[0;34m)\u001b[0m\u001b[0;34m\u001b[0m\u001b[0;34m\u001b[0m\u001b[0m\n\u001b[0m\u001b[1;32m   1357\u001b[0m     \u001b[0;32mexcept\u001b[0m \u001b[0merrors\u001b[0m\u001b[0;34m.\u001b[0m\u001b[0mOpError\u001b[0m \u001b[0;32mas\u001b[0m \u001b[0me\u001b[0m\u001b[0;34m:\u001b[0m\u001b[0;34m\u001b[0m\u001b[0;34m\u001b[0m\u001b[0m\n\u001b[1;32m   1358\u001b[0m       \u001b[0mmessage\u001b[0m \u001b[0;34m=\u001b[0m \u001b[0mcompat\u001b[0m\u001b[0;34m.\u001b[0m\u001b[0mas_text\u001b[0m\u001b[0;34m(\u001b[0m\u001b[0me\u001b[0m\u001b[0;34m.\u001b[0m\u001b[0mmessage\u001b[0m\u001b[0;34m)\u001b[0m\u001b[0;34m\u001b[0m\u001b[0;34m\u001b[0m\u001b[0m\n",
      "\u001b[0;32m~/opt/anaconda3/envs/MLBDenv/lib/python3.7/site-packages/tensorflow/python/client/session.py\u001b[0m in \u001b[0;36m_run_fn\u001b[0;34m(feed_dict, fetch_list, target_list, options, run_metadata)\u001b[0m\n\u001b[1;32m   1339\u001b[0m       \u001b[0mself\u001b[0m\u001b[0;34m.\u001b[0m\u001b[0m_extend_graph\u001b[0m\u001b[0;34m(\u001b[0m\u001b[0;34m)\u001b[0m\u001b[0;34m\u001b[0m\u001b[0;34m\u001b[0m\u001b[0m\n\u001b[1;32m   1340\u001b[0m       return self._call_tf_sessionrun(\n\u001b[0;32m-> 1341\u001b[0;31m           options, feed_dict, fetch_list, target_list, run_metadata)\n\u001b[0m\u001b[1;32m   1342\u001b[0m \u001b[0;34m\u001b[0m\u001b[0m\n\u001b[1;32m   1343\u001b[0m     \u001b[0;32mdef\u001b[0m \u001b[0m_prun_fn\u001b[0m\u001b[0;34m(\u001b[0m\u001b[0mhandle\u001b[0m\u001b[0;34m,\u001b[0m \u001b[0mfeed_dict\u001b[0m\u001b[0;34m,\u001b[0m \u001b[0mfetch_list\u001b[0m\u001b[0;34m)\u001b[0m\u001b[0;34m:\u001b[0m\u001b[0;34m\u001b[0m\u001b[0;34m\u001b[0m\u001b[0m\n",
      "\u001b[0;32m~/opt/anaconda3/envs/MLBDenv/lib/python3.7/site-packages/tensorflow/python/client/session.py\u001b[0m in \u001b[0;36m_call_tf_sessionrun\u001b[0;34m(self, options, feed_dict, fetch_list, target_list, run_metadata)\u001b[0m\n\u001b[1;32m   1427\u001b[0m     return tf_session.TF_SessionRun_wrapper(\n\u001b[1;32m   1428\u001b[0m         \u001b[0mself\u001b[0m\u001b[0;34m.\u001b[0m\u001b[0m_session\u001b[0m\u001b[0;34m,\u001b[0m \u001b[0moptions\u001b[0m\u001b[0;34m,\u001b[0m \u001b[0mfeed_dict\u001b[0m\u001b[0;34m,\u001b[0m \u001b[0mfetch_list\u001b[0m\u001b[0;34m,\u001b[0m \u001b[0mtarget_list\u001b[0m\u001b[0;34m,\u001b[0m\u001b[0;34m\u001b[0m\u001b[0;34m\u001b[0m\u001b[0m\n\u001b[0;32m-> 1429\u001b[0;31m         run_metadata)\n\u001b[0m\u001b[1;32m   1430\u001b[0m \u001b[0;34m\u001b[0m\u001b[0m\n\u001b[1;32m   1431\u001b[0m   \u001b[0;32mdef\u001b[0m \u001b[0m_call_tf_sessionprun\u001b[0m\u001b[0;34m(\u001b[0m\u001b[0mself\u001b[0m\u001b[0;34m,\u001b[0m \u001b[0mhandle\u001b[0m\u001b[0;34m,\u001b[0m \u001b[0mfeed_dict\u001b[0m\u001b[0;34m,\u001b[0m \u001b[0mfetch_list\u001b[0m\u001b[0;34m)\u001b[0m\u001b[0;34m:\u001b[0m\u001b[0;34m\u001b[0m\u001b[0;34m\u001b[0m\u001b[0m\n",
      "\u001b[0;31mKeyboardInterrupt\u001b[0m: "
     ]
    }
   ],
   "source": [
    "n_epochs = 10\n",
    "batch_size = 100\n",
    "\n",
    "with tf.Session() as sess:\n",
    "    init.run() #initalise \n",
    "    for epoch in range(n_epochs): #loop over epochs\n",
    "        for iteration in range(mnist.train.num_examples // batch_size):\n",
    "            X_batch, y_batch = mnist.train.next_batch(batch_size)\n",
    "            sess.run(training_op, feed_dict={X: X_batch, y: y_batch})\n",
    "        \n",
    "        #pass through the training data through the network (optimisation performed)\n",
    "        acc_train = accuracy.eval(feed_dict={X: X_batch, y: y_batch})\n",
    "        #then pass training data through the same network \n",
    "        acc_test = accuracy.eval(feed_dict={X: mnist.test.images, y: mnist.test.labels})\n",
    "        print(epoch, \"Train accuracy:\", acc_train, \"Test accuracy:\", acc_test)\n",
    "\n",
    "        save_path = saver.save(sess, \"./my_mnist_model\")"
   ]
  },
  {
   "cell_type": "markdown",
   "metadata": {
    "collapsed": true,
    "slideshow": {
     "slide_type": "slide"
    },
    "tags": [
     "exercise"
    ]
   },
   "source": [
    "#### No Exercise! But encouraged to look at examples closely \n",
    "\n",
    "* 1) Understand the MNIST example above, annotate this yourself and attempt to run it (note it will take some time)  \n",
    "* 2) Attempt to draw (by hand, or otherwise the CNN architecture) - will not be marked \n",
    "* 3) What could you do if you encounter memory problems with this network?\n",
    "* 4) Look at the example below, and comment on the differences"
   ]
  },
  {
   "cell_type": "code",
   "execution_count": null,
   "metadata": {
    "slideshow": {
     "slide_type": "subslide"
    }
   },
   "outputs": [],
   "source": [
    "def cnn_model_fn(features, labels, mode):\n",
    "    \"\"\"Model function for CNN.\"\"\"\n",
    "    # Input Layer\n",
    "    input_layer = tf.reshape(features[\"x\"], [-1, 28, 28, 1])\n",
    "\n",
    "    # Convolutional Layer #1\n",
    "    conv1 = tf.layers.conv2d(\n",
    "      inputs=input_layer,\n",
    "      filters=32,\n",
    "      kernel_size=[5, 5],\n",
    "      padding=\"same\",\n",
    "      activation=tf.nn.relu)\n",
    "\n",
    "    # Pooling Layer #1\n",
    "    pool1 = tf.layers.max_pooling2d(inputs=conv1, pool_size=[2, 2], strides=2)\n",
    "\n",
    "    # Convolutional Layer #2 and Pooling Layer #2\n",
    "    conv2 = tf.layers.conv2d(\n",
    "      inputs=pool1,\n",
    "      filters=64,\n",
    "      kernel_size=[5, 5],\n",
    "      padding=\"same\",\n",
    "      activation=tf.nn.relu)\n",
    "    pool2 = tf.layers.max_pooling2d(inputs=conv2, pool_size=[2, 2], strides=2)\n",
    "\n",
    "    # Dense Layer\n",
    "    pool2_flat = tf.reshape(pool2, [-1, 7 * 7 * 64])\n",
    "    dense = tf.layers.dense(inputs=pool2_flat, units=1024, activation=tf.nn.relu)\n",
    "    dropout = tf.layers.dropout(\n",
    "      inputs=dense, rate=0.4, training=mode == tf.estimator.ModeKeys.TRAIN)\n",
    "\n",
    "    # Logits Layer\n",
    "    logits = tf.layers.dense(inputs=dropout, units=10)\n",
    "\n",
    "    predictions = {\n",
    "      # Generate predictions (for PREDICT and EVAL mode)\n",
    "      \"classes\": tf.argmax(input=logits, axis=1),\n",
    "      # Add `softmax_tensor` to the graph. It is used for PREDICT and by the\n",
    "      # `logging_hook`.\n",
    "      \"probabilities\": tf.nn.softmax(logits, name=\"softmax_tensor\")\n",
    "    }\n",
    "\n",
    "    if mode == tf.estimator.ModeKeys.PREDICT:\n",
    "    return tf.estimator.EstimatorSpec(mode=mode, predictions=predictions)\n",
    "\n",
    "    # Calculate Loss (for both TRAIN and EVAL modes)\n",
    "    loss = tf.losses.sparse_softmax_cross_entropy(labels=labels, logits=logits)\n",
    "\n",
    "    # Configure the Training Op (for TRAIN mode)\n",
    "    if mode == tf.estimator.ModeKeys.TRAIN:\n",
    "    optimizer = tf.train.GradientDescentOptimizer(learning_rate=0.001)\n",
    "    train_op = optimizer.minimize(\n",
    "        loss=loss,\n",
    "        global_step=tf.train.get_global_step())\n",
    "    return tf.estimator.EstimatorSpec(mode=mode, loss=loss, train_op=train_op)\n",
    "\n",
    "    # Add evaluation metrics (for EVAL mode)\n",
    "    eval_metric_ops = {\n",
    "      \"accuracy\": tf.metrics.accuracy(\n",
    "          labels=labels, predictions=predictions[\"classes\"])}\n",
    "    return tf.estimator.EstimatorSpec(\n",
    "      mode=mode, loss=loss, eval_metric_ops=eval_metric_ops)"
   ]
  },
  {
   "cell_type": "code",
   "execution_count": null,
   "metadata": {},
   "outputs": [],
   "source": [
    "# Load training and eval data\n",
    "mnist = tf.contrib.learn.datasets.load_dataset(\"mnist\")\n",
    "train_data = mnist.train.images # Returns np.array\n",
    "train_labels = np.asarray(mnist.train.labels, dtype=np.int32)\n",
    "eval_data = mnist.test.images # Returns np.array\n",
    "eval_labels = np.asarray(mnist.test.labels, dtype=np.int32)"
   ]
  },
  {
   "cell_type": "code",
   "execution_count": null,
   "metadata": {},
   "outputs": [],
   "source": [
    "# Create the Estimator\n",
    "mnist_classifier = tf.estimator.Estimator(model_fn=cnn_model_fn, model_dir=\"/tmp/mnist_convnet_model\")"
   ]
  },
  {
   "cell_type": "code",
   "execution_count": null,
   "metadata": {},
   "outputs": [],
   "source": [
    "# Set up logging for predictions\n",
    "tensors_to_log = {\"probabilities\": \"softmax_tensor\"}\n",
    "logging_hook = tf.train.LoggingTensorHook(\n",
    "tensors=tensors_to_log, every_n_iter=50)"
   ]
  },
  {
   "cell_type": "code",
   "execution_count": null,
   "metadata": {},
   "outputs": [],
   "source": [
    "# Train the model\n",
    "train_input_fn = tf.estimator.inputs.numpy_input_fn(\n",
    "    x={\"x\": train_data},\n",
    "    y=train_labels,\n",
    "    batch_size=100,\n",
    "    num_epochs=None,\n",
    "    shuffle=True)\n",
    "mnist_classifier.train(\n",
    "    input_fn=train_input_fn,\n",
    "    steps=20000,\n",
    "    hooks=[logging_hook])"
   ]
  },
  {
   "cell_type": "code",
   "execution_count": null,
   "metadata": {},
   "outputs": [],
   "source": [
    "# Evaluate the model and print results\n",
    "eval_input_fn = tf.estimator.inputs.numpy_input_fn(\n",
    "    x={\"x\": eval_data},\n",
    "    y=eval_labels,\n",
    "    num_epochs=1,\n",
    "    shuffle=False)\n",
    "eval_results = mnist_classifier.evaluate(input_fn=eval_input_fn)\n",
    "print(eval_results)"
   ]
  }
 ],
 "metadata": {
  "celltoolbar": "Slideshow",
  "kernelspec": {
   "display_name": "MLBDenv",
   "language": "python",
   "name": "mlbdenv"
  },
  "language_info": {
   "codemirror_mode": {
    "name": "ipython",
    "version": 3
   },
   "file_extension": ".py",
   "mimetype": "text/x-python",
   "name": "python",
   "nbconvert_exporter": "python",
   "pygments_lexer": "ipython3",
   "version": "3.7.6"
  }
 },
 "nbformat": 4,
 "nbformat_minor": 2
}
