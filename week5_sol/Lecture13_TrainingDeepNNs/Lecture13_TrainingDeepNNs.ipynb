{
 "cells": [
  {
   "cell_type": "markdown",
   "metadata": {
    "Collapsed": "false",
    "slideshow": {
     "slide_type": "slide"
    }
   },
   "source": [
    " # Lecture 13: Training deep neural networks"
   ]
  },
  {
   "cell_type": "code",
   "execution_count": 2,
   "metadata": {
    "Collapsed": "false",
    "slideshow": {
     "slide_type": "skip"
    }
   },
   "outputs": [
    {
     "name": "stdout",
     "output_type": "stream",
     "text": [
      "Version: 2020-03-21 19:04:51\n"
     ]
    }
   ],
   "source": [
    "import datetime\n",
    "now = datetime.datetime.now()\n",
    "print(\"Version: \" + now.strftime(\"%Y-%m-%d %H:%M:%S\"))"
   ]
  },
  {
   "cell_type": "code",
   "execution_count": 3,
   "metadata": {
    "Collapsed": "false",
    "slideshow": {
     "slide_type": "subslide"
    }
   },
   "outputs": [],
   "source": [
    "# To support both python 2 and python 3\n",
    "from __future__ import division, print_function, unicode_literals\n",
    "\n",
    "# Common imports\n",
    "import numpy as np\n",
    "import os\n",
    "\n",
    "# to make this notebook's output stable across runs\n",
    "def reset_graph(seed=42):\n",
    "    tf.reset_default_graph()\n",
    "    tf.set_random_seed(seed)\n",
    "    np.random.seed(seed)\n",
    "\n",
    "# To plot pretty figures\n",
    "%matplotlib inline\n",
    "import matplotlib\n",
    "import matplotlib.pyplot as plt\n",
    "plt.rcParams['axes.labelsize'] = 14\n",
    "plt.rcParams['xtick.labelsize'] = 12\n",
    "plt.rcParams['ytick.labelsize'] = 12"
   ]
  },
  {
   "cell_type": "markdown",
   "metadata": {
    "Collapsed": "false",
    "slideshow": {
     "slide_type": "slide"
    }
   },
   "source": [
    "# Vanishing and exploding gradients"
   ]
  },
  {
   "cell_type": "markdown",
   "metadata": {
    "Collapsed": "false"
   },
   "source": [
    "Training typically relies on gradients.\n",
    "\n",
    "*Vanishing gradients problem*: For deep networks, gradients in lower layers can become very small.  Hence, corresponding weights are not updated during training.\n",
    "\n",
    "*Exploding gradients problem*: In some situations (typically recurrent neural networks) gradients can become very large.  Hence, weight updates are very large and the training algorithm may not converge.\n",
    "\n",
    "In general deep neural networks can suffer from *unstable gradients*."
   ]
  },
  {
   "cell_type": "markdown",
   "metadata": {
    "Collapsed": "false",
    "slideshow": {
     "slide_type": "subslide"
    }
   },
   "source": [
    "## Problematic activation functions\n",
    "\n",
    "One common cause of vanishing gradients in the past was the use of the sigmoid activation function (and unit Gaussian initialisation)."
   ]
  },
  {
   "cell_type": "code",
   "execution_count": 4,
   "metadata": {
    "Collapsed": "false"
   },
   "outputs": [],
   "source": [
    "def logit(z):\n",
    "    return 1 / (1 + np.exp(-z))"
   ]
  },
  {
   "cell_type": "code",
   "execution_count": 5,
   "metadata": {
    "Collapsed": "false",
    "slideshow": {
     "slide_type": "subslide"
    }
   },
   "outputs": [
    {
     "data": {
      "text/plain": [
       "[-5, 5, -0.2, 1.2]"
      ]
     },
     "execution_count": 5,
     "metadata": {},
     "output_type": "execute_result"
    },
    {
     "data": {
      "image/png": "[encoded data removed]",
      "text/plain": [
       "<Figure size 576x288 with 1 Axes>"
      ]
     },
     "metadata": {
      "needs_background": "light"
     },
     "output_type": "display_data"
    }
   ],
   "source": [
    "z = np.linspace(-5, 5, 200)\n",
    " \n",
    "plt.figure(figsize=(8,4))\n",
    "plt.plot([-5, 5], [0, 0], 'k-')\n",
    "plt.plot([-5, 5], [1, 1], 'k--')\n",
    "plt.plot([0, 0], [-0.2, 1.2], 'k-')\n",
    "plt.plot([-5, 5], [-3/4, 7/4], 'g--')\n",
    "plt.plot(z, logit(z), \"b-\", linewidth=2)\n",
    "props = dict(facecolor='black', shrink=0.1)\n",
    "plt.annotate('Saturating', xytext=(3.5, 0.7), xy=(5, 1), arrowprops=props, fontsize=14, ha=\"center\")\n",
    "plt.annotate('Saturating', xytext=(-3.5, 0.3), xy=(-5, 0), arrowprops=props, fontsize=14, ha=\"center\")\n",
    "plt.annotate('Linear', xytext=(2, 0.2), xy=(0, 0.5), arrowprops=props, fontsize=14, ha=\"center\")\n",
    "plt.grid(True)\n",
    "plt.title(\"Sigmoid activation function\", fontsize=14)\n",
    "plt.axis([-5, 5, -0.2, 1.2])"
   ]
  },
  {
   "cell_type": "markdown",
   "metadata": {
    "Collapsed": "false"
   },
   "source": [
    "Variance of outputs grows at each layer.  Final layers essentially saturate.  Gradients on final layers then very small and when propagate gradients back with back-propagation then get vanishing gradients."
   ]
  },
  {
   "cell_type": "markdown",
   "metadata": {
    "Collapsed": "false",
    "slideshow": {
     "slide_type": "subslide"
    }
   },
   "source": [
    "## Weight initialisation"
   ]
  },
  {
   "cell_type": "markdown",
   "metadata": {
    "Collapsed": "false"
   },
   "source": [
    "To avoid this problem need signals and gradents to *not* decay as propagating through network.\n",
    "\n",
    "Avoid decaying signals/gradients by promoting equal variance at outputs and inputs of layer."
   ]
  },
  {
   "cell_type": "markdown",
   "metadata": {
    "Collapsed": "false",
    "slideshow": {
     "slide_type": "subslide"
    }
   },
   "source": [
    "Can be promoted by random initialisation of weights to follow Gaussian with standard deviation:\n",
    "$$\n",
    "\\begin{eqnarray}\n",
    "\\text{Sigmoid activation:} \\quad\\quad & \\sigma = \\sqrt{\\frac{2}{n_{\\rm inputs}+n_{\\rm outputs}}} \\\\\n",
    "\\text{Hyperbolic tangent activation:} \\quad\\quad & \\sigma = 4\\sqrt{\\frac{2}{n_{\\rm inputs}+n_{\\rm outputs}}} \\\\\n",
    "\\text{ReLU activation:} \\quad\\quad & \\sigma = \\sqrt{2}\\sqrt{\\frac{2}{n_{\\rm inputs}+n_{\\rm outputs}}} \\\\\n",
    "\\end{eqnarray}\n",
    "$$\n",
    "where $n_{\\rm inputs}$ and $n_{\\rm outputs}$ are the number of input and output nodes, respectively, for the layer."
   ]
  },
  {
   "cell_type": "markdown",
   "metadata": {
    "Collapsed": "false",
    "slideshow": {
     "slide_type": "subslide"
    }
   },
   "source": [
    "## Weight initialisation in Tensor Flow"
   ]
  },
  {
   "cell_type": "code",
   "execution_count": 1,
   "metadata": {
    "Collapsed": "false"
   },
   "outputs": [
    {
     "name": "stderr",
     "output_type": "stream",
     "text": [
      "/usr/local/Cellar/jupyterlab/1.2.6/libexec/lib/python3.7/site-packages/tensorflow/python/framework/dtypes.py:516: FutureWarning: Passing (type, 1) or '1type' as a synonym of type is deprecated; in a future version of numpy, it will be understood as (type, (1,)) / '(1,)type'.\n",
      "  _np_qint8 = np.dtype([(\"qint8\", np.int8, 1)])\n",
      "/usr/local/Cellar/jupyterlab/1.2.6/libexec/lib/python3.7/site-packages/tensorflow/python/framework/dtypes.py:517: FutureWarning: Passing (type, 1) or '1type' as a synonym of type is deprecated; in a future version of numpy, it will be understood as (type, (1,)) / '(1,)type'.\n",
      "  _np_quint8 = np.dtype([(\"quint8\", np.uint8, 1)])\n",
      "/usr/local/Cellar/jupyterlab/1.2.6/libexec/lib/python3.7/site-packages/tensorflow/python/framework/dtypes.py:518: FutureWarning: Passing (type, 1) or '1type' as a synonym of type is deprecated; in a future version of numpy, it will be understood as (type, (1,)) / '(1,)type'.\n",
      "  _np_qint16 = np.dtype([(\"qint16\", np.int16, 1)])\n",
      "/usr/local/Cellar/jupyterlab/1.2.6/libexec/lib/python3.7/site-packages/tensorflow/python/framework/dtypes.py:519: FutureWarning: Passing (type, 1) or '1type' as a synonym of type is deprecated; in a future version of numpy, it will be understood as (type, (1,)) / '(1,)type'.\n",
      "  _np_quint16 = np.dtype([(\"quint16\", np.uint16, 1)])\n",
      "/usr/local/Cellar/jupyterlab/1.2.6/libexec/lib/python3.7/site-packages/tensorflow/python/framework/dtypes.py:520: FutureWarning: Passing (type, 1) or '1type' as a synonym of type is deprecated; in a future version of numpy, it will be understood as (type, (1,)) / '(1,)type'.\n",
      "  _np_qint32 = np.dtype([(\"qint32\", np.int32, 1)])\n",
      "/usr/local/Cellar/jupyterlab/1.2.6/libexec/lib/python3.7/site-packages/tensorflow/python/framework/dtypes.py:525: FutureWarning: Passing (type, 1) or '1type' as a synonym of type is deprecated; in a future version of numpy, it will be understood as (type, (1,)) / '(1,)type'.\n",
      "  np_resource = np.dtype([(\"resource\", np.ubyte, 1)])\n",
      "/usr/local/Cellar/jupyterlab/1.2.6/libexec/lib/python3.7/site-packages/tensorboard/compat/tensorflow_stub/dtypes.py:541: FutureWarning: Passing (type, 1) or '1type' as a synonym of type is deprecated; in a future version of numpy, it will be understood as (type, (1,)) / '(1,)type'.\n",
      "  _np_qint8 = np.dtype([(\"qint8\", np.int8, 1)])\n",
      "/usr/local/Cellar/jupyterlab/1.2.6/libexec/lib/python3.7/site-packages/tensorboard/compat/tensorflow_stub/dtypes.py:542: FutureWarning: Passing (type, 1) or '1type' as a synonym of type is deprecated; in a future version of numpy, it will be understood as (type, (1,)) / '(1,)type'.\n",
      "  _np_quint8 = np.dtype([(\"quint8\", np.uint8, 1)])\n",
      "/usr/local/Cellar/jupyterlab/1.2.6/libexec/lib/python3.7/site-packages/tensorboard/compat/tensorflow_stub/dtypes.py:543: FutureWarning: Passing (type, 1) or '1type' as a synonym of type is deprecated; in a future version of numpy, it will be understood as (type, (1,)) / '(1,)type'.\n",
      "  _np_qint16 = np.dtype([(\"qint16\", np.int16, 1)])\n",
      "/usr/local/Cellar/jupyterlab/1.2.6/libexec/lib/python3.7/site-packages/tensorboard/compat/tensorflow_stub/dtypes.py:544: FutureWarning: Passing (type, 1) or '1type' as a synonym of type is deprecated; in a future version of numpy, it will be understood as (type, (1,)) / '(1,)type'.\n",
      "  _np_quint16 = np.dtype([(\"quint16\", np.uint16, 1)])\n",
      "/usr/local/Cellar/jupyterlab/1.2.6/libexec/lib/python3.7/site-packages/tensorboard/compat/tensorflow_stub/dtypes.py:545: FutureWarning: Passing (type, 1) or '1type' as a synonym of type is deprecated; in a future version of numpy, it will be understood as (type, (1,)) / '(1,)type'.\n",
      "  _np_qint32 = np.dtype([(\"qint32\", np.int32, 1)])\n",
      "/usr/local/Cellar/jupyterlab/1.2.6/libexec/lib/python3.7/site-packages/tensorboard/compat/tensorflow_stub/dtypes.py:550: FutureWarning: Passing (type, 1) or '1type' as a synonym of type is deprecated; in a future version of numpy, it will be understood as (type, (1,)) / '(1,)type'.\n",
      "  np_resource = np.dtype([(\"resource\", np.ubyte, 1)])\n"
     ]
    }
   ],
   "source": [
    "import tensorflow as tf"
   ]
  },
  {
   "cell_type": "code",
   "execution_count": 6,
   "metadata": {
    "Collapsed": "false"
   },
   "outputs": [],
   "source": [
    "reset_graph()\n",
    "\n",
    "n_inputs = 28 * 28  # MNIST\n",
    "n_hidden1 = 300\n",
    "\n",
    "X = tf.placeholder(tf.float32, shape=(None, n_inputs), name=\"X\")"
   ]
  },
  {
   "cell_type": "code",
   "execution_count": 7,
   "metadata": {
    "Collapsed": "false"
   },
   "outputs": [
    {
     "name": "stdout",
     "output_type": "stream",
     "text": [
      "WARNING:tensorflow:\n",
      "The TensorFlow contrib module will not be included in TensorFlow 2.0.\n",
      "For more information, please see:\n",
      "  * https://github.com/tensorflow/community/blob/master/rfcs/20180907-contrib-sunset.md\n",
      "  * https://github.com/tensorflow/addons\n",
      "  * https://github.com/tensorflow/io (for I/O related ops)\n",
      "If you depend on functionality not listed there, please file an issue.\n",
      "\n",
      "WARNING:tensorflow:From <ipython-input-7-c75b27a27319>:3: dense (from tensorflow.python.layers.core) is deprecated and will be removed in a future version.\n",
      "Instructions for updating:\n",
      "Use keras.layers.dense instead.\n",
      "WARNING:tensorflow:Entity <bound method Dense.call of <tensorflow.python.layers.core.Dense object at 0x13c6d7410>> could not be transformed and will be executed as-is. Please report this to the AutgoGraph team. When filing the bug, set the verbosity to 10 (on Linux, `export AUTOGRAPH_VERBOSITY=10`) and attach the full output. Cause: converting <bound method Dense.call of <tensorflow.python.layers.core.Dense object at 0x13c6d7410>>: AssertionError: Bad argument number for Name: 3, expecting 4\n",
      "WARNING: Entity <bound method Dense.call of <tensorflow.python.layers.core.Dense object at 0x13c6d7410>> could not be transformed and will be executed as-is. Please report this to the AutgoGraph team. When filing the bug, set the verbosity to 10 (on Linux, `export AUTOGRAPH_VERBOSITY=10`) and attach the full output. Cause: converting <bound method Dense.call of <tensorflow.python.layers.core.Dense object at 0x13c6d7410>>: AssertionError: Bad argument number for Name: 3, expecting 4\n"
     ]
    }
   ],
   "source": [
    "he_init = tf.contrib.layers.variance_scaling_initializer()\n",
    "hidden1 = tf.layers.dense(X, n_hidden1, activation=tf.nn.relu,\n",
    "                          kernel_initializer=he_init, name=\"hidden1\") # He initialisation"
   ]
  },
  {
   "cell_type": "markdown",
   "metadata": {
    "Collapsed": "false",
    "slideshow": {
     "slide_type": "subslide"
    }
   },
   "source": [
    "## Non-saturating activation functions"
   ]
  },
  {
   "cell_type": "markdown",
   "metadata": {
    "Collapsed": "false"
   },
   "source": [
    "ReLU activation behaves much better than the sigmoid in deep networks since it does not saturate for positive values (and it is fast to compute)."
   ]
  },
  {
   "cell_type": "markdown",
   "metadata": {
    "Collapsed": "false",
    "slideshow": {
     "slide_type": "fragment"
    }
   },
   "source": [
    "However, the ReLU does suffer from the *dying neuron* problem.\n",
    "\n",
    "In this senario neurons effectively die and only output zero.  The neuron is unlikely to come back to life since the gradient of the ReLU activation function is zero for negative inputs."
   ]
  },
  {
   "cell_type": "markdown",
   "metadata": {
    "Collapsed": "false",
    "slideshow": {
     "slide_type": "subslide"
    }
   },
   "source": [
    "### Leaky ReLU\n",
    "\n",
    "The *leaky ReLU* avoids this problem and is defined by\n",
    "\n",
    "$$\n",
    "\\text{LeakyReLU}_\\alpha(z) = \\max(\\alpha z, z),\n",
    "$$\n",
    "\n",
    "where the hyperparameter $\\alpha$ defines how much the leaky ReLU leaks (typically $\\alpha=0.01$)."
   ]
  },
  {
   "cell_type": "markdown",
   "metadata": {
    "Collapsed": "false",
    "slideshow": {
     "slide_type": "subslide"
    },
    "tags": [
     "exercise"
    ]
   },
   "source": [
    "### Exercise: plot the Leaky ReLU activation function for $\\alpha=0.05$."
   ]
  },
  {
   "cell_type": "code",
   "execution_count": 8,
   "metadata": {
    "Collapsed": "false",
    "slideshow": {
     "slide_type": "fragment"
    },
    "tags": [
     "exercise",
     "solution"
    ]
   },
   "outputs": [],
   "source": [
    "def leaky_relu(z, alpha=0.01):\n",
    "    return np.maximum(alpha*z, z)"
   ]
  },
  {
   "cell_type": "code",
   "execution_count": 9,
   "metadata": {
    "Collapsed": "false",
    "slideshow": {
     "slide_type": "subslide"
    },
    "tags": [
     "exercise",
     "solution"
    ]
   },
   "outputs": [
    {
     "data": {
      "text/plain": [
       "[-5, 5, -0.5, 4.2]"
      ]
     },
     "execution_count": 9,
     "metadata": {},
     "output_type": "execute_result"
    },
    {
     "data": {
      "image/png": "[encoded data removed]",
      "text/plain": [
       "<Figure size 576x288 with 1 Axes>"
      ]
     },
     "metadata": {
      "needs_background": "light"
     },
     "output_type": "display_data"
    }
   ],
   "source": [
    "plt.figure(figsize=(8,4))\n",
    "plt.plot(z, leaky_relu(z, 0.05), \"b-\", linewidth=2)\n",
    "plt.plot([-5, 5], [0, 0], 'k-')\n",
    "plt.plot([0, 0], [-0.5, 4.2], 'k-')\n",
    "plt.grid(True)\n",
    "props = dict(facecolor='black', shrink=0.1)\n",
    "plt.annotate('Leak', xytext=(-3.5, 0.5), xy=(-5, -0.2), arrowprops=props, fontsize=14, ha=\"center\")\n",
    "plt.title(\"Leaky ReLU activation function\", fontsize=14)\n",
    "plt.axis([-5, 5, -0.5, 4.2])"
   ]
  },
  {
   "cell_type": "markdown",
   "metadata": {
    "Collapsed": "false",
    "slideshow": {
     "slide_type": "subslide"
    }
   },
   "source": [
    "### ELU\n",
    "\n",
    "Another alternative is the *exponental linear unit* (ELU)."
   ]
  },
  {
   "cell_type": "code",
   "execution_count": 10,
   "metadata": {
    "Collapsed": "false"
   },
   "outputs": [],
   "source": [
    "def elu(z, alpha=1):\n",
    "    return np.where(z < 0, alpha * (np.exp(z) - 1), z)"
   ]
  },
  {
   "cell_type": "markdown",
   "metadata": {
    "Collapsed": "false",
    "slideshow": {
     "slide_type": "subslide"
    },
    "tags": [
     "exercise"
    ]
   },
   "source": [
    "### Exercise: plot the ELU activation function for $\\alpha=1$."
   ]
  },
  {
   "cell_type": "code",
   "execution_count": 11,
   "metadata": {
    "Collapsed": "false",
    "slideshow": {
     "slide_type": "fragment"
    },
    "tags": [
     "exercise",
     "solution"
    ]
   },
   "outputs": [
    {
     "data": {
      "text/plain": [
       "[-5, 5, -2.2, 3.2]"
      ]
     },
     "execution_count": 11,
     "metadata": {},
     "output_type": "execute_result"
    },
    {
     "data": {
      "image/png": "[encoded data removed]",
      "text/plain": [
       "<Figure size 576x288 with 1 Axes>"
      ]
     },
     "metadata": {
      "needs_background": "light"
     },
     "output_type": "display_data"
    }
   ],
   "source": [
    "plt.figure(figsize=(8,4))\n",
    "plt.plot(z, elu(z), \"b-\", linewidth=2)\n",
    "plt.plot([-5, 5], [0, 0], 'k-')\n",
    "plt.plot([-5, 5], [-1, -1], 'k--')\n",
    "plt.plot([0, 0], [-2.2, 3.2], 'k-')\n",
    "plt.grid(True)\n",
    "plt.title(r\"ELU activation function ($\\alpha=1$)\", fontsize=14)\n",
    "plt.axis([-5, 5, -2.2, 3.2])"
   ]
  },
  {
   "cell_type": "markdown",
   "metadata": {
    "Collapsed": "false",
    "slideshow": {
     "slide_type": "subslide"
    }
   },
   "source": [
    "Properties:\n",
    "- Non-zero gradient for $z<0$ to avoid dying neuron issue.\n",
    "- Smooth so gradients well defined.\n",
    "- But is slower to compute."
   ]
  },
  {
   "cell_type": "markdown",
   "metadata": {
    "Collapsed": "false",
    "slideshow": {
     "slide_type": "subslide"
    }
   },
   "source": [
    "### ELU in Tensor Flow"
   ]
  },
  {
   "cell_type": "code",
   "execution_count": 12,
   "metadata": {
    "Collapsed": "false"
   },
   "outputs": [],
   "source": [
    "reset_graph()\n",
    "\n",
    "X = tf.placeholder(tf.float32, shape=(None, n_inputs), name=\"X\")"
   ]
  },
  {
   "cell_type": "code",
   "execution_count": 13,
   "metadata": {
    "Collapsed": "false"
   },
   "outputs": [
    {
     "name": "stdout",
     "output_type": "stream",
     "text": [
      "WARNING:tensorflow:From /usr/local/Cellar/jupyterlab/1.2.6/libexec/lib/python3.7/site-packages/tensorflow/python/ops/init_ops.py:1251: calling VarianceScaling.__init__ (from tensorflow.python.ops.init_ops) with dtype is deprecated and will be removed in a future version.\n",
      "Instructions for updating:\n",
      "Call initializer instance with the dtype argument instead of passing it to the constructor\n",
      "WARNING:tensorflow:Entity <bound method Dense.call of <tensorflow.python.layers.core.Dense object at 0x13ed11f90>> could not be transformed and will be executed as-is. Please report this to the AutgoGraph team. When filing the bug, set the verbosity to 10 (on Linux, `export AUTOGRAPH_VERBOSITY=10`) and attach the full output. Cause: converting <bound method Dense.call of <tensorflow.python.layers.core.Dense object at 0x13ed11f90>>: AssertionError: Bad argument number for Name: 3, expecting 4\n",
      "WARNING: Entity <bound method Dense.call of <tensorflow.python.layers.core.Dense object at 0x13ed11f90>> could not be transformed and will be executed as-is. Please report this to the AutgoGraph team. When filing the bug, set the verbosity to 10 (on Linux, `export AUTOGRAPH_VERBOSITY=10`) and attach the full output. Cause: converting <bound method Dense.call of <tensorflow.python.layers.core.Dense object at 0x13ed11f90>>: AssertionError: Bad argument number for Name: 3, expecting 4\n"
     ]
    }
   ],
   "source": [
    "hidden1 = tf.layers.dense(X, n_hidden1, activation=tf.nn.elu, name=\"hidden1\")"
   ]
  },
  {
   "cell_type": "markdown",
   "metadata": {
    "Collapsed": "false",
    "slideshow": {
     "slide_type": "subslide"
    }
   },
   "source": [
    "## Batch normalisation"
   ]
  },
  {
   "cell_type": "markdown",
   "metadata": {
    "Collapsed": "false"
   },
   "source": [
    "While weight normalisation can reduce gradient problems at the beginning of training, it does not guarantee that these problems won't resurface during training.\n",
    "\n",
    "*Batch normalisation* adds normalisation during training to address these issues."
   ]
  },
  {
   "cell_type": "markdown",
   "metadata": {
    "Collapsed": "false",
    "slideshow": {
     "slide_type": "fragment"
    }
   },
   "source": [
    "Consists of zero-centering and normalising inputs just before the activation function, followed by shifting and scaling the result.  The shift and scale are considered additional parameters that are learnt during training.\n",
    "\n",
    "This approach allows training to select the appropriate scale and shift (mean) for each layer."
   ]
  },
  {
   "cell_type": "markdown",
   "metadata": {
    "Collapsed": "false",
    "slideshow": {
     "slide_type": "fragment"
    }
   },
   "source": [
    "The mean and standard deviation of the unnormalised inputs are computed for each mini-batch, hence the name *batch normalisation*."
   ]
  },
  {
   "cell_type": "markdown",
   "metadata": {
    "Collapsed": "false",
    "slideshow": {
     "slide_type": "fragment"
    }
   },
   "source": [
    "When the trained network is applied to the test set there are no batches, so instead the entire *training* set's mean and standard deviation are used."
   ]
  },
  {
   "cell_type": "markdown",
   "metadata": {
    "Collapsed": "false",
    "slideshow": {
     "slide_type": "subslide"
    }
   },
   "source": [
    "### Batch normalisation in Tensor Flow"
   ]
  },
  {
   "cell_type": "code",
   "execution_count": 14,
   "metadata": {
    "Collapsed": "false"
   },
   "outputs": [
    {
     "name": "stdout",
     "output_type": "stream",
     "text": [
      "WARNING:tensorflow:Entity <bound method Dense.call of <tensorflow.python.layers.core.Dense object at 0x13ec22250>> could not be transformed and will be executed as-is. Please report this to the AutgoGraph team. When filing the bug, set the verbosity to 10 (on Linux, `export AUTOGRAPH_VERBOSITY=10`) and attach the full output. Cause: converting <bound method Dense.call of <tensorflow.python.layers.core.Dense object at 0x13ec22250>>: AssertionError: Bad argument number for Name: 3, expecting 4\n",
      "WARNING: Entity <bound method Dense.call of <tensorflow.python.layers.core.Dense object at 0x13ec22250>> could not be transformed and will be executed as-is. Please report this to the AutgoGraph team. When filing the bug, set the verbosity to 10 (on Linux, `export AUTOGRAPH_VERBOSITY=10`) and attach the full output. Cause: converting <bound method Dense.call of <tensorflow.python.layers.core.Dense object at 0x13ec22250>>: AssertionError: Bad argument number for Name: 3, expecting 4\n",
      "WARNING:tensorflow:From <ipython-input-14-9b2a8c010cf1>:16: batch_normalization (from tensorflow.python.layers.normalization) is deprecated and will be removed in a future version.\n",
      "Instructions for updating:\n",
      "Use keras.layers.BatchNormalization instead.  In particular, `tf.control_dependencies(tf.GraphKeys.UPDATE_OPS)` should not be used (consult the `tf.keras.layers.batch_normalization` documentation).\n",
      "WARNING:tensorflow:Entity <bound method BatchNormalization.call of <tensorflow.python.layers.normalization.BatchNormalization object at 0x13eced690>> could not be transformed and will be executed as-is. Please report this to the AutgoGraph team. When filing the bug, set the verbosity to 10 (on Linux, `export AUTOGRAPH_VERBOSITY=10`) and attach the full output. Cause: converting <bound method BatchNormalization.call of <tensorflow.python.layers.normalization.BatchNormalization object at 0x13eced690>>: AssertionError: Bad argument number for Name: 3, expecting 4\n",
      "WARNING: Entity <bound method BatchNormalization.call of <tensorflow.python.layers.normalization.BatchNormalization object at 0x13eced690>> could not be transformed and will be executed as-is. Please report this to the AutgoGraph team. When filing the bug, set the verbosity to 10 (on Linux, `export AUTOGRAPH_VERBOSITY=10`) and attach the full output. Cause: converting <bound method BatchNormalization.call of <tensorflow.python.layers.normalization.BatchNormalization object at 0x13eced690>>: AssertionError: Bad argument number for Name: 3, expecting 4\n",
      "WARNING:tensorflow:Entity <bound method Dense.call of <tensorflow.python.layers.core.Dense object at 0x13eced690>> could not be transformed and will be executed as-is. Please report this to the AutgoGraph team. When filing the bug, set the verbosity to 10 (on Linux, `export AUTOGRAPH_VERBOSITY=10`) and attach the full output. Cause: converting <bound method Dense.call of <tensorflow.python.layers.core.Dense object at 0x13eced690>>: AssertionError: Bad argument number for Name: 3, expecting 4\n",
      "WARNING: Entity <bound method Dense.call of <tensorflow.python.layers.core.Dense object at 0x13eced690>> could not be transformed and will be executed as-is. Please report this to the AutgoGraph team. When filing the bug, set the verbosity to 10 (on Linux, `export AUTOGRAPH_VERBOSITY=10`) and attach the full output. Cause: converting <bound method Dense.call of <tensorflow.python.layers.core.Dense object at 0x13eced690>>: AssertionError: Bad argument number for Name: 3, expecting 4\n",
      "WARNING:tensorflow:Entity <bound method BatchNormalization.call of <tensorflow.python.layers.normalization.BatchNormalization object at 0x13ed11c90>> could not be transformed and will be executed as-is. Please report this to the AutgoGraph team. When filing the bug, set the verbosity to 10 (on Linux, `export AUTOGRAPH_VERBOSITY=10`) and attach the full output. Cause: converting <bound method BatchNormalization.call of <tensorflow.python.layers.normalization.BatchNormalization object at 0x13ed11c90>>: AssertionError: Bad argument number for Name: 3, expecting 4\n",
      "WARNING: Entity <bound method BatchNormalization.call of <tensorflow.python.layers.normalization.BatchNormalization object at 0x13ed11c90>> could not be transformed and will be executed as-is. Please report this to the AutgoGraph team. When filing the bug, set the verbosity to 10 (on Linux, `export AUTOGRAPH_VERBOSITY=10`) and attach the full output. Cause: converting <bound method BatchNormalization.call of <tensorflow.python.layers.normalization.BatchNormalization object at 0x13ed11c90>>: AssertionError: Bad argument number for Name: 3, expecting 4\n",
      "WARNING:tensorflow:Entity <bound method Dense.call of <tensorflow.python.layers.core.Dense object at 0x13ef4ad10>> could not be transformed and will be executed as-is. Please report this to the AutgoGraph team. When filing the bug, set the verbosity to 10 (on Linux, `export AUTOGRAPH_VERBOSITY=10`) and attach the full output. Cause: converting <bound method Dense.call of <tensorflow.python.layers.core.Dense object at 0x13ef4ad10>>: AssertionError: Bad argument number for Name: 3, expecting 4\n",
      "WARNING: Entity <bound method Dense.call of <tensorflow.python.layers.core.Dense object at 0x13ef4ad10>> could not be transformed and will be executed as-is. Please report this to the AutgoGraph team. When filing the bug, set the verbosity to 10 (on Linux, `export AUTOGRAPH_VERBOSITY=10`) and attach the full output. Cause: converting <bound method Dense.call of <tensorflow.python.layers.core.Dense object at 0x13ef4ad10>>: AssertionError: Bad argument number for Name: 3, expecting 4\n",
      "WARNING:tensorflow:Entity <bound method BatchNormalization.call of <tensorflow.python.layers.normalization.BatchNormalization object at 0x13efa7c50>> could not be transformed and will be executed as-is. Please report this to the AutgoGraph team. When filing the bug, set the verbosity to 10 (on Linux, `export AUTOGRAPH_VERBOSITY=10`) and attach the full output. Cause: converting <bound method BatchNormalization.call of <tensorflow.python.layers.normalization.BatchNormalization object at 0x13efa7c50>>: AssertionError: Bad argument number for Name: 3, expecting 4\n",
      "WARNING: Entity <bound method BatchNormalization.call of <tensorflow.python.layers.normalization.BatchNormalization object at 0x13efa7c50>> could not be transformed and will be executed as-is. Please report this to the AutgoGraph team. When filing the bug, set the verbosity to 10 (on Linux, `export AUTOGRAPH_VERBOSITY=10`) and attach the full output. Cause: converting <bound method BatchNormalization.call of <tensorflow.python.layers.normalization.BatchNormalization object at 0x13efa7c50>>: AssertionError: Bad argument number for Name: 3, expecting 4\n"
     ]
    }
   ],
   "source": [
    "reset_graph()\n",
    "\n",
    "import tensorflow as tf\n",
    "\n",
    "n_inputs = 28 * 28\n",
    "n_hidden1 = 300\n",
    "n_hidden2 = 100\n",
    "n_outputs = 10\n",
    "\n",
    "X = tf.placeholder(tf.float32, shape=(None, n_inputs), name=\"X\")\n",
    "\n",
    "training = tf.placeholder_with_default(False, shape=(), name='training')\n",
    "\n",
    "hidden1 = tf.layers.dense(X, n_hidden1, name=\"hidden1\")\n",
    "bn1 = tf.layers.batch_normalization(hidden1, \n",
    "                                    training=training, momentum=0.9) \n",
    "    # Exponential decay is applied when computing running averages, hence the momentum parameter.\n",
    "bn1_act = tf.nn.elu(bn1)\n",
    "\n",
    "hidden2 = tf.layers.dense(bn1_act, n_hidden2, name=\"hidden2\")\n",
    "bn2 = tf.layers.batch_normalization(hidden2, training=training, momentum=0.9)\n",
    "bn2_act = tf.nn.elu(bn2)\n",
    "\n",
    "logits_before_bn = tf.layers.dense(bn2_act, n_outputs, name=\"outputs\")\n",
    "logits = tf.layers.batch_normalization(logits_before_bn, training=training,\n",
    "                                       momentum=0.9)"
   ]
  },
  {
   "cell_type": "markdown",
   "metadata": {
    "Collapsed": "false",
    "slideshow": {
     "slide_type": "subslide"
    }
   },
   "source": [
    "The Python `partial` function can be handy for defining a new function with some arguments set."
   ]
  },
  {
   "cell_type": "code",
   "execution_count": 15,
   "metadata": {
    "Collapsed": "false"
   },
   "outputs": [
    {
     "name": "stdout",
     "output_type": "stream",
     "text": [
      "WARNING:tensorflow:Entity <bound method Dense.call of <tensorflow.python.layers.core.Dense object at 0x13ec0c5d0>> could not be transformed and will be executed as-is. Please report this to the AutgoGraph team. When filing the bug, set the verbosity to 10 (on Linux, `export AUTOGRAPH_VERBOSITY=10`) and attach the full output. Cause: converting <bound method Dense.call of <tensorflow.python.layers.core.Dense object at 0x13ec0c5d0>>: AssertionError: Bad argument number for Name: 3, expecting 4\n",
      "WARNING: Entity <bound method Dense.call of <tensorflow.python.layers.core.Dense object at 0x13ec0c5d0>> could not be transformed and will be executed as-is. Please report this to the AutgoGraph team. When filing the bug, set the verbosity to 10 (on Linux, `export AUTOGRAPH_VERBOSITY=10`) and attach the full output. Cause: converting <bound method Dense.call of <tensorflow.python.layers.core.Dense object at 0x13ec0c5d0>>: AssertionError: Bad argument number for Name: 3, expecting 4\n",
      "WARNING:tensorflow:Entity <bound method BatchNormalization.call of <tensorflow.python.layers.normalization.BatchNormalization object at 0x13c71aa90>> could not be transformed and will be executed as-is. Please report this to the AutgoGraph team. When filing the bug, set the verbosity to 10 (on Linux, `export AUTOGRAPH_VERBOSITY=10`) and attach the full output. Cause: converting <bound method BatchNormalization.call of <tensorflow.python.layers.normalization.BatchNormalization object at 0x13c71aa90>>: AssertionError: Bad argument number for Name: 3, expecting 4\n",
      "WARNING: Entity <bound method BatchNormalization.call of <tensorflow.python.layers.normalization.BatchNormalization object at 0x13c71aa90>> could not be transformed and will be executed as-is. Please report this to the AutgoGraph team. When filing the bug, set the verbosity to 10 (on Linux, `export AUTOGRAPH_VERBOSITY=10`) and attach the full output. Cause: converting <bound method BatchNormalization.call of <tensorflow.python.layers.normalization.BatchNormalization object at 0x13c71aa90>>: AssertionError: Bad argument number for Name: 3, expecting 4\n",
      "WARNING:tensorflow:Entity <bound method Dense.call of <tensorflow.python.layers.core.Dense object at 0x13c71aa90>> could not be transformed and will be executed as-is. Please report this to the AutgoGraph team. When filing the bug, set the verbosity to 10 (on Linux, `export AUTOGRAPH_VERBOSITY=10`) and attach the full output. Cause: converting <bound method Dense.call of <tensorflow.python.layers.core.Dense object at 0x13c71aa90>>: AssertionError: Bad argument number for Name: 3, expecting 4\n",
      "WARNING: Entity <bound method Dense.call of <tensorflow.python.layers.core.Dense object at 0x13c71aa90>> could not be transformed and will be executed as-is. Please report this to the AutgoGraph team. When filing the bug, set the verbosity to 10 (on Linux, `export AUTOGRAPH_VERBOSITY=10`) and attach the full output. Cause: converting <bound method Dense.call of <tensorflow.python.layers.core.Dense object at 0x13c71aa90>>: AssertionError: Bad argument number for Name: 3, expecting 4\n",
      "WARNING:tensorflow:Entity <bound method BatchNormalization.call of <tensorflow.python.layers.normalization.BatchNormalization object at 0x13c6b90d0>> could not be transformed and will be executed as-is. Please report this to the AutgoGraph team. When filing the bug, set the verbosity to 10 (on Linux, `export AUTOGRAPH_VERBOSITY=10`) and attach the full output. Cause: converting <bound method BatchNormalization.call of <tensorflow.python.layers.normalization.BatchNormalization object at 0x13c6b90d0>>: AssertionError: Bad argument number for Name: 3, expecting 4\n",
      "WARNING: Entity <bound method BatchNormalization.call of <tensorflow.python.layers.normalization.BatchNormalization object at 0x13c6b90d0>> could not be transformed and will be executed as-is. Please report this to the AutgoGraph team. When filing the bug, set the verbosity to 10 (on Linux, `export AUTOGRAPH_VERBOSITY=10`) and attach the full output. Cause: converting <bound method BatchNormalization.call of <tensorflow.python.layers.normalization.BatchNormalization object at 0x13c6b90d0>>: AssertionError: Bad argument number for Name: 3, expecting 4\n",
      "WARNING:tensorflow:Entity <bound method Dense.call of <tensorflow.python.layers.core.Dense object at 0x13c6b90d0>> could not be transformed and will be executed as-is. Please report this to the AutgoGraph team. When filing the bug, set the verbosity to 10 (on Linux, `export AUTOGRAPH_VERBOSITY=10`) and attach the full output. Cause: converting <bound method Dense.call of <tensorflow.python.layers.core.Dense object at 0x13c6b90d0>>: AssertionError: Bad argument number for Name: 3, expecting 4\n",
      "WARNING: Entity <bound method Dense.call of <tensorflow.python.layers.core.Dense object at 0x13c6b90d0>> could not be transformed and will be executed as-is. Please report this to the AutgoGraph team. When filing the bug, set the verbosity to 10 (on Linux, `export AUTOGRAPH_VERBOSITY=10`) and attach the full output. Cause: converting <bound method Dense.call of <tensorflow.python.layers.core.Dense object at 0x13c6b90d0>>: AssertionError: Bad argument number for Name: 3, expecting 4\n",
      "WARNING:tensorflow:Entity <bound method BatchNormalization.call of <tensorflow.python.layers.normalization.BatchNormalization object at 0x13a134e50>> could not be transformed and will be executed as-is. Please report this to the AutgoGraph team. When filing the bug, set the verbosity to 10 (on Linux, `export AUTOGRAPH_VERBOSITY=10`) and attach the full output. Cause: converting <bound method BatchNormalization.call of <tensorflow.python.layers.normalization.BatchNormalization object at 0x13a134e50>>: AssertionError: Bad argument number for Name: 3, expecting 4\n",
      "WARNING: Entity <bound method BatchNormalization.call of <tensorflow.python.layers.normalization.BatchNormalization object at 0x13a134e50>> could not be transformed and will be executed as-is. Please report this to the AutgoGraph team. When filing the bug, set the verbosity to 10 (on Linux, `export AUTOGRAPH_VERBOSITY=10`) and attach the full output. Cause: converting <bound method BatchNormalization.call of <tensorflow.python.layers.normalization.BatchNormalization object at 0x13a134e50>>: AssertionError: Bad argument number for Name: 3, expecting 4\n"
     ]
    }
   ],
   "source": [
    "from functools import partial\n",
    "\n",
    "reset_graph()\n",
    "\n",
    "X = tf.placeholder(tf.float32, shape=(None, n_inputs), name=\"X\")\n",
    "training = tf.placeholder_with_default(False, shape=(), name='training')\n",
    "\n",
    "my_batch_norm_layer = partial(tf.layers.batch_normalization,\n",
    "                              training=training, momentum=0.9)\n",
    "\n",
    "hidden1 = tf.layers.dense(X, n_hidden1, name=\"hidden1\")\n",
    "bn1 = my_batch_norm_layer(hidden1)\n",
    "bn1_act = tf.nn.elu(bn1)\n",
    "\n",
    "hidden2 = tf.layers.dense(bn1_act, n_hidden2, name=\"hidden2\")\n",
    "bn2 = my_batch_norm_layer(hidden2)\n",
    "bn2_act = tf.nn.elu(bn2)\n",
    "\n",
    "logits_before_bn = tf.layers.dense(bn2_act, n_outputs, name=\"outputs\")\n",
    "logits = my_batch_norm_layer(logits_before_bn)"
   ]
  },
  {
   "cell_type": "markdown",
   "metadata": {
    "Collapsed": "false",
    "slideshow": {
     "slide_type": "subslide"
    },
    "tags": [
     "exercise"
    ]
   },
   "source": [
    "## Exercise: build a deep NN with ELU activation functions and batch normalisation and apply it to MINST."
   ]
  },
  {
   "cell_type": "code",
   "execution_count": 16,
   "metadata": {
    "Collapsed": "false",
    "tags": [
     "exercise"
    ]
   },
   "outputs": [
    {
     "name": "stdout",
     "output_type": "stream",
     "text": [
      "WARNING:tensorflow:From <ipython-input-16-c50d5bb4a85c>:2: read_data_sets (from tensorflow.contrib.learn.python.learn.datasets.mnist) is deprecated and will be removed in a future version.\n",
      "Instructions for updating:\n",
      "Please use alternatives such as official/mnist/dataset.py from tensorflow/models.\n",
      "WARNING:tensorflow:From /usr/local/Cellar/jupyterlab/1.2.6/libexec/lib/python3.7/site-packages/tensorflow/contrib/learn/python/learn/datasets/mnist.py:260: maybe_download (from tensorflow.contrib.learn.python.learn.datasets.base) is deprecated and will be removed in a future version.\n",
      "Instructions for updating:\n",
      "Please write your own downloading logic.\n",
      "WARNING:tensorflow:From /usr/local/Cellar/jupyterlab/1.2.6/libexec/lib/python3.7/site-packages/tensorflow/contrib/learn/python/learn/datasets/base.py:252: _internal_retry.<locals>.wrap.<locals>.wrapped_fn (from tensorflow.contrib.learn.python.learn.datasets.base) is deprecated and will be removed in a future version.\n",
      "Instructions for updating:\n",
      "Please use urllib or similar directly.\n",
      "Successfully downloaded train-images-idx3-ubyte.gz 9912422 bytes.\n",
      "WARNING:tensorflow:From /usr/local/Cellar/jupyterlab/1.2.6/libexec/lib/python3.7/site-packages/tensorflow/contrib/learn/python/learn/datasets/mnist.py:262: extract_images (from tensorflow.contrib.learn.python.learn.datasets.mnist) is deprecated and will be removed in a future version.\n",
      "Instructions for updating:\n",
      "Please use tf.data to implement this functionality.\n",
      "Extracting /tmp/data/train-images-idx3-ubyte.gz\n",
      "Successfully downloaded train-labels-idx1-ubyte.gz 28881 bytes.\n",
      "WARNING:tensorflow:From /usr/local/Cellar/jupyterlab/1.2.6/libexec/lib/python3.7/site-packages/tensorflow/contrib/learn/python/learn/datasets/mnist.py:267: extract_labels (from tensorflow.contrib.learn.python.learn.datasets.mnist) is deprecated and will be removed in a future version.\n",
      "Instructions for updating:\n",
      "Please use tf.data to implement this functionality.\n",
      "Extracting /tmp/data/train-labels-idx1-ubyte.gz\n",
      "Successfully downloaded t10k-images-idx3-ubyte.gz 1648877 bytes.\n",
      "Extracting /tmp/data/t10k-images-idx3-ubyte.gz\n",
      "Successfully downloaded t10k-labels-idx1-ubyte.gz 4542 bytes.\n",
      "Extracting /tmp/data/t10k-labels-idx1-ubyte.gz\n",
      "WARNING:tensorflow:From /usr/local/Cellar/jupyterlab/1.2.6/libexec/lib/python3.7/site-packages/tensorflow/contrib/learn/python/learn/datasets/mnist.py:290: DataSet.__init__ (from tensorflow.contrib.learn.python.learn.datasets.mnist) is deprecated and will be removed in a future version.\n",
      "Instructions for updating:\n",
      "Please use alternatives such as official/mnist/dataset.py from tensorflow/models.\n"
     ]
    }
   ],
   "source": [
    "from tensorflow.examples.tutorials.mnist import input_data\n",
    "mnist = input_data.read_data_sets(\"/tmp/data/\")"
   ]
  },
  {
   "cell_type": "code",
   "execution_count": 17,
   "metadata": {
    "Collapsed": "false",
    "slideshow": {
     "slide_type": "subslide"
    },
    "tags": [
     "exercise",
     "solution"
    ]
   },
   "outputs": [
    {
     "name": "stdout",
     "output_type": "stream",
     "text": [
      "WARNING:tensorflow:Entity <bound method Dense.call of <tensorflow.python.layers.core.Dense object at 0x13c6d7290>> could not be transformed and will be executed as-is. Please report this to the AutgoGraph team. When filing the bug, set the verbosity to 10 (on Linux, `export AUTOGRAPH_VERBOSITY=10`) and attach the full output. Cause: converting <bound method Dense.call of <tensorflow.python.layers.core.Dense object at 0x13c6d7290>>: AssertionError: Bad argument number for Name: 3, expecting 4\n",
      "WARNING: Entity <bound method Dense.call of <tensorflow.python.layers.core.Dense object at 0x13c6d7290>> could not be transformed and will be executed as-is. Please report this to the AutgoGraph team. When filing the bug, set the verbosity to 10 (on Linux, `export AUTOGRAPH_VERBOSITY=10`) and attach the full output. Cause: converting <bound method Dense.call of <tensorflow.python.layers.core.Dense object at 0x13c6d7290>>: AssertionError: Bad argument number for Name: 3, expecting 4\n",
      "WARNING:tensorflow:Entity <bound method BatchNormalization.call of <tensorflow.python.layers.normalization.BatchNormalization object at 0x13a134750>> could not be transformed and will be executed as-is. Please report this to the AutgoGraph team. When filing the bug, set the verbosity to 10 (on Linux, `export AUTOGRAPH_VERBOSITY=10`) and attach the full output. Cause: converting <bound method BatchNormalization.call of <tensorflow.python.layers.normalization.BatchNormalization object at 0x13a134750>>: AssertionError: Bad argument number for Name: 3, expecting 4\n",
      "WARNING: Entity <bound method BatchNormalization.call of <tensorflow.python.layers.normalization.BatchNormalization object at 0x13a134750>> could not be transformed and will be executed as-is. Please report this to the AutgoGraph team. When filing the bug, set the verbosity to 10 (on Linux, `export AUTOGRAPH_VERBOSITY=10`) and attach the full output. Cause: converting <bound method BatchNormalization.call of <tensorflow.python.layers.normalization.BatchNormalization object at 0x13a134750>>: AssertionError: Bad argument number for Name: 3, expecting 4\n",
      "WARNING:tensorflow:Entity <bound method Dense.call of <tensorflow.python.layers.core.Dense object at 0x13ed09d10>> could not be transformed and will be executed as-is. Please report this to the AutgoGraph team. When filing the bug, set the verbosity to 10 (on Linux, `export AUTOGRAPH_VERBOSITY=10`) and attach the full output. Cause: converting <bound method Dense.call of <tensorflow.python.layers.core.Dense object at 0x13ed09d10>>: AssertionError: Bad argument number for Name: 3, expecting 4\n",
      "WARNING: Entity <bound method Dense.call of <tensorflow.python.layers.core.Dense object at 0x13ed09d10>> could not be transformed and will be executed as-is. Please report this to the AutgoGraph team. When filing the bug, set the verbosity to 10 (on Linux, `export AUTOGRAPH_VERBOSITY=10`) and attach the full output. Cause: converting <bound method Dense.call of <tensorflow.python.layers.core.Dense object at 0x13ed09d10>>: AssertionError: Bad argument number for Name: 3, expecting 4\n",
      "WARNING:tensorflow:Entity <bound method BatchNormalization.call of <tensorflow.python.layers.normalization.BatchNormalization object at 0x13ed09d10>> could not be transformed and will be executed as-is. Please report this to the AutgoGraph team. When filing the bug, set the verbosity to 10 (on Linux, `export AUTOGRAPH_VERBOSITY=10`) and attach the full output. Cause: converting <bound method BatchNormalization.call of <tensorflow.python.layers.normalization.BatchNormalization object at 0x13ed09d10>>: AssertionError: Bad argument number for Name: 3, expecting 4\n",
      "WARNING: Entity <bound method BatchNormalization.call of <tensorflow.python.layers.normalization.BatchNormalization object at 0x13ed09d10>> could not be transformed and will be executed as-is. Please report this to the AutgoGraph team. When filing the bug, set the verbosity to 10 (on Linux, `export AUTOGRAPH_VERBOSITY=10`) and attach the full output. Cause: converting <bound method BatchNormalization.call of <tensorflow.python.layers.normalization.BatchNormalization object at 0x13ed09d10>>: AssertionError: Bad argument number for Name: 3, expecting 4\n",
      "WARNING:tensorflow:Entity <bound method Dense.call of <tensorflow.python.layers.core.Dense object at 0x13f253890>> could not be transformed and will be executed as-is. Please report this to the AutgoGraph team. When filing the bug, set the verbosity to 10 (on Linux, `export AUTOGRAPH_VERBOSITY=10`) and attach the full output. Cause: converting <bound method Dense.call of <tensorflow.python.layers.core.Dense object at 0x13f253890>>: AssertionError: Bad argument number for Name: 3, expecting 4\n",
      "WARNING: Entity <bound method Dense.call of <tensorflow.python.layers.core.Dense object at 0x13f253890>> could not be transformed and will be executed as-is. Please report this to the AutgoGraph team. When filing the bug, set the verbosity to 10 (on Linux, `export AUTOGRAPH_VERBOSITY=10`) and attach the full output. Cause: converting <bound method Dense.call of <tensorflow.python.layers.core.Dense object at 0x13f253890>>: AssertionError: Bad argument number for Name: 3, expecting 4\n",
      "WARNING:tensorflow:Entity <bound method BatchNormalization.call of <tensorflow.python.layers.normalization.BatchNormalization object at 0x13f253890>> could not be transformed and will be executed as-is. Please report this to the AutgoGraph team. When filing the bug, set the verbosity to 10 (on Linux, `export AUTOGRAPH_VERBOSITY=10`) and attach the full output. Cause: converting <bound method BatchNormalization.call of <tensorflow.python.layers.normalization.BatchNormalization object at 0x13f253890>>: AssertionError: Bad argument number for Name: 3, expecting 4\n",
      "WARNING: Entity <bound method BatchNormalization.call of <tensorflow.python.layers.normalization.BatchNormalization object at 0x13f253890>> could not be transformed and will be executed as-is. Please report this to the AutgoGraph team. When filing the bug, set the verbosity to 10 (on Linux, `export AUTOGRAPH_VERBOSITY=10`) and attach the full output. Cause: converting <bound method BatchNormalization.call of <tensorflow.python.layers.normalization.BatchNormalization object at 0x13f253890>>: AssertionError: Bad argument number for Name: 3, expecting 4\n"
     ]
    }
   ],
   "source": [
    "reset_graph()\n",
    "\n",
    "batch_norm_momentum = 0.9\n",
    "learning_rate = 0.01\n",
    "\n",
    "X = tf.placeholder(tf.float32, shape=(None, n_inputs), name=\"X\")\n",
    "y = tf.placeholder(tf.int64, shape=(None), name=\"y\")\n",
    "training = tf.placeholder_with_default(False, shape=(), name='training')\n",
    "\n",
    "with tf.name_scope(\"dnn\"):\n",
    "    he_init = tf.contrib.layers.variance_scaling_initializer()\n",
    "\n",
    "    my_batch_norm_layer = partial(\n",
    "            tf.layers.batch_normalization,\n",
    "            training=training,\n",
    "            momentum=batch_norm_momentum)\n",
    "\n",
    "    my_dense_layer = partial(\n",
    "            tf.layers.dense,\n",
    "            kernel_initializer=he_init)\n",
    "\n",
    "    hidden1 = my_dense_layer(X, n_hidden1, name=\"hidden1\")\n",
    "    bn1 = tf.nn.elu(my_batch_norm_layer(hidden1))\n",
    "    hidden2 = my_dense_layer(bn1, n_hidden2, name=\"hidden2\")\n",
    "    bn2 = tf.nn.elu(my_batch_norm_layer(hidden2))\n",
    "    logits_before_bn = my_dense_layer(bn2, n_outputs, name=\"outputs\")\n",
    "    logits = my_batch_norm_layer(logits_before_bn)\n",
    "\n",
    "with tf.name_scope(\"loss\"):\n",
    "    xentropy = tf.nn.sparse_softmax_cross_entropy_with_logits(labels=y, logits=logits)\n",
    "    loss = tf.reduce_mean(xentropy, name=\"loss\")\n",
    "\n",
    "with tf.name_scope(\"train\"):\n",
    "    optimizer = tf.train.GradientDescentOptimizer(learning_rate)\n",
    "    training_op = optimizer.minimize(loss)\n",
    "\n",
    "with tf.name_scope(\"eval\"):\n",
    "    correct = tf.nn.in_top_k(logits, y, 1)\n",
    "    accuracy = tf.reduce_mean(tf.cast(correct, tf.float32), name=\"accuracy\")\n",
    "    \n",
    "init = tf.global_variables_initializer()\n",
    "saver = tf.train.Saver()"
   ]
  },
  {
   "cell_type": "code",
   "execution_count": 18,
   "metadata": {
    "Collapsed": "false",
    "slideshow": {
     "slide_type": "subslide"
    },
    "tags": [
     "exercise",
     "solution"
    ]
   },
   "outputs": [],
   "source": [
    "n_epochs = 10\n",
    "batch_size = 200"
   ]
  },
  {
   "cell_type": "code",
   "execution_count": 19,
   "metadata": {
    "Collapsed": "false",
    "tags": [
     "exercise",
     "solution"
    ]
   },
   "outputs": [
    {
     "name": "stdout",
     "output_type": "stream",
     "text": [
      "0 Test accuracy: 0.8653\n",
      "1 Test accuracy: 0.8939\n",
      "2 Test accuracy: 0.9086\n",
      "3 Test accuracy: 0.9199\n",
      "4 Test accuracy: 0.9258\n",
      "5 Test accuracy: 0.9328\n",
      "6 Test accuracy: 0.9379\n",
      "7 Test accuracy: 0.9429\n",
      "8 Test accuracy: 0.9448\n",
      "9 Test accuracy: 0.9478\n"
     ]
    }
   ],
   "source": [
    "extra_update_ops = tf.get_collection(tf.GraphKeys.UPDATE_OPS) # add moving average updates to computational graph\n",
    "\n",
    "with tf.Session() as sess:\n",
    "    init.run()\n",
    "    for epoch in range(n_epochs):\n",
    "        for iteration in range(mnist.train.num_examples // batch_size):\n",
    "            X_batch, y_batch = mnist.train.next_batch(batch_size)\n",
    "            sess.run([training_op, extra_update_ops],\n",
    "                     feed_dict={training: True, X: X_batch, y: y_batch})\n",
    "        accuracy_val = accuracy.eval(feed_dict={X: mnist.test.images,\n",
    "                                                y: mnist.test.labels})\n",
    "        print(epoch, \"Test accuracy:\", accuracy_val)\n",
    "\n",
    "    save_path = saver.save(sess, \"./my_model_final.ckpt\")"
   ]
  },
  {
   "cell_type": "markdown",
   "metadata": {
    "Collapsed": "false",
    "tags": [
     "exercise",
     "solution"
    ]
   },
   "source": [
    "Performance will get better if train for longer.  In any case, ELU and batch normalisation not likely to really help with such a shallow network."
   ]
  },
  {
   "cell_type": "markdown",
   "metadata": {
    "Collapsed": "false",
    "slideshow": {
     "slide_type": "slide"
    }
   },
   "source": [
    "# Pretraining and transfer learning"
   ]
  },
  {
   "cell_type": "markdown",
   "metadata": {
    "Collapsed": "false"
   },
   "source": [
    "A deep network trained for one task can often be adapted for a similar task."
   ]
  },
  {
   "cell_type": "markdown",
   "metadata": {
    "Collapsed": "false",
    "slideshow": {
     "slide_type": "subslide"
    }
   },
   "source": [
    "Reuse lower layers of network trained for another task.\n",
    "\n",
    "<center><img src=\"Lecture13_Images/transfer_learning.png\" style=\"height: 350px;\"/></center>\n",
    "\n",
    "[Credit: Geron]"
   ]
  },
  {
   "cell_type": "markdown",
   "metadata": {
    "Collapsed": "false",
    "slideshow": {
     "slide_type": "fragment"
    }
   },
   "source": [
    "For transfer learning to be successful the data must have similar low-level features."
   ]
  },
  {
   "cell_type": "markdown",
   "metadata": {
    "Collapsed": "false",
    "slideshow": {
     "slide_type": "subslide"
    }
   },
   "source": [
    "## Reusing a Tensor Flow model"
   ]
  },
  {
   "cell_type": "markdown",
   "metadata": {
    "Collapsed": "false"
   },
   "source": [
    "As we saw in previous lectures we can save and load computational graphs in addition to parameters."
   ]
  },
  {
   "cell_type": "markdown",
   "metadata": {
    "Collapsed": "false"
   },
   "source": [
    "The computation graph is saved in `*.meta` files."
   ]
  },
  {
   "cell_type": "code",
   "execution_count": 20,
   "metadata": {
    "Collapsed": "false"
   },
   "outputs": [],
   "source": [
    "reset_graph()\n",
    "saver = tf.train.import_meta_graph(\"./my_model_final.ckpt.meta\")"
   ]
  },
  {
   "cell_type": "code",
   "execution_count": 22,
   "metadata": {
    "Collapsed": "false"
   },
   "outputs": [
    {
     "name": "stdout",
     "output_type": "stream",
     "text": [
      "X\n",
      "y\n",
      "training/input\n",
      "training\n",
      "hidden1/kernel/Initializer/truncated_normal/shape\n",
      "hidden1/kernel/Initializer/truncated_normal/mean\n",
      "hidden1/kernel/Initializer/truncated_normal/stddev\n",
      "hidden1/kernel/Initializer/truncated_normal/TruncatedNormal\n",
      "hidden1/kernel/Initializer/truncated_normal/mul\n",
      "hidden1/kernel/Initializer/truncated_normal\n",
      "hidden1/kernel\n",
      "hidden1/kernel/Assign\n",
      "hidden1/kernel/read\n",
      "hidden1/bias/Initializer/zeros\n",
      "hidden1/bias\n",
      "hidden1/bias/Assign\n",
      "hidden1/bias/read\n",
      "dnn/hidden1/MatMul\n",
      "dnn/hidden1/BiasAdd\n",
      "batch_normalization/gamma/Initializer/ones\n",
      "batch_normalization/gamma\n",
      "batch_normalization/gamma/Assign\n",
      "batch_normalization/gamma/read\n",
      "batch_normalization/beta/Initializer/zeros\n",
      "batch_normalization/beta\n",
      "batch_normalization/beta/Assign\n",
      "batch_normalization/beta/read\n",
      "batch_normalization/moving_mean/Initializer/zeros\n",
      "batch_normalization/moving_mean\n",
      "batch_normalization/moving_mean/Assign\n",
      "batch_normalization/moving_mean/read\n",
      "batch_normalization/moving_variance/Initializer/ones\n",
      "batch_normalization/moving_variance\n",
      "batch_normalization/moving_variance/Assign\n",
      "batch_normalization/moving_variance/read\n",
      "dnn/batch_normalization/moments/mean/reduction_indices\n",
      "dnn/batch_normalization/moments/mean\n",
      "dnn/batch_normalization/moments/StopGradient\n",
      "dnn/batch_normalization/moments/SquaredDifference\n",
      "dnn/batch_normalization/moments/variance/reduction_indices\n",
      "dnn/batch_normalization/moments/variance\n",
      "dnn/batch_normalization/moments/Squeeze\n",
      "dnn/batch_normalization/moments/Squeeze_1\n",
      "dnn/batch_normalization/cond/Switch\n",
      "dnn/batch_normalization/cond/switch_t\n",
      "dnn/batch_normalization/cond/switch_f\n",
      "dnn/batch_normalization/cond/pred_id\n",
      "dnn/batch_normalization/cond/Switch_1\n",
      "dnn/batch_normalization/cond/Switch_2\n",
      "dnn/batch_normalization/cond/Merge\n",
      "dnn/batch_normalization/cond_1/Switch\n",
      "dnn/batch_normalization/cond_1/switch_t\n",
      "dnn/batch_normalization/cond_1/switch_f\n",
      "dnn/batch_normalization/cond_1/pred_id\n",
      "dnn/batch_normalization/cond_1/Switch_1\n",
      "dnn/batch_normalization/cond_1/Switch_2\n",
      "dnn/batch_normalization/cond_1/Merge\n",
      "dnn/batch_normalization/cond_2/Switch\n",
      "dnn/batch_normalization/cond_2/switch_t\n",
      "dnn/batch_normalization/cond_2/switch_f\n",
      "dnn/batch_normalization/cond_2/pred_id\n",
      "dnn/batch_normalization/cond_2/AssignMovingAvg/decay\n",
      "dnn/batch_normalization/cond_2/AssignMovingAvg/sub/Switch\n",
      "dnn/batch_normalization/cond_2/AssignMovingAvg/sub/Switch_1\n",
      "dnn/batch_normalization/cond_2/AssignMovingAvg/sub\n",
      "dnn/batch_normalization/cond_2/AssignMovingAvg/mul\n",
      "dnn/batch_normalization/cond_2/AssignMovingAvg/Switch\n",
      "dnn/batch_normalization/cond_2/AssignMovingAvg\n",
      "dnn/batch_normalization/cond_2/Switch_1\n",
      "dnn/batch_normalization/cond_2/Merge\n",
      "dnn/batch_normalization/cond_3/Switch\n",
      "dnn/batch_normalization/cond_3/switch_t\n",
      "dnn/batch_normalization/cond_3/switch_f\n",
      "dnn/batch_normalization/cond_3/pred_id\n",
      "dnn/batch_normalization/cond_3/AssignMovingAvg/decay\n",
      "dnn/batch_normalization/cond_3/AssignMovingAvg/sub/Switch\n",
      "dnn/batch_normalization/cond_3/AssignMovingAvg/sub/Switch_1\n",
      "dnn/batch_normalization/cond_3/AssignMovingAvg/sub\n",
      "dnn/batch_normalization/cond_3/AssignMovingAvg/mul\n",
      "dnn/batch_normalization/cond_3/AssignMovingAvg/Switch\n",
      "dnn/batch_normalization/cond_3/AssignMovingAvg\n",
      "dnn/batch_normalization/cond_3/Switch_1\n",
      "dnn/batch_normalization/cond_3/Merge\n",
      "dnn/batch_normalization/batchnorm/add/y\n",
      "dnn/batch_normalization/batchnorm/add\n",
      "dnn/batch_normalization/batchnorm/Rsqrt\n",
      "dnn/batch_normalization/batchnorm/mul\n",
      "dnn/batch_normalization/batchnorm/mul_1\n",
      "dnn/batch_normalization/batchnorm/mul_2\n",
      "dnn/batch_normalization/batchnorm/sub\n",
      "dnn/batch_normalization/batchnorm/add_1\n",
      "dnn/Elu\n",
      "hidden2/kernel/Initializer/truncated_normal/shape\n",
      "hidden2/kernel/Initializer/truncated_normal/mean\n",
      "hidden2/kernel/Initializer/truncated_normal/stddev\n",
      "hidden2/kernel/Initializer/truncated_normal/TruncatedNormal\n",
      "hidden2/kernel/Initializer/truncated_normal/mul\n",
      "hidden2/kernel/Initializer/truncated_normal\n",
      "hidden2/kernel\n",
      "hidden2/kernel/Assign\n",
      "hidden2/kernel/read\n",
      "hidden2/bias/Initializer/zeros\n",
      "hidden2/bias\n",
      "hidden2/bias/Assign\n",
      "hidden2/bias/read\n",
      "dnn/hidden2/MatMul\n",
      "dnn/hidden2/BiasAdd\n",
      "batch_normalization_1/gamma/Initializer/ones\n",
      "batch_normalization_1/gamma\n",
      "batch_normalization_1/gamma/Assign\n",
      "batch_normalization_1/gamma/read\n",
      "batch_normalization_1/beta/Initializer/zeros\n",
      "batch_normalization_1/beta\n",
      "batch_normalization_1/beta/Assign\n",
      "batch_normalization_1/beta/read\n",
      "batch_normalization_1/moving_mean/Initializer/zeros\n",
      "batch_normalization_1/moving_mean\n",
      "batch_normalization_1/moving_mean/Assign\n",
      "batch_normalization_1/moving_mean/read\n",
      "batch_normalization_1/moving_variance/Initializer/ones\n",
      "batch_normalization_1/moving_variance\n",
      "batch_normalization_1/moving_variance/Assign\n",
      "batch_normalization_1/moving_variance/read\n",
      "dnn/batch_normalization_1/moments/mean/reduction_indices\n",
      "dnn/batch_normalization_1/moments/mean\n",
      "dnn/batch_normalization_1/moments/StopGradient\n",
      "dnn/batch_normalization_1/moments/SquaredDifference\n",
      "dnn/batch_normalization_1/moments/variance/reduction_indices\n",
      "dnn/batch_normalization_1/moments/variance\n",
      "dnn/batch_normalization_1/moments/Squeeze\n",
      "dnn/batch_normalization_1/moments/Squeeze_1\n",
      "dnn/batch_normalization_1/cond/Switch\n",
      "dnn/batch_normalization_1/cond/switch_t\n",
      "dnn/batch_normalization_1/cond/switch_f\n",
      "dnn/batch_normalization_1/cond/pred_id\n",
      "dnn/batch_normalization_1/cond/Switch_1\n",
      "dnn/batch_normalization_1/cond/Switch_2\n",
      "dnn/batch_normalization_1/cond/Merge\n",
      "dnn/batch_normalization_1/cond_1/Switch\n",
      "dnn/batch_normalization_1/cond_1/switch_t\n",
      "dnn/batch_normalization_1/cond_1/switch_f\n",
      "dnn/batch_normalization_1/cond_1/pred_id\n",
      "dnn/batch_normalization_1/cond_1/Switch_1\n",
      "dnn/batch_normalization_1/cond_1/Switch_2\n",
      "dnn/batch_normalization_1/cond_1/Merge\n",
      "dnn/batch_normalization_1/cond_2/Switch\n",
      "dnn/batch_normalization_1/cond_2/switch_t\n",
      "dnn/batch_normalization_1/cond_2/switch_f\n",
      "dnn/batch_normalization_1/cond_2/pred_id\n",
      "dnn/batch_normalization_1/cond_2/AssignMovingAvg/decay\n",
      "dnn/batch_normalization_1/cond_2/AssignMovingAvg/sub/Switch\n",
      "dnn/batch_normalization_1/cond_2/AssignMovingAvg/sub/Switch_1\n",
      "dnn/batch_normalization_1/cond_2/AssignMovingAvg/sub\n",
      "dnn/batch_normalization_1/cond_2/AssignMovingAvg/mul\n",
      "dnn/batch_normalization_1/cond_2/AssignMovingAvg/Switch\n",
      "dnn/batch_normalization_1/cond_2/AssignMovingAvg\n",
      "dnn/batch_normalization_1/cond_2/Switch_1\n",
      "dnn/batch_normalization_1/cond_2/Merge\n",
      "dnn/batch_normalization_1/cond_3/Switch\n",
      "dnn/batch_normalization_1/cond_3/switch_t\n",
      "dnn/batch_normalization_1/cond_3/switch_f\n",
      "dnn/batch_normalization_1/cond_3/pred_id\n",
      "dnn/batch_normalization_1/cond_3/AssignMovingAvg/decay\n",
      "dnn/batch_normalization_1/cond_3/AssignMovingAvg/sub/Switch\n",
      "dnn/batch_normalization_1/cond_3/AssignMovingAvg/sub/Switch_1\n",
      "dnn/batch_normalization_1/cond_3/AssignMovingAvg/sub\n",
      "dnn/batch_normalization_1/cond_3/AssignMovingAvg/mul\n",
      "dnn/batch_normalization_1/cond_3/AssignMovingAvg/Switch\n",
      "dnn/batch_normalization_1/cond_3/AssignMovingAvg\n",
      "dnn/batch_normalization_1/cond_3/Switch_1\n",
      "dnn/batch_normalization_1/cond_3/Merge\n",
      "dnn/batch_normalization_1/batchnorm/add/y\n",
      "dnn/batch_normalization_1/batchnorm/add\n",
      "dnn/batch_normalization_1/batchnorm/Rsqrt\n",
      "dnn/batch_normalization_1/batchnorm/mul\n",
      "dnn/batch_normalization_1/batchnorm/mul_1\n",
      "dnn/batch_normalization_1/batchnorm/mul_2\n",
      "dnn/batch_normalization_1/batchnorm/sub\n",
      "dnn/batch_normalization_1/batchnorm/add_1\n",
      "dnn/Elu_1\n",
      "outputs/kernel/Initializer/truncated_normal/shape\n",
      "outputs/kernel/Initializer/truncated_normal/mean\n",
      "outputs/kernel/Initializer/truncated_normal/stddev\n",
      "outputs/kernel/Initializer/truncated_normal/TruncatedNormal\n",
      "outputs/kernel/Initializer/truncated_normal/mul\n",
      "outputs/kernel/Initializer/truncated_normal\n",
      "outputs/kernel\n",
      "outputs/kernel/Assign\n",
      "outputs/kernel/read\n",
      "outputs/bias/Initializer/zeros\n",
      "outputs/bias\n",
      "outputs/bias/Assign\n",
      "outputs/bias/read\n",
      "dnn/outputs/MatMul\n",
      "dnn/outputs/BiasAdd\n",
      "batch_normalization_2/gamma/Initializer/ones\n",
      "batch_normalization_2/gamma\n",
      "batch_normalization_2/gamma/Assign\n",
      "batch_normalization_2/gamma/read\n",
      "batch_normalization_2/beta/Initializer/zeros\n",
      "batch_normalization_2/beta\n",
      "batch_normalization_2/beta/Assign\n",
      "batch_normalization_2/beta/read\n",
      "batch_normalization_2/moving_mean/Initializer/zeros\n",
      "batch_normalization_2/moving_mean\n",
      "batch_normalization_2/moving_mean/Assign\n",
      "batch_normalization_2/moving_mean/read\n",
      "batch_normalization_2/moving_variance/Initializer/ones\n",
      "batch_normalization_2/moving_variance\n",
      "batch_normalization_2/moving_variance/Assign\n",
      "batch_normalization_2/moving_variance/read\n",
      "dnn/batch_normalization_2/moments/mean/reduction_indices\n",
      "dnn/batch_normalization_2/moments/mean\n",
      "dnn/batch_normalization_2/moments/StopGradient\n",
      "dnn/batch_normalization_2/moments/SquaredDifference\n",
      "dnn/batch_normalization_2/moments/variance/reduction_indices\n",
      "dnn/batch_normalization_2/moments/variance\n",
      "dnn/batch_normalization_2/moments/Squeeze\n",
      "dnn/batch_normalization_2/moments/Squeeze_1\n",
      "dnn/batch_normalization_2/cond/Switch\n",
      "dnn/batch_normalization_2/cond/switch_t\n",
      "dnn/batch_normalization_2/cond/switch_f\n",
      "dnn/batch_normalization_2/cond/pred_id\n",
      "dnn/batch_normalization_2/cond/Switch_1\n",
      "dnn/batch_normalization_2/cond/Switch_2\n",
      "dnn/batch_normalization_2/cond/Merge\n",
      "dnn/batch_normalization_2/cond_1/Switch\n",
      "dnn/batch_normalization_2/cond_1/switch_t\n",
      "dnn/batch_normalization_2/cond_1/switch_f\n",
      "dnn/batch_normalization_2/cond_1/pred_id\n",
      "dnn/batch_normalization_2/cond_1/Switch_1\n",
      "dnn/batch_normalization_2/cond_1/Switch_2\n",
      "dnn/batch_normalization_2/cond_1/Merge\n",
      "dnn/batch_normalization_2/cond_2/Switch\n",
      "dnn/batch_normalization_2/cond_2/switch_t\n",
      "dnn/batch_normalization_2/cond_2/switch_f\n",
      "dnn/batch_normalization_2/cond_2/pred_id\n",
      "dnn/batch_normalization_2/cond_2/AssignMovingAvg/decay\n",
      "dnn/batch_normalization_2/cond_2/AssignMovingAvg/sub/Switch\n",
      "dnn/batch_normalization_2/cond_2/AssignMovingAvg/sub/Switch_1\n",
      "dnn/batch_normalization_2/cond_2/AssignMovingAvg/sub\n",
      "dnn/batch_normalization_2/cond_2/AssignMovingAvg/mul\n",
      "dnn/batch_normalization_2/cond_2/AssignMovingAvg/Switch\n",
      "dnn/batch_normalization_2/cond_2/AssignMovingAvg\n",
      "dnn/batch_normalization_2/cond_2/Switch_1\n",
      "dnn/batch_normalization_2/cond_2/Merge\n",
      "dnn/batch_normalization_2/cond_3/Switch\n",
      "dnn/batch_normalization_2/cond_3/switch_t\n",
      "dnn/batch_normalization_2/cond_3/switch_f\n",
      "dnn/batch_normalization_2/cond_3/pred_id\n",
      "dnn/batch_normalization_2/cond_3/AssignMovingAvg/decay\n",
      "dnn/batch_normalization_2/cond_3/AssignMovingAvg/sub/Switch\n",
      "dnn/batch_normalization_2/cond_3/AssignMovingAvg/sub/Switch_1\n",
      "dnn/batch_normalization_2/cond_3/AssignMovingAvg/sub\n",
      "dnn/batch_normalization_2/cond_3/AssignMovingAvg/mul\n",
      "dnn/batch_normalization_2/cond_3/AssignMovingAvg/Switch\n",
      "dnn/batch_normalization_2/cond_3/AssignMovingAvg\n",
      "dnn/batch_normalization_2/cond_3/Switch_1\n",
      "dnn/batch_normalization_2/cond_3/Merge\n",
      "dnn/batch_normalization_2/batchnorm/add/y\n",
      "dnn/batch_normalization_2/batchnorm/add\n",
      "dnn/batch_normalization_2/batchnorm/Rsqrt\n",
      "dnn/batch_normalization_2/batchnorm/mul\n",
      "dnn/batch_normalization_2/batchnorm/mul_1\n",
      "dnn/batch_normalization_2/batchnorm/mul_2\n",
      "dnn/batch_normalization_2/batchnorm/sub\n",
      "dnn/batch_normalization_2/batchnorm/add_1\n",
      "loss/SparseSoftmaxCrossEntropyWithLogits/Shape\n",
      "loss/SparseSoftmaxCrossEntropyWithLogits/SparseSoftmaxCrossEntropyWithLogits\n",
      "loss/Const\n",
      "loss/loss\n",
      "train/gradients/Shape\n",
      "train/gradients/grad_ys_0\n",
      "train/gradients/Fill\n",
      "train/gradients/loss/loss_grad/Reshape/shape\n",
      "train/gradients/loss/loss_grad/Reshape\n",
      "train/gradients/loss/loss_grad/Shape\n",
      "train/gradients/loss/loss_grad/Tile\n",
      "train/gradients/loss/loss_grad/Shape_1\n",
      "train/gradients/loss/loss_grad/Shape_2\n",
      "train/gradients/loss/loss_grad/Const\n",
      "train/gradients/loss/loss_grad/Prod\n",
      "train/gradients/loss/loss_grad/Const_1\n",
      "train/gradients/loss/loss_grad/Prod_1\n",
      "train/gradients/loss/loss_grad/Maximum/y\n",
      "train/gradients/loss/loss_grad/Maximum\n",
      "train/gradients/loss/loss_grad/floordiv\n",
      "train/gradients/loss/loss_grad/Cast\n",
      "train/gradients/loss/loss_grad/truediv\n",
      "train/gradients/zeros_like\n",
      "train/gradients/loss/SparseSoftmaxCrossEntropyWithLogits/SparseSoftmaxCrossEntropyWithLogits_grad/PreventGradient\n",
      "train/gradients/loss/SparseSoftmaxCrossEntropyWithLogits/SparseSoftmaxCrossEntropyWithLogits_grad/ExpandDims/dim\n",
      "train/gradients/loss/SparseSoftmaxCrossEntropyWithLogits/SparseSoftmaxCrossEntropyWithLogits_grad/ExpandDims\n",
      "train/gradients/loss/SparseSoftmaxCrossEntropyWithLogits/SparseSoftmaxCrossEntropyWithLogits_grad/mul\n",
      "train/gradients/dnn/batch_normalization_2/batchnorm/add_1_grad/Shape\n",
      "train/gradients/dnn/batch_normalization_2/batchnorm/add_1_grad/Shape_1\n",
      "train/gradients/dnn/batch_normalization_2/batchnorm/add_1_grad/BroadcastGradientArgs\n",
      "train/gradients/dnn/batch_normalization_2/batchnorm/add_1_grad/Sum\n",
      "train/gradients/dnn/batch_normalization_2/batchnorm/add_1_grad/Reshape\n",
      "train/gradients/dnn/batch_normalization_2/batchnorm/add_1_grad/Sum_1\n",
      "train/gradients/dnn/batch_normalization_2/batchnorm/add_1_grad/Reshape_1\n",
      "train/gradients/dnn/batch_normalization_2/batchnorm/add_1_grad/tuple/group_deps\n",
      "train/gradients/dnn/batch_normalization_2/batchnorm/add_1_grad/tuple/control_dependency\n",
      "train/gradients/dnn/batch_normalization_2/batchnorm/add_1_grad/tuple/control_dependency_1\n",
      "train/gradients/dnn/batch_normalization_2/batchnorm/mul_1_grad/Shape\n",
      "train/gradients/dnn/batch_normalization_2/batchnorm/mul_1_grad/Shape_1\n",
      "train/gradients/dnn/batch_normalization_2/batchnorm/mul_1_grad/BroadcastGradientArgs\n",
      "train/gradients/dnn/batch_normalization_2/batchnorm/mul_1_grad/Mul\n",
      "train/gradients/dnn/batch_normalization_2/batchnorm/mul_1_grad/Sum\n",
      "train/gradients/dnn/batch_normalization_2/batchnorm/mul_1_grad/Reshape\n",
      "train/gradients/dnn/batch_normalization_2/batchnorm/mul_1_grad/Mul_1\n",
      "train/gradients/dnn/batch_normalization_2/batchnorm/mul_1_grad/Sum_1\n",
      "train/gradients/dnn/batch_normalization_2/batchnorm/mul_1_grad/Reshape_1\n",
      "train/gradients/dnn/batch_normalization_2/batchnorm/mul_1_grad/tuple/group_deps\n",
      "train/gradients/dnn/batch_normalization_2/batchnorm/mul_1_grad/tuple/control_dependency\n",
      "train/gradients/dnn/batch_normalization_2/batchnorm/mul_1_grad/tuple/control_dependency_1\n",
      "train/gradients/dnn/batch_normalization_2/batchnorm/sub_grad/Neg\n",
      "train/gradients/dnn/batch_normalization_2/batchnorm/sub_grad/tuple/group_deps\n",
      "train/gradients/dnn/batch_normalization_2/batchnorm/sub_grad/tuple/control_dependency\n",
      "train/gradients/dnn/batch_normalization_2/batchnorm/sub_grad/tuple/control_dependency_1\n",
      "train/gradients/dnn/batch_normalization_2/batchnorm/mul_2_grad/Mul\n",
      "train/gradients/dnn/batch_normalization_2/batchnorm/mul_2_grad/Mul_1\n",
      "train/gradients/dnn/batch_normalization_2/batchnorm/mul_2_grad/tuple/group_deps\n",
      "train/gradients/dnn/batch_normalization_2/batchnorm/mul_2_grad/tuple/control_dependency\n",
      "train/gradients/dnn/batch_normalization_2/batchnorm/mul_2_grad/tuple/control_dependency_1\n",
      "train/gradients/dnn/batch_normalization_2/cond/Merge_grad/cond_grad\n",
      "train/gradients/dnn/batch_normalization_2/cond/Merge_grad/tuple/group_deps\n",
      "train/gradients/dnn/batch_normalization_2/cond/Merge_grad/tuple/control_dependency\n",
      "train/gradients/dnn/batch_normalization_2/cond/Merge_grad/tuple/control_dependency_1\n",
      "train/gradients/AddN\n",
      "train/gradients/dnn/batch_normalization_2/batchnorm/mul_grad/Mul\n",
      "train/gradients/dnn/batch_normalization_2/batchnorm/mul_grad/Mul_1\n",
      "train/gradients/dnn/batch_normalization_2/batchnorm/mul_grad/tuple/group_deps\n",
      "train/gradients/dnn/batch_normalization_2/batchnorm/mul_grad/tuple/control_dependency\n",
      "train/gradients/dnn/batch_normalization_2/batchnorm/mul_grad/tuple/control_dependency_1\n",
      "train/gradients/Switch\n",
      "train/gradients/Identity\n",
      "train/gradients/Shape_1\n",
      "train/gradients/zeros/Const\n",
      "train/gradients/zeros\n",
      "train/gradients/dnn/batch_normalization_2/cond/Switch_1_grad/cond_grad\n",
      "train/gradients/dnn/batch_normalization_2/batchnorm/Rsqrt_grad/RsqrtGrad\n",
      "train/gradients/dnn/batch_normalization_2/moments/Squeeze_grad/Shape\n",
      "train/gradients/dnn/batch_normalization_2/moments/Squeeze_grad/Reshape\n",
      "train/gradients/dnn/batch_normalization_2/batchnorm/add_grad/Shape\n",
      "train/gradients/dnn/batch_normalization_2/batchnorm/add_grad/Shape_1\n",
      "train/gradients/dnn/batch_normalization_2/batchnorm/add_grad/BroadcastGradientArgs\n",
      "train/gradients/dnn/batch_normalization_2/batchnorm/add_grad/Sum\n",
      "train/gradients/dnn/batch_normalization_2/batchnorm/add_grad/Reshape\n",
      "train/gradients/dnn/batch_normalization_2/batchnorm/add_grad/Sum_1\n",
      "train/gradients/dnn/batch_normalization_2/batchnorm/add_grad/Reshape_1\n",
      "train/gradients/dnn/batch_normalization_2/batchnorm/add_grad/tuple/group_deps\n",
      "train/gradients/dnn/batch_normalization_2/batchnorm/add_grad/tuple/control_dependency\n",
      "train/gradients/dnn/batch_normalization_2/batchnorm/add_grad/tuple/control_dependency_1\n",
      "train/gradients/dnn/batch_normalization_2/cond_1/Merge_grad/cond_grad\n",
      "train/gradients/dnn/batch_normalization_2/cond_1/Merge_grad/tuple/group_deps\n",
      "train/gradients/dnn/batch_normalization_2/cond_1/Merge_grad/tuple/control_dependency\n",
      "train/gradients/dnn/batch_normalization_2/cond_1/Merge_grad/tuple/control_dependency_1\n",
      "train/gradients/Switch_1\n",
      "train/gradients/Identity_1\n",
      "train/gradients/Shape_2\n",
      "train/gradients/zeros_1/Const\n",
      "train/gradients/zeros_1\n",
      "train/gradients/dnn/batch_normalization_2/cond_1/Switch_1_grad/cond_grad\n",
      "train/gradients/dnn/batch_normalization_2/moments/Squeeze_1_grad/Shape\n",
      "train/gradients/dnn/batch_normalization_2/moments/Squeeze_1_grad/Reshape\n",
      "train/gradients/dnn/batch_normalization_2/moments/variance_grad/Shape\n",
      "train/gradients/dnn/batch_normalization_2/moments/variance_grad/Size\n",
      "train/gradients/dnn/batch_normalization_2/moments/variance_grad/add\n",
      "train/gradients/dnn/batch_normalization_2/moments/variance_grad/mod\n",
      "train/gradients/dnn/batch_normalization_2/moments/variance_grad/Shape_1\n",
      "train/gradients/dnn/batch_normalization_2/moments/variance_grad/range/start\n",
      "train/gradients/dnn/batch_normalization_2/moments/variance_grad/range/delta\n",
      "train/gradients/dnn/batch_normalization_2/moments/variance_grad/range\n",
      "train/gradients/dnn/batch_normalization_2/moments/variance_grad/Fill/value\n",
      "train/gradients/dnn/batch_normalization_2/moments/variance_grad/Fill\n",
      "train/gradients/dnn/batch_normalization_2/moments/variance_grad/DynamicStitch\n",
      "train/gradients/dnn/batch_normalization_2/moments/variance_grad/Maximum/y\n",
      "train/gradients/dnn/batch_normalization_2/moments/variance_grad/Maximum\n",
      "train/gradients/dnn/batch_normalization_2/moments/variance_grad/floordiv\n",
      "train/gradients/dnn/batch_normalization_2/moments/variance_grad/Reshape\n",
      "train/gradients/dnn/batch_normalization_2/moments/variance_grad/Tile\n",
      "train/gradients/dnn/batch_normalization_2/moments/variance_grad/Shape_2\n",
      "train/gradients/dnn/batch_normalization_2/moments/variance_grad/Shape_3\n",
      "train/gradients/dnn/batch_normalization_2/moments/variance_grad/Const\n",
      "train/gradients/dnn/batch_normalization_2/moments/variance_grad/Prod\n",
      "train/gradients/dnn/batch_normalization_2/moments/variance_grad/Const_1\n",
      "train/gradients/dnn/batch_normalization_2/moments/variance_grad/Prod_1\n",
      "train/gradients/dnn/batch_normalization_2/moments/variance_grad/Maximum_1/y\n",
      "train/gradients/dnn/batch_normalization_2/moments/variance_grad/Maximum_1\n",
      "train/gradients/dnn/batch_normalization_2/moments/variance_grad/floordiv_1\n",
      "train/gradients/dnn/batch_normalization_2/moments/variance_grad/Cast\n",
      "train/gradients/dnn/batch_normalization_2/moments/variance_grad/truediv\n",
      "train/gradients/dnn/batch_normalization_2/moments/SquaredDifference_grad/Shape\n",
      "train/gradients/dnn/batch_normalization_2/moments/SquaredDifference_grad/Shape_1\n",
      "train/gradients/dnn/batch_normalization_2/moments/SquaredDifference_grad/BroadcastGradientArgs\n",
      "train/gradients/dnn/batch_normalization_2/moments/SquaredDifference_grad/scalar\n",
      "train/gradients/dnn/batch_normalization_2/moments/SquaredDifference_grad/Mul\n",
      "train/gradients/dnn/batch_normalization_2/moments/SquaredDifference_grad/sub\n",
      "train/gradients/dnn/batch_normalization_2/moments/SquaredDifference_grad/mul_1\n",
      "train/gradients/dnn/batch_normalization_2/moments/SquaredDifference_grad/Sum\n",
      "train/gradients/dnn/batch_normalization_2/moments/SquaredDifference_grad/Reshape\n",
      "train/gradients/dnn/batch_normalization_2/moments/SquaredDifference_grad/Sum_1\n",
      "train/gradients/dnn/batch_normalization_2/moments/SquaredDifference_grad/Reshape_1\n",
      "train/gradients/dnn/batch_normalization_2/moments/SquaredDifference_grad/Neg\n",
      "train/gradients/dnn/batch_normalization_2/moments/SquaredDifference_grad/tuple/group_deps\n",
      "train/gradients/dnn/batch_normalization_2/moments/SquaredDifference_grad/tuple/control_dependency\n",
      "train/gradients/dnn/batch_normalization_2/moments/SquaredDifference_grad/tuple/control_dependency_1\n",
      "train/gradients/dnn/batch_normalization_2/moments/mean_grad/Shape\n",
      "train/gradients/dnn/batch_normalization_2/moments/mean_grad/Size\n",
      "train/gradients/dnn/batch_normalization_2/moments/mean_grad/add\n",
      "train/gradients/dnn/batch_normalization_2/moments/mean_grad/mod\n",
      "train/gradients/dnn/batch_normalization_2/moments/mean_grad/Shape_1\n",
      "train/gradients/dnn/batch_normalization_2/moments/mean_grad/range/start\n",
      "train/gradients/dnn/batch_normalization_2/moments/mean_grad/range/delta\n",
      "train/gradients/dnn/batch_normalization_2/moments/mean_grad/range\n",
      "train/gradients/dnn/batch_normalization_2/moments/mean_grad/Fill/value\n",
      "train/gradients/dnn/batch_normalization_2/moments/mean_grad/Fill\n",
      "train/gradients/dnn/batch_normalization_2/moments/mean_grad/DynamicStitch\n",
      "train/gradients/dnn/batch_normalization_2/moments/mean_grad/Maximum/y\n",
      "train/gradients/dnn/batch_normalization_2/moments/mean_grad/Maximum\n",
      "train/gradients/dnn/batch_normalization_2/moments/mean_grad/floordiv\n",
      "train/gradients/dnn/batch_normalization_2/moments/mean_grad/Reshape\n",
      "train/gradients/dnn/batch_normalization_2/moments/mean_grad/Tile\n",
      "train/gradients/dnn/batch_normalization_2/moments/mean_grad/Shape_2\n",
      "train/gradients/dnn/batch_normalization_2/moments/mean_grad/Shape_3\n",
      "train/gradients/dnn/batch_normalization_2/moments/mean_grad/Const\n",
      "train/gradients/dnn/batch_normalization_2/moments/mean_grad/Prod\n",
      "train/gradients/dnn/batch_normalization_2/moments/mean_grad/Const_1\n",
      "train/gradients/dnn/batch_normalization_2/moments/mean_grad/Prod_1\n",
      "train/gradients/dnn/batch_normalization_2/moments/mean_grad/Maximum_1/y\n",
      "train/gradients/dnn/batch_normalization_2/moments/mean_grad/Maximum_1\n",
      "train/gradients/dnn/batch_normalization_2/moments/mean_grad/floordiv_1\n",
      "train/gradients/dnn/batch_normalization_2/moments/mean_grad/Cast\n",
      "train/gradients/dnn/batch_normalization_2/moments/mean_grad/truediv\n",
      "train/gradients/AddN_1\n",
      "train/gradients/dnn/outputs/BiasAdd_grad/BiasAddGrad\n",
      "train/gradients/dnn/outputs/BiasAdd_grad/tuple/group_deps\n",
      "train/gradients/dnn/outputs/BiasAdd_grad/tuple/control_dependency\n",
      "train/gradients/dnn/outputs/BiasAdd_grad/tuple/control_dependency_1\n",
      "train/gradients/dnn/outputs/MatMul_grad/MatMul\n",
      "train/gradients/dnn/outputs/MatMul_grad/MatMul_1\n",
      "train/gradients/dnn/outputs/MatMul_grad/tuple/group_deps\n",
      "train/gradients/dnn/outputs/MatMul_grad/tuple/control_dependency\n",
      "train/gradients/dnn/outputs/MatMul_grad/tuple/control_dependency_1\n",
      "train/gradients/dnn/Elu_1_grad/EluGrad\n",
      "train/gradients/dnn/batch_normalization_1/batchnorm/add_1_grad/Shape\n",
      "train/gradients/dnn/batch_normalization_1/batchnorm/add_1_grad/Shape_1\n",
      "train/gradients/dnn/batch_normalization_1/batchnorm/add_1_grad/BroadcastGradientArgs\n",
      "train/gradients/dnn/batch_normalization_1/batchnorm/add_1_grad/Sum\n",
      "train/gradients/dnn/batch_normalization_1/batchnorm/add_1_grad/Reshape\n",
      "train/gradients/dnn/batch_normalization_1/batchnorm/add_1_grad/Sum_1\n",
      "train/gradients/dnn/batch_normalization_1/batchnorm/add_1_grad/Reshape_1\n",
      "train/gradients/dnn/batch_normalization_1/batchnorm/add_1_grad/tuple/group_deps\n",
      "train/gradients/dnn/batch_normalization_1/batchnorm/add_1_grad/tuple/control_dependency\n",
      "train/gradients/dnn/batch_normalization_1/batchnorm/add_1_grad/tuple/control_dependency_1\n",
      "train/gradients/dnn/batch_normalization_1/batchnorm/mul_1_grad/Shape\n",
      "train/gradients/dnn/batch_normalization_1/batchnorm/mul_1_grad/Shape_1\n",
      "train/gradients/dnn/batch_normalization_1/batchnorm/mul_1_grad/BroadcastGradientArgs\n",
      "train/gradients/dnn/batch_normalization_1/batchnorm/mul_1_grad/Mul\n",
      "train/gradients/dnn/batch_normalization_1/batchnorm/mul_1_grad/Sum\n",
      "train/gradients/dnn/batch_normalization_1/batchnorm/mul_1_grad/Reshape\n",
      "train/gradients/dnn/batch_normalization_1/batchnorm/mul_1_grad/Mul_1\n",
      "train/gradients/dnn/batch_normalization_1/batchnorm/mul_1_grad/Sum_1\n",
      "train/gradients/dnn/batch_normalization_1/batchnorm/mul_1_grad/Reshape_1\n",
      "train/gradients/dnn/batch_normalization_1/batchnorm/mul_1_grad/tuple/group_deps\n",
      "train/gradients/dnn/batch_normalization_1/batchnorm/mul_1_grad/tuple/control_dependency\n",
      "train/gradients/dnn/batch_normalization_1/batchnorm/mul_1_grad/tuple/control_dependency_1\n",
      "train/gradients/dnn/batch_normalization_1/batchnorm/sub_grad/Neg\n",
      "train/gradients/dnn/batch_normalization_1/batchnorm/sub_grad/tuple/group_deps\n",
      "train/gradients/dnn/batch_normalization_1/batchnorm/sub_grad/tuple/control_dependency\n",
      "train/gradients/dnn/batch_normalization_1/batchnorm/sub_grad/tuple/control_dependency_1\n",
      "train/gradients/dnn/batch_normalization_1/batchnorm/mul_2_grad/Mul\n",
      "train/gradients/dnn/batch_normalization_1/batchnorm/mul_2_grad/Mul_1\n",
      "train/gradients/dnn/batch_normalization_1/batchnorm/mul_2_grad/tuple/group_deps\n",
      "train/gradients/dnn/batch_normalization_1/batchnorm/mul_2_grad/tuple/control_dependency\n",
      "train/gradients/dnn/batch_normalization_1/batchnorm/mul_2_grad/tuple/control_dependency_1\n",
      "train/gradients/dnn/batch_normalization_1/cond/Merge_grad/cond_grad\n",
      "train/gradients/dnn/batch_normalization_1/cond/Merge_grad/tuple/group_deps\n",
      "train/gradients/dnn/batch_normalization_1/cond/Merge_grad/tuple/control_dependency\n",
      "train/gradients/dnn/batch_normalization_1/cond/Merge_grad/tuple/control_dependency_1\n",
      "train/gradients/AddN_2\n",
      "train/gradients/dnn/batch_normalization_1/batchnorm/mul_grad/Mul\n",
      "train/gradients/dnn/batch_normalization_1/batchnorm/mul_grad/Mul_1\n",
      "train/gradients/dnn/batch_normalization_1/batchnorm/mul_grad/tuple/group_deps\n",
      "train/gradients/dnn/batch_normalization_1/batchnorm/mul_grad/tuple/control_dependency\n",
      "train/gradients/dnn/batch_normalization_1/batchnorm/mul_grad/tuple/control_dependency_1\n",
      "train/gradients/Switch_2\n",
      "train/gradients/Identity_2\n",
      "train/gradients/Shape_3\n",
      "train/gradients/zeros_2/Const\n",
      "train/gradients/zeros_2\n",
      "train/gradients/dnn/batch_normalization_1/cond/Switch_1_grad/cond_grad\n",
      "train/gradients/dnn/batch_normalization_1/batchnorm/Rsqrt_grad/RsqrtGrad\n",
      "train/gradients/dnn/batch_normalization_1/moments/Squeeze_grad/Shape\n",
      "train/gradients/dnn/batch_normalization_1/moments/Squeeze_grad/Reshape\n",
      "train/gradients/dnn/batch_normalization_1/batchnorm/add_grad/Shape\n",
      "train/gradients/dnn/batch_normalization_1/batchnorm/add_grad/Shape_1\n",
      "train/gradients/dnn/batch_normalization_1/batchnorm/add_grad/BroadcastGradientArgs\n",
      "train/gradients/dnn/batch_normalization_1/batchnorm/add_grad/Sum\n",
      "train/gradients/dnn/batch_normalization_1/batchnorm/add_grad/Reshape\n",
      "train/gradients/dnn/batch_normalization_1/batchnorm/add_grad/Sum_1\n",
      "train/gradients/dnn/batch_normalization_1/batchnorm/add_grad/Reshape_1\n",
      "train/gradients/dnn/batch_normalization_1/batchnorm/add_grad/tuple/group_deps\n",
      "train/gradients/dnn/batch_normalization_1/batchnorm/add_grad/tuple/control_dependency\n",
      "train/gradients/dnn/batch_normalization_1/batchnorm/add_grad/tuple/control_dependency_1\n",
      "train/gradients/dnn/batch_normalization_1/cond_1/Merge_grad/cond_grad\n",
      "train/gradients/dnn/batch_normalization_1/cond_1/Merge_grad/tuple/group_deps\n",
      "train/gradients/dnn/batch_normalization_1/cond_1/Merge_grad/tuple/control_dependency\n",
      "train/gradients/dnn/batch_normalization_1/cond_1/Merge_grad/tuple/control_dependency_1\n",
      "train/gradients/Switch_3\n",
      "train/gradients/Identity_3\n",
      "train/gradients/Shape_4\n",
      "train/gradients/zeros_3/Const\n",
      "train/gradients/zeros_3\n",
      "train/gradients/dnn/batch_normalization_1/cond_1/Switch_1_grad/cond_grad\n",
      "train/gradients/dnn/batch_normalization_1/moments/Squeeze_1_grad/Shape\n",
      "train/gradients/dnn/batch_normalization_1/moments/Squeeze_1_grad/Reshape\n",
      "train/gradients/dnn/batch_normalization_1/moments/variance_grad/Shape\n",
      "train/gradients/dnn/batch_normalization_1/moments/variance_grad/Size\n",
      "train/gradients/dnn/batch_normalization_1/moments/variance_grad/add\n",
      "train/gradients/dnn/batch_normalization_1/moments/variance_grad/mod\n",
      "train/gradients/dnn/batch_normalization_1/moments/variance_grad/Shape_1\n",
      "train/gradients/dnn/batch_normalization_1/moments/variance_grad/range/start\n",
      "train/gradients/dnn/batch_normalization_1/moments/variance_grad/range/delta\n",
      "train/gradients/dnn/batch_normalization_1/moments/variance_grad/range\n",
      "train/gradients/dnn/batch_normalization_1/moments/variance_grad/Fill/value\n",
      "train/gradients/dnn/batch_normalization_1/moments/variance_grad/Fill\n",
      "train/gradients/dnn/batch_normalization_1/moments/variance_grad/DynamicStitch\n",
      "train/gradients/dnn/batch_normalization_1/moments/variance_grad/Maximum/y\n",
      "train/gradients/dnn/batch_normalization_1/moments/variance_grad/Maximum\n",
      "train/gradients/dnn/batch_normalization_1/moments/variance_grad/floordiv\n",
      "train/gradients/dnn/batch_normalization_1/moments/variance_grad/Reshape\n",
      "train/gradients/dnn/batch_normalization_1/moments/variance_grad/Tile\n",
      "train/gradients/dnn/batch_normalization_1/moments/variance_grad/Shape_2\n",
      "train/gradients/dnn/batch_normalization_1/moments/variance_grad/Shape_3\n",
      "train/gradients/dnn/batch_normalization_1/moments/variance_grad/Const\n",
      "train/gradients/dnn/batch_normalization_1/moments/variance_grad/Prod\n",
      "train/gradients/dnn/batch_normalization_1/moments/variance_grad/Const_1\n",
      "train/gradients/dnn/batch_normalization_1/moments/variance_grad/Prod_1\n",
      "train/gradients/dnn/batch_normalization_1/moments/variance_grad/Maximum_1/y\n",
      "train/gradients/dnn/batch_normalization_1/moments/variance_grad/Maximum_1\n",
      "train/gradients/dnn/batch_normalization_1/moments/variance_grad/floordiv_1\n",
      "train/gradients/dnn/batch_normalization_1/moments/variance_grad/Cast\n",
      "train/gradients/dnn/batch_normalization_1/moments/variance_grad/truediv\n",
      "train/gradients/dnn/batch_normalization_1/moments/SquaredDifference_grad/Shape\n",
      "train/gradients/dnn/batch_normalization_1/moments/SquaredDifference_grad/Shape_1\n",
      "train/gradients/dnn/batch_normalization_1/moments/SquaredDifference_grad/BroadcastGradientArgs\n",
      "train/gradients/dnn/batch_normalization_1/moments/SquaredDifference_grad/scalar\n",
      "train/gradients/dnn/batch_normalization_1/moments/SquaredDifference_grad/Mul\n",
      "train/gradients/dnn/batch_normalization_1/moments/SquaredDifference_grad/sub\n",
      "train/gradients/dnn/batch_normalization_1/moments/SquaredDifference_grad/mul_1\n",
      "train/gradients/dnn/batch_normalization_1/moments/SquaredDifference_grad/Sum\n",
      "train/gradients/dnn/batch_normalization_1/moments/SquaredDifference_grad/Reshape\n",
      "train/gradients/dnn/batch_normalization_1/moments/SquaredDifference_grad/Sum_1\n",
      "train/gradients/dnn/batch_normalization_1/moments/SquaredDifference_grad/Reshape_1\n",
      "train/gradients/dnn/batch_normalization_1/moments/SquaredDifference_grad/Neg\n",
      "train/gradients/dnn/batch_normalization_1/moments/SquaredDifference_grad/tuple/group_deps\n",
      "train/gradients/dnn/batch_normalization_1/moments/SquaredDifference_grad/tuple/control_dependency\n",
      "train/gradients/dnn/batch_normalization_1/moments/SquaredDifference_grad/tuple/control_dependency_1\n",
      "train/gradients/dnn/batch_normalization_1/moments/mean_grad/Shape\n",
      "train/gradients/dnn/batch_normalization_1/moments/mean_grad/Size\n",
      "train/gradients/dnn/batch_normalization_1/moments/mean_grad/add\n",
      "train/gradients/dnn/batch_normalization_1/moments/mean_grad/mod\n",
      "train/gradients/dnn/batch_normalization_1/moments/mean_grad/Shape_1\n",
      "train/gradients/dnn/batch_normalization_1/moments/mean_grad/range/start\n",
      "train/gradients/dnn/batch_normalization_1/moments/mean_grad/range/delta\n",
      "train/gradients/dnn/batch_normalization_1/moments/mean_grad/range\n",
      "train/gradients/dnn/batch_normalization_1/moments/mean_grad/Fill/value\n",
      "train/gradients/dnn/batch_normalization_1/moments/mean_grad/Fill\n",
      "train/gradients/dnn/batch_normalization_1/moments/mean_grad/DynamicStitch\n",
      "train/gradients/dnn/batch_normalization_1/moments/mean_grad/Maximum/y\n",
      "train/gradients/dnn/batch_normalization_1/moments/mean_grad/Maximum\n",
      "train/gradients/dnn/batch_normalization_1/moments/mean_grad/floordiv\n",
      "train/gradients/dnn/batch_normalization_1/moments/mean_grad/Reshape\n",
      "train/gradients/dnn/batch_normalization_1/moments/mean_grad/Tile\n",
      "train/gradients/dnn/batch_normalization_1/moments/mean_grad/Shape_2\n",
      "train/gradients/dnn/batch_normalization_1/moments/mean_grad/Shape_3\n",
      "train/gradients/dnn/batch_normalization_1/moments/mean_grad/Const\n",
      "train/gradients/dnn/batch_normalization_1/moments/mean_grad/Prod\n",
      "train/gradients/dnn/batch_normalization_1/moments/mean_grad/Const_1\n",
      "train/gradients/dnn/batch_normalization_1/moments/mean_grad/Prod_1\n",
      "train/gradients/dnn/batch_normalization_1/moments/mean_grad/Maximum_1/y\n",
      "train/gradients/dnn/batch_normalization_1/moments/mean_grad/Maximum_1\n",
      "train/gradients/dnn/batch_normalization_1/moments/mean_grad/floordiv_1\n",
      "train/gradients/dnn/batch_normalization_1/moments/mean_grad/Cast\n",
      "train/gradients/dnn/batch_normalization_1/moments/mean_grad/truediv\n",
      "train/gradients/AddN_3\n",
      "train/gradients/dnn/hidden2/BiasAdd_grad/BiasAddGrad\n",
      "train/gradients/dnn/hidden2/BiasAdd_grad/tuple/group_deps\n",
      "train/gradients/dnn/hidden2/BiasAdd_grad/tuple/control_dependency\n",
      "train/gradients/dnn/hidden2/BiasAdd_grad/tuple/control_dependency_1\n",
      "train/gradients/dnn/hidden2/MatMul_grad/MatMul\n",
      "train/gradients/dnn/hidden2/MatMul_grad/MatMul_1\n",
      "train/gradients/dnn/hidden2/MatMul_grad/tuple/group_deps\n",
      "train/gradients/dnn/hidden2/MatMul_grad/tuple/control_dependency\n",
      "train/gradients/dnn/hidden2/MatMul_grad/tuple/control_dependency_1\n",
      "train/gradients/dnn/Elu_grad/EluGrad\n",
      "train/gradients/dnn/batch_normalization/batchnorm/add_1_grad/Shape\n",
      "train/gradients/dnn/batch_normalization/batchnorm/add_1_grad/Shape_1\n",
      "train/gradients/dnn/batch_normalization/batchnorm/add_1_grad/BroadcastGradientArgs\n",
      "train/gradients/dnn/batch_normalization/batchnorm/add_1_grad/Sum\n",
      "train/gradients/dnn/batch_normalization/batchnorm/add_1_grad/Reshape\n",
      "train/gradients/dnn/batch_normalization/batchnorm/add_1_grad/Sum_1\n",
      "train/gradients/dnn/batch_normalization/batchnorm/add_1_grad/Reshape_1\n",
      "train/gradients/dnn/batch_normalization/batchnorm/add_1_grad/tuple/group_deps\n",
      "train/gradients/dnn/batch_normalization/batchnorm/add_1_grad/tuple/control_dependency\n",
      "train/gradients/dnn/batch_normalization/batchnorm/add_1_grad/tuple/control_dependency_1\n",
      "train/gradients/dnn/batch_normalization/batchnorm/mul_1_grad/Shape\n",
      "train/gradients/dnn/batch_normalization/batchnorm/mul_1_grad/Shape_1\n",
      "train/gradients/dnn/batch_normalization/batchnorm/mul_1_grad/BroadcastGradientArgs\n",
      "train/gradients/dnn/batch_normalization/batchnorm/mul_1_grad/Mul\n",
      "train/gradients/dnn/batch_normalization/batchnorm/mul_1_grad/Sum\n",
      "train/gradients/dnn/batch_normalization/batchnorm/mul_1_grad/Reshape\n",
      "train/gradients/dnn/batch_normalization/batchnorm/mul_1_grad/Mul_1\n",
      "train/gradients/dnn/batch_normalization/batchnorm/mul_1_grad/Sum_1\n",
      "train/gradients/dnn/batch_normalization/batchnorm/mul_1_grad/Reshape_1\n",
      "train/gradients/dnn/batch_normalization/batchnorm/mul_1_grad/tuple/group_deps\n",
      "train/gradients/dnn/batch_normalization/batchnorm/mul_1_grad/tuple/control_dependency\n",
      "train/gradients/dnn/batch_normalization/batchnorm/mul_1_grad/tuple/control_dependency_1\n",
      "train/gradients/dnn/batch_normalization/batchnorm/sub_grad/Neg\n",
      "train/gradients/dnn/batch_normalization/batchnorm/sub_grad/tuple/group_deps\n",
      "train/gradients/dnn/batch_normalization/batchnorm/sub_grad/tuple/control_dependency\n",
      "train/gradients/dnn/batch_normalization/batchnorm/sub_grad/tuple/control_dependency_1\n",
      "train/gradients/dnn/batch_normalization/batchnorm/mul_2_grad/Mul\n",
      "train/gradients/dnn/batch_normalization/batchnorm/mul_2_grad/Mul_1\n",
      "train/gradients/dnn/batch_normalization/batchnorm/mul_2_grad/tuple/group_deps\n",
      "train/gradients/dnn/batch_normalization/batchnorm/mul_2_grad/tuple/control_dependency\n",
      "train/gradients/dnn/batch_normalization/batchnorm/mul_2_grad/tuple/control_dependency_1\n",
      "train/gradients/dnn/batch_normalization/cond/Merge_grad/cond_grad\n",
      "train/gradients/dnn/batch_normalization/cond/Merge_grad/tuple/group_deps\n",
      "train/gradients/dnn/batch_normalization/cond/Merge_grad/tuple/control_dependency\n",
      "train/gradients/dnn/batch_normalization/cond/Merge_grad/tuple/control_dependency_1\n",
      "train/gradients/AddN_4\n",
      "train/gradients/dnn/batch_normalization/batchnorm/mul_grad/Mul\n",
      "train/gradients/dnn/batch_normalization/batchnorm/mul_grad/Mul_1\n",
      "train/gradients/dnn/batch_normalization/batchnorm/mul_grad/tuple/group_deps\n",
      "train/gradients/dnn/batch_normalization/batchnorm/mul_grad/tuple/control_dependency\n",
      "train/gradients/dnn/batch_normalization/batchnorm/mul_grad/tuple/control_dependency_1\n",
      "train/gradients/Switch_4\n",
      "train/gradients/Identity_4\n",
      "train/gradients/Shape_5\n",
      "train/gradients/zeros_4/Const\n",
      "train/gradients/zeros_4\n",
      "train/gradients/dnn/batch_normalization/cond/Switch_1_grad/cond_grad\n",
      "train/gradients/dnn/batch_normalization/batchnorm/Rsqrt_grad/RsqrtGrad\n",
      "train/gradients/dnn/batch_normalization/moments/Squeeze_grad/Shape\n",
      "train/gradients/dnn/batch_normalization/moments/Squeeze_grad/Reshape\n",
      "train/gradients/dnn/batch_normalization/batchnorm/add_grad/Shape\n",
      "train/gradients/dnn/batch_normalization/batchnorm/add_grad/Shape_1\n",
      "train/gradients/dnn/batch_normalization/batchnorm/add_grad/BroadcastGradientArgs\n",
      "train/gradients/dnn/batch_normalization/batchnorm/add_grad/Sum\n",
      "train/gradients/dnn/batch_normalization/batchnorm/add_grad/Reshape\n",
      "train/gradients/dnn/batch_normalization/batchnorm/add_grad/Sum_1\n",
      "train/gradients/dnn/batch_normalization/batchnorm/add_grad/Reshape_1\n",
      "train/gradients/dnn/batch_normalization/batchnorm/add_grad/tuple/group_deps\n",
      "train/gradients/dnn/batch_normalization/batchnorm/add_grad/tuple/control_dependency\n",
      "train/gradients/dnn/batch_normalization/batchnorm/add_grad/tuple/control_dependency_1\n",
      "train/gradients/dnn/batch_normalization/cond_1/Merge_grad/cond_grad\n",
      "train/gradients/dnn/batch_normalization/cond_1/Merge_grad/tuple/group_deps\n",
      "train/gradients/dnn/batch_normalization/cond_1/Merge_grad/tuple/control_dependency\n",
      "train/gradients/dnn/batch_normalization/cond_1/Merge_grad/tuple/control_dependency_1\n",
      "train/gradients/Switch_5\n",
      "train/gradients/Identity_5\n",
      "train/gradients/Shape_6\n",
      "train/gradients/zeros_5/Const\n",
      "train/gradients/zeros_5\n",
      "train/gradients/dnn/batch_normalization/cond_1/Switch_1_grad/cond_grad\n",
      "train/gradients/dnn/batch_normalization/moments/Squeeze_1_grad/Shape\n",
      "train/gradients/dnn/batch_normalization/moments/Squeeze_1_grad/Reshape\n",
      "train/gradients/dnn/batch_normalization/moments/variance_grad/Shape\n",
      "train/gradients/dnn/batch_normalization/moments/variance_grad/Size\n",
      "train/gradients/dnn/batch_normalization/moments/variance_grad/add\n",
      "train/gradients/dnn/batch_normalization/moments/variance_grad/mod\n",
      "train/gradients/dnn/batch_normalization/moments/variance_grad/Shape_1\n",
      "train/gradients/dnn/batch_normalization/moments/variance_grad/range/start\n",
      "train/gradients/dnn/batch_normalization/moments/variance_grad/range/delta\n",
      "train/gradients/dnn/batch_normalization/moments/variance_grad/range\n",
      "train/gradients/dnn/batch_normalization/moments/variance_grad/Fill/value\n",
      "train/gradients/dnn/batch_normalization/moments/variance_grad/Fill\n",
      "train/gradients/dnn/batch_normalization/moments/variance_grad/DynamicStitch\n",
      "train/gradients/dnn/batch_normalization/moments/variance_grad/Maximum/y\n",
      "train/gradients/dnn/batch_normalization/moments/variance_grad/Maximum\n",
      "train/gradients/dnn/batch_normalization/moments/variance_grad/floordiv\n",
      "train/gradients/dnn/batch_normalization/moments/variance_grad/Reshape\n",
      "train/gradients/dnn/batch_normalization/moments/variance_grad/Tile\n",
      "train/gradients/dnn/batch_normalization/moments/variance_grad/Shape_2\n",
      "train/gradients/dnn/batch_normalization/moments/variance_grad/Shape_3\n",
      "train/gradients/dnn/batch_normalization/moments/variance_grad/Const\n",
      "train/gradients/dnn/batch_normalization/moments/variance_grad/Prod\n",
      "train/gradients/dnn/batch_normalization/moments/variance_grad/Const_1\n",
      "train/gradients/dnn/batch_normalization/moments/variance_grad/Prod_1\n",
      "train/gradients/dnn/batch_normalization/moments/variance_grad/Maximum_1/y\n",
      "train/gradients/dnn/batch_normalization/moments/variance_grad/Maximum_1\n",
      "train/gradients/dnn/batch_normalization/moments/variance_grad/floordiv_1\n",
      "train/gradients/dnn/batch_normalization/moments/variance_grad/Cast\n",
      "train/gradients/dnn/batch_normalization/moments/variance_grad/truediv\n",
      "train/gradients/dnn/batch_normalization/moments/SquaredDifference_grad/Shape\n",
      "train/gradients/dnn/batch_normalization/moments/SquaredDifference_grad/Shape_1\n",
      "train/gradients/dnn/batch_normalization/moments/SquaredDifference_grad/BroadcastGradientArgs\n",
      "train/gradients/dnn/batch_normalization/moments/SquaredDifference_grad/scalar\n",
      "train/gradients/dnn/batch_normalization/moments/SquaredDifference_grad/Mul\n",
      "train/gradients/dnn/batch_normalization/moments/SquaredDifference_grad/sub\n",
      "train/gradients/dnn/batch_normalization/moments/SquaredDifference_grad/mul_1\n",
      "train/gradients/dnn/batch_normalization/moments/SquaredDifference_grad/Sum\n",
      "train/gradients/dnn/batch_normalization/moments/SquaredDifference_grad/Reshape\n",
      "train/gradients/dnn/batch_normalization/moments/SquaredDifference_grad/Sum_1\n",
      "train/gradients/dnn/batch_normalization/moments/SquaredDifference_grad/Reshape_1\n",
      "train/gradients/dnn/batch_normalization/moments/SquaredDifference_grad/Neg\n",
      "train/gradients/dnn/batch_normalization/moments/SquaredDifference_grad/tuple/group_deps\n",
      "train/gradients/dnn/batch_normalization/moments/SquaredDifference_grad/tuple/control_dependency\n",
      "train/gradients/dnn/batch_normalization/moments/SquaredDifference_grad/tuple/control_dependency_1\n",
      "train/gradients/dnn/batch_normalization/moments/mean_grad/Shape\n",
      "train/gradients/dnn/batch_normalization/moments/mean_grad/Size\n",
      "train/gradients/dnn/batch_normalization/moments/mean_grad/add\n",
      "train/gradients/dnn/batch_normalization/moments/mean_grad/mod\n",
      "train/gradients/dnn/batch_normalization/moments/mean_grad/Shape_1\n",
      "train/gradients/dnn/batch_normalization/moments/mean_grad/range/start\n",
      "train/gradients/dnn/batch_normalization/moments/mean_grad/range/delta\n",
      "train/gradients/dnn/batch_normalization/moments/mean_grad/range\n",
      "train/gradients/dnn/batch_normalization/moments/mean_grad/Fill/value\n",
      "train/gradients/dnn/batch_normalization/moments/mean_grad/Fill\n",
      "train/gradients/dnn/batch_normalization/moments/mean_grad/DynamicStitch\n",
      "train/gradients/dnn/batch_normalization/moments/mean_grad/Maximum/y\n",
      "train/gradients/dnn/batch_normalization/moments/mean_grad/Maximum\n",
      "train/gradients/dnn/batch_normalization/moments/mean_grad/floordiv\n",
      "train/gradients/dnn/batch_normalization/moments/mean_grad/Reshape\n",
      "train/gradients/dnn/batch_normalization/moments/mean_grad/Tile\n",
      "train/gradients/dnn/batch_normalization/moments/mean_grad/Shape_2\n",
      "train/gradients/dnn/batch_normalization/moments/mean_grad/Shape_3\n",
      "train/gradients/dnn/batch_normalization/moments/mean_grad/Const\n",
      "train/gradients/dnn/batch_normalization/moments/mean_grad/Prod\n",
      "train/gradients/dnn/batch_normalization/moments/mean_grad/Const_1\n",
      "train/gradients/dnn/batch_normalization/moments/mean_grad/Prod_1\n",
      "train/gradients/dnn/batch_normalization/moments/mean_grad/Maximum_1/y\n",
      "train/gradients/dnn/batch_normalization/moments/mean_grad/Maximum_1\n",
      "train/gradients/dnn/batch_normalization/moments/mean_grad/floordiv_1\n",
      "train/gradients/dnn/batch_normalization/moments/mean_grad/Cast\n",
      "train/gradients/dnn/batch_normalization/moments/mean_grad/truediv\n",
      "train/gradients/AddN_5\n",
      "train/gradients/dnn/hidden1/BiasAdd_grad/BiasAddGrad\n",
      "train/gradients/dnn/hidden1/BiasAdd_grad/tuple/group_deps\n",
      "train/gradients/dnn/hidden1/BiasAdd_grad/tuple/control_dependency\n",
      "train/gradients/dnn/hidden1/BiasAdd_grad/tuple/control_dependency_1\n",
      "train/gradients/dnn/hidden1/MatMul_grad/MatMul\n",
      "train/gradients/dnn/hidden1/MatMul_grad/MatMul_1\n",
      "train/gradients/dnn/hidden1/MatMul_grad/tuple/group_deps\n",
      "train/gradients/dnn/hidden1/MatMul_grad/tuple/control_dependency\n",
      "train/gradients/dnn/hidden1/MatMul_grad/tuple/control_dependency_1\n",
      "train/GradientDescent/learning_rate\n",
      "train/GradientDescent/update_hidden1/kernel/ApplyGradientDescent\n",
      "train/GradientDescent/update_hidden1/bias/ApplyGradientDescent\n",
      "train/GradientDescent/update_batch_normalization/gamma/ApplyGradientDescent\n",
      "train/GradientDescent/update_batch_normalization/beta/ApplyGradientDescent\n",
      "train/GradientDescent/update_hidden2/kernel/ApplyGradientDescent\n",
      "train/GradientDescent/update_hidden2/bias/ApplyGradientDescent\n",
      "train/GradientDescent/update_batch_normalization_1/gamma/ApplyGradientDescent\n",
      "train/GradientDescent/update_batch_normalization_1/beta/ApplyGradientDescent\n",
      "train/GradientDescent/update_outputs/kernel/ApplyGradientDescent\n",
      "train/GradientDescent/update_outputs/bias/ApplyGradientDescent\n",
      "train/GradientDescent/update_batch_normalization_2/gamma/ApplyGradientDescent\n",
      "train/GradientDescent/update_batch_normalization_2/beta/ApplyGradientDescent\n",
      "train/GradientDescent\n",
      "eval/in_top_k/InTopKV2/k\n",
      "eval/in_top_k/InTopKV2\n",
      "eval/Cast\n",
      "eval/Const\n",
      "eval/accuracy\n",
      "init\n",
      "save/filename/input\n",
      "save/filename\n",
      "save/Const\n",
      "save/SaveV2/tensor_names\n",
      "save/SaveV2/shape_and_slices\n",
      "save/SaveV2\n",
      "save/control_dependency\n",
      "save/RestoreV2/tensor_names\n",
      "save/RestoreV2/shape_and_slices\n",
      "save/RestoreV2\n",
      "save/Assign\n",
      "save/Assign_1\n",
      "save/Assign_2\n",
      "save/Assign_3\n",
      "save/Assign_4\n",
      "save/Assign_5\n",
      "save/Assign_6\n",
      "save/Assign_7\n",
      "save/Assign_8\n",
      "save/Assign_9\n",
      "save/Assign_10\n",
      "save/Assign_11\n",
      "save/Assign_12\n",
      "save/Assign_13\n",
      "save/Assign_14\n",
      "save/Assign_15\n",
      "save/Assign_16\n",
      "save/Assign_17\n",
      "save/restore_all\n"
     ]
    }
   ],
   "source": [
    "for op in tf.get_default_graph().get_operations():\n",
    "   print(op.name)"
   ]
  },
  {
   "cell_type": "code",
   "execution_count": 23,
   "metadata": {
    "Collapsed": "false",
    "slideshow": {
     "slide_type": "subslide"
    }
   },
   "outputs": [],
   "source": [
    "X = tf.get_default_graph().get_tensor_by_name(\"X:0\")\n",
    "y = tf.get_default_graph().get_tensor_by_name(\"y:0\")\n",
    "training = tf.get_default_graph().get_tensor_by_name(\"training:0\")\n",
    "\n",
    "accuracy = tf.get_default_graph().get_tensor_by_name(\"eval/accuracy:0\")\n",
    "\n",
    "training_op = tf.get_default_graph().get_operation_by_name(\"train/GradientDescent\")"
   ]
  },
  {
   "cell_type": "code",
   "execution_count": 24,
   "metadata": {
    "Collapsed": "false",
    "slideshow": {
     "slide_type": "subslide"
    }
   },
   "outputs": [
    {
     "name": "stdout",
     "output_type": "stream",
     "text": [
      "WARNING:tensorflow:From /usr/local/Cellar/jupyterlab/1.2.6/libexec/lib/python3.7/site-packages/tensorflow/python/training/saver.py:1276: checkpoint_exists (from tensorflow.python.training.checkpoint_management) is deprecated and will be removed in a future version.\n",
      "Instructions for updating:\n",
      "Use standard file APIs to check for files with this prefix.\n",
      "INFO:tensorflow:Restoring parameters from ./my_model_final.ckpt\n",
      "0 Test accuracy: 0.95\n",
      "1 Test accuracy: 0.952\n",
      "2 Test accuracy: 0.9547\n",
      "3 Test accuracy: 0.9573\n",
      "4 Test accuracy: 0.9569\n",
      "5 Test accuracy: 0.9588\n",
      "6 Test accuracy: 0.9601\n",
      "7 Test accuracy: 0.9613\n",
      "8 Test accuracy: 0.9626\n",
      "9 Test accuracy: 0.963\n"
     ]
    }
   ],
   "source": [
    "extra_update_ops = tf.get_collection(tf.GraphKeys.UPDATE_OPS)\n",
    "with tf.Session() as sess:\n",
    "    saver.restore(sess, \"./my_model_final.ckpt\")\n",
    "\n",
    "    for epoch in range(n_epochs):\n",
    "        for iteration in range(mnist.train.num_examples // batch_size):\n",
    "            X_batch, y_batch = mnist.train.next_batch(batch_size)\n",
    "            sess.run([training_op, extra_update_ops],\n",
    "                     feed_dict={training: True, X: X_batch, y: y_batch})\n",
    "        accuracy_val = accuracy.eval(feed_dict={X: mnist.test.images,\n",
    "                                                y: mnist.test.labels})\n",
    "        print(epoch, \"Test accuracy:\", accuracy_val)\n",
    "\n",
    "    save_path = saver.save(sess, \"./my_model_final.ckpt\")"
   ]
  },
  {
   "cell_type": "markdown",
   "metadata": {
    "Collapsed": "false",
    "slideshow": {
     "slide_type": "subslide"
    }
   },
   "source": [
    "Can then also revise the computational graph...\n",
    "\n",
    "Typically will want to replace the upper layers of the network."
   ]
  },
  {
   "cell_type": "markdown",
   "metadata": {
    "Collapsed": "false",
    "slideshow": {
     "slide_type": "subslide"
    }
   },
   "source": [
    "## Freezing lower layers"
   ]
  },
  {
   "cell_type": "markdown",
   "metadata": {
    "Collapsed": "false"
   },
   "source": [
    "The lower layers of the first network have already learnt low-level features for the first task, so they can be reused as they are. \n",
    "\n",
    "That is, freezing their weights so that they are not altered during subsequent training of the new network."
   ]
  },
  {
   "cell_type": "markdown",
   "metadata": {
    "Collapsed": "false",
    "slideshow": {
     "slide_type": "fragment"
    }
   },
   "source": [
    "Can be acheived by providing restricted list of training variables to optimizer:"
   ]
  },
  {
   "cell_type": "code",
   "execution_count": 26,
   "metadata": {
    "Collapsed": "false"
   },
   "outputs": [],
   "source": [
    "# train_vars = tf.get_collection(tf.GraphKeys.TRAINABLE_VARIABLES,\n",
    "#                                scope=\"hidden2|outputs\")\n",
    "# training_op = optimizer.minimize(loss, var_list=train_vars)"
   ]
  },
  {
   "cell_type": "markdown",
   "metadata": {
    "Collapsed": "false",
    "slideshow": {
     "slide_type": "subslide"
    }
   },
   "source": [
    "## Caching the frozen layers"
   ]
  },
  {
   "cell_type": "markdown",
   "metadata": {
    "Collapsed": "false"
   },
   "source": [
    "Since the weights of the frozen layers don't change, their output for a given training instance also does not change.\n",
    "\n",
    "Caching these outputs can provide a considerable computational saving since the entire data-set needs to be processed multiple times.\n",
    "\n",
    "But can result in very large additional storage requirements."
   ]
  },
  {
   "cell_type": "markdown",
   "metadata": {
    "Collapsed": "false",
    "slideshow": {
     "slide_type": "subslide"
    }
   },
   "source": [
    "## Model zoos"
   ]
  },
  {
   "cell_type": "markdown",
   "metadata": {
    "Collapsed": "false"
   },
   "source": [
    "Many trained Tensor Flow models are available at \n",
    "[https://github.com/tensorflow/models](https://github.com/tensorflow/models)."
   ]
  },
  {
   "cell_type": "markdown",
   "metadata": {
    "Collapsed": "false",
    "slideshow": {
     "slide_type": "slide"
    }
   },
   "source": [
    "# Improved optimizers"
   ]
  },
  {
   "cell_type": "markdown",
   "metadata": {
    "Collapsed": "false"
   },
   "source": [
    "Although standard (stochastic) gradient descent is very effective it can still be slow for deep networks.\n",
    "\n",
    "There are a number of more advanced optimizers that provide improvements, e.g.:\n",
    "- Momentum optimization\n",
    "- Nesterov accelerated gradient\n",
    "- AdaGrad\n",
    "- RMSProp\n",
    "- Adam optimization\n",
    "- ..."
   ]
  },
  {
   "cell_type": "markdown",
   "metadata": {
    "Collapsed": "false",
    "slideshow": {
     "slide_type": "subslide"
    }
   },
   "source": [
    "Recall gradient descent, with cost function $J(\\theta)$ and gradients $\\nabla_\\theta J(\\theta)$, proceeds simply by updating the weights $\\theta$ by taking a step $\\eta$ (learning rate) in the direction of the gradient:\n",
    "\n",
    "$$\\theta \\leftarrow \\theta - \\eta \\nabla_\\theta J(\\theta)$$"
   ]
  },
  {
   "cell_type": "markdown",
   "metadata": {
    "Collapsed": "false",
    "slideshow": {
     "slide_type": "subslide"
    }
   },
   "source": [
    "## Momentum optimization"
   ]
  },
  {
   "cell_type": "markdown",
   "metadata": {
    "Collapsed": "false"
   },
   "source": [
    "Momentum optimization uses the gradients to modify a momentum vector and uses the momentum to update the weights:\n",
    "\n",
    "1. $m \\leftarrow \\beta m + \\eta \\nabla_\\theta J(\\theta)$\n",
    "2. $\\theta \\leftarrow \\theta - m$"
   ]
  },
  {
   "cell_type": "markdown",
   "metadata": {
    "Collapsed": "false",
    "slideshow": {
     "slide_type": "fragment"
    }
   },
   "source": [
    "Gradient is used as an acceleration rather than speed.  Can help to traverse plateaus and to avoid local minima.\n",
    "\n",
    "The additional hyperparameter $\\beta$ is introduced as a friction term to avoid the momentum growing too large (typically $\\beta \\sim 0.9$)."
   ]
  },
  {
   "cell_type": "markdown",
   "metadata": {
    "Collapsed": "false",
    "slideshow": {
     "slide_type": "subslide"
    }
   },
   "source": [
    "## Nesterov accelerated gradient"
   ]
  },
  {
   "cell_type": "markdown",
   "metadata": {
    "Collapsed": "false"
   },
   "source": [
    "Nesterov accelerated gradient is a variant of momentum optimization where the gradient is computed further ahead in the direction of the momentum:\n",
    "\n",
    "1. $m \\leftarrow \\beta m + \\eta \\nabla_\\theta J(\\theta + \\beta m)$\n",
    "2. $\\theta \\leftarrow \\theta - m$"
   ]
  },
  {
   "cell_type": "markdown",
   "metadata": {
    "Collapsed": "false",
    "slideshow": {
     "slide_type": "fragment"
    }
   },
   "source": [
    "In general the momentum will be pointing toward the optimum and so Nesterov modification typically provides an improvement over standard momentum optimization."
   ]
  },
  {
   "cell_type": "markdown",
   "metadata": {
    "Collapsed": "false",
    "slideshow": {
     "slide_type": "subslide"
    }
   },
   "source": [
    "## AdaGrad"
   ]
  },
  {
   "cell_type": "markdown",
   "metadata": {
    "Collapsed": "false"
   },
   "source": [
    "AdaGrad scales down the gradient vector along the steepest direction by incorporating a gradient squared term:\n",
    "\n",
    "1. $s \\leftarrow s + \\nabla_\\theta J(\\theta) \\otimes \\nabla_\\theta J(\\theta)$\n",
    "2. $\\theta \\leftarrow \\theta - \\eta \\nabla_\\theta J(\\theta) \\oslash \\sqrt{s+\\epsilon}$\n",
    "\n",
    "Note that $\\otimes$ and $\\oslash$ are elementwise multiplication and division, respectively.\n",
    "\n",
    "The parameter $\\epsilon$ is introduced for numerical stability (typically $\\epsilon\\sim 10^{-10}$).\n",
    "\n"
   ]
  },
  {
   "cell_type": "markdown",
   "metadata": {
    "Collapsed": "false",
    "slideshow": {
     "slide_type": "fragment"
    }
   },
   "source": [
    "Basically, AdaGrad correspondings to an *adaptive learning rate* where the learning rate is decayed faster for steep directions.\n",
    "\n",
    "Consequently, it requires much less tuning of the learning rate $\\eta$."
   ]
  },
  {
   "cell_type": "markdown",
   "metadata": {
    "Collapsed": "false",
    "slideshow": {
     "slide_type": "subslide"
    }
   },
   "source": [
    "<center><img src=\"Lecture13_Images/ada_grad.png\" style=\"height: 500px;\"/></center>\n",
    "\n",
    "[Credit: Geron]"
   ]
  },
  {
   "cell_type": "markdown",
   "metadata": {
    "Collapsed": "false",
    "slideshow": {
     "slide_type": "subslide"
    }
   },
   "source": [
    "## RMSProp"
   ]
  },
  {
   "cell_type": "markdown",
   "metadata": {
    "Collapsed": "false"
   },
   "source": [
    "RMSProp extends AdaGrad by introducing an exponential decay in the accumulated squared gradient:\n",
    "\n",
    "1. $s \\leftarrow \\beta s + (1-\\beta) \\nabla_\\theta J(\\theta) \\otimes \\nabla_\\theta J(\\theta)$\n",
    "2. $\\theta \\leftarrow \\theta - \\eta \\nabla_\\theta J(\\theta) \\oslash \\sqrt{s+\\epsilon}$"
   ]
  },
  {
   "cell_type": "markdown",
   "metadata": {
    "Collapsed": "false",
    "slideshow": {
     "slide_type": "fragment"
    }
   },
   "source": [
    "(Typically $\\beta\\sim 0.9$.)"
   ]
  },
  {
   "cell_type": "markdown",
   "metadata": {
    "Collapsed": "false",
    "slideshow": {
     "slide_type": "-"
    }
   },
   "source": [
    "Avoids the problem where AdaGrad slows down too fast and so doesn't converge to the global optimum."
   ]
  },
  {
   "cell_type": "markdown",
   "metadata": {
    "Collapsed": "false",
    "slideshow": {
     "slide_type": "subslide"
    }
   },
   "source": [
    "## Adam optimization"
   ]
  },
  {
   "cell_type": "markdown",
   "metadata": {
    "Collapsed": "false"
   },
   "source": [
    "Adam optimization combines momentum and RMSProp:\n",
    "\n",
    "1. $m \\leftarrow \\beta_1 m + (1-\\beta_1) \\nabla_\\theta J(\\theta)$\n",
    "2. $s \\leftarrow \\beta_2 s + (1-\\beta_2) \\nabla_\\theta J(\\theta)\\otimes\\nabla_\\theta J(\\theta)$\n",
    "3. $m \\leftarrow \\frac{m}{1-\\beta_1^{t}}$, where $t$ is the iteration number \n",
    "4. $s \\leftarrow \\frac{s}{1-\\beta_2^{t}}$, where $t$ is the iteration number\n",
    "5. $\\theta \\leftarrow \\theta - \\eta m \\oslash \\sqrt{s+\\epsilon}$"
   ]
  },
  {
   "cell_type": "markdown",
   "metadata": {
    "Collapsed": "false",
    "slideshow": {
     "slide_type": "fragment"
    }
   },
   "source": [
    "Steps 3 and 4 are introduced to boost $m$ and $s$ at the beginnning of training (since they are initialed to 0 they can otherwise be low at the beginning).\n",
    "\n",
    "(Typically $\\beta_1 \\sim 0.9$, $\\beta_2 \\sim 0.999$.)"
   ]
  },
  {
   "cell_type": "markdown",
   "metadata": {
    "Collapsed": "false",
    "slideshow": {
     "slide_type": "slide"
    }
   },
   "source": [
    "# Regularization"
   ]
  },
  {
   "cell_type": "markdown",
   "metadata": {
    "Collapsed": "false"
   },
   "source": [
    "Deep networks have many parameters (sometimes millions) and so are prone to overfitting.\n",
    "\n",
    "Regularization therefore becomes increasingly important."
   ]
  },
  {
   "cell_type": "markdown",
   "metadata": {
    "Collapsed": "false",
    "slideshow": {
     "slide_type": "subslide"
    }
   },
   "source": [
    "## Early stopping"
   ]
  },
  {
   "cell_type": "markdown",
   "metadata": {
    "Collapsed": "false"
   },
   "source": [
    "A simple regularization strategy is to end training early, e.g. when performance on validation set starts to degrade.\n",
    "\n",
    "Although early stopping works well, other regularisation techniques can lead to better performance."
   ]
  },
  {
   "cell_type": "markdown",
   "metadata": {
    "Collapsed": "false",
    "slideshow": {
     "slide_type": "subslide"
    }
   },
   "source": [
    "## $\\ell_2$ and $\\ell_1$ regularization"
   ]
  },
  {
   "cell_type": "markdown",
   "metadata": {
    "Collapsed": "false"
   },
   "source": [
    "*Tikhonov* regularization adopts $\\ell_2$ regularising term (also called *Ridge regression*):\n",
    "\n",
    "\n",
    "$$ R(\\theta) = \\frac{1}{2} \\sum_{j=1}^n \\theta_j^2 = \\frac{1}{2}  \\theta^{\\rm T}\\theta.$$\n",
    "\n",
    "\n",
    "*Lasso* regularization adopts $\\ell_1$ regularising term:\n",
    "\n",
    "$$ R(\\theta) =\\sum_{j=1}^n \\left\\vert \\theta_j \\right\\vert .$$"
   ]
  },
  {
   "cell_type": "markdown",
   "metadata": {
    "Collapsed": "false",
    "slideshow": {
     "slide_type": "subslide"
    }
   },
   "source": [
    "*Elastic net* regularization provides a mix of Tikhonov and Lasso regularization, controlled by mix ratio $r$:\n",
    "\n",
    "$$ R(\\theta) =  r\\sum_{j=1}^n \\left\\vert \\theta_j \\right\\vert + \\frac{1-r}{2} \\sum_{j=1}^n \\theta_j^2.$$\n",
    "\n",
    "- For $r=0$, corresponds to Tikhonov regularization.\n",
    "- For $r=1$, corresponds to Lasso regularization."
   ]
  },
  {
   "cell_type": "markdown",
   "metadata": {
    "Collapsed": "false",
    "slideshow": {
     "slide_type": "subslide"
    }
   },
   "source": [
    "## Dropout"
   ]
  },
  {
   "cell_type": "markdown",
   "metadata": {
    "Collapsed": "false"
   },
   "source": [
    "Dropout is a very popular and effective regularlisation technique developed by [Geoff Hinton in 2012](http://www.jmlr.org/papers/volume15/srivastava14a.old/srivastava14a.pdf)."
   ]
  },
  {
   "cell_type": "markdown",
   "metadata": {
    "Collapsed": "false",
    "slideshow": {
     "slide_type": "subslide"
    }
   },
   "source": [
    "Dropout involves simply dropping each neuron for a given training set with probability $p$.\n",
    "\n",
    "<center><img src=\"Lecture13_Images/dropout.png\" style=\"height: 350px;\"/></center>\n",
    "\n",
    "[Credit: Geron]"
   ]
  },
  {
   "cell_type": "markdown",
   "metadata": {
    "Collapsed": "false",
    "slideshow": {
     "slide_type": "-"
    }
   },
   "source": [
    "Dropout encourages each neuron to be as effective as possible individually and not to rely heavily on a few nearby neurons but to consider all input neurons carefully."
   ]
  },
  {
   "cell_type": "markdown",
   "metadata": {
    "Collapsed": "false",
    "slideshow": {
     "slide_type": "subslide"
    }
   },
   "source": [
    "The probability $p$ is called the *dropout rate* (typically $p \\sim 0.5$).\n",
    "\n",
    "After training the neurons don't get dropped."
   ]
  },
  {
   "cell_type": "markdown",
   "metadata": {
    "Collapsed": "false",
    "slideshow": {
     "slide_type": "subslide"
    }
   },
   "source": [
    "The number of inputs of active neurons is lower when dropout is applied during training, than when the network is applied during testing.  \n",
    "\n",
    "For example, if $p=0.5$, on average there are half as many input neurons during training than when testing.  During testing each neuron will get an input signal (approximately) twice as large as during training.\n",
    "\n",
    "It is important to account for this difference.\n",
    "\n",
    "To compensate, after training each neurons input weights are multiplied by the keep probability $1-p$ before applying the network to test data."
   ]
  },
  {
   "cell_type": "markdown",
   "metadata": {
    "Collapsed": "false",
    "slideshow": {
     "slide_type": "subslide"
    }
   },
   "source": [
    "## Data augmentation"
   ]
  },
  {
   "cell_type": "markdown",
   "metadata": {
    "Collapsed": "false"
   },
   "source": [
    "Data augmentation can be applied both as a regularization technique and to increase the volume of the training set.\n",
    "\n",
    "Essentially, new training instances are created from the original training set."
   ]
  },
  {
   "cell_type": "markdown",
   "metadata": {
    "Collapsed": "false",
    "slideshow": {
     "slide_type": "subslide"
    }
   },
   "source": [
    "For example, for images, data augmentation can be performed by rotating, shifting, scaling, flipping, changing the contrast, ..., of the original images in the training data-set.\n",
    "\n",
    "<center><img src=\"Lecture13_Images/data_augmentation.png\" style=\"height: 500px;\"/></center>\n",
    "\n",
    "[Credit: Geron]"
   ]
  },
  {
   "cell_type": "markdown",
   "metadata": {
    "Collapsed": "false",
    "slideshow": {
     "slide_type": "subslide"
    }
   },
   "source": [
    "Appropriate data augmentation strategies depend on the type of data under consideration."
   ]
  },
  {
   "cell_type": "markdown",
   "metadata": {
    "Collapsed": "false",
    "slideshow": {
     "slide_type": "fragment"
    }
   },
   "source": [
    "Typically training instances are generated on the fly to avoid additional storage requirements.  \n",
    "\n",
    "Tensor Flow has built in functionality for many transformations for image data, making data augmentation for image data straightforward."
   ]
  }
 ],
 "metadata": {
  "celltoolbar": "Slideshow",
  "kernelspec": {
   "display_name": "Python 3",
   "language": "python",
   "name": "python3"
  },
  "language_info": {
   "codemirror_mode": {
    "name": "ipython",
    "version": 3
   },
   "file_extension": ".py",
   "mimetype": "text/x-python",
   "name": "python",
   "nbconvert_exporter": "python",
   "pygments_lexer": "ipython3",
   "version": "3.7.6"
  }
 },
 "nbformat": 4,
 "nbformat_minor": 4
}
