{
 "cells": [
  {
   "cell_type": "markdown",
   "metadata": {
    "slideshow": {
     "slide_type": "slide"
    }
   },
   "source": [
    "# Lecture 12: Introduction to TensorFlow II"
   ]
  },
  {
   "cell_type": "code",
   "execution_count": 1,
   "metadata": {
    "slideshow": {
     "slide_type": "skip"
    }
   },
   "outputs": [
    {
     "name": "stdout",
     "output_type": "stream",
     "text": [
      "Version: 2020-02-13 15:07:58\n"
     ]
    }
   ],
   "source": [
    "import datetime\n",
    "now = datetime.datetime.now()\n",
    "print(\"Version: \" + now.strftime(\"%Y-%m-%d %H:%M:%S\"))"
   ]
  },
  {
   "cell_type": "code",
   "execution_count": 2,
   "metadata": {
    "slideshow": {
     "slide_type": "subslide"
    }
   },
   "outputs": [],
   "source": [
    "# To support both python 2 and python 3\n",
    "from __future__ import division, print_function, unicode_literals\n",
    "\n",
    "# Common imports\n",
    "import numpy as np\n",
    "import os\n",
    "\n",
    "# To make this notebook's output stable across runs\n",
    "def reset_graph(seed=42):\n",
    "    tf.reset_default_graph()\n",
    "    tf.set_random_seed(seed)\n",
    "    np.random.seed(seed)\n",
    "    \n",
    "# To plot pretty figures\n",
    "%matplotlib inline\n",
    "import matplotlib\n",
    "import matplotlib.pyplot as plt\n",
    "plt.rcParams['axes.labelsize'] = 14\n",
    "plt.rcParams['xtick.labelsize'] = 12\n",
    "plt.rcParams['ytick.labelsize'] = 12 "
   ]
  },
  {
   "cell_type": "code",
   "execution_count": 3,
   "metadata": {
    "slideshow": {
     "slide_type": "subslide"
    }
   },
   "outputs": [
    {
     "name": "stderr",
     "output_type": "stream",
     "text": [
      "/usr/local/lib/python3.7/site-packages/tensorflow/python/framework/dtypes.py:516: FutureWarning: Passing (type, 1) or '1type' as a synonym of type is deprecated; in a future version of numpy, it will be understood as (type, (1,)) / '(1,)type'.\n",
      "  _np_qint8 = np.dtype([(\"qint8\", np.int8, 1)])\n",
      "/usr/local/lib/python3.7/site-packages/tensorflow/python/framework/dtypes.py:517: FutureWarning: Passing (type, 1) or '1type' as a synonym of type is deprecated; in a future version of numpy, it will be understood as (type, (1,)) / '(1,)type'.\n",
      "  _np_quint8 = np.dtype([(\"quint8\", np.uint8, 1)])\n",
      "/usr/local/lib/python3.7/site-packages/tensorflow/python/framework/dtypes.py:518: FutureWarning: Passing (type, 1) or '1type' as a synonym of type is deprecated; in a future version of numpy, it will be understood as (type, (1,)) / '(1,)type'.\n",
      "  _np_qint16 = np.dtype([(\"qint16\", np.int16, 1)])\n",
      "/usr/local/lib/python3.7/site-packages/tensorflow/python/framework/dtypes.py:519: FutureWarning: Passing (type, 1) or '1type' as a synonym of type is deprecated; in a future version of numpy, it will be understood as (type, (1,)) / '(1,)type'.\n",
      "  _np_quint16 = np.dtype([(\"quint16\", np.uint16, 1)])\n",
      "/usr/local/lib/python3.7/site-packages/tensorflow/python/framework/dtypes.py:520: FutureWarning: Passing (type, 1) or '1type' as a synonym of type is deprecated; in a future version of numpy, it will be understood as (type, (1,)) / '(1,)type'.\n",
      "  _np_qint32 = np.dtype([(\"qint32\", np.int32, 1)])\n",
      "/usr/local/lib/python3.7/site-packages/tensorflow/python/framework/dtypes.py:525: FutureWarning: Passing (type, 1) or '1type' as a synonym of type is deprecated; in a future version of numpy, it will be understood as (type, (1,)) / '(1,)type'.\n",
      "  np_resource = np.dtype([(\"resource\", np.ubyte, 1)])\n",
      "/usr/local/lib/python3.7/site-packages/tensorboard/compat/tensorflow_stub/dtypes.py:541: FutureWarning: Passing (type, 1) or '1type' as a synonym of type is deprecated; in a future version of numpy, it will be understood as (type, (1,)) / '(1,)type'.\n",
      "  _np_qint8 = np.dtype([(\"qint8\", np.int8, 1)])\n",
      "/usr/local/lib/python3.7/site-packages/tensorboard/compat/tensorflow_stub/dtypes.py:542: FutureWarning: Passing (type, 1) or '1type' as a synonym of type is deprecated; in a future version of numpy, it will be understood as (type, (1,)) / '(1,)type'.\n",
      "  _np_quint8 = np.dtype([(\"quint8\", np.uint8, 1)])\n",
      "/usr/local/lib/python3.7/site-packages/tensorboard/compat/tensorflow_stub/dtypes.py:543: FutureWarning: Passing (type, 1) or '1type' as a synonym of type is deprecated; in a future version of numpy, it will be understood as (type, (1,)) / '(1,)type'.\n",
      "  _np_qint16 = np.dtype([(\"qint16\", np.int16, 1)])\n",
      "/usr/local/lib/python3.7/site-packages/tensorboard/compat/tensorflow_stub/dtypes.py:544: FutureWarning: Passing (type, 1) or '1type' as a synonym of type is deprecated; in a future version of numpy, it will be understood as (type, (1,)) / '(1,)type'.\n",
      "  _np_quint16 = np.dtype([(\"quint16\", np.uint16, 1)])\n",
      "/usr/local/lib/python3.7/site-packages/tensorboard/compat/tensorflow_stub/dtypes.py:545: FutureWarning: Passing (type, 1) or '1type' as a synonym of type is deprecated; in a future version of numpy, it will be understood as (type, (1,)) / '(1,)type'.\n",
      "  _np_qint32 = np.dtype([(\"qint32\", np.int32, 1)])\n",
      "/usr/local/lib/python3.7/site-packages/tensorboard/compat/tensorflow_stub/dtypes.py:550: FutureWarning: Passing (type, 1) or '1type' as a synonym of type is deprecated; in a future version of numpy, it will be understood as (type, (1,)) / '(1,)type'.\n",
      "  np_resource = np.dtype([(\"resource\", np.ubyte, 1)])\n"
     ]
    }
   ],
   "source": [
    "import tensorflow as tf\n",
    "import numpy as np\n",
    "from sklearn.datasets import fetch_california_housing\n",
    "reset_graph()\n",
    "\n",
    "housing = fetch_california_housing()\n",
    "m, n = housing.data.shape\n",
    "housing_data_plus_bias = np.c_[np.ones((m, 1)), housing.data]\n",
    "housing_data_target = housing.target.reshape(-1, 1)"
   ]
  },
  {
   "cell_type": "code",
   "execution_count": 4,
   "metadata": {},
   "outputs": [],
   "source": [
    "from sklearn.preprocessing import StandardScaler\n",
    "scaler = StandardScaler()\n",
    "scaled_housing_data = scaler.fit_transform(housing.data)\n",
    "scaled_housing_data_plus_bias = np.c_[np.ones((m, 1)), scaled_housing_data]"
   ]
  },
  {
   "cell_type": "markdown",
   "metadata": {
    "slideshow": {
     "slide_type": "slide"
    }
   },
   "source": [
    "# Saving and restoring models"
   ]
  },
  {
   "cell_type": "markdown",
   "metadata": {
    "slideshow": {
     "slide_type": "subslide"
    }
   },
   "source": [
    "Models and parameters can be saved easily.\n",
    "\n",
    "Good to not only save the final model but to also checkpoint (i.e. save intermediate models) as training performed."
   ]
  },
  {
   "cell_type": "code",
   "execution_count": 5,
   "metadata": {
    "slideshow": {
     "slide_type": "-"
    }
   },
   "outputs": [],
   "source": [
    "reset_graph()\n",
    "\n",
    "n_epochs = 1000                                                                      \n",
    "learning_rate = 0.01                                                                  \n",
    "\n",
    "X = tf.constant(scaled_housing_data_plus_bias, dtype=tf.float32, name=\"X\")            \n",
    "y = tf.constant(housing_data_target, dtype=tf.float32, name=\"y\")            \n",
    "theta = tf.Variable(tf.random_uniform([n + 1, 1], -1.0, 1.0, seed=42), name=\"theta\")\n",
    "y_pred = tf.matmul(X, theta, name=\"predictions\")                                      \n",
    "error = y_pred - y                                                                    \n",
    "mse = tf.reduce_mean(tf.square(error), name=\"mse\")                                    \n",
    "optimizer = tf.train.GradientDescentOptimizer(learning_rate=learning_rate)            \n",
    "training_op = optimizer.minimize(mse)                                                 \n",
    "\n",
    "init = tf.global_variables_initializer()\n",
    "saver = tf.train.Saver()"
   ]
  },
  {
   "cell_type": "code",
   "execution_count": 6,
   "metadata": {
    "slideshow": {
     "slide_type": "subslide"
    }
   },
   "outputs": [
    {
     "name": "stdout",
     "output_type": "stream",
     "text": [
      "Epoch 0 MSE = 9.161542\n",
      "Epoch 100 MSE = 0.7145004\n",
      "Epoch 200 MSE = 0.56670487\n",
      "Epoch 300 MSE = 0.55557173\n",
      "Epoch 400 MSE = 0.5488112\n",
      "Epoch 500 MSE = 0.5436363\n",
      "Epoch 600 MSE = 0.53962904\n",
      "Epoch 700 MSE = 0.5365092\n",
      "Epoch 800 MSE = 0.53406775\n",
      "Epoch 900 MSE = 0.5321473\n"
     ]
    }
   ],
   "source": [
    "with tf.Session() as sess:\n",
    "    sess.run(init)\n",
    "\n",
    "    for epoch in range(n_epochs):\n",
    "        if epoch % 100 == 0:\n",
    "            print(\"Epoch\", epoch, \"MSE =\", mse.eval())                                \n",
    "            save_path = saver.save(sess, \"./my_model.ckpt\")\n",
    "        sess.run(training_op)\n",
    "    \n",
    "    best_theta = theta.eval()\n",
    "    save_path = saver.save(sess, \"./my_model_final.ckpt\")\n",
    "    "
   ]
  },
  {
   "cell_type": "code",
   "execution_count": 7,
   "metadata": {
    "slideshow": {
     "slide_type": "subslide"
    }
   },
   "outputs": [
    {
     "data": {
      "text/plain": [
       "array([[ 2.0685525 ],\n",
       "       [ 0.8874027 ],\n",
       "       [ 0.14401658],\n",
       "       [-0.34770882],\n",
       "       [ 0.36178368],\n",
       "       [ 0.00393811],\n",
       "       [-0.04269556],\n",
       "       [-0.6614528 ],\n",
       "       [-0.6375277 ]], dtype=float32)"
      ]
     },
     "execution_count": 7,
     "metadata": {},
     "output_type": "execute_result"
    }
   ],
   "source": [
    "best_theta"
   ]
  },
  {
   "cell_type": "markdown",
   "metadata": {
    "slideshow": {
     "slide_type": "subslide"
    }
   },
   "source": [
    "Models can then be restored easily."
   ]
  },
  {
   "cell_type": "code",
   "execution_count": 8,
   "metadata": {},
   "outputs": [
    {
     "name": "stdout",
     "output_type": "stream",
     "text": [
      "WARNING:tensorflow:From /usr/local/lib/python3.7/site-packages/tensorflow/python/training/saver.py:1276: checkpoint_exists (from tensorflow.python.training.checkpoint_management) is deprecated and will be removed in a future version.\n",
      "Instructions for updating:\n",
      "Use standard file APIs to check for files with this prefix.\n",
      "INFO:tensorflow:Restoring parameters from ./my_model_final.ckpt\n"
     ]
    }
   ],
   "source": [
    "with tf.Session() as sess:\n",
    "    saver.restore(sess, \"./my_model_final.ckpt\")\n",
    "    best_theta_restored = theta.eval() "
   ]
  },
  {
   "cell_type": "code",
   "execution_count": 9,
   "metadata": {},
   "outputs": [
    {
     "data": {
      "text/plain": [
       "array([[ 2.0685525 ],\n",
       "       [ 0.8874027 ],\n",
       "       [ 0.14401658],\n",
       "       [-0.34770882],\n",
       "       [ 0.36178368],\n",
       "       [ 0.00393811],\n",
       "       [-0.04269556],\n",
       "       [-0.6614528 ],\n",
       "       [-0.6375277 ]], dtype=float32)"
      ]
     },
     "execution_count": 9,
     "metadata": {},
     "output_type": "execute_result"
    }
   ],
   "source": [
    "best_theta_restored"
   ]
  },
  {
   "cell_type": "code",
   "execution_count": 10,
   "metadata": {},
   "outputs": [
    {
     "data": {
      "text/plain": [
       "True"
      ]
     },
     "execution_count": 10,
     "metadata": {},
     "output_type": "execute_result"
    }
   ],
   "source": [
    "np.allclose(best_theta, best_theta_restored)"
   ]
  },
  {
   "cell_type": "markdown",
   "metadata": {
    "slideshow": {
     "slide_type": "subslide"
    }
   },
   "source": [
    "Computational graph definition is saved in file with `.meta` extension.\n",
    "\n",
    "Can also load graphs."
   ]
  },
  {
   "cell_type": "code",
   "execution_count": 11,
   "metadata": {},
   "outputs": [
    {
     "name": "stdout",
     "output_type": "stream",
     "text": [
      "INFO:tensorflow:Restoring parameters from ./my_model_final.ckpt\n"
     ]
    }
   ],
   "source": [
    "reset_graph()  # start with an empty graph.\n",
    "\n",
    "saver = tf.train.import_meta_graph(\"./my_model_final.ckpt.meta\")  # load the graph structure\n",
    "theta = tf.get_default_graph().get_tensor_by_name(\"theta:0\") \n",
    "\n",
    "with tf.Session() as sess:\n",
    "    saver.restore(sess, \"./my_model_final.ckpt\")  # restores the graph's state\n",
    "    best_theta_restored = theta.eval() "
   ]
  },
  {
   "cell_type": "code",
   "execution_count": 12,
   "metadata": {},
   "outputs": [
    {
     "data": {
      "text/plain": [
       "True"
      ]
     },
     "execution_count": 12,
     "metadata": {},
     "output_type": "execute_result"
    }
   ],
   "source": [
    "np.allclose(best_theta, best_theta_restored)"
   ]
  },
  {
   "cell_type": "markdown",
   "metadata": {
    "slideshow": {
     "slide_type": "slide"
    }
   },
   "source": [
    "# Visualising computational graphs with TensorBoard"
   ]
  },
  {
   "cell_type": "markdown",
   "metadata": {
    "slideshow": {
     "slide_type": "-"
    }
   },
   "source": [
    "TensorBoard provides functionality to visualise computational graphs and training statistics."
   ]
  },
  {
   "cell_type": "markdown",
   "metadata": {
    "slideshow": {
     "slide_type": "subslide"
    }
   },
   "source": [
    "## Logging"
   ]
  },
  {
   "cell_type": "code",
   "execution_count": 13,
   "metadata": {
    "slideshow": {
     "slide_type": "-"
    }
   },
   "outputs": [],
   "source": [
    "reset_graph()\n",
    "\n",
    "from datetime import datetime\n",
    "\n",
    "now = datetime.utcnow().strftime(\"%Y%m%d%H%M%S\")\n",
    "root_logdir = \"tf_logs\"\n",
    "logdir = \"{}/run-{}/\".format(root_logdir, now)"
   ]
  },
  {
   "cell_type": "code",
   "execution_count": 14,
   "metadata": {},
   "outputs": [],
   "source": [
    "n_epochs = 1000\n",
    "learning_rate = 0.01\n",
    "\n",
    "X = tf.placeholder(tf.float32, shape=(None, n + 1), name=\"X\")\n",
    "y = tf.placeholder(tf.float32, shape=(None, 1), name=\"y\")\n",
    "theta = tf.Variable(tf.random_uniform([n + 1, 1], -1.0, 1.0, seed=42), name=\"theta\")\n",
    "y_pred = tf.matmul(X, theta, name=\"predictions\")\n",
    "error = y_pred - y\n",
    "mse = tf.reduce_mean(tf.square(error), name=\"mse\")\n",
    "optimizer = tf.train.GradientDescentOptimizer(learning_rate=learning_rate)\n",
    "training_op = optimizer.minimize(mse)\n",
    "\n",
    "init = tf.global_variables_initializer()"
   ]
  },
  {
   "cell_type": "markdown",
   "metadata": {
    "slideshow": {
     "slide_type": "subslide"
    }
   },
   "source": [
    "Create summary and file writer:"
   ]
  },
  {
   "cell_type": "code",
   "execution_count": 15,
   "metadata": {},
   "outputs": [],
   "source": [
    "mse_summary = tf.summary.scalar('MSE', mse)\n",
    "file_writer = tf.summary.FileWriter(logdir, tf.get_default_graph())"
   ]
  },
  {
   "cell_type": "code",
   "execution_count": 16,
   "metadata": {
    "slideshow": {
     "slide_type": "subslide"
    }
   },
   "outputs": [],
   "source": [
    "n_epochs = 10\n",
    "batch_size = 100\n",
    "n_batches = int(np.ceil(m / batch_size))"
   ]
  },
  {
   "cell_type": "code",
   "execution_count": 17,
   "metadata": {},
   "outputs": [],
   "source": [
    "def fetch_batch(epoch, batch_index, batch_size):\n",
    "    np.random.seed(epoch * n_batches + batch_index)  \n",
    "    indices = np.random.randint(m, size=batch_size)  \n",
    "    X_batch = scaled_housing_data_plus_bias[indices]\n",
    "    y_batch = housing_data_target[indices] \n",
    "    return X_batch, y_batch"
   ]
  },
  {
   "cell_type": "code",
   "execution_count": 18,
   "metadata": {
    "slideshow": {
     "slide_type": "subslide"
    }
   },
   "outputs": [],
   "source": [
    "with tf.Session() as sess:                                                        \n",
    "    sess.run(init)                                                                \n",
    "\n",
    "    for epoch in range(n_epochs):                                                \n",
    "        for batch_index in range(n_batches):\n",
    "            X_batch, y_batch = fetch_batch(epoch, batch_index, batch_size)\n",
    "            if batch_index % 10 == 0:\n",
    "                summary_str = mse_summary.eval(feed_dict={X: X_batch, y: y_batch})\n",
    "                step = epoch * n_batches + batch_index\n",
    "                file_writer.add_summary(summary_str, step)\n",
    "            sess.run(training_op, feed_dict={X: X_batch, y: y_batch})\n",
    "\n",
    "    best_theta = theta.eval() "
   ]
  },
  {
   "cell_type": "code",
   "execution_count": 19,
   "metadata": {},
   "outputs": [],
   "source": [
    "file_writer.close()"
   ]
  },
  {
   "cell_type": "code",
   "execution_count": 20,
   "metadata": {},
   "outputs": [
    {
     "data": {
      "text/plain": [
       "array([[ 2.0703337 ],\n",
       "       [ 0.8637145 ],\n",
       "       [ 0.12255151],\n",
       "       [-0.31211874],\n",
       "       [ 0.38510373],\n",
       "       [ 0.00434168],\n",
       "       [-0.01232954],\n",
       "       [-0.83376896],\n",
       "       [-0.8030471 ]], dtype=float32)"
      ]
     },
     "execution_count": 20,
     "metadata": {},
     "output_type": "execute_result"
    }
   ],
   "source": [
    "best_theta"
   ]
  },
  {
   "cell_type": "markdown",
   "metadata": {
    "slideshow": {
     "slide_type": "subslide"
    }
   },
   "source": [
    "## TensorBoard\n",
    "\n",
    "Now we can inspect the logs in TensorBoard."
   ]
  },
  {
   "cell_type": "markdown",
   "metadata": {},
   "source": [
    "At the command line run:\n",
    "\n",
    "`tensorboard --logdir tf_logs`"
   ]
  },
  {
   "cell_type": "markdown",
   "metadata": {},
   "source": [
    "Open in a browser on port 6006, i.e. localhost:6006..."
   ]
  },
  {
   "cell_type": "markdown",
   "metadata": {
    "slideshow": {
     "slide_type": "slide"
    }
   },
   "source": [
    "# More complex models"
   ]
  },
  {
   "cell_type": "markdown",
   "metadata": {
    "slideshow": {
     "slide_type": "subslide"
    }
   },
   "source": [
    "## Name scopes"
   ]
  },
  {
   "cell_type": "markdown",
   "metadata": {},
   "source": [
    "Large complex models can easily become cluttered with many nodes making then difficult to visualise directly.\n",
    "\n",
    "To avoid this problem *name scopes* can be created to group nodes."
   ]
  },
  {
   "cell_type": "code",
   "execution_count": 21,
   "metadata": {
    "slideshow": {
     "slide_type": "subslide"
    }
   },
   "outputs": [],
   "source": [
    "reset_graph()\n",
    "\n",
    "now = datetime.utcnow().strftime(\"%Y%m%d%H%M%S\")\n",
    "root_logdir = \"tf_logs\"\n",
    "logdir = \"{}/run-{}/\".format(root_logdir, now)\n",
    "\n",
    "n_epochs = 1000\n",
    "learning_rate = 0.01\n",
    "\n",
    "X = tf.placeholder(tf.float32, shape=(None, n + 1), name=\"X\")\n",
    "y = tf.placeholder(tf.float32, shape=(None, 1), name=\"y\")\n",
    "theta = tf.Variable(tf.random_uniform([n + 1, 1], -1.0, 1.0, seed=42), name=\"theta\")\n",
    "y_pred = tf.matmul(X, theta, name=\"predictions\")"
   ]
  },
  {
   "cell_type": "markdown",
   "metadata": {
    "slideshow": {
     "slide_type": "subslide"
    }
   },
   "source": [
    "Create `error` and `mse` inside `loss` name scope:"
   ]
  },
  {
   "cell_type": "code",
   "execution_count": 22,
   "metadata": {},
   "outputs": [],
   "source": [
    "with tf.name_scope(\"loss\") as scope:\n",
    "    error = y_pred - y\n",
    "    mse = tf.reduce_mean(tf.square(error), name=\"mse\")"
   ]
  },
  {
   "cell_type": "markdown",
   "metadata": {
    "slideshow": {
     "slide_type": "subslide"
    }
   },
   "source": [
    "Set up optimizer:"
   ]
  },
  {
   "cell_type": "code",
   "execution_count": 23,
   "metadata": {},
   "outputs": [],
   "source": [
    "optimizer = tf.train.GradientDescentOptimizer(learning_rate=learning_rate)\n",
    "training_op = optimizer.minimize(mse)\n",
    "\n",
    "init = tf.global_variables_initializer()\n",
    "\n",
    "mse_summary = tf.summary.scalar('MSE', mse)\n",
    "file_writer = tf.summary.FileWriter(logdir, tf.get_default_graph())"
   ]
  },
  {
   "cell_type": "markdown",
   "metadata": {
    "slideshow": {
     "slide_type": "subslide"
    }
   },
   "source": [
    "Run:"
   ]
  },
  {
   "cell_type": "code",
   "execution_count": 24,
   "metadata": {},
   "outputs": [],
   "source": [
    "n_epochs = 10\n",
    "batch_size = 100\n",
    "n_batches = int(np.ceil(m / batch_size))\n",
    "\n",
    "with tf.Session() as sess:\n",
    "    sess.run(init)\n",
    "\n",
    "    for epoch in range(n_epochs):\n",
    "        for batch_index in range(n_batches):\n",
    "            X_batch, y_batch = fetch_batch(epoch, batch_index, batch_size)\n",
    "            if batch_index % 10 == 0:\n",
    "                summary_str = mse_summary.eval(feed_dict={X: X_batch, y: y_batch})\n",
    "                step = epoch * n_batches + batch_index\n",
    "                file_writer.add_summary(summary_str, step)\n",
    "            sess.run(training_op, feed_dict={X: X_batch, y: y_batch})\n",
    "\n",
    "    best_theta = theta.eval()"
   ]
  },
  {
   "cell_type": "code",
   "execution_count": 25,
   "metadata": {
    "slideshow": {
     "slide_type": "subslide"
    }
   },
   "outputs": [
    {
     "name": "stdout",
     "output_type": "stream",
     "text": [
      "Best theta:\n",
      "[[ 2.0703337 ]\n",
      " [ 0.8637145 ]\n",
      " [ 0.12255151]\n",
      " [-0.31211874]\n",
      " [ 0.38510373]\n",
      " [ 0.00434168]\n",
      " [-0.01232954]\n",
      " [-0.83376896]\n",
      " [-0.8030471 ]]\n"
     ]
    }
   ],
   "source": [
    "file_writer.flush()\n",
    "file_writer.close()\n",
    "print(\"Best theta:\")\n",
    "print(best_theta)"
   ]
  },
  {
   "cell_type": "markdown",
   "metadata": {
    "slideshow": {
     "slide_type": "subslide"
    }
   },
   "source": [
    "View in TensorBoard..."
   ]
  },
  {
   "cell_type": "code",
   "execution_count": 26,
   "metadata": {},
   "outputs": [
    {
     "name": "stdout",
     "output_type": "stream",
     "text": [
      "loss/sub\n"
     ]
    }
   ],
   "source": [
    "print(error.op.name)"
   ]
  },
  {
   "cell_type": "code",
   "execution_count": 27,
   "metadata": {},
   "outputs": [
    {
     "name": "stdout",
     "output_type": "stream",
     "text": [
      "loss/mse\n"
     ]
    }
   ],
   "source": [
    "print(mse.op.name)"
   ]
  },
  {
   "cell_type": "markdown",
   "metadata": {
    "slideshow": {
     "slide_type": "subslide"
    }
   },
   "source": [
    "## Modularity"
   ]
  },
  {
   "cell_type": "markdown",
   "metadata": {},
   "source": [
    "Many graph components are often repeated."
   ]
  },
  {
   "cell_type": "markdown",
   "metadata": {
    "slideshow": {
     "slide_type": "subslide"
    }
   },
   "source": [
    "For example, let's create a graph with two rectified linear units (ReLUs)."
   ]
  },
  {
   "cell_type": "markdown",
   "metadata": {},
   "source": [
    "Could just repeat code but this is not efficient coding and is prone to errors."
   ]
  },
  {
   "cell_type": "code",
   "execution_count": 28,
   "metadata": {},
   "outputs": [],
   "source": [
    "reset_graph()\n",
    "\n",
    "n_features = 3\n",
    "X = tf.placeholder(tf.float32, shape=(None, n_features), name=\"X\")\n",
    "\n",
    "w1 = tf.Variable(tf.random_normal((n_features, 1)), name=\"weights1\")\n",
    "w2 = tf.Variable(tf.random_normal((n_features, 1)), name=\"weights2\")\n",
    "b1 = tf.Variable(0.0, name=\"bias1\")\n",
    "b2 = tf.Variable(0.0, name=\"bias2\")\n",
    "\n",
    "z1 = tf.add(tf.matmul(X, w1), b1, name=\"z1\")\n",
    "z2 = tf.add(tf.matmul(X, w2), b2, name=\"z2\")\n",
    "\n",
    "relu1 = tf.maximum(z1, 0., name=\"relu1\")\n",
    "relu2 = tf.maximum(z2, 0., name=\"relu2\")  \n",
    "\n",
    "output = tf.add(relu1, relu2, name=\"output\")"
   ]
  },
  {
   "cell_type": "markdown",
   "metadata": {
    "slideshow": {
     "slide_type": "subslide"
    }
   },
   "source": [
    "Better approach is to create a function defining a ReLU."
   ]
  },
  {
   "cell_type": "code",
   "execution_count": 29,
   "metadata": {},
   "outputs": [],
   "source": [
    "reset_graph()\n",
    "\n",
    "def relu(X):\n",
    "    w_shape = (int(X.get_shape()[1]), 1)\n",
    "    w = tf.Variable(tf.random_normal(w_shape), name=\"weights\")\n",
    "    b = tf.Variable(0.0, name=\"bias\")\n",
    "    z = tf.add(tf.matmul(X, w), b, name=\"z\")\n",
    "    return tf.maximum(z, 0., name=\"relu\")\n",
    "\n",
    "n_features = 3\n",
    "X = tf.placeholder(tf.float32, shape=(None, n_features), name=\"X\")\n",
    "relus = [relu(X) for i in range(5)]\n",
    "output = tf.add_n(relus, name=\"output\")"
   ]
  },
  {
   "cell_type": "code",
   "execution_count": 30,
   "metadata": {},
   "outputs": [],
   "source": [
    "file_writer = tf.summary.FileWriter(\"tf_logs/relu1\", tf.get_default_graph())"
   ]
  },
  {
   "cell_type": "markdown",
   "metadata": {},
   "source": [
    "View in TensorBoard..."
   ]
  },
  {
   "cell_type": "markdown",
   "metadata": {
    "slideshow": {
     "slide_type": "subslide"
    }
   },
   "source": [
    "Still somewhat confusing.  \n",
    "\n",
    "Use name scopes to make more clear."
   ]
  },
  {
   "cell_type": "code",
   "execution_count": null,
   "metadata": {},
   "outputs": [],
   "source": [
    "reset_graph()\n",
    "\n",
    "def relu(X):\n",
    "    with tf.name_scope(\"relu\"):\n",
    "        w_shape = (int(X.get_shape()[1]), 1)                          \n",
    "        w = tf.Variable(tf.random_normal(w_shape), name=\"weights\")    \n",
    "        b = tf.Variable(0.0, name=\"bias\")                             \n",
    "        z = tf.add(tf.matmul(X, w), b, name=\"z\")                      \n",
    "        return tf.maximum(z, 0., name=\"max\")"
   ]
  },
  {
   "cell_type": "code",
   "execution_count": 32,
   "metadata": {},
   "outputs": [],
   "source": [
    "n_features = 3\n",
    "X = tf.placeholder(tf.float32, shape=(None, n_features), name=\"X\")\n",
    "relus = [relu(X) for i in range(5)]\n",
    "output = tf.add_n(relus, name=\"output\")\n",
    "\n",
    "file_writer = tf.summary.FileWriter(\"tf_logs/relu2\", tf.get_default_graph())\n",
    "file_writer.close()"
   ]
  },
  {
   "cell_type": "markdown",
   "metadata": {},
   "source": [
    "![alt text](relu.png \"Title\")"
   ]
  },
  {
   "cell_type": "markdown",
   "metadata": {
    "slideshow": {
     "slide_type": "subslide"
    }
   },
   "source": [
    "## Sharing variables"
   ]
  },
  {
   "cell_type": "markdown",
   "metadata": {},
   "source": [
    "Often want to share variables between nodes.  "
   ]
  },
  {
   "cell_type": "markdown",
   "metadata": {
    "slideshow": {
     "slide_type": "subslide"
    }
   },
   "source": [
    "For example, say we want to consider ReLUs with non-zero thresholds.\n",
    "\n",
    "One way is to simply pass parameters around as variables."
   ]
  },
  {
   "cell_type": "code",
   "execution_count": 34,
   "metadata": {},
   "outputs": [],
   "source": [
    "reset_graph()\n",
    "\n",
    "def relu(X, threshold):\n",
    "    with tf.name_scope(\"relu\"):\n",
    "        w_shape = (int(X.get_shape()[1]), 1)                        \n",
    "        w = tf.Variable(tf.random_normal(w_shape), name=\"weights\")  \n",
    "        b = tf.Variable(0.0, name=\"bias\")                           \n",
    "        z = tf.add(tf.matmul(X, w), b, name=\"z\")                    \n",
    "        return tf.maximum(z, threshold, name=\"max\")\n",
    "\n",
    "threshold = tf.Variable(0.0, name=\"threshold\")\n",
    "X = tf.placeholder(tf.float32, shape=(None, n_features), name=\"X\")\n",
    "relus = [relu(X, threshold) for i in range(5)]\n",
    "output = tf.add_n(relus, name=\"output\")"
   ]
  },
  {
   "cell_type": "markdown",
   "metadata": {},
   "source": [
    "While this works perfectly fine, TensorFlow offers an alternative approach that is cleaner and more modular."
   ]
  },
  {
   "cell_type": "markdown",
   "metadata": {
    "slideshow": {
     "slide_type": "subslide"
    }
   },
   "source": [
    "Use TensorFlow `tf.get_variable` function to create (if it doesn't yet exist) or reuse variables."
   ]
  },
  {
   "cell_type": "code",
   "execution_count": 35,
   "metadata": {},
   "outputs": [],
   "source": [
    "reset_graph()\n",
    "\n",
    "with tf.variable_scope(\"relu\"):\n",
    "    threshold = tf.get_variable(\"threshold\", shape=(),\n",
    "                                initializer=tf.constant_initializer(0.0))"
   ]
  },
  {
   "cell_type": "markdown",
   "metadata": {},
   "source": [
    "This will actually raise an exception if the variable has already be created by an earlier call to `tf.get_variable`."
   ]
  },
  {
   "cell_type": "markdown",
   "metadata": {
    "slideshow": {
     "slide_type": "subslide"
    }
   },
   "source": [
    "Need to explicitly specify that can reuse variables.\n",
    "\n",
    "Can be performed by setting variable scope's `reuse` attribute to True, either by:"
   ]
  },
  {
   "cell_type": "code",
   "execution_count": 36,
   "metadata": {},
   "outputs": [],
   "source": [
    "with tf.variable_scope(\"relu\", reuse=True):\n",
    "    threshold = tf.get_variable(\"threshold\")"
   ]
  },
  {
   "cell_type": "markdown",
   "metadata": {
    "slideshow": {
     "slide_type": "-"
    }
   },
   "source": [
    "or by setting explicitly:"
   ]
  },
  {
   "cell_type": "code",
   "execution_count": 37,
   "metadata": {},
   "outputs": [],
   "source": [
    "with tf.variable_scope(\"relu\") as scope:\n",
    "    scope.reuse_variables()\n",
    "    threshold = tf.get_variable(\"threshold\")"
   ]
  },
  {
   "cell_type": "markdown",
   "metadata": {
    "slideshow": {
     "slide_type": "subslide"
    }
   },
   "source": [
    "Using the shared threshold variable:"
   ]
  },
  {
   "cell_type": "code",
   "execution_count": 38,
   "metadata": {},
   "outputs": [],
   "source": [
    "reset_graph()\n",
    "\n",
    "def relu(X):\n",
    "    with tf.variable_scope(\"relu\", reuse=True):\n",
    "        threshold = tf.get_variable(\"threshold\")\n",
    "        w_shape = int(X.get_shape()[1]), 1                          \n",
    "        w = tf.Variable(tf.random_normal(w_shape), name=\"weights\")  \n",
    "        b = tf.Variable(0.0, name=\"bias\")                           \n",
    "        z = tf.add(tf.matmul(X, w), b, name=\"z\")                    \n",
    "        return tf.maximum(z, threshold, name=\"max\")\n",
    "\n",
    "X = tf.placeholder(tf.float32, shape=(None, n_features), name=\"X\")\n",
    "with tf.variable_scope(\"relu\"):\n",
    "    threshold = tf.get_variable(\"threshold\", shape=(),\n",
    "                                initializer=tf.constant_initializer(0.0))\n",
    "relus = [relu(X) for relu_index in range(5)]\n",
    "output = tf.add_n(relus, name=\"output\")"
   ]
  },
  {
   "cell_type": "code",
   "execution_count": 39,
   "metadata": {},
   "outputs": [],
   "source": [
    "file_writer = tf.summary.FileWriter(\"tf_logs/relu3\", tf.get_default_graph())\n",
    "file_writer.close()"
   ]
  },
  {
   "cell_type": "markdown",
   "metadata": {},
   "source": [
    "![alt text](th.png \"Title\")"
   ]
  },
  {
   "cell_type": "markdown",
   "metadata": {},
   "source": [
    "View in TensorBoard..."
   ]
  },
  {
   "cell_type": "markdown",
   "metadata": {
    "slideshow": {
     "slide_type": "subslide"
    }
   },
   "source": [
    "Could also put the `threshold` inside the first ReLU:"
   ]
  },
  {
   "cell_type": "code",
   "execution_count": 39,
   "metadata": {},
   "outputs": [],
   "source": [
    "reset_graph()\n",
    "\n",
    "def relu(X):\n",
    "    threshold = tf.get_variable(\"threshold\", shape=(),\n",
    "                                initializer=tf.constant_initializer(0.0))\n",
    "    w_shape = (int(X.get_shape()[1]), 1)                        \n",
    "    w = tf.Variable(tf.random_normal(w_shape), name=\"weights\")  \n",
    "    b = tf.Variable(0.0, name=\"bias\")                           \n",
    "    z = tf.add(tf.matmul(X, w), b, name=\"z\")                     \n",
    "    return tf.maximum(z, threshold, name=\"max\")\n",
    "\n",
    "X = tf.placeholder(tf.float32, shape=(None, n_features), name=\"X\")\n",
    "relus = []\n",
    "for relu_index in range(5):\n",
    "    with tf.variable_scope(\"relu\", reuse=(relu_index >= 1)) as scope:\n",
    "        relus.append(relu(X))\n",
    "output = tf.add_n(relus, name=\"output\")"
   ]
  },
  {
   "cell_type": "code",
   "execution_count": 40,
   "metadata": {},
   "outputs": [],
   "source": [
    "file_writer = tf.summary.FileWriter(\"tf_logs/relu4\", tf.get_default_graph())\n",
    "file_writer.close()"
   ]
  },
  {
   "cell_type": "markdown",
   "metadata": {},
   "source": [
    "View in TensorBoard..."
   ]
  },
  {
   "cell_type": "markdown",
   "metadata": {
    "slideshow": {
     "slide_type": "slide"
    }
   },
   "source": [
    "# Neural networks in TensorFlow"
   ]
  },
  {
   "cell_type": "markdown",
   "metadata": {
    "slideshow": {
     "slide_type": "subslide"
    }
   },
   "source": [
    "## Using TF.Learn (high-level API)"
   ]
  },
  {
   "cell_type": "markdown",
   "metadata": {},
   "source": [
    "TF.Learn provides a high-level TensorFlow API in Python that is compatible with SciKit-Learn."
   ]
  },
  {
   "cell_type": "code",
   "execution_count": 40,
   "metadata": {
    "slideshow": {
     "slide_type": "subslide"
    }
   },
   "outputs": [
    {
     "name": "stdout",
     "output_type": "stream",
     "text": [
      "WARNING:tensorflow:From <ipython-input-40-c50d5bb4a85c>:2: read_data_sets (from tensorflow.contrib.learn.python.learn.datasets.mnist) is deprecated and will be removed in a future version.\n",
      "Instructions for updating:\n",
      "Please use alternatives such as official/mnist/dataset.py from tensorflow/models.\n",
      "WARNING:tensorflow:From /usr/local/lib/python3.7/site-packages/tensorflow/contrib/learn/python/learn/datasets/mnist.py:260: maybe_download (from tensorflow.contrib.learn.python.learn.datasets.base) is deprecated and will be removed in a future version.\n",
      "Instructions for updating:\n",
      "Please write your own downloading logic.\n",
      "WARNING:tensorflow:From /usr/local/lib/python3.7/site-packages/tensorflow/contrib/learn/python/learn/datasets/base.py:252: _internal_retry.<locals>.wrap.<locals>.wrapped_fn (from tensorflow.contrib.learn.python.learn.datasets.base) is deprecated and will be removed in a future version.\n",
      "Instructions for updating:\n",
      "Please use urllib or similar directly.\n",
      "Successfully downloaded train-images-idx3-ubyte.gz 9912422 bytes.\n",
      "WARNING:tensorflow:From /usr/local/lib/python3.7/site-packages/tensorflow/contrib/learn/python/learn/datasets/mnist.py:262: extract_images (from tensorflow.contrib.learn.python.learn.datasets.mnist) is deprecated and will be removed in a future version.\n",
      "Instructions for updating:\n",
      "Please use tf.data to implement this functionality.\n",
      "Extracting /tmp/data/train-images-idx3-ubyte.gz\n",
      "Successfully downloaded train-labels-idx1-ubyte.gz 28881 bytes.\n",
      "WARNING:tensorflow:From /usr/local/lib/python3.7/site-packages/tensorflow/contrib/learn/python/learn/datasets/mnist.py:267: extract_labels (from tensorflow.contrib.learn.python.learn.datasets.mnist) is deprecated and will be removed in a future version.\n",
      "Instructions for updating:\n",
      "Please use tf.data to implement this functionality.\n",
      "Extracting /tmp/data/train-labels-idx1-ubyte.gz\n",
      "Successfully downloaded t10k-images-idx3-ubyte.gz 1648877 bytes.\n",
      "Extracting /tmp/data/t10k-images-idx3-ubyte.gz\n",
      "Successfully downloaded t10k-labels-idx1-ubyte.gz 4542 bytes.\n",
      "Extracting /tmp/data/t10k-labels-idx1-ubyte.gz\n",
      "WARNING:tensorflow:From /usr/local/lib/python3.7/site-packages/tensorflow/contrib/learn/python/learn/datasets/mnist.py:290: DataSet.__init__ (from tensorflow.contrib.learn.python.learn.datasets.mnist) is deprecated and will be removed in a future version.\n",
      "Instructions for updating:\n",
      "Please use alternatives such as official/mnist/dataset.py from tensorflow/models.\n"
     ]
    }
   ],
   "source": [
    "from tensorflow.examples.tutorials.mnist import input_data\n",
    "mnist = input_data.read_data_sets(\"/tmp/data/\")"
   ]
  },
  {
   "cell_type": "code",
   "execution_count": 41,
   "metadata": {},
   "outputs": [],
   "source": [
    "X_train = mnist.train.images\n",
    "X_test = mnist.test.images\n",
    "y_train = mnist.train.labels.astype(\"int\")\n",
    "y_test = mnist.test.labels.astype(\"int\")"
   ]
  },
  {
   "cell_type": "code",
   "execution_count": 42,
   "metadata": {
    "slideshow": {
     "slide_type": "subslide"
    }
   },
   "outputs": [
    {
     "name": "stdout",
     "output_type": "stream",
     "text": [
      "WARNING:tensorflow:From <ipython-input-42-9c947aceae9d>:3: RunConfig.__init__ (from tensorflow.contrib.learn.python.learn.estimators.run_config) is deprecated and will be removed in a future version.\n",
      "Instructions for updating:\n",
      "When switching to tf.estimator.Estimator, use tf.estimator.RunConfig instead.\n",
      "WARNING:tensorflow:From <ipython-input-42-9c947aceae9d>:5: infer_real_valued_columns_from_input (from tensorflow.contrib.learn.python.learn.estimators.estimator) is deprecated and will be removed in a future version.\n",
      "Instructions for updating:\n",
      "Please specify feature columns explicitly.\n",
      "WARNING:tensorflow:From /usr/local/lib/python3.7/site-packages/tensorflow/contrib/learn/python/learn/estimators/estimator.py:143: setup_train_data_feeder (from tensorflow.contrib.learn.python.learn.learn_io.data_feeder) is deprecated and will be removed in a future version.\n",
      "Instructions for updating:\n",
      "Please use tensorflow/transform or tf.data.\n",
      "WARNING:tensorflow:From /usr/local/lib/python3.7/site-packages/tensorflow/contrib/learn/python/learn/learn_io/data_feeder.py:100: extract_pandas_data (from tensorflow.contrib.learn.python.learn.learn_io.pandas_io) is deprecated and will be removed in a future version.\n",
      "Instructions for updating:\n",
      "Please access pandas data directly.\n",
      "WARNING:tensorflow:From /usr/local/lib/python3.7/site-packages/tensorflow/contrib/learn/python/learn/learn_io/data_feeder.py:159: DataFeeder.__init__ (from tensorflow.contrib.learn.python.learn.learn_io.data_feeder) is deprecated and will be removed in a future version.\n",
      "Instructions for updating:\n",
      "Please use tensorflow/transform or tf.data.\n",
      "WARNING:tensorflow:From /usr/local/lib/python3.7/site-packages/tensorflow/contrib/learn/python/learn/learn_io/data_feeder.py:340: check_array (from tensorflow.contrib.learn.python.learn.learn_io.data_feeder) is deprecated and will be removed in a future version.\n",
      "Instructions for updating:\n",
      "Please convert numpy dtypes explicitly.\n",
      "WARNING:tensorflow:From /usr/local/lib/python3.7/site-packages/tensorflow/contrib/learn/python/learn/estimators/estimator.py:183: infer_real_valued_columns_from_input_fn (from tensorflow.contrib.learn.python.learn.estimators.estimator) is deprecated and will be removed in a future version.\n",
      "Instructions for updating:\n",
      "Please specify feature columns explicitly.\n",
      "WARNING:tensorflow:From /usr/local/lib/python3.7/site-packages/tensorflow/contrib/learn/python/learn/estimators/dnn.py:378: multi_class_head (from tensorflow.contrib.learn.python.learn.estimators.head) is deprecated and will be removed in a future version.\n",
      "Instructions for updating:\n",
      "Please switch to tf.contrib.estimator.*_head.\n",
      "WARNING:tensorflow:From /usr/local/lib/python3.7/site-packages/tensorflow/contrib/learn/python/learn/estimators/estimator.py:1179: BaseEstimator.__init__ (from tensorflow.contrib.learn.python.learn.estimators.estimator) is deprecated and will be removed in a future version.\n",
      "Instructions for updating:\n",
      "Please replace uses of any Estimator from tf.contrib.learn with an Estimator from tf.estimator.*\n",
      "WARNING:tensorflow:Using temporary folder as model directory: /var/folders/nk/bd2dzmzx6_d1rx0wc_407nq00000gn/T/tmp6yzhamec\n",
      "INFO:tensorflow:Using config: {'_task_type': None, '_task_id': 0, '_cluster_spec': <tensorflow.python.training.server_lib.ClusterSpec object at 0x13e17cd10>, '_master': '', '_num_ps_replicas': 0, '_num_worker_replicas': 0, '_environment': 'local', '_is_chief': True, '_evaluation_master': '', '_train_distribute': None, '_eval_distribute': None, '_experimental_max_worker_delay_secs': None, '_device_fn': None, '_tf_config': gpu_options {\n",
      "  per_process_gpu_memory_fraction: 1.0\n",
      "}\n",
      ", '_tf_random_seed': 42, '_save_summary_steps': 100, '_save_checkpoints_secs': 600, '_log_step_count_steps': 100, '_protocol': None, '_session_config': None, '_save_checkpoints_steps': None, '_keep_checkpoint_max': 5, '_keep_checkpoint_every_n_hours': 10000, '_model_dir': '/var/folders/nk/bd2dzmzx6_d1rx0wc_407nq00000gn/T/tmp6yzhamec'}\n",
      "WARNING:tensorflow:From <ipython-input-42-9c947aceae9d>:8: SKCompat.__init__ (from tensorflow.contrib.learn.python.learn.estimators.estimator) is deprecated and will be removed in a future version.\n",
      "Instructions for updating:\n",
      "Please switch to the Estimator interface.\n",
      "WARNING:tensorflow:From /usr/local/lib/python3.7/site-packages/tensorflow/contrib/learn/python/learn/learn_io/data_feeder.py:102: extract_pandas_labels (from tensorflow.contrib.learn.python.learn.learn_io.pandas_io) is deprecated and will be removed in a future version.\n",
      "Instructions for updating:\n",
      "Please access pandas data directly.\n",
      "WARNING:tensorflow:From /usr/local/lib/python3.7/site-packages/tensorflow/python/training/training_util.py:236: Variable.initialized_value (from tensorflow.python.ops.variables) is deprecated and will be removed in a future version.\n",
      "Instructions for updating:\n",
      "Use Variable.read_value. Variables in 2.X are initialized automatically both in eager and graph (inside tf.defun) contexts.\n",
      "WARNING:tensorflow:From /usr/local/lib/python3.7/site-packages/tensorflow/python/training/adagrad.py:76: calling Constant.__init__ (from tensorflow.python.ops.init_ops) with dtype is deprecated and will be removed in a future version.\n",
      "Instructions for updating:\n",
      "Call initializer instance with the dtype argument instead of passing it to the constructor\n",
      "WARNING:tensorflow:From /usr/local/lib/python3.7/site-packages/tensorflow/contrib/learn/python/learn/estimators/head.py:678: ModelFnOps.__new__ (from tensorflow.contrib.learn.python.learn.estimators.model_fn) is deprecated and will be removed in a future version.\n",
      "Instructions for updating:\n",
      "When switching to tf.estimator.Estimator, use tf.estimator.EstimatorSpec. You can use the `estimator_spec` method to create an equivalent one.\n",
      "INFO:tensorflow:Create CheckpointSaverHook.\n",
      "WARNING:tensorflow:From /usr/local/lib/python3.7/site-packages/tensorflow/python/ops/array_ops.py:1354: add_dispatch_support.<locals>.wrapper (from tensorflow.python.ops.array_ops) is deprecated and will be removed in a future version.\n",
      "Instructions for updating:\n",
      "Use tf.where in 2.0, which has the same broadcast rule as np.where\n",
      "INFO:tensorflow:Graph was finalized.\n",
      "INFO:tensorflow:Running local_init_op.\n",
      "INFO:tensorflow:Done running local_init_op.\n",
      "INFO:tensorflow:Saving checkpoints for 0 into /var/folders/nk/bd2dzmzx6_d1rx0wc_407nq00000gn/T/tmp6yzhamec/model.ckpt.\n",
      "INFO:tensorflow:loss = 2.3451104, step = 1\n",
      "INFO:tensorflow:global_step/sec: 403.011\n",
      "INFO:tensorflow:loss = 0.31802303, step = 101 (0.249 sec)\n",
      "INFO:tensorflow:global_step/sec: 513.186\n",
      "INFO:tensorflow:loss = 0.30232453, step = 201 (0.195 sec)\n",
      "INFO:tensorflow:global_step/sec: 555.574\n",
      "INFO:tensorflow:loss = 0.38436478, step = 301 (0.180 sec)\n",
      "INFO:tensorflow:global_step/sec: 562.565\n",
      "INFO:tensorflow:loss = 0.24654518, step = 401 (0.178 sec)\n",
      "INFO:tensorflow:global_step/sec: 479.994\n",
      "INFO:tensorflow:loss = 0.25312525, step = 501 (0.208 sec)\n",
      "INFO:tensorflow:global_step/sec: 482.03\n",
      "INFO:tensorflow:loss = 0.056900054, step = 601 (0.208 sec)\n",
      "INFO:tensorflow:global_step/sec: 467.209\n",
      "INFO:tensorflow:loss = 0.13211443, step = 701 (0.214 sec)\n",
      "INFO:tensorflow:global_step/sec: 513.036\n",
      "INFO:tensorflow:loss = 0.20757912, step = 801 (0.195 sec)\n",
      "INFO:tensorflow:global_step/sec: 513.907\n",
      "INFO:tensorflow:loss = 0.11839202, step = 901 (0.195 sec)\n",
      "INFO:tensorflow:global_step/sec: 515.577\n",
      "INFO:tensorflow:loss = 0.20252214, step = 1001 (0.194 sec)\n",
      "INFO:tensorflow:global_step/sec: 528.313\n",
      "INFO:tensorflow:loss = 0.18851696, step = 1101 (0.190 sec)\n",
      "INFO:tensorflow:global_step/sec: 487.044\n",
      "INFO:tensorflow:loss = 0.153252, step = 1201 (0.205 sec)\n",
      "INFO:tensorflow:global_step/sec: 466.514\n",
      "INFO:tensorflow:loss = 0.19756195, step = 1301 (0.214 sec)\n",
      "INFO:tensorflow:global_step/sec: 510.199\n",
      "INFO:tensorflow:loss = 0.05277267, step = 1401 (0.196 sec)\n",
      "INFO:tensorflow:global_step/sec: 510.542\n",
      "INFO:tensorflow:loss = 0.101338364, step = 1501 (0.196 sec)\n",
      "INFO:tensorflow:global_step/sec: 511.125\n",
      "INFO:tensorflow:loss = 0.121346466, step = 1601 (0.197 sec)\n",
      "INFO:tensorflow:global_step/sec: 533.47\n",
      "INFO:tensorflow:loss = 0.042570014, step = 1701 (0.187 sec)\n",
      "INFO:tensorflow:global_step/sec: 567.659\n",
      "INFO:tensorflow:loss = 0.117613316, step = 1801 (0.176 sec)\n",
      "INFO:tensorflow:global_step/sec: 534.356\n",
      "INFO:tensorflow:loss = 0.08180826, step = 1901 (0.187 sec)\n",
      "INFO:tensorflow:global_step/sec: 519.84\n",
      "INFO:tensorflow:loss = 0.09008584, step = 2001 (0.192 sec)\n",
      "INFO:tensorflow:global_step/sec: 559.666\n",
      "INFO:tensorflow:loss = 0.034546405, step = 2101 (0.178 sec)\n",
      "INFO:tensorflow:global_step/sec: 530.242\n",
      "INFO:tensorflow:loss = 0.030064797, step = 2201 (0.189 sec)\n",
      "INFO:tensorflow:global_step/sec: 516.356\n",
      "INFO:tensorflow:loss = 0.055297896, step = 2301 (0.194 sec)\n",
      "INFO:tensorflow:global_step/sec: 541.278\n",
      "INFO:tensorflow:loss = 0.042214584, step = 2401 (0.184 sec)\n",
      "INFO:tensorflow:global_step/sec: 567.84\n",
      "INFO:tensorflow:loss = 0.08601213, step = 2501 (0.176 sec)\n",
      "INFO:tensorflow:global_step/sec: 554.409\n",
      "INFO:tensorflow:loss = 0.0588388, step = 2601 (0.180 sec)\n",
      "INFO:tensorflow:global_step/sec: 546.419\n",
      "INFO:tensorflow:loss = 0.02535018, step = 2701 (0.183 sec)\n",
      "INFO:tensorflow:global_step/sec: 499.58\n",
      "INFO:tensorflow:loss = 0.03780351, step = 2801 (0.200 sec)\n",
      "INFO:tensorflow:global_step/sec: 500.897\n",
      "INFO:tensorflow:loss = 0.08029724, step = 2901 (0.200 sec)\n",
      "INFO:tensorflow:global_step/sec: 553.676\n",
      "INFO:tensorflow:loss = 0.018909317, step = 3001 (0.181 sec)\n",
      "INFO:tensorflow:global_step/sec: 567.196\n",
      "INFO:tensorflow:loss = 0.05088946, step = 3101 (0.176 sec)\n",
      "INFO:tensorflow:global_step/sec: 574.26\n",
      "INFO:tensorflow:loss = 0.015837118, step = 3201 (0.174 sec)\n",
      "INFO:tensorflow:global_step/sec: 550.537\n",
      "INFO:tensorflow:loss = 0.020428741, step = 3301 (0.182 sec)\n",
      "INFO:tensorflow:global_step/sec: 557.734\n",
      "INFO:tensorflow:loss = 0.16672371, step = 3401 (0.179 sec)\n",
      "INFO:tensorflow:global_step/sec: 541.635\n",
      "INFO:tensorflow:loss = 0.10610292, step = 3501 (0.185 sec)\n",
      "INFO:tensorflow:global_step/sec: 519.066\n",
      "INFO:tensorflow:loss = 0.13777259, step = 3601 (0.193 sec)\n",
      "INFO:tensorflow:global_step/sec: 512.484\n",
      "INFO:tensorflow:loss = 0.04099331, step = 3701 (0.195 sec)\n",
      "INFO:tensorflow:global_step/sec: 543.925\n",
      "INFO:tensorflow:loss = 0.011518671, step = 3801 (0.184 sec)\n",
      "INFO:tensorflow:global_step/sec: 559.904\n",
      "INFO:tensorflow:loss = 0.057208885, step = 3901 (0.179 sec)\n",
      "INFO:tensorflow:global_step/sec: 509.782\n",
      "INFO:tensorflow:loss = 0.10869343, step = 4001 (0.196 sec)\n",
      "INFO:tensorflow:global_step/sec: 528.137\n",
      "INFO:tensorflow:loss = 0.034081344, step = 4101 (0.189 sec)\n",
      "INFO:tensorflow:global_step/sec: 493.834\n",
      "INFO:tensorflow:loss = 0.045720458, step = 4201 (0.202 sec)\n",
      "INFO:tensorflow:global_step/sec: 498.162\n",
      "INFO:tensorflow:loss = 0.1142224, step = 4301 (0.201 sec)\n",
      "INFO:tensorflow:global_step/sec: 478.976\n",
      "INFO:tensorflow:loss = 0.14347214, step = 4401 (0.209 sec)\n",
      "INFO:tensorflow:global_step/sec: 492.203\n",
      "INFO:tensorflow:loss = 0.02596602, step = 4501 (0.203 sec)\n",
      "INFO:tensorflow:global_step/sec: 493.696\n",
      "INFO:tensorflow:loss = 0.024090905, step = 4601 (0.203 sec)\n",
      "INFO:tensorflow:global_step/sec: 483.924\n",
      "INFO:tensorflow:loss = 0.009727878, step = 4701 (0.207 sec)\n",
      "INFO:tensorflow:global_step/sec: 495.845\n",
      "INFO:tensorflow:loss = 0.028038833, step = 4801 (0.202 sec)\n",
      "INFO:tensorflow:global_step/sec: 489.237\n",
      "INFO:tensorflow:loss = 0.056126833, step = 4901 (0.204 sec)\n",
      "INFO:tensorflow:global_step/sec: 496.709\n",
      "INFO:tensorflow:loss = 0.073916584, step = 5001 (0.201 sec)\n",
      "INFO:tensorflow:global_step/sec: 492.613\n",
      "INFO:tensorflow:loss = 0.009035141, step = 5101 (0.203 sec)\n",
      "INFO:tensorflow:global_step/sec: 492.364\n",
      "INFO:tensorflow:loss = 0.052173086, step = 5201 (0.203 sec)\n",
      "INFO:tensorflow:global_step/sec: 551.678\n",
      "INFO:tensorflow:loss = 0.031412438, step = 5301 (0.181 sec)\n",
      "INFO:tensorflow:global_step/sec: 543.898\n",
      "INFO:tensorflow:loss = 0.026847428, step = 5401 (0.184 sec)\n",
      "INFO:tensorflow:global_step/sec: 534.108\n",
      "INFO:tensorflow:loss = 0.03403291, step = 5501 (0.187 sec)\n",
      "INFO:tensorflow:global_step/sec: 552.08\n",
      "INFO:tensorflow:loss = 0.046197854, step = 5601 (0.181 sec)\n",
      "INFO:tensorflow:global_step/sec: 577.704\n",
      "INFO:tensorflow:loss = 0.012735528, step = 5701 (0.173 sec)\n",
      "INFO:tensorflow:global_step/sec: 557.209\n",
      "INFO:tensorflow:loss = 0.009732411, step = 5801 (0.180 sec)\n",
      "INFO:tensorflow:global_step/sec: 540.488\n",
      "INFO:tensorflow:loss = 0.0757069, step = 5901 (0.185 sec)\n",
      "INFO:tensorflow:global_step/sec: 524.813\n",
      "INFO:tensorflow:loss = 0.06920184, step = 6001 (0.191 sec)\n",
      "INFO:tensorflow:global_step/sec: 523.908\n",
      "INFO:tensorflow:loss = 0.015911855, step = 6101 (0.191 sec)\n",
      "INFO:tensorflow:global_step/sec: 517.623\n",
      "INFO:tensorflow:loss = 0.01746631, step = 6201 (0.194 sec)\n",
      "INFO:tensorflow:global_step/sec: 558.603\n",
      "INFO:tensorflow:loss = 0.047636107, step = 6301 (0.179 sec)\n",
      "INFO:tensorflow:global_step/sec: 555.324\n",
      "INFO:tensorflow:loss = 0.037202932, step = 6401 (0.180 sec)\n",
      "INFO:tensorflow:global_step/sec: 566.222\n",
      "INFO:tensorflow:loss = 0.0202524, step = 6501 (0.176 sec)\n",
      "INFO:tensorflow:global_step/sec: 558.263\n",
      "INFO:tensorflow:loss = 0.010995091, step = 6601 (0.179 sec)\n",
      "INFO:tensorflow:global_step/sec: 519.313\n",
      "INFO:tensorflow:loss = 0.011111837, step = 6701 (0.193 sec)\n",
      "INFO:tensorflow:global_step/sec: 542.329\n",
      "INFO:tensorflow:loss = 0.012808588, step = 6801 (0.184 sec)\n",
      "INFO:tensorflow:global_step/sec: 498.06\n",
      "INFO:tensorflow:loss = 0.0077955895, step = 6901 (0.201 sec)\n",
      "INFO:tensorflow:global_step/sec: 484.048\n",
      "INFO:tensorflow:loss = 0.023221683, step = 7001 (0.207 sec)\n",
      "INFO:tensorflow:global_step/sec: 484.166\n",
      "INFO:tensorflow:loss = 0.008407045, step = 7101 (0.207 sec)\n",
      "INFO:tensorflow:global_step/sec: 486.853\n",
      "INFO:tensorflow:loss = 0.039222885, step = 7201 (0.205 sec)\n",
      "INFO:tensorflow:global_step/sec: 495.569\n",
      "INFO:tensorflow:loss = 0.004865154, step = 7301 (0.202 sec)\n",
      "INFO:tensorflow:global_step/sec: 485.256\n",
      "INFO:tensorflow:loss = 0.015432077, step = 7401 (0.206 sec)\n",
      "INFO:tensorflow:global_step/sec: 539.764\n",
      "INFO:tensorflow:loss = 0.005481147, step = 7501 (0.186 sec)\n",
      "INFO:tensorflow:global_step/sec: 561.429\n",
      "INFO:tensorflow:loss = 0.041120492, step = 7601 (0.178 sec)\n",
      "INFO:tensorflow:global_step/sec: 561.328\n",
      "INFO:tensorflow:loss = 0.010966438, step = 7701 (0.178 sec)\n",
      "INFO:tensorflow:global_step/sec: 565.128\n",
      "INFO:tensorflow:loss = 0.0049202256, step = 7801 (0.177 sec)\n",
      "INFO:tensorflow:global_step/sec: 563.406\n",
      "INFO:tensorflow:loss = 0.025650047, step = 7901 (0.178 sec)\n",
      "INFO:tensorflow:global_step/sec: 559.572\n",
      "INFO:tensorflow:loss = 0.0069411127, step = 8001 (0.178 sec)\n",
      "INFO:tensorflow:global_step/sec: 562.828\n",
      "INFO:tensorflow:loss = 0.018348577, step = 8101 (0.178 sec)\n",
      "INFO:tensorflow:global_step/sec: 565.211\n",
      "INFO:tensorflow:loss = 0.026050158, step = 8201 (0.177 sec)\n",
      "INFO:tensorflow:global_step/sec: 560.115\n",
      "INFO:tensorflow:loss = 0.030083384, step = 8301 (0.179 sec)\n",
      "INFO:tensorflow:global_step/sec: 563.111\n",
      "INFO:tensorflow:loss = 0.0045024585, step = 8401 (0.177 sec)\n",
      "INFO:tensorflow:global_step/sec: 579.485\n",
      "INFO:tensorflow:loss = 0.010546441, step = 8501 (0.173 sec)\n",
      "INFO:tensorflow:global_step/sec: 566.446\n",
      "INFO:tensorflow:loss = 0.0037911513, step = 8601 (0.177 sec)\n",
      "INFO:tensorflow:global_step/sec: 560.194\n",
      "INFO:tensorflow:loss = 0.0020520822, step = 8701 (0.178 sec)\n",
      "INFO:tensorflow:global_step/sec: 557.74\n",
      "INFO:tensorflow:loss = 0.008022302, step = 8801 (0.180 sec)\n",
      "INFO:tensorflow:global_step/sec: 548.054\n",
      "INFO:tensorflow:loss = 0.0034807217, step = 8901 (0.182 sec)\n",
      "INFO:tensorflow:global_step/sec: 495.051\n",
      "INFO:tensorflow:loss = 0.0039503737, step = 9001 (0.202 sec)\n",
      "INFO:tensorflow:global_step/sec: 515.983\n",
      "INFO:tensorflow:loss = 0.006358194, step = 9101 (0.194 sec)\n",
      "INFO:tensorflow:global_step/sec: 523.354\n",
      "INFO:tensorflow:loss = 0.0092066405, step = 9201 (0.191 sec)\n",
      "INFO:tensorflow:global_step/sec: 465.552\n",
      "INFO:tensorflow:loss = 0.012499487, step = 9301 (0.216 sec)\n",
      "INFO:tensorflow:global_step/sec: 478.251\n",
      "INFO:tensorflow:loss = 0.036466908, step = 9401 (0.209 sec)\n",
      "INFO:tensorflow:global_step/sec: 551.74\n",
      "INFO:tensorflow:loss = 0.0058111167, step = 9501 (0.181 sec)\n",
      "INFO:tensorflow:global_step/sec: 516.614\n",
      "INFO:tensorflow:loss = 0.011259595, step = 9601 (0.194 sec)\n",
      "INFO:tensorflow:global_step/sec: 500.651\n",
      "INFO:tensorflow:loss = 0.008074548, step = 9701 (0.200 sec)\n",
      "INFO:tensorflow:global_step/sec: 517.245\n",
      "INFO:tensorflow:loss = 0.0038884485, step = 9801 (0.193 sec)\n",
      "INFO:tensorflow:global_step/sec: 523.42\n",
      "INFO:tensorflow:loss = 0.019272454, step = 9901 (0.191 sec)\n",
      "INFO:tensorflow:global_step/sec: 568.078\n",
      "INFO:tensorflow:loss = 0.008151641, step = 10001 (0.176 sec)\n",
      "INFO:tensorflow:global_step/sec: 507.113\n",
      "INFO:tensorflow:loss = 0.0052161585, step = 10101 (0.197 sec)\n",
      "INFO:tensorflow:global_step/sec: 562.328\n",
      "INFO:tensorflow:loss = 0.005289806, step = 10201 (0.178 sec)\n",
      "INFO:tensorflow:global_step/sec: 528.07\n",
      "INFO:tensorflow:loss = 0.0037249976, step = 10301 (0.189 sec)\n",
      "INFO:tensorflow:global_step/sec: 546.86\n",
      "INFO:tensorflow:loss = 0.0027267186, step = 10401 (0.183 sec)\n",
      "INFO:tensorflow:global_step/sec: 506.052\n",
      "INFO:tensorflow:loss = 0.0032190066, step = 10501 (0.198 sec)\n",
      "INFO:tensorflow:global_step/sec: 564.908\n",
      "INFO:tensorflow:loss = 0.015795229, step = 10601 (0.177 sec)\n",
      "INFO:tensorflow:global_step/sec: 542.663\n",
      "INFO:tensorflow:loss = 0.018387571, step = 10701 (0.184 sec)\n",
      "INFO:tensorflow:global_step/sec: 566.743\n",
      "INFO:tensorflow:loss = 0.0040265922, step = 10801 (0.176 sec)\n",
      "INFO:tensorflow:global_step/sec: 560.736\n",
      "INFO:tensorflow:loss = 0.001595778, step = 10901 (0.178 sec)\n",
      "INFO:tensorflow:global_step/sec: 558.947\n",
      "INFO:tensorflow:loss = 0.015887871, step = 11001 (0.179 sec)\n",
      "INFO:tensorflow:global_step/sec: 570.779\n",
      "INFO:tensorflow:loss = 0.0044315024, step = 11101 (0.175 sec)\n",
      "INFO:tensorflow:global_step/sec: 552.99\n",
      "INFO:tensorflow:loss = 0.00121318, step = 11201 (0.181 sec)\n",
      "INFO:tensorflow:global_step/sec: 481.55\n",
      "INFO:tensorflow:loss = 0.0046273614, step = 11301 (0.207 sec)\n",
      "INFO:tensorflow:global_step/sec: 488.336\n",
      "INFO:tensorflow:loss = 0.009704287, step = 11401 (0.205 sec)\n",
      "INFO:tensorflow:global_step/sec: 490.134\n",
      "INFO:tensorflow:loss = 0.012341193, step = 11501 (0.204 sec)\n",
      "INFO:tensorflow:global_step/sec: 502.341\n",
      "INFO:tensorflow:loss = 0.0006518989, step = 11601 (0.199 sec)\n",
      "INFO:tensorflow:global_step/sec: 506.045\n",
      "INFO:tensorflow:loss = 0.0033406538, step = 11701 (0.199 sec)\n",
      "INFO:tensorflow:global_step/sec: 501.753\n",
      "INFO:tensorflow:loss = 0.0003387033, step = 11801 (0.198 sec)\n",
      "INFO:tensorflow:global_step/sec: 521.763\n",
      "INFO:tensorflow:loss = 0.0040053865, step = 11901 (0.192 sec)\n",
      "INFO:tensorflow:global_step/sec: 498.853\n",
      "INFO:tensorflow:loss = 0.00039499122, step = 12001 (0.200 sec)\n",
      "INFO:tensorflow:global_step/sec: 440.048\n",
      "INFO:tensorflow:loss = 0.0015577185, step = 12101 (0.227 sec)\n",
      "INFO:tensorflow:global_step/sec: 513.334\n",
      "INFO:tensorflow:loss = 0.0038577002, step = 12201 (0.195 sec)\n",
      "INFO:tensorflow:global_step/sec: 527.068\n",
      "INFO:tensorflow:loss = 0.00518428, step = 12301 (0.190 sec)\n",
      "INFO:tensorflow:global_step/sec: 493.956\n",
      "INFO:tensorflow:loss = 0.001086381, step = 12401 (0.203 sec)\n",
      "INFO:tensorflow:global_step/sec: 527.148\n",
      "INFO:tensorflow:loss = 0.0027267083, step = 12501 (0.190 sec)\n",
      "INFO:tensorflow:global_step/sec: 533.089\n",
      "INFO:tensorflow:loss = 0.0024175188, step = 12601 (0.187 sec)\n",
      "INFO:tensorflow:global_step/sec: 532.802\n",
      "INFO:tensorflow:loss = 0.002378805, step = 12701 (0.188 sec)\n",
      "INFO:tensorflow:global_step/sec: 516.249\n",
      "INFO:tensorflow:loss = 0.0055456636, step = 12801 (0.194 sec)\n",
      "INFO:tensorflow:global_step/sec: 527.997\n",
      "INFO:tensorflow:loss = 0.002920753, step = 12901 (0.190 sec)\n",
      "INFO:tensorflow:global_step/sec: 530.513\n",
      "INFO:tensorflow:loss = 0.002535668, step = 13001 (0.188 sec)\n",
      "INFO:tensorflow:global_step/sec: 510.769\n",
      "INFO:tensorflow:loss = 0.0013717157, step = 13101 (0.196 sec)\n",
      "INFO:tensorflow:global_step/sec: 465.773\n",
      "INFO:tensorflow:loss = 0.004335088, step = 13201 (0.214 sec)\n",
      "INFO:tensorflow:global_step/sec: 456.593\n",
      "INFO:tensorflow:loss = 0.004380513, step = 13301 (0.219 sec)\n",
      "INFO:tensorflow:global_step/sec: 496.362\n",
      "INFO:tensorflow:loss = 0.012925713, step = 13401 (0.202 sec)\n",
      "INFO:tensorflow:global_step/sec: 502.639\n",
      "INFO:tensorflow:loss = 0.0038898077, step = 13501 (0.199 sec)\n",
      "INFO:tensorflow:global_step/sec: 495.503\n",
      "INFO:tensorflow:loss = 0.004689251, step = 13601 (0.202 sec)\n",
      "INFO:tensorflow:global_step/sec: 499.446\n",
      "INFO:tensorflow:loss = 0.0014589588, step = 13701 (0.200 sec)\n",
      "INFO:tensorflow:global_step/sec: 550.458\n",
      "INFO:tensorflow:loss = 0.0027260713, step = 13801 (0.182 sec)\n",
      "INFO:tensorflow:global_step/sec: 577.15\n",
      "INFO:tensorflow:loss = 0.0022387686, step = 13901 (0.173 sec)\n",
      "INFO:tensorflow:global_step/sec: 566.13\n",
      "INFO:tensorflow:loss = 0.0022810583, step = 14001 (0.177 sec)\n",
      "INFO:tensorflow:global_step/sec: 584.345\n",
      "INFO:tensorflow:loss = 0.0072716055, step = 14101 (0.171 sec)\n",
      "INFO:tensorflow:global_step/sec: 572.452\n",
      "INFO:tensorflow:loss = 0.0054990877, step = 14201 (0.174 sec)\n",
      "INFO:tensorflow:global_step/sec: 547.276\n",
      "INFO:tensorflow:loss = 0.00088747544, step = 14301 (0.183 sec)\n",
      "INFO:tensorflow:global_step/sec: 578.222\n",
      "INFO:tensorflow:loss = 0.0005275149, step = 14401 (0.173 sec)\n",
      "INFO:tensorflow:global_step/sec: 568.813\n",
      "INFO:tensorflow:loss = 0.0011910236, step = 14501 (0.176 sec)\n",
      "INFO:tensorflow:global_step/sec: 581.205\n",
      "INFO:tensorflow:loss = 0.0052330885, step = 14601 (0.172 sec)\n",
      "INFO:tensorflow:global_step/sec: 561.782\n",
      "INFO:tensorflow:loss = 0.000876749, step = 14701 (0.178 sec)\n",
      "INFO:tensorflow:global_step/sec: 540.521\n",
      "INFO:tensorflow:loss = 0.000857372, step = 14801 (0.185 sec)\n",
      "INFO:tensorflow:global_step/sec: 564.806\n",
      "INFO:tensorflow:loss = 0.0027696132, step = 14901 (0.177 sec)\n",
      "INFO:tensorflow:global_step/sec: 549.529\n",
      "INFO:tensorflow:loss = 0.00058936304, step = 15001 (0.182 sec)\n",
      "INFO:tensorflow:global_step/sec: 549.315\n",
      "INFO:tensorflow:loss = 0.0018231395, step = 15101 (0.182 sec)\n",
      "INFO:tensorflow:global_step/sec: 564.092\n",
      "INFO:tensorflow:loss = 0.0021637138, step = 15201 (0.177 sec)\n",
      "INFO:tensorflow:global_step/sec: 579.264\n",
      "INFO:tensorflow:loss = 0.0019488947, step = 15301 (0.173 sec)\n",
      "INFO:tensorflow:global_step/sec: 546.446\n",
      "INFO:tensorflow:loss = 0.0028252837, step = 15401 (0.183 sec)\n",
      "INFO:tensorflow:global_step/sec: 561.829\n",
      "INFO:tensorflow:loss = 0.004933032, step = 15501 (0.178 sec)\n",
      "INFO:tensorflow:global_step/sec: 555.821\n",
      "INFO:tensorflow:loss = 0.0026765133, step = 15601 (0.180 sec)\n",
      "INFO:tensorflow:global_step/sec: 587.206\n",
      "INFO:tensorflow:loss = 0.007217382, step = 15701 (0.170 sec)\n",
      "INFO:tensorflow:global_step/sec: 559.053\n",
      "INFO:tensorflow:loss = 0.0023576978, step = 15801 (0.179 sec)\n",
      "INFO:tensorflow:global_step/sec: 595.178\n",
      "INFO:tensorflow:loss = 0.00084004196, step = 15901 (0.168 sec)\n",
      "INFO:tensorflow:global_step/sec: 569.389\n",
      "INFO:tensorflow:loss = 0.00407644, step = 16001 (0.176 sec)\n",
      "INFO:tensorflow:global_step/sec: 578.081\n",
      "INFO:tensorflow:loss = 0.0037850577, step = 16101 (0.173 sec)\n",
      "INFO:tensorflow:global_step/sec: 577.731\n",
      "INFO:tensorflow:loss = 0.00018488437, step = 16201 (0.173 sec)\n",
      "INFO:tensorflow:global_step/sec: 570.229\n",
      "INFO:tensorflow:loss = 0.0017171412, step = 16301 (0.175 sec)\n",
      "INFO:tensorflow:global_step/sec: 560.393\n",
      "INFO:tensorflow:loss = 0.0010508178, step = 16401 (0.179 sec)\n",
      "INFO:tensorflow:global_step/sec: 564.092\n",
      "INFO:tensorflow:loss = 0.002322508, step = 16501 (0.177 sec)\n",
      "INFO:tensorflow:global_step/sec: 562.512\n",
      "INFO:tensorflow:loss = 0.0017118183, step = 16601 (0.177 sec)\n",
      "INFO:tensorflow:global_step/sec: 557.215\n",
      "INFO:tensorflow:loss = 0.0025325117, step = 16701 (0.180 sec)\n",
      "INFO:tensorflow:global_step/sec: 581.886\n",
      "INFO:tensorflow:loss = 0.002032572, step = 16801 (0.172 sec)\n",
      "INFO:tensorflow:global_step/sec: 577.681\n",
      "INFO:tensorflow:loss = 0.0028360486, step = 16901 (0.173 sec)\n",
      "INFO:tensorflow:global_step/sec: 559.156\n",
      "INFO:tensorflow:loss = 0.0030802242, step = 17001 (0.179 sec)\n",
      "INFO:tensorflow:global_step/sec: 540.614\n",
      "INFO:tensorflow:loss = 0.0008495924, step = 17101 (0.185 sec)\n",
      "INFO:tensorflow:global_step/sec: 554.979\n",
      "INFO:tensorflow:loss = 0.0026817196, step = 17201 (0.180 sec)\n",
      "INFO:tensorflow:global_step/sec: 583.567\n",
      "INFO:tensorflow:loss = 0.0014046286, step = 17301 (0.171 sec)\n",
      "INFO:tensorflow:global_step/sec: 534.089\n",
      "INFO:tensorflow:loss = 0.0012868126, step = 17401 (0.188 sec)\n",
      "INFO:tensorflow:global_step/sec: 556.12\n",
      "INFO:tensorflow:loss = 0.0014590431, step = 17501 (0.179 sec)\n",
      "INFO:tensorflow:global_step/sec: 571.02\n",
      "INFO:tensorflow:loss = 0.000380086, step = 17601 (0.175 sec)\n",
      "INFO:tensorflow:global_step/sec: 550.661\n",
      "INFO:tensorflow:loss = 0.0003908949, step = 17701 (0.182 sec)\n",
      "INFO:tensorflow:global_step/sec: 581.94\n",
      "INFO:tensorflow:loss = 0.00012565599, step = 17801 (0.172 sec)\n",
      "INFO:tensorflow:global_step/sec: 576.572\n",
      "INFO:tensorflow:loss = 0.0025737442, step = 17901 (0.173 sec)\n",
      "INFO:tensorflow:global_step/sec: 550.655\n",
      "INFO:tensorflow:loss = 0.00029205022, step = 18001 (0.182 sec)\n",
      "INFO:tensorflow:global_step/sec: 566.054\n",
      "INFO:tensorflow:loss = 0.0005294537, step = 18101 (0.176 sec)\n",
      "INFO:tensorflow:global_step/sec: 573.97\n",
      "INFO:tensorflow:loss = 0.003389364, step = 18201 (0.174 sec)\n",
      "INFO:tensorflow:global_step/sec: 546.466\n",
      "INFO:tensorflow:loss = 0.009289219, step = 18301 (0.183 sec)\n",
      "INFO:tensorflow:global_step/sec: 573.204\n",
      "INFO:tensorflow:loss = 0.0021525274, step = 18401 (0.174 sec)\n",
      "INFO:tensorflow:global_step/sec: 572.102\n",
      "INFO:tensorflow:loss = 0.0005410003, step = 18501 (0.175 sec)\n",
      "INFO:tensorflow:global_step/sec: 558.753\n",
      "INFO:tensorflow:loss = 0.0019625013, step = 18601 (0.179 sec)\n",
      "INFO:tensorflow:global_step/sec: 565.889\n",
      "INFO:tensorflow:loss = 0.0010643087, step = 18701 (0.177 sec)\n",
      "INFO:tensorflow:global_step/sec: 550.679\n",
      "INFO:tensorflow:loss = 0.0022986168, step = 18801 (0.181 sec)\n",
      "INFO:tensorflow:global_step/sec: 559.531\n",
      "INFO:tensorflow:loss = 0.003067043, step = 18901 (0.179 sec)\n",
      "INFO:tensorflow:global_step/sec: 590.402\n",
      "INFO:tensorflow:loss = 0.0007405885, step = 19001 (0.169 sec)\n",
      "INFO:tensorflow:global_step/sec: 506.198\n",
      "INFO:tensorflow:loss = 0.0005607784, step = 19101 (0.198 sec)\n",
      "INFO:tensorflow:global_step/sec: 504.514\n",
      "INFO:tensorflow:loss = 0.0006164812, step = 19201 (0.198 sec)\n",
      "INFO:tensorflow:global_step/sec: 462.731\n",
      "INFO:tensorflow:loss = 0.005421862, step = 19301 (0.216 sec)\n",
      "INFO:tensorflow:global_step/sec: 490.944\n",
      "INFO:tensorflow:loss = 0.0004999641, step = 19401 (0.204 sec)\n",
      "INFO:tensorflow:global_step/sec: 499.361\n",
      "INFO:tensorflow:loss = 0.002266551, step = 19501 (0.200 sec)\n",
      "INFO:tensorflow:global_step/sec: 496.889\n",
      "INFO:tensorflow:loss = 0.00044266184, step = 19601 (0.201 sec)\n",
      "INFO:tensorflow:global_step/sec: 500.29\n",
      "INFO:tensorflow:loss = 0.00024386588, step = 19701 (0.200 sec)\n",
      "INFO:tensorflow:global_step/sec: 489.108\n",
      "INFO:tensorflow:loss = 0.00048704873, step = 19801 (0.205 sec)\n",
      "INFO:tensorflow:global_step/sec: 482.938\n",
      "INFO:tensorflow:loss = 0.0011096792, step = 19901 (0.207 sec)\n",
      "INFO:tensorflow:global_step/sec: 525.975\n",
      "INFO:tensorflow:loss = 0.0016725379, step = 20001 (0.190 sec)\n",
      "INFO:tensorflow:global_step/sec: 536.76\n",
      "INFO:tensorflow:loss = 0.0008062725, step = 20101 (0.186 sec)\n",
      "INFO:tensorflow:global_step/sec: 532.447\n",
      "INFO:tensorflow:loss = 0.0023280538, step = 20201 (0.188 sec)\n",
      "INFO:tensorflow:global_step/sec: 535.917\n",
      "INFO:tensorflow:loss = 0.0018603588, step = 20301 (0.186 sec)\n",
      "INFO:tensorflow:global_step/sec: 514.213\n",
      "INFO:tensorflow:loss = 0.00017077116, step = 20401 (0.194 sec)\n",
      "INFO:tensorflow:global_step/sec: 536.202\n",
      "INFO:tensorflow:loss = 0.0012741669, step = 20501 (0.186 sec)\n",
      "INFO:tensorflow:global_step/sec: 530.681\n",
      "INFO:tensorflow:loss = 0.001030529, step = 20601 (0.189 sec)\n",
      "INFO:tensorflow:global_step/sec: 534.607\n",
      "INFO:tensorflow:loss = 0.0003988119, step = 20701 (0.187 sec)\n",
      "INFO:tensorflow:global_step/sec: 537.175\n",
      "INFO:tensorflow:loss = 0.0013007239, step = 20801 (0.186 sec)\n",
      "INFO:tensorflow:global_step/sec: 470.764\n",
      "INFO:tensorflow:loss = 0.0010194537, step = 20901 (0.213 sec)\n",
      "INFO:tensorflow:global_step/sec: 486.336\n",
      "INFO:tensorflow:loss = 0.0020206822, step = 21001 (0.205 sec)\n",
      "INFO:tensorflow:global_step/sec: 502.399\n",
      "INFO:tensorflow:loss = 0.0011837212, step = 21101 (0.199 sec)\n",
      "INFO:tensorflow:global_step/sec: 491.552\n",
      "INFO:tensorflow:loss = 0.0031679568, step = 21201 (0.203 sec)\n",
      "INFO:tensorflow:global_step/sec: 507.112\n",
      "INFO:tensorflow:loss = 0.00061861606, step = 21301 (0.197 sec)\n",
      "INFO:tensorflow:global_step/sec: 489.319\n",
      "INFO:tensorflow:loss = 0.001455788, step = 21401 (0.205 sec)\n",
      "INFO:tensorflow:global_step/sec: 500.462\n",
      "INFO:tensorflow:loss = 0.00036893666, step = 21501 (0.200 sec)\n",
      "INFO:tensorflow:global_step/sec: 495.459\n",
      "INFO:tensorflow:loss = 0.0007278371, step = 21601 (0.202 sec)\n",
      "INFO:tensorflow:global_step/sec: 504.864\n",
      "INFO:tensorflow:loss = 0.0015778258, step = 21701 (0.198 sec)\n",
      "INFO:tensorflow:global_step/sec: 486.075\n",
      "INFO:tensorflow:loss = 0.00029962073, step = 21801 (0.206 sec)\n",
      "INFO:tensorflow:global_step/sec: 473.909\n",
      "INFO:tensorflow:loss = 0.0007592267, step = 21901 (0.211 sec)\n",
      "INFO:tensorflow:global_step/sec: 483.9\n",
      "INFO:tensorflow:loss = 0.00027960783, step = 22001 (0.207 sec)\n",
      "INFO:tensorflow:global_step/sec: 521.056\n",
      "INFO:tensorflow:loss = 0.00011077627, step = 22101 (0.192 sec)\n",
      "INFO:tensorflow:global_step/sec: 533.208\n",
      "INFO:tensorflow:loss = 0.0011716033, step = 22201 (0.188 sec)\n",
      "INFO:tensorflow:global_step/sec: 517.875\n",
      "INFO:tensorflow:loss = 0.0018365851, step = 22301 (0.193 sec)\n",
      "INFO:tensorflow:global_step/sec: 532.456\n",
      "INFO:tensorflow:loss = 0.0015613348, step = 22401 (0.188 sec)\n",
      "INFO:tensorflow:global_step/sec: 522.458\n",
      "INFO:tensorflow:loss = 0.0016112302, step = 22501 (0.191 sec)\n",
      "INFO:tensorflow:global_step/sec: 471.671\n",
      "INFO:tensorflow:loss = 0.0023707198, step = 22601 (0.213 sec)\n",
      "INFO:tensorflow:global_step/sec: 501.658\n",
      "INFO:tensorflow:loss = 0.0011062331, step = 22701 (0.199 sec)\n",
      "INFO:tensorflow:global_step/sec: 509.207\n",
      "INFO:tensorflow:loss = 0.0012248502, step = 22801 (0.196 sec)\n",
      "INFO:tensorflow:global_step/sec: 451.763\n",
      "INFO:tensorflow:loss = 0.0020349014, step = 22901 (0.221 sec)\n",
      "INFO:tensorflow:global_step/sec: 464.915\n",
      "INFO:tensorflow:loss = 0.0007272898, step = 23001 (0.215 sec)\n",
      "INFO:tensorflow:global_step/sec: 544.807\n",
      "INFO:tensorflow:loss = 0.0036145865, step = 23101 (0.183 sec)\n",
      "INFO:tensorflow:global_step/sec: 536.749\n",
      "INFO:tensorflow:loss = 0.0019147891, step = 23201 (0.187 sec)\n",
      "INFO:tensorflow:global_step/sec: 532.09\n",
      "INFO:tensorflow:loss = 0.0016393088, step = 23301 (0.188 sec)\n",
      "INFO:tensorflow:global_step/sec: 463.807\n",
      "INFO:tensorflow:loss = 0.00084152014, step = 23401 (0.216 sec)\n",
      "INFO:tensorflow:global_step/sec: 452.601\n",
      "INFO:tensorflow:loss = 0.00062645075, step = 23501 (0.221 sec)\n",
      "INFO:tensorflow:global_step/sec: 496.83\n",
      "INFO:tensorflow:loss = 0.00054088136, step = 23601 (0.201 sec)\n",
      "INFO:tensorflow:global_step/sec: 498.781\n",
      "INFO:tensorflow:loss = 0.00020328985, step = 23701 (0.201 sec)\n",
      "INFO:tensorflow:global_step/sec: 490.682\n",
      "INFO:tensorflow:loss = 0.0015563002, step = 23801 (0.204 sec)\n",
      "INFO:tensorflow:global_step/sec: 530.389\n",
      "INFO:tensorflow:loss = 0.00121874, step = 23901 (0.189 sec)\n",
      "INFO:tensorflow:global_step/sec: 555.527\n",
      "INFO:tensorflow:loss = 0.0013976287, step = 24001 (0.180 sec)\n",
      "INFO:tensorflow:global_step/sec: 550.418\n",
      "INFO:tensorflow:loss = 0.0005921768, step = 24101 (0.181 sec)\n",
      "INFO:tensorflow:global_step/sec: 550.039\n",
      "INFO:tensorflow:loss = 0.0014201723, step = 24201 (0.182 sec)\n",
      "INFO:tensorflow:global_step/sec: 561.058\n",
      "INFO:tensorflow:loss = 0.00016592376, step = 24301 (0.178 sec)\n",
      "INFO:tensorflow:global_step/sec: 570.773\n",
      "INFO:tensorflow:loss = 0.0021013953, step = 24401 (0.175 sec)\n",
      "INFO:tensorflow:global_step/sec: 548.401\n",
      "INFO:tensorflow:loss = 0.0008113566, step = 24501 (0.182 sec)\n",
      "INFO:tensorflow:global_step/sec: 587.493\n",
      "INFO:tensorflow:loss = 0.00061189453, step = 24601 (0.170 sec)\n",
      "INFO:tensorflow:global_step/sec: 574.247\n",
      "INFO:tensorflow:loss = 0.0008404912, step = 24701 (0.174 sec)\n",
      "INFO:tensorflow:global_step/sec: 540.553\n",
      "INFO:tensorflow:loss = 0.0010413356, step = 24801 (0.185 sec)\n",
      "INFO:tensorflow:global_step/sec: 459.47\n",
      "INFO:tensorflow:loss = 0.0015281914, step = 24901 (0.217 sec)\n",
      "INFO:tensorflow:global_step/sec: 538.642\n",
      "INFO:tensorflow:loss = 0.0005442054, step = 25001 (0.186 sec)\n",
      "INFO:tensorflow:global_step/sec: 521.379\n",
      "INFO:tensorflow:loss = 0.0010460638, step = 25101 (0.192 sec)\n",
      "INFO:tensorflow:global_step/sec: 515.373\n",
      "INFO:tensorflow:loss = 0.0014050571, step = 25201 (0.194 sec)\n",
      "INFO:tensorflow:global_step/sec: 551.831\n",
      "INFO:tensorflow:loss = 0.00012989483, step = 25301 (0.181 sec)\n",
      "INFO:tensorflow:global_step/sec: 557.112\n",
      "INFO:tensorflow:loss = 0.0006177399, step = 25401 (0.179 sec)\n",
      "INFO:tensorflow:global_step/sec: 551.632\n",
      "INFO:tensorflow:loss = 0.0008442859, step = 25501 (0.181 sec)\n",
      "INFO:tensorflow:global_step/sec: 534.163\n",
      "INFO:tensorflow:loss = 0.0006372288, step = 25601 (0.187 sec)\n",
      "INFO:tensorflow:global_step/sec: 552.581\n",
      "INFO:tensorflow:loss = 0.0006003496, step = 25701 (0.181 sec)\n",
      "INFO:tensorflow:global_step/sec: 560.344\n",
      "INFO:tensorflow:loss = 0.00074197643, step = 25801 (0.178 sec)\n",
      "INFO:tensorflow:global_step/sec: 565.815\n",
      "INFO:tensorflow:loss = 0.0017640777, step = 25901 (0.177 sec)\n",
      "INFO:tensorflow:global_step/sec: 573.434\n",
      "INFO:tensorflow:loss = 4.5618603e-05, step = 26001 (0.174 sec)\n",
      "INFO:tensorflow:global_step/sec: 507.022\n",
      "INFO:tensorflow:loss = 0.001130097, step = 26101 (0.198 sec)\n",
      "INFO:tensorflow:global_step/sec: 483.01\n",
      "INFO:tensorflow:loss = 0.00050237007, step = 26201 (0.207 sec)\n",
      "INFO:tensorflow:global_step/sec: 495.843\n",
      "INFO:tensorflow:loss = 0.0012444139, step = 26301 (0.202 sec)\n",
      "INFO:tensorflow:global_step/sec: 486.888\n",
      "INFO:tensorflow:loss = 0.0012402136, step = 26401 (0.205 sec)\n",
      "INFO:tensorflow:global_step/sec: 486.312\n",
      "INFO:tensorflow:loss = 0.00085337716, step = 26501 (0.206 sec)\n",
      "INFO:tensorflow:global_step/sec: 533.678\n",
      "INFO:tensorflow:loss = 0.0005577214, step = 26601 (0.187 sec)\n",
      "INFO:tensorflow:global_step/sec: 554.085\n",
      "INFO:tensorflow:loss = 2.6244985e-05, step = 26701 (0.180 sec)\n",
      "INFO:tensorflow:global_step/sec: 555.592\n",
      "INFO:tensorflow:loss = 0.000514485, step = 26801 (0.180 sec)\n",
      "INFO:tensorflow:global_step/sec: 554.265\n",
      "INFO:tensorflow:loss = 0.0008911781, step = 26901 (0.180 sec)\n",
      "INFO:tensorflow:global_step/sec: 553.054\n",
      "INFO:tensorflow:loss = 0.0006808352, step = 27001 (0.181 sec)\n",
      "INFO:tensorflow:global_step/sec: 546.391\n",
      "INFO:tensorflow:loss = 0.0005344278, step = 27101 (0.183 sec)\n",
      "INFO:tensorflow:global_step/sec: 552.673\n",
      "INFO:tensorflow:loss = 0.00034533738, step = 27201 (0.181 sec)\n",
      "INFO:tensorflow:global_step/sec: 545.501\n",
      "INFO:tensorflow:loss = 0.00088120525, step = 27301 (0.183 sec)\n",
      "INFO:tensorflow:global_step/sec: 560.262\n",
      "INFO:tensorflow:loss = 0.00014230696, step = 27401 (0.179 sec)\n",
      "INFO:tensorflow:global_step/sec: 554.047\n",
      "INFO:tensorflow:loss = 0.0014409067, step = 27501 (0.180 sec)\n",
      "INFO:tensorflow:global_step/sec: 519.966\n",
      "INFO:tensorflow:loss = 0.0012127114, step = 27601 (0.192 sec)\n",
      "INFO:tensorflow:global_step/sec: 546.093\n",
      "INFO:tensorflow:loss = 0.00028924295, step = 27701 (0.183 sec)\n",
      "INFO:tensorflow:global_step/sec: 552.389\n",
      "INFO:tensorflow:loss = 0.00033585017, step = 27801 (0.181 sec)\n",
      "INFO:tensorflow:global_step/sec: 557.563\n",
      "INFO:tensorflow:loss = 0.0005251098, step = 27901 (0.179 sec)\n",
      "INFO:tensorflow:global_step/sec: 554.751\n",
      "INFO:tensorflow:loss = 0.0017749238, step = 28001 (0.180 sec)\n",
      "INFO:tensorflow:global_step/sec: 536.599\n",
      "INFO:tensorflow:loss = 0.00041882013, step = 28101 (0.186 sec)\n",
      "INFO:tensorflow:global_step/sec: 549.592\n",
      "INFO:tensorflow:loss = 0.00044625095, step = 28201 (0.182 sec)\n",
      "INFO:tensorflow:global_step/sec: 574.746\n",
      "INFO:tensorflow:loss = 0.0009297442, step = 28301 (0.174 sec)\n",
      "INFO:tensorflow:global_step/sec: 560.302\n",
      "INFO:tensorflow:loss = 0.0010137102, step = 28401 (0.179 sec)\n",
      "INFO:tensorflow:global_step/sec: 556.075\n",
      "INFO:tensorflow:loss = 0.00013034511, step = 28501 (0.179 sec)\n",
      "INFO:tensorflow:global_step/sec: 546.153\n",
      "INFO:tensorflow:loss = 0.00021615696, step = 28601 (0.183 sec)\n",
      "INFO:tensorflow:global_step/sec: 552.242\n",
      "INFO:tensorflow:loss = 0.0010390632, step = 28701 (0.181 sec)\n",
      "INFO:tensorflow:global_step/sec: 554.386\n",
      "INFO:tensorflow:loss = 0.0010209325, step = 28801 (0.180 sec)\n",
      "INFO:tensorflow:global_step/sec: 561.11\n",
      "INFO:tensorflow:loss = 0.00027571712, step = 28901 (0.178 sec)\n",
      "INFO:tensorflow:global_step/sec: 551.065\n",
      "INFO:tensorflow:loss = 0.0018568859, step = 29001 (0.181 sec)\n",
      "INFO:tensorflow:global_step/sec: 555.737\n",
      "INFO:tensorflow:loss = 0.0017213065, step = 29101 (0.180 sec)\n",
      "INFO:tensorflow:global_step/sec: 534.428\n",
      "INFO:tensorflow:loss = 0.0011052209, step = 29201 (0.187 sec)\n",
      "INFO:tensorflow:global_step/sec: 546.932\n",
      "INFO:tensorflow:loss = 0.0013667553, step = 29301 (0.183 sec)\n",
      "INFO:tensorflow:global_step/sec: 562.468\n",
      "INFO:tensorflow:loss = 0.0008152791, step = 29401 (0.178 sec)\n",
      "INFO:tensorflow:global_step/sec: 540.5\n",
      "INFO:tensorflow:loss = 0.00068744156, step = 29501 (0.185 sec)\n",
      "INFO:tensorflow:global_step/sec: 556.623\n",
      "INFO:tensorflow:loss = 0.00024852168, step = 29601 (0.180 sec)\n",
      "INFO:tensorflow:global_step/sec: 550.957\n",
      "INFO:tensorflow:loss = 0.00015562684, step = 29701 (0.182 sec)\n",
      "INFO:tensorflow:global_step/sec: 556.053\n",
      "INFO:tensorflow:loss = 0.00057939417, step = 29801 (0.180 sec)\n",
      "INFO:tensorflow:global_step/sec: 548.318\n",
      "INFO:tensorflow:loss = 0.00076297106, step = 29901 (0.182 sec)\n",
      "INFO:tensorflow:global_step/sec: 552.171\n",
      "INFO:tensorflow:loss = 4.8748254e-05, step = 30001 (0.181 sec)\n",
      "INFO:tensorflow:global_step/sec: 559.735\n",
      "INFO:tensorflow:loss = 0.0008205019, step = 30101 (0.179 sec)\n",
      "INFO:tensorflow:global_step/sec: 590.312\n",
      "INFO:tensorflow:loss = 0.00047349252, step = 30201 (0.170 sec)\n",
      "INFO:tensorflow:global_step/sec: 561.435\n",
      "INFO:tensorflow:loss = 0.0010502813, step = 30301 (0.179 sec)\n",
      "INFO:tensorflow:global_step/sec: 541.09\n",
      "INFO:tensorflow:loss = 0.0011092577, step = 30401 (0.184 sec)\n",
      "INFO:tensorflow:global_step/sec: 572.856\n",
      "INFO:tensorflow:loss = 0.00074711407, step = 30501 (0.174 sec)\n",
      "INFO:tensorflow:global_step/sec: 550.988\n",
      "INFO:tensorflow:loss = 0.0007444106, step = 30601 (0.181 sec)\n",
      "INFO:tensorflow:global_step/sec: 551.268\n",
      "INFO:tensorflow:loss = 0.0005643358, step = 30701 (0.183 sec)\n",
      "INFO:tensorflow:global_step/sec: 546.791\n",
      "INFO:tensorflow:loss = 0.000774564, step = 30801 (0.182 sec)\n",
      "INFO:tensorflow:global_step/sec: 551.916\n",
      "INFO:tensorflow:loss = 0.0013443977, step = 30901 (0.181 sec)\n",
      "INFO:tensorflow:global_step/sec: 581.089\n",
      "INFO:tensorflow:loss = 0.001070507, step = 31001 (0.172 sec)\n",
      "INFO:tensorflow:global_step/sec: 559.766\n",
      "INFO:tensorflow:loss = 0.0010026312, step = 31101 (0.179 sec)\n",
      "INFO:tensorflow:global_step/sec: 562.449\n",
      "INFO:tensorflow:loss = 0.00036420525, step = 31201 (0.178 sec)\n",
      "INFO:tensorflow:global_step/sec: 560.363\n",
      "INFO:tensorflow:loss = 0.0005150807, step = 31301 (0.178 sec)\n",
      "INFO:tensorflow:global_step/sec: 560.89\n",
      "INFO:tensorflow:loss = 0.0009056433, step = 31401 (0.179 sec)\n",
      "INFO:tensorflow:global_step/sec: 552.914\n",
      "INFO:tensorflow:loss = 0.00054017716, step = 31501 (0.180 sec)\n",
      "INFO:tensorflow:global_step/sec: 540.482\n",
      "INFO:tensorflow:loss = 0.00024193194, step = 31601 (0.185 sec)\n",
      "INFO:tensorflow:global_step/sec: 556.685\n",
      "INFO:tensorflow:loss = 0.00077972666, step = 31701 (0.179 sec)\n",
      "INFO:tensorflow:global_step/sec: 565.873\n",
      "INFO:tensorflow:loss = 0.00024043302, step = 31801 (0.177 sec)\n",
      "INFO:tensorflow:global_step/sec: 554.856\n",
      "INFO:tensorflow:loss = 0.0008834111, step = 31901 (0.180 sec)\n",
      "INFO:tensorflow:global_step/sec: 530.498\n",
      "INFO:tensorflow:loss = 0.0002331906, step = 32001 (0.189 sec)\n",
      "INFO:tensorflow:global_step/sec: 556.998\n",
      "INFO:tensorflow:loss = 0.000253116, step = 32101 (0.179 sec)\n",
      "INFO:tensorflow:global_step/sec: 560.872\n",
      "INFO:tensorflow:loss = 0.00086502737, step = 32201 (0.179 sec)\n",
      "INFO:tensorflow:global_step/sec: 559.856\n",
      "INFO:tensorflow:loss = 0.0004513833, step = 32301 (0.178 sec)\n",
      "INFO:tensorflow:global_step/sec: 545.111\n",
      "INFO:tensorflow:loss = 0.0001575579, step = 32401 (0.183 sec)\n",
      "INFO:tensorflow:global_step/sec: 554.383\n",
      "INFO:tensorflow:loss = 0.0004477875, step = 32501 (0.180 sec)\n",
      "INFO:tensorflow:global_step/sec: 553.679\n",
      "INFO:tensorflow:loss = 9.4503535e-05, step = 32601 (0.181 sec)\n",
      "INFO:tensorflow:global_step/sec: 542.217\n",
      "INFO:tensorflow:loss = 0.0007717748, step = 32701 (0.184 sec)\n",
      "INFO:tensorflow:global_step/sec: 551.73\n",
      "INFO:tensorflow:loss = 0.0012621802, step = 32801 (0.181 sec)\n",
      "INFO:tensorflow:global_step/sec: 543.091\n",
      "INFO:tensorflow:loss = 0.00055496645, step = 32901 (0.184 sec)\n",
      "INFO:tensorflow:global_step/sec: 543.801\n",
      "INFO:tensorflow:loss = 0.00021947204, step = 33001 (0.184 sec)\n",
      "INFO:tensorflow:global_step/sec: 552.123\n",
      "INFO:tensorflow:loss = 0.0019628727, step = 33101 (0.181 sec)\n",
      "INFO:tensorflow:global_step/sec: 535.788\n",
      "INFO:tensorflow:loss = 0.00062310725, step = 33201 (0.187 sec)\n",
      "INFO:tensorflow:global_step/sec: 550.031\n",
      "INFO:tensorflow:loss = 0.00021280932, step = 33301 (0.182 sec)\n",
      "INFO:tensorflow:global_step/sec: 562.746\n",
      "INFO:tensorflow:loss = 0.0009093356, step = 33401 (0.178 sec)\n",
      "INFO:tensorflow:global_step/sec: 577.427\n",
      "INFO:tensorflow:loss = 0.00021760912, step = 33501 (0.173 sec)\n",
      "INFO:tensorflow:global_step/sec: 552.528\n",
      "INFO:tensorflow:loss = 0.00065041514, step = 33601 (0.181 sec)\n",
      "INFO:tensorflow:global_step/sec: 559.082\n",
      "INFO:tensorflow:loss = 0.0008691168, step = 33701 (0.179 sec)\n",
      "INFO:tensorflow:global_step/sec: 553.198\n",
      "INFO:tensorflow:loss = 0.0008434808, step = 33801 (0.180 sec)\n",
      "INFO:tensorflow:global_step/sec: 532.071\n",
      "INFO:tensorflow:loss = 0.0006139539, step = 33901 (0.188 sec)\n",
      "INFO:tensorflow:global_step/sec: 549.677\n",
      "INFO:tensorflow:loss = 0.0007557452, step = 34001 (0.182 sec)\n",
      "INFO:tensorflow:global_step/sec: 540.079\n",
      "INFO:tensorflow:loss = 0.00051188515, step = 34101 (0.185 sec)\n",
      "INFO:tensorflow:global_step/sec: 550.439\n",
      "INFO:tensorflow:loss = 0.00092927174, step = 34201 (0.182 sec)\n",
      "INFO:tensorflow:global_step/sec: 543.555\n",
      "INFO:tensorflow:loss = 0.00029395593, step = 34301 (0.184 sec)\n",
      "INFO:tensorflow:global_step/sec: 558.194\n",
      "INFO:tensorflow:loss = 0.00046782466, step = 34401 (0.179 sec)\n",
      "INFO:tensorflow:global_step/sec: 562.026\n",
      "INFO:tensorflow:loss = 0.0006228609, step = 34501 (0.178 sec)\n",
      "INFO:tensorflow:global_step/sec: 547.189\n",
      "INFO:tensorflow:loss = 0.0005455187, step = 34601 (0.183 sec)\n",
      "INFO:tensorflow:global_step/sec: 544.568\n",
      "INFO:tensorflow:loss = 0.0013451561, step = 34701 (0.184 sec)\n",
      "INFO:tensorflow:global_step/sec: 564.436\n",
      "INFO:tensorflow:loss = 0.00069239415, step = 34801 (0.178 sec)\n",
      "INFO:tensorflow:global_step/sec: 579.684\n",
      "INFO:tensorflow:loss = 0.00032658927, step = 34901 (0.172 sec)\n",
      "INFO:tensorflow:global_step/sec: 573.499\n",
      "INFO:tensorflow:loss = 0.0003783687, step = 35001 (0.175 sec)\n",
      "INFO:tensorflow:global_step/sec: 558.401\n",
      "INFO:tensorflow:loss = 0.0008655446, step = 35101 (0.179 sec)\n",
      "INFO:tensorflow:global_step/sec: 546.681\n",
      "INFO:tensorflow:loss = 0.00028004532, step = 35201 (0.183 sec)\n",
      "INFO:tensorflow:global_step/sec: 542.541\n",
      "INFO:tensorflow:loss = 0.00012847014, step = 35301 (0.184 sec)\n",
      "INFO:tensorflow:global_step/sec: 547.51\n",
      "INFO:tensorflow:loss = 0.0011200303, step = 35401 (0.183 sec)\n",
      "INFO:tensorflow:global_step/sec: 554.364\n",
      "INFO:tensorflow:loss = 0.00020194991, step = 35501 (0.180 sec)\n",
      "INFO:tensorflow:global_step/sec: 548.757\n",
      "INFO:tensorflow:loss = 0.00025608347, step = 35601 (0.182 sec)\n",
      "INFO:tensorflow:global_step/sec: 553.986\n",
      "INFO:tensorflow:loss = 0.00055337703, step = 35701 (0.181 sec)\n",
      "INFO:tensorflow:global_step/sec: 566.845\n",
      "INFO:tensorflow:loss = 0.00063409185, step = 35801 (0.176 sec)\n",
      "INFO:tensorflow:global_step/sec: 568.611\n",
      "INFO:tensorflow:loss = 0.00057880377, step = 35901 (0.176 sec)\n",
      "INFO:tensorflow:global_step/sec: 542.488\n",
      "INFO:tensorflow:loss = 0.00041849338, step = 36001 (0.184 sec)\n",
      "INFO:tensorflow:global_step/sec: 566.636\n",
      "INFO:tensorflow:loss = 0.0013205275, step = 36101 (0.176 sec)\n",
      "INFO:tensorflow:global_step/sec: 557.893\n",
      "INFO:tensorflow:loss = 0.0006202766, step = 36201 (0.179 sec)\n",
      "INFO:tensorflow:global_step/sec: 549.58\n",
      "INFO:tensorflow:loss = 0.00022298616, step = 36301 (0.182 sec)\n",
      "INFO:tensorflow:global_step/sec: 556.619\n",
      "INFO:tensorflow:loss = 0.00073880516, step = 36401 (0.179 sec)\n",
      "INFO:tensorflow:global_step/sec: 544.345\n",
      "INFO:tensorflow:loss = 0.00021124001, step = 36501 (0.184 sec)\n",
      "INFO:tensorflow:global_step/sec: 553.611\n",
      "INFO:tensorflow:loss = 0.00023224544, step = 36601 (0.181 sec)\n",
      "INFO:tensorflow:global_step/sec: 510.483\n",
      "INFO:tensorflow:loss = 0.00045204998, step = 36701 (0.196 sec)\n",
      "INFO:tensorflow:global_step/sec: 492.475\n",
      "INFO:tensorflow:loss = 0.00077766756, step = 36801 (0.203 sec)\n",
      "INFO:tensorflow:global_step/sec: 554.68\n",
      "INFO:tensorflow:loss = 0.00053083664, step = 36901 (0.180 sec)\n",
      "INFO:tensorflow:global_step/sec: 530.33\n",
      "INFO:tensorflow:loss = 0.00074890273, step = 37001 (0.189 sec)\n",
      "INFO:tensorflow:global_step/sec: 542.889\n",
      "INFO:tensorflow:loss = 0.00015211043, step = 37101 (0.184 sec)\n",
      "INFO:tensorflow:global_step/sec: 520.586\n",
      "INFO:tensorflow:loss = 0.00021338582, step = 37201 (0.192 sec)\n",
      "INFO:tensorflow:global_step/sec: 456.988\n",
      "INFO:tensorflow:loss = 0.0005194234, step = 37301 (0.219 sec)\n",
      "INFO:tensorflow:global_step/sec: 472.69\n",
      "INFO:tensorflow:loss = 0.0003823646, step = 37401 (0.211 sec)\n",
      "INFO:tensorflow:global_step/sec: 452.337\n",
      "INFO:tensorflow:loss = 0.00040276264, step = 37501 (0.221 sec)\n",
      "INFO:tensorflow:global_step/sec: 449.875\n",
      "INFO:tensorflow:loss = 0.00022635881, step = 37601 (0.222 sec)\n",
      "INFO:tensorflow:global_step/sec: 492.81\n",
      "INFO:tensorflow:loss = 0.00010212068, step = 37701 (0.203 sec)\n",
      "INFO:tensorflow:global_step/sec: 501.915\n",
      "INFO:tensorflow:loss = 0.0005351709, step = 37801 (0.199 sec)\n",
      "INFO:tensorflow:global_step/sec: 454.32\n",
      "INFO:tensorflow:loss = 0.0011978204, step = 37901 (0.220 sec)\n",
      "INFO:tensorflow:global_step/sec: 484.957\n",
      "INFO:tensorflow:loss = 0.00019132433, step = 38001 (0.206 sec)\n",
      "INFO:tensorflow:global_step/sec: 442.735\n",
      "INFO:tensorflow:loss = 0.0011579406, step = 38101 (0.226 sec)\n",
      "INFO:tensorflow:global_step/sec: 454.709\n",
      "INFO:tensorflow:loss = 0.0005673887, step = 38201 (0.220 sec)\n",
      "INFO:tensorflow:global_step/sec: 535.811\n",
      "INFO:tensorflow:loss = 0.00013199354, step = 38301 (0.187 sec)\n",
      "INFO:tensorflow:global_step/sec: 550.298\n",
      "INFO:tensorflow:loss = 0.0001931639, step = 38401 (0.182 sec)\n",
      "INFO:tensorflow:global_step/sec: 526.557\n",
      "INFO:tensorflow:loss = 0.00033174484, step = 38501 (0.190 sec)\n",
      "INFO:tensorflow:global_step/sec: 549.435\n",
      "INFO:tensorflow:loss = 0.00074455363, step = 38601 (0.182 sec)\n",
      "INFO:tensorflow:global_step/sec: 543.709\n",
      "INFO:tensorflow:loss = 0.00060767063, step = 38701 (0.184 sec)\n",
      "INFO:tensorflow:global_step/sec: 548.907\n",
      "INFO:tensorflow:loss = 3.255805e-05, step = 38801 (0.182 sec)\n",
      "INFO:tensorflow:global_step/sec: 542.729\n",
      "INFO:tensorflow:loss = 0.0012688824, step = 38901 (0.184 sec)\n",
      "INFO:tensorflow:global_step/sec: 551.062\n",
      "INFO:tensorflow:loss = 0.00010319103, step = 39001 (0.181 sec)\n",
      "INFO:tensorflow:global_step/sec: 544.828\n",
      "INFO:tensorflow:loss = 0.00090879644, step = 39101 (0.184 sec)\n",
      "INFO:tensorflow:global_step/sec: 545.589\n",
      "INFO:tensorflow:loss = 0.00036828342, step = 39201 (0.183 sec)\n",
      "INFO:tensorflow:global_step/sec: 527.404\n",
      "INFO:tensorflow:loss = 0.00023330224, step = 39301 (0.189 sec)\n",
      "INFO:tensorflow:global_step/sec: 551.077\n",
      "INFO:tensorflow:loss = 0.00031948666, step = 39401 (0.181 sec)\n",
      "INFO:tensorflow:global_step/sec: 548.959\n",
      "INFO:tensorflow:loss = 0.0002497864, step = 39501 (0.182 sec)\n",
      "INFO:tensorflow:global_step/sec: 534.085\n",
      "INFO:tensorflow:loss = 0.0004468147, step = 39601 (0.187 sec)\n",
      "INFO:tensorflow:global_step/sec: 538.091\n",
      "INFO:tensorflow:loss = 9.181238e-05, step = 39701 (0.186 sec)\n",
      "INFO:tensorflow:global_step/sec: 513.906\n",
      "INFO:tensorflow:loss = 0.0011747208, step = 39801 (0.194 sec)\n",
      "INFO:tensorflow:global_step/sec: 561.127\n",
      "INFO:tensorflow:loss = 0.0013180473, step = 39901 (0.179 sec)\n",
      "INFO:tensorflow:Saving checkpoints for 40000 into /var/folders/nk/bd2dzmzx6_d1rx0wc_407nq00000gn/T/tmp6yzhamec/model.ckpt.\n",
      "INFO:tensorflow:Loss for final step: 0.00041516285.\n"
     ]
    },
    {
     "data": {
      "text/plain": [
       "SKCompat()"
      ]
     },
     "execution_count": 42,
     "metadata": {},
     "output_type": "execute_result"
    }
   ],
   "source": [
    "import tensorflow as tf\n",
    "\n",
    "config = tf.contrib.learn.RunConfig(tf_random_seed=42) \n",
    "\n",
    "feature_cols = tf.contrib.learn.infer_real_valued_columns_from_input(X_train)\n",
    "dnn_clf = tf.contrib.learn.DNNClassifier(hidden_units=[300,100], n_classes=10,\n",
    "                                         feature_columns=feature_cols, config=config)\n",
    "dnn_clf = tf.contrib.learn.SKCompat(dnn_clf) \n",
    "dnn_clf.fit(X_train, y_train, batch_size=50, steps=40000)"
   ]
  },
  {
   "cell_type": "code",
   "execution_count": 43,
   "metadata": {
    "slideshow": {
     "slide_type": "subslide"
    }
   },
   "outputs": [
    {
     "name": "stdout",
     "output_type": "stream",
     "text": [
      "INFO:tensorflow:Graph was finalized.\n",
      "INFO:tensorflow:Restoring parameters from /var/folders/nk/bd2dzmzx6_d1rx0wc_407nq00000gn/T/tmp6yzhamec/model.ckpt-40000\n",
      "INFO:tensorflow:Running local_init_op.\n",
      "INFO:tensorflow:Done running local_init_op.\n"
     ]
    },
    {
     "data": {
      "text/plain": [
       "0.9818"
      ]
     },
     "execution_count": 43,
     "metadata": {},
     "output_type": "execute_result"
    }
   ],
   "source": [
    "from sklearn.metrics import accuracy_score\n",
    "\n",
    "y_pred = dnn_clf.predict(X_test)\n",
    "accuracy_score(y_test, y_pred['classes'])"
   ]
  },
  {
   "cell_type": "markdown",
   "metadata": {},
   "source": [
    "Better accuracy than we achieved with Scitkit-Learn!"
   ]
  },
  {
   "cell_type": "markdown",
   "metadata": {
    "slideshow": {
     "slide_type": "subslide"
    }
   },
   "source": [
    "\n",
    "## Using plain TensorFlow"
   ]
  },
  {
   "cell_type": "markdown",
   "metadata": {},
   "source": [
    "The standard API, as we've focused on previously, provides much more control in constructing and training the network architecture."
   ]
  },
  {
   "cell_type": "markdown",
   "metadata": {
    "slideshow": {
     "slide_type": "subslide"
    }
   },
   "source": [
    "### Construction of the computational graph"
   ]
  },
  {
   "cell_type": "code",
   "execution_count": 44,
   "metadata": {},
   "outputs": [],
   "source": [
    "import tensorflow as tf\n",
    "\n",
    "n_inputs = 28*28  # MNIST\n",
    "n_hidden1 = 300\n",
    "n_hidden2 = 100\n",
    "n_outputs = 10"
   ]
  },
  {
   "cell_type": "code",
   "execution_count": 45,
   "metadata": {},
   "outputs": [],
   "source": [
    "reset_graph()\n",
    "\n",
    "X = tf.placeholder(tf.float32, shape=(None, n_inputs), name=\"X\")\n",
    "y = tf.placeholder(tf.int64, shape=(None), name=\"y\")"
   ]
  },
  {
   "cell_type": "markdown",
   "metadata": {
    "slideshow": {
     "slide_type": "subslide"
    }
   },
   "source": [
    "Each layer in the network is similar so let's define a general layer that we can reuse."
   ]
  },
  {
   "cell_type": "code",
   "execution_count": 46,
   "metadata": {},
   "outputs": [],
   "source": [
    "def neuron_layer(X, n_neurons, name, activation=None):\n",
    "    with tf.name_scope(name):\n",
    "        n_inputs = int(X.get_shape()[1])\n",
    "        stddev = 2 / np.sqrt(n_inputs) # More on this in next lecture\n",
    "        init = tf.truncated_normal((n_inputs, n_neurons), stddev=stddev)\n",
    "        W = tf.Variable(init, name=\"kernel\")\n",
    "        b = tf.Variable(tf.zeros([n_neurons]), name=\"bias\")\n",
    "        Z = tf.matmul(X, W) + b\n",
    "        if activation is not None:\n",
    "            return activation(Z)\n",
    "        else:\n",
    "            return Z"
   ]
  },
  {
   "cell_type": "markdown",
   "metadata": {
    "slideshow": {
     "slide_type": "fragment"
    }
   },
   "source": [
    "In practice, TensorFlow contains many built-in functions so it's generally not necessary to define layers like this (see, e.g., `tf.layers.dense`). "
   ]
  },
  {
   "cell_type": "markdown",
   "metadata": {
    "slideshow": {
     "slide_type": "subslide"
    }
   },
   "source": [
    "Now let's construct 3 layers."
   ]
  },
  {
   "cell_type": "code",
   "execution_count": 47,
   "metadata": {},
   "outputs": [],
   "source": [
    "with tf.name_scope(\"dnn\"):\n",
    "    hidden1 = neuron_layer(X, n_hidden1, name=\"hidden1\",\n",
    "                           activation=tf.nn.relu)\n",
    "    hidden2 = neuron_layer(hidden1, n_hidden2, name=\"hidden2\",\n",
    "                           activation=tf.nn.relu)\n",
    "    logits = neuron_layer(hidden2, n_outputs, name=\"outputs\")"
   ]
  },
  {
   "cell_type": "markdown",
   "metadata": {
    "slideshow": {
     "slide_type": "subslide"
    }
   },
   "source": [
    "Train using cross-entropy, where softmax applied when defining cross-entropy rather than in network construction."
   ]
  },
  {
   "cell_type": "code",
   "execution_count": 48,
   "metadata": {},
   "outputs": [],
   "source": [
    "with tf.name_scope(\"loss\"):\n",
    "    xentropy = tf.nn.sparse_softmax_cross_entropy_with_logits(labels=y,\n",
    "                                                              logits=logits)\n",
    "    loss = tf.reduce_mean(xentropy, name=\"loss\")"
   ]
  },
  {
   "cell_type": "markdown",
   "metadata": {
    "slideshow": {
     "slide_type": "fragment"
    }
   },
   "source": [
    "Define gradient descent optimizer."
   ]
  },
  {
   "cell_type": "code",
   "execution_count": 49,
   "metadata": {},
   "outputs": [],
   "source": [
    "learning_rate = 0.01\n",
    "\n",
    "with tf.name_scope(\"train\"):\n",
    "    optimizer = tf.train.GradientDescentOptimizer(learning_rate)\n",
    "    training_op = optimizer.minimize(loss)"
   ]
  },
  {
   "cell_type": "markdown",
   "metadata": {
    "slideshow": {
     "slide_type": "subslide"
    }
   },
   "source": [
    "Define nodes to evaluate accuracy.\n",
    "\n",
    "The function [`in_top_k`](https://www.tensorflow.org/api_docs/python/tf/nn/in_top_k) checks whether the targets (`y`) are in the top k predictions (`logits`)."
   ]
  },
  {
   "cell_type": "code",
   "execution_count": 50,
   "metadata": {},
   "outputs": [],
   "source": [
    "with tf.name_scope(\"eval\"):\n",
    "    correct = tf.nn.in_top_k(logits, y, 1)\n",
    "    accuracy = tf.reduce_mean(tf.cast(correct, tf.float32))"
   ]
  },
  {
   "cell_type": "markdown",
   "metadata": {
    "slideshow": {
     "slide_type": "fragment"
    }
   },
   "source": [
    "Finally, define initializer."
   ]
  },
  {
   "cell_type": "code",
   "execution_count": 51,
   "metadata": {},
   "outputs": [],
   "source": [
    "init = tf.global_variables_initializer()\n",
    "saver = tf.train.Saver()"
   ]
  },
  {
   "cell_type": "markdown",
   "metadata": {
    "slideshow": {
     "slide_type": "subslide"
    }
   },
   "source": [
    "### Execution (training)"
   ]
  },
  {
   "cell_type": "code",
   "execution_count": 52,
   "metadata": {},
   "outputs": [],
   "source": [
    "n_epochs = 10\n",
    "batch_size = 50"
   ]
  },
  {
   "cell_type": "code",
   "execution_count": 53,
   "metadata": {},
   "outputs": [
    {
     "name": "stdout",
     "output_type": "stream",
     "text": [
      "0 Train accuracy: 0.9 Val accuracy: 0.9148\n",
      "1 Train accuracy: 0.94 Val accuracy: 0.9354\n",
      "2 Train accuracy: 0.92 Val accuracy: 0.9468\n",
      "3 Train accuracy: 0.96 Val accuracy: 0.9508\n",
      "4 Train accuracy: 0.92 Val accuracy: 0.9586\n",
      "5 Train accuracy: 0.94 Val accuracy: 0.9582\n",
      "6 Train accuracy: 0.98 Val accuracy: 0.9608\n",
      "7 Train accuracy: 0.96 Val accuracy: 0.9634\n",
      "8 Train accuracy: 0.92 Val accuracy: 0.9638\n",
      "9 Train accuracy: 0.96 Val accuracy: 0.9648\n"
     ]
    }
   ],
   "source": [
    "with tf.Session() as sess:\n",
    "    init.run()\n",
    "    for epoch in range(n_epochs):\n",
    "        for iteration in range(mnist.train.num_examples // batch_size):\n",
    "            X_batch, y_batch = mnist.train.next_batch(batch_size)\n",
    "            sess.run(training_op, feed_dict={X: X_batch, y: y_batch})\n",
    "        acc_train = accuracy.eval(feed_dict={X: X_batch, y: y_batch})\n",
    "        acc_val = accuracy.eval(feed_dict={X: mnist.validation.images,\n",
    "                                            y: mnist.validation.labels})\n",
    "        print(epoch, \"Train accuracy:\", acc_train, \"Val accuracy:\", acc_val)\n",
    "\n",
    "    save_path = saver.save(sess, \"./my_model_final.ckpt\")"
   ]
  },
  {
   "cell_type": "code",
   "execution_count": 55,
   "metadata": {},
   "outputs": [],
   "source": [
    "file_writer = tf.summary.FileWriter(\"tf_logs/Dense\", tf.get_default_graph())\n",
    "file_writer.close()"
   ]
  },
  {
   "cell_type": "markdown",
   "metadata": {
    "slideshow": {
     "slide_type": "subslide"
    }
   },
   "source": [
    "### Using the trained network to make predictions"
   ]
  },
  {
   "cell_type": "code",
   "execution_count": 56,
   "metadata": {},
   "outputs": [
    {
     "name": "stdout",
     "output_type": "stream",
     "text": [
      "INFO:tensorflow:Restoring parameters from ./my_model_final.ckpt\n"
     ]
    }
   ],
   "source": [
    "with tf.Session() as sess:\n",
    "    saver.restore(sess, \"./my_model_final.ckpt\") \n",
    "    X_new_scaled = mnist.test.images[:20]\n",
    "    Z = logits.eval(feed_dict={X: X_new_scaled})\n",
    "    y_pred = np.argmax(Z, axis=1)"
   ]
  },
  {
   "cell_type": "markdown",
   "metadata": {},
   "source": [
    "Recall that we only defined the network to compute the logits.  If require class probabilities then need to apply softmax function.  But that is not needed if just want to make single prediction  (i.e. just pick class with largest logit value)."
   ]
  },
  {
   "cell_type": "code",
   "execution_count": 57,
   "metadata": {},
   "outputs": [
    {
     "name": "stdout",
     "output_type": "stream",
     "text": [
      "Predicted classes: [7 2 1 0 4 1 4 9 6 9 0 6 9 0 1 5 9 7 3 4]\n",
      "Actual classes:    [7 2 1 0 4 1 4 9 5 9 0 6 9 0 1 5 9 7 3 4]\n"
     ]
    }
   ],
   "source": [
    "print(\"Predicted classes:\", y_pred)\n",
    "print(\"Actual classes:   \", mnist.test.labels[:20])"
   ]
  },
  {
   "cell_type": "code",
   "execution_count": null,
   "metadata": {},
   "outputs": [],
   "source": []
  }
 ],
 "metadata": {
  "celltoolbar": "Slideshow",
  "kernelspec": {
   "display_name": "Python 3",
   "language": "python",
   "name": "python3"
  },
  "language_info": {
   "codemirror_mode": {
    "name": "ipython",
    "version": 3
   },
   "file_extension": ".py",
   "mimetype": "text/x-python",
   "name": "python",
   "nbconvert_exporter": "python",
   "pygments_lexer": "ipython3",
   "version": "3.7.4"
  }
 },
 "nbformat": 4,
 "nbformat_minor": 4
}
