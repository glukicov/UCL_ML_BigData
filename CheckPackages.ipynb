{
 "cells": [
  {
   "cell_type": "code",
   "execution_count": 35,
   "metadata": {
    "collapsed": true,
    "jupyter": {
     "outputs_hidden": true
    }
   },
   "outputs": [
    {
     "name": "stdout",
     "output_type": "stream",
     "text": [
      "Package              Version  \n",
      "-------------------- ---------\n",
      "-ensorflow           2.0.0    \n",
      "absl-py              0.8.1    \n",
      "appnope              0.1.0    \n",
      "astor                0.8.0    \n",
      "attrs                19.3.0   \n",
      "backcall             0.1.0    \n",
      "bleach               3.0.2    \n",
      "certifi              2019.9.11\n",
      "chardet              3.0.4    \n",
      "cycler               0.10.0   \n",
      "decorator            4.4.0    \n",
      "defusedxml           0.5.0    \n",
      "entrypoints          0.2.3    \n",
      "gast                 0.2.2    \n",
      "google-pasta         0.1.7    \n",
      "grpcio               1.24.1   \n",
      "h5py                 2.10.0   \n",
      "idna                 2.8      \n",
      "importlib-metadata   0.23     \n",
      "ipykernel            5.1.0    \n",
      "ipython              7.8.0    \n",
      "ipython-genutils     0.2.0    \n",
      "ipywidgets           7.5.1    \n",
      "isodate              0.6.0    \n",
      "jedi                 0.15.1   \n",
      "Jinja2               2.10     \n",
      "joblib               0.14.1   \n",
      "json5                0.8.5    \n",
      "jsonschema           3.1.1    \n",
      "jupyter-client       5.3.1    \n",
      "jupyter-core         4.5.0    \n",
      "jupyterlab           1.1.4    \n",
      "jupyterlab-hdf       0.1.0    \n",
      "jupyterlab-server    1.0.6    \n",
      "jupyterthemes        0.19.6   \n",
      "Keras                2.3.1    \n",
      "Keras-Applications   1.0.8    \n",
      "Keras-Preprocessing  1.1.0    \n",
      "keras-utils          1.0.13   \n",
      "kiwisolver           1.0.1    \n",
      "lesscpy              0.13.0   \n",
      "lxml                 4.4.2    \n",
      "Mako                 1.1.0    \n",
      "Markdown             3.1.1    \n",
      "MarkupSafe           1.1.0    \n",
      "matplotlib           3.1.2    \n",
      "mistune              0.8.4    \n",
      "more-itertools       7.2.0    \n",
      "nbconvert            5.4.0    \n",
      "nbformat             4.4.0    \n",
      "notebook             5.7.1    \n",
      "numpy                1.17.3   \n",
      "opt-einsum           3.1.0    \n",
      "pandas               0.25.3   \n",
      "pandocfilters        1.4.2    \n",
      "parso                0.5.1    \n",
      "patsy                0.5.1    \n",
      "pexpect              4.7.0    \n",
      "pickleshare          0.7.5    \n",
      "Pillow               6.2.1    \n",
      "pip                  19.2.3   \n",
      "ply                  3.11     \n",
      "prometheus-client    0.4.2    \n",
      "prompt-toolkit       2.0.9    \n",
      "protobuf             3.10.0   \n",
      "ptyprocess           0.6.0    \n",
      "Pygments             2.4.2    \n",
      "pyparsing            2.3.0    \n",
      "pyrsistent           0.15.4   \n",
      "python-dateutil      2.8.0    \n",
      "pytz                 2018.7   \n",
      "PyYAML               5.2      \n",
      "pyzmq                18.1.0   \n",
      "rdflib               4.2.2    \n",
      "requests             2.22.0   \n",
      "scikit-learn         0.22     \n",
      "scikit-optimize      0.5.2    \n",
      "scipy                1.4.1    \n",
      "seaborn              0.9.0    \n",
      "Send2Trash           1.5.0    \n",
      "setuptools           41.4.0   \n",
      "six                  1.12.0   \n",
      "SQLAlchemy           1.3.12   \n",
      "statsmodels          0.9.0    \n",
      "TBB                  0.1      \n",
      "tensorboard          1.14.0   \n",
      "tensorflow           1.14.0   \n",
      "tensorflow-estimator 1.14.0   \n",
      "termcolor            1.1.0    \n",
      "terminado            0.8.1    \n",
      "testpath             0.4.2    \n",
      "tornado              5.1.1    \n",
      "tqdm                 4.36.1   \n",
      "traitlets            4.3.2    \n",
      "urllib3              1.25.6   \n",
      "virtualenv           16.7.4   \n",
      "wcwidth              0.1.7    \n",
      "webencodings         0.5.1    \n",
      "Werkzeug             0.16.0   \n",
      "wheel                0.33.6   \n",
      "widgetsnbextension   3.5.1    \n",
      "wrapt                1.11.2   \n",
      "zipp                 0.6.0    \n"
     ]
    }
   ],
   "source": [
    "import sys\n",
    "!{sys.executable} -m pip list"
   ]
  },
  {
   "cell_type": "code",
   "execution_count": 10,
   "metadata": {
    "collapsed": true,
    "jupyter": {
     "outputs_hidden": true
    }
   },
   "outputs": [
    {
     "name": "stdout",
     "output_type": "stream",
     "text": [
      "Collecting matplotlib\n",
      "\u001b[?25l  Downloading https://files.pythonhosted.org/packages/a0/76/68bc3374ffa2d8d3dfd440fe94158fa8aa2628670fa38bdaf186c9af0d94/matplotlib-3.1.2-cp37-cp37m-macosx_10_9_x86_64.whl (13.2MB)\n",
      "\u001b[K     |████████████████████████████████| 13.2MB 904kB/s eta 0:00:01\n",
      "\u001b[?25hRequirement already satisfied, skipping upgrade: cycler>=0.10 in /usr/local/lib/python3.7/site-packages (from matplotlib) (0.10.0)\n",
      "Requirement already satisfied, skipping upgrade: pyparsing!=2.0.4,!=2.1.2,!=2.1.6,>=2.0.1 in /usr/local/lib/python3.7/site-packages (from matplotlib) (2.3.0)\n",
      "Requirement already satisfied, skipping upgrade: numpy>=1.11 in /usr/local/lib/python3.7/site-packages (from matplotlib) (1.17.3)\n",
      "Requirement already satisfied, skipping upgrade: kiwisolver>=1.0.1 in /usr/local/lib/python3.7/site-packages (from matplotlib) (1.0.1)\n",
      "Requirement already satisfied, skipping upgrade: python-dateutil>=2.1 in /usr/local/Cellar/ipython/7.8.0/libexec/vendor/lib/python3.7/site-packages (from matplotlib) (2.8.0)\n",
      "Requirement already satisfied, skipping upgrade: six in /usr/local/Cellar/ipython/7.8.0/libexec/vendor/lib/python3.7/site-packages (from cycler>=0.10->matplotlib) (1.12.0)\n",
      "Requirement already satisfied, skipping upgrade: setuptools in /usr/local/lib/python3.7/site-packages (from kiwisolver>=1.0.1->matplotlib) (41.4.0)\n",
      "Installing collected packages: matplotlib\n",
      "  Found existing installation: matplotlib 3.0.1\n",
      "    Uninstalling matplotlib-3.0.1:\n",
      "      Successfully uninstalled matplotlib-3.0.1\n",
      "Successfully installed matplotlib-3.1.2\n"
     ]
    }
   ],
   "source": [
    "!{sys.executable} -m pip install --upgrade matplotlib"
   ]
  },
  {
   "cell_type": "code",
   "execution_count": 29,
   "metadata": {},
   "outputs": [
    {
     "name": "stdout",
     "output_type": "stream",
     "text": [
      "Requirement already satisfied: ply in /usr/local/lib/python3.7/site-packages (3.11)\n"
     ]
    }
   ],
   "source": [
    "!{sys.executable} -m pip install ply"
   ]
  },
  {
   "cell_type": "code",
   "execution_count": 33,
   "metadata": {
    "collapsed": true,
    "jupyter": {
     "outputs_hidden": true
    }
   },
   "outputs": [
    {
     "name": "stdout",
     "output_type": "stream",
     "text": [
      "Collecting tensorflow==1.14\n",
      "\u001b[?25l  Downloading https://files.pythonhosted.org/packages/ed/11/037887c5cbac5af3124050fb6348e67caa038734cc9673b11c31c8939072/tensorflow-1.14.0-cp37-cp37m-macosx_10_11_x86_64.whl (105.8MB)\n",
      "\u001b[K     |████████████████████████████████| 105.8MB 133kB/s eta 0:00:01\n",
      "\u001b[?25hRequirement already satisfied: keras-preprocessing>=1.0.5 in /usr/local/lib/python3.7/site-packages (from tensorflow==1.14) (1.1.0)\n",
      "Requirement already satisfied: protobuf>=3.6.1 in /usr/local/lib/python3.7/site-packages (from tensorflow==1.14) (3.10.0)\n",
      "Requirement already satisfied: astor>=0.6.0 in /usr/local/lib/python3.7/site-packages (from tensorflow==1.14) (0.8.0)\n",
      "Requirement already satisfied: six>=1.10.0 in /usr/local/Cellar/ipython/7.8.0/libexec/vendor/lib/python3.7/site-packages (from tensorflow==1.14) (1.12.0)\n",
      "Requirement already satisfied: wrapt>=1.11.1 in /usr/local/lib/python3.7/site-packages (from tensorflow==1.14) (1.11.2)\n",
      "Collecting tensorboard<1.15.0,>=1.14.0 (from tensorflow==1.14)\n",
      "\u001b[?25l  Downloading https://files.pythonhosted.org/packages/91/2d/2ed263449a078cd9c8a9ba50ebd50123adf1f8cfbea1492f9084169b89d9/tensorboard-1.14.0-py3-none-any.whl (3.1MB)\n",
      "\u001b[K     |████████████████████████████████| 3.2MB 1.4MB/s eta 0:00:01\n",
      "\u001b[?25hRequirement already satisfied: wheel>=0.26 in /usr/local/lib/python3.7/site-packages (from tensorflow==1.14) (0.33.6)\n",
      "Requirement already satisfied: grpcio>=1.8.6 in /usr/local/lib/python3.7/site-packages (from tensorflow==1.14) (1.24.1)\n",
      "Requirement already satisfied: numpy<2.0,>=1.14.5 in /usr/local/lib/python3.7/site-packages (from tensorflow==1.14) (1.17.3)\n",
      "Requirement already satisfied: termcolor>=1.1.0 in /usr/local/lib/python3.7/site-packages (from tensorflow==1.14) (1.1.0)\n",
      "Collecting tensorflow-estimator<1.15.0rc0,>=1.14.0rc0 (from tensorflow==1.14)\n",
      "\u001b[?25l  Downloading https://files.pythonhosted.org/packages/3c/d5/21860a5b11caf0678fbc8319341b0ae21a07156911132e0e71bffed0510d/tensorflow_estimator-1.14.0-py2.py3-none-any.whl (488kB)\n",
      "\u001b[K     |████████████████████████████████| 491kB 2.3MB/s eta 0:00:01\n",
      "\u001b[?25hRequirement already satisfied: google-pasta>=0.1.6 in /usr/local/lib/python3.7/site-packages (from tensorflow==1.14) (0.1.7)\n",
      "Requirement already satisfied: keras-applications>=1.0.6 in /usr/local/lib/python3.7/site-packages (from tensorflow==1.14) (1.0.8)\n",
      "Requirement already satisfied: absl-py>=0.7.0 in /usr/local/lib/python3.7/site-packages (from tensorflow==1.14) (0.8.1)\n",
      "Requirement already satisfied: gast>=0.2.0 in /usr/local/lib/python3.7/site-packages (from tensorflow==1.14) (0.2.2)\n",
      "Requirement already satisfied: setuptools in /usr/local/lib/python3.7/site-packages (from protobuf>=3.6.1->tensorflow==1.14) (41.4.0)\n",
      "Requirement already satisfied: werkzeug>=0.11.15 in /usr/local/lib/python3.7/site-packages (from tensorboard<1.15.0,>=1.14.0->tensorflow==1.14) (0.16.0)\n",
      "Requirement already satisfied: markdown>=2.6.8 in /usr/local/lib/python3.7/site-packages (from tensorboard<1.15.0,>=1.14.0->tensorflow==1.14) (3.1.1)\n",
      "Requirement already satisfied: h5py in /usr/local/lib/python3.7/site-packages (from keras-applications>=1.0.6->tensorflow==1.14) (2.10.0)\n",
      "Installing collected packages: tensorboard, tensorflow-estimator, tensorflow\n",
      "  Found existing installation: tensorboard 2.0.0\n",
      "    Uninstalling tensorboard-2.0.0:\n",
      "      Successfully uninstalled tensorboard-2.0.0\n",
      "  Found existing installation: tensorflow-estimator 2.0.1\n",
      "    Uninstalling tensorflow-estimator-2.0.1:\n",
      "      Successfully uninstalled tensorflow-estimator-2.0.1\n",
      "  Found existing installation: tensorflow 2.0.0\n",
      "    Uninstalling tensorflow-2.0.0:\n",
      "      Successfully uninstalled tensorflow-2.0.0\n",
      "^C\n"
     ]
    }
   ],
   "source": [
    "!{sys.executable} -m pip install tensorflow==1.14"
   ]
  },
  {
   "cell_type": "code",
   "execution_count": null,
   "metadata": {},
   "outputs": [],
   "source": []
  }
 ],
 "metadata": {
  "kernelspec": {
   "display_name": "Python 3",
   "language": "python",
   "name": "python3"
  },
  "language_info": {
   "codemirror_mode": {
    "name": "ipython",
    "version": 3
   },
   "file_extension": ".py",
   "mimetype": "text/x-python",
   "name": "python",
   "nbconvert_exporter": "python",
   "pygments_lexer": "ipython3",
   "version": "3.7.4"
  }
 },
 "nbformat": 4,
 "nbformat_minor": 4
}
